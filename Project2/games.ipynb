{
 "cells": [
  {
   "cell_type": "markdown",
   "id": "pbrCQ67QBwPa",
   "metadata": {
    "id": "pbrCQ67QBwPa"
   },
   "source": [
    "Нужно выявить определяющие успешность игры закономерности. Это позволит сделать ставку на потенциально популярный продукт и спланировать рекламные кампании.\n",
    "\n",
    "Возрастной рейтинг:\n",
    "\n",
    "'E' - для всех,'M' - для взрослых, 'T' -  подросткам, 'E10+' - для всех от 10 лет и старше, 'K-A' - дети и взрослые(потом стал 'E'), 'AO' - только для взрослых, 'EC' - для детей младшего возраста, 'RP' - рейтинг ожидается\n"
   ]
  },
  {
   "cell_type": "markdown",
   "id": "c0a90b49-2064-4bff-a06d-7cebeb8661ff",
   "metadata": {
    "id": "c0a90b49-2064-4bff-a06d-7cebeb8661ff"
   },
   "source": [
    "# ПРОЕКТ:ИНТЕРНЕТ-МАГАЗИН «СТРИМЧИК»"
   ]
  },
  {
   "cell_type": "code",
   "execution_count": 58,
   "id": "e5bfdf1f-81d0-4984-84fc-6e97351618d0",
   "metadata": {
    "id": "e5bfdf1f-81d0-4984-84fc-6e97351618d0"
   },
   "outputs": [],
   "source": [
    "import pandas as pd\n",
    "import numpy as np\n",
    "from matplotlib import pyplot as plt\n",
    "import matplotlib\n",
    "from scipy import stats as st\n",
    "import seaborn as sns"
   ]
  },
  {
   "cell_type": "code",
   "execution_count": 59,
   "id": "759744a8-ae01-4db5-8fee-0c3236b45619",
   "metadata": {
    "id": "759744a8-ae01-4db5-8fee-0c3236b45619"
   },
   "outputs": [],
   "source": [
    "try:\n",
    "    df = pd.read_csv('/datasets/games.csv')\n",
    "except:\n",
    "    df = pd.read_csv('/content/games (1).csv')"
   ]
  },
  {
   "cell_type": "code",
   "execution_count": 60,
   "id": "c5c4affe-8bcb-4a59-9f0a-1a378252d9dd",
   "metadata": {
    "colab": {
     "base_uri": "https://localhost:8080/",
     "height": 504
    },
    "id": "c5c4affe-8bcb-4a59-9f0a-1a378252d9dd",
    "outputId": "3112c607-dd9f-44e6-c521-b3b2a9b2ef72"
   },
   "outputs": [
    {
     "data": {
      "text/html": [
       "<div>\n",
       "<style scoped>\n",
       "    .dataframe tbody tr th:only-of-type {\n",
       "        vertical-align: middle;\n",
       "    }\n",
       "\n",
       "    .dataframe tbody tr th {\n",
       "        vertical-align: top;\n",
       "    }\n",
       "\n",
       "    .dataframe thead th {\n",
       "        text-align: right;\n",
       "    }\n",
       "</style>\n",
       "<table border=\"1\" class=\"dataframe\">\n",
       "  <thead>\n",
       "    <tr style=\"text-align: right;\">\n",
       "      <th></th>\n",
       "      <th>Name</th>\n",
       "      <th>Platform</th>\n",
       "      <th>Year_of_Release</th>\n",
       "      <th>Genre</th>\n",
       "      <th>NA_sales</th>\n",
       "      <th>EU_sales</th>\n",
       "      <th>JP_sales</th>\n",
       "      <th>Other_sales</th>\n",
       "      <th>Critic_Score</th>\n",
       "      <th>User_Score</th>\n",
       "      <th>Rating</th>\n",
       "    </tr>\n",
       "  </thead>\n",
       "  <tbody>\n",
       "    <tr>\n",
       "      <th>0</th>\n",
       "      <td>Wii Sports</td>\n",
       "      <td>Wii</td>\n",
       "      <td>2006.0</td>\n",
       "      <td>Sports</td>\n",
       "      <td>41.36</td>\n",
       "      <td>28.96</td>\n",
       "      <td>3.77</td>\n",
       "      <td>8.45</td>\n",
       "      <td>76.0</td>\n",
       "      <td>8</td>\n",
       "      <td>E</td>\n",
       "    </tr>\n",
       "    <tr>\n",
       "      <th>1</th>\n",
       "      <td>Super Mario Bros.</td>\n",
       "      <td>NES</td>\n",
       "      <td>1985.0</td>\n",
       "      <td>Platform</td>\n",
       "      <td>29.08</td>\n",
       "      <td>3.58</td>\n",
       "      <td>6.81</td>\n",
       "      <td>0.77</td>\n",
       "      <td>NaN</td>\n",
       "      <td>NaN</td>\n",
       "      <td>NaN</td>\n",
       "    </tr>\n",
       "    <tr>\n",
       "      <th>2</th>\n",
       "      <td>Mario Kart Wii</td>\n",
       "      <td>Wii</td>\n",
       "      <td>2008.0</td>\n",
       "      <td>Racing</td>\n",
       "      <td>15.68</td>\n",
       "      <td>12.76</td>\n",
       "      <td>3.79</td>\n",
       "      <td>3.29</td>\n",
       "      <td>82.0</td>\n",
       "      <td>8.3</td>\n",
       "      <td>E</td>\n",
       "    </tr>\n",
       "    <tr>\n",
       "      <th>3</th>\n",
       "      <td>Wii Sports Resort</td>\n",
       "      <td>Wii</td>\n",
       "      <td>2009.0</td>\n",
       "      <td>Sports</td>\n",
       "      <td>15.61</td>\n",
       "      <td>10.93</td>\n",
       "      <td>3.28</td>\n",
       "      <td>2.95</td>\n",
       "      <td>80.0</td>\n",
       "      <td>8</td>\n",
       "      <td>E</td>\n",
       "    </tr>\n",
       "    <tr>\n",
       "      <th>4</th>\n",
       "      <td>Pokemon Red/Pokemon Blue</td>\n",
       "      <td>GB</td>\n",
       "      <td>1996.0</td>\n",
       "      <td>Role-Playing</td>\n",
       "      <td>11.27</td>\n",
       "      <td>8.89</td>\n",
       "      <td>10.22</td>\n",
       "      <td>1.00</td>\n",
       "      <td>NaN</td>\n",
       "      <td>NaN</td>\n",
       "      <td>NaN</td>\n",
       "    </tr>\n",
       "    <tr>\n",
       "      <th>5</th>\n",
       "      <td>Tetris</td>\n",
       "      <td>GB</td>\n",
       "      <td>1989.0</td>\n",
       "      <td>Puzzle</td>\n",
       "      <td>23.20</td>\n",
       "      <td>2.26</td>\n",
       "      <td>4.22</td>\n",
       "      <td>0.58</td>\n",
       "      <td>NaN</td>\n",
       "      <td>NaN</td>\n",
       "      <td>NaN</td>\n",
       "    </tr>\n",
       "    <tr>\n",
       "      <th>6</th>\n",
       "      <td>New Super Mario Bros.</td>\n",
       "      <td>DS</td>\n",
       "      <td>2006.0</td>\n",
       "      <td>Platform</td>\n",
       "      <td>11.28</td>\n",
       "      <td>9.14</td>\n",
       "      <td>6.50</td>\n",
       "      <td>2.88</td>\n",
       "      <td>89.0</td>\n",
       "      <td>8.5</td>\n",
       "      <td>E</td>\n",
       "    </tr>\n",
       "    <tr>\n",
       "      <th>7</th>\n",
       "      <td>Wii Play</td>\n",
       "      <td>Wii</td>\n",
       "      <td>2006.0</td>\n",
       "      <td>Misc</td>\n",
       "      <td>13.96</td>\n",
       "      <td>9.18</td>\n",
       "      <td>2.93</td>\n",
       "      <td>2.84</td>\n",
       "      <td>58.0</td>\n",
       "      <td>6.6</td>\n",
       "      <td>E</td>\n",
       "    </tr>\n",
       "    <tr>\n",
       "      <th>8</th>\n",
       "      <td>New Super Mario Bros. Wii</td>\n",
       "      <td>Wii</td>\n",
       "      <td>2009.0</td>\n",
       "      <td>Platform</td>\n",
       "      <td>14.44</td>\n",
       "      <td>6.94</td>\n",
       "      <td>4.70</td>\n",
       "      <td>2.24</td>\n",
       "      <td>87.0</td>\n",
       "      <td>8.4</td>\n",
       "      <td>E</td>\n",
       "    </tr>\n",
       "    <tr>\n",
       "      <th>9</th>\n",
       "      <td>Duck Hunt</td>\n",
       "      <td>NES</td>\n",
       "      <td>1984.0</td>\n",
       "      <td>Shooter</td>\n",
       "      <td>26.93</td>\n",
       "      <td>0.63</td>\n",
       "      <td>0.28</td>\n",
       "      <td>0.47</td>\n",
       "      <td>NaN</td>\n",
       "      <td>NaN</td>\n",
       "      <td>NaN</td>\n",
       "    </tr>\n",
       "  </tbody>\n",
       "</table>\n",
       "</div>"
      ],
      "text/plain": [
       "                        Name Platform  Year_of_Release         Genre  \\\n",
       "0                 Wii Sports      Wii           2006.0        Sports   \n",
       "1          Super Mario Bros.      NES           1985.0      Platform   \n",
       "2             Mario Kart Wii      Wii           2008.0        Racing   \n",
       "3          Wii Sports Resort      Wii           2009.0        Sports   \n",
       "4   Pokemon Red/Pokemon Blue       GB           1996.0  Role-Playing   \n",
       "5                     Tetris       GB           1989.0        Puzzle   \n",
       "6      New Super Mario Bros.       DS           2006.0      Platform   \n",
       "7                   Wii Play      Wii           2006.0          Misc   \n",
       "8  New Super Mario Bros. Wii      Wii           2009.0      Platform   \n",
       "9                  Duck Hunt      NES           1984.0       Shooter   \n",
       "\n",
       "   NA_sales  EU_sales  JP_sales  Other_sales  Critic_Score User_Score Rating  \n",
       "0     41.36     28.96      3.77         8.45          76.0          8      E  \n",
       "1     29.08      3.58      6.81         0.77           NaN        NaN    NaN  \n",
       "2     15.68     12.76      3.79         3.29          82.0        8.3      E  \n",
       "3     15.61     10.93      3.28         2.95          80.0          8      E  \n",
       "4     11.27      8.89     10.22         1.00           NaN        NaN    NaN  \n",
       "5     23.20      2.26      4.22         0.58           NaN        NaN    NaN  \n",
       "6     11.28      9.14      6.50         2.88          89.0        8.5      E  \n",
       "7     13.96      9.18      2.93         2.84          58.0        6.6      E  \n",
       "8     14.44      6.94      4.70         2.24          87.0        8.4      E  \n",
       "9     26.93      0.63      0.28         0.47           NaN        NaN    NaN  "
      ]
     },
     "execution_count": 60,
     "metadata": {},
     "output_type": "execute_result"
    }
   ],
   "source": [
    "df.head(10)"
   ]
  },
  {
   "cell_type": "markdown",
   "id": "b3b56888-7329-4d36-9333-1055423e5cab",
   "metadata": {
    "id": "b3b56888-7329-4d36-9333-1055423e5cab"
   },
   "source": [
    "## Предобработка данных"
   ]
  },
  {
   "cell_type": "markdown",
   "id": "93e6a439-61fd-4c07-a4b4-b6e35800672c",
   "metadata": {
    "id": "93e6a439-61fd-4c07-a4b4-b6e35800672c"
   },
   "source": [
    "Получаем общую информацию о данных"
   ]
  },
  {
   "cell_type": "code",
   "execution_count": 61,
   "id": "757f1535-4b8a-4f77-9faa-d503d6f4bf00",
   "metadata": {
    "colab": {
     "base_uri": "https://localhost:8080/"
    },
    "id": "757f1535-4b8a-4f77-9faa-d503d6f4bf00",
    "outputId": "9bb9ff2c-dbf9-422c-cd8e-049c1438e648"
   },
   "outputs": [
    {
     "name": "stdout",
     "output_type": "stream",
     "text": [
      "<class 'pandas.core.frame.DataFrame'>\n",
      "RangeIndex: 16715 entries, 0 to 16714\n",
      "Data columns (total 11 columns):\n",
      " #   Column           Non-Null Count  Dtype  \n",
      "---  ------           --------------  -----  \n",
      " 0   Name             16713 non-null  object \n",
      " 1   Platform         16715 non-null  object \n",
      " 2   Year_of_Release  16446 non-null  float64\n",
      " 3   Genre            16713 non-null  object \n",
      " 4   NA_sales         16715 non-null  float64\n",
      " 5   EU_sales         16715 non-null  float64\n",
      " 6   JP_sales         16715 non-null  float64\n",
      " 7   Other_sales      16715 non-null  float64\n",
      " 8   Critic_Score     8137 non-null   float64\n",
      " 9   User_Score       10014 non-null  object \n",
      " 10  Rating           9949 non-null   object \n",
      "dtypes: float64(6), object(5)\n",
      "memory usage: 1.4+ MB\n"
     ]
    }
   ],
   "source": [
    "df.info()"
   ]
  },
  {
   "cell_type": "markdown",
   "id": "aff5c558-ef7f-4104-aa56-3997f5ff50a6",
   "metadata": {
    "id": "aff5c558-ef7f-4104-aa56-3997f5ff50a6"
   },
   "source": [
    "Проверяем на явные дубликаты"
   ]
  },
  {
   "cell_type": "code",
   "execution_count": 62,
   "id": "6c0ae3f6-fc56-43e9-859e-080d128ff0fb",
   "metadata": {
    "colab": {
     "base_uri": "https://localhost:8080/"
    },
    "id": "6c0ae3f6-fc56-43e9-859e-080d128ff0fb",
    "outputId": "f777a590-88cc-4cfb-da10-62b753ed7ecc"
   },
   "outputs": [
    {
     "data": {
      "text/plain": [
       "0"
      ]
     },
     "execution_count": 62,
     "metadata": {},
     "output_type": "execute_result"
    }
   ],
   "source": [
    "df.duplicated().sum()\n"
   ]
  },
  {
   "cell_type": "markdown",
   "id": "84968cbe-617a-4484-9823-8be7aa483ad0",
   "metadata": {
    "id": "84968cbe-617a-4484-9823-8be7aa483ad0"
   },
   "source": [
    "Проверяем на неявные дубликаты\n"
   ]
  },
  {
   "cell_type": "code",
   "execution_count": 63,
   "id": "f20812d7-d375-4586-b7d4-ea892b592223",
   "metadata": {
    "colab": {
     "base_uri": "https://localhost:8080/",
     "height": 243
    },
    "id": "f20812d7-d375-4586-b7d4-ea892b592223",
    "outputId": "ab417f8b-cea0-4128-ea68-2dcc4a1011ea"
   },
   "outputs": [
    {
     "data": {
      "text/plain": [
       "array(['Wii', 'NES', 'GB', 'DS', 'X360', 'PS3', 'PS2', 'SNES', 'GBA',\n",
       "       'PS4', '3DS', 'N64', 'PS', 'XB', 'PC', '2600', 'PSP', 'XOne',\n",
       "       'WiiU', 'GC', 'GEN', 'DC', 'PSV', 'SAT', 'SCD', 'WS', 'NG', 'TG16',\n",
       "       '3DO', 'GG', 'PCFX'], dtype=object)"
      ]
     },
     "metadata": {},
     "output_type": "display_data"
    },
    {
     "data": {
      "text/plain": [
       "array([2006., 1985., 2008., 2009., 1996., 1989., 1984., 2005., 1999.,\n",
       "       2007., 2010., 2013., 2004., 1990., 1988., 2002., 2001., 2011.,\n",
       "       1998., 2015., 2012., 2014., 1992., 1997., 1993., 1994., 1982.,\n",
       "       2016., 2003., 1986., 2000.,   nan, 1995., 1991., 1981., 1987.,\n",
       "       1980., 1983.])"
      ]
     },
     "metadata": {},
     "output_type": "display_data"
    },
    {
     "data": {
      "text/plain": [
       "array(['Wii Sports', 'Super Mario Bros.', 'Mario Kart Wii', ...,\n",
       "       'Woody Woodpecker in Crazy Castle 5', 'LMA Manager 2007',\n",
       "       'Haitaka no Psychedelica'], dtype=object)"
      ]
     },
     "metadata": {},
     "output_type": "display_data"
    }
   ],
   "source": [
    "display(df['Platform'].unique())\n",
    "display(df['Year_of_Release'].unique())\n",
    "display(df['Name'].unique())\n",
    "\n",
    "\n",
    "\n"
   ]
  },
  {
   "cell_type": "code",
   "execution_count": 64,
   "id": "0db4edd3",
   "metadata": {},
   "outputs": [
    {
     "data": {
      "text/html": [
       "<div>\n",
       "<style scoped>\n",
       "    .dataframe tbody tr th:only-of-type {\n",
       "        vertical-align: middle;\n",
       "    }\n",
       "\n",
       "    .dataframe tbody tr th {\n",
       "        vertical-align: top;\n",
       "    }\n",
       "\n",
       "    .dataframe thead th {\n",
       "        text-align: right;\n",
       "    }\n",
       "</style>\n",
       "<table border=\"1\" class=\"dataframe\">\n",
       "  <thead>\n",
       "    <tr style=\"text-align: right;\">\n",
       "      <th></th>\n",
       "      <th>Name</th>\n",
       "      <th>Platform</th>\n",
       "      <th>Year_of_Release</th>\n",
       "      <th>Genre</th>\n",
       "      <th>NA_sales</th>\n",
       "      <th>EU_sales</th>\n",
       "      <th>JP_sales</th>\n",
       "      <th>Other_sales</th>\n",
       "      <th>Critic_Score</th>\n",
       "      <th>User_Score</th>\n",
       "      <th>Rating</th>\n",
       "    </tr>\n",
       "  </thead>\n",
       "  <tbody>\n",
       "    <tr>\n",
       "      <th>604</th>\n",
       "      <td>Madden NFL 13</td>\n",
       "      <td>PS3</td>\n",
       "      <td>2012.0</td>\n",
       "      <td>Sports</td>\n",
       "      <td>2.11</td>\n",
       "      <td>0.22</td>\n",
       "      <td>0.00</td>\n",
       "      <td>0.23</td>\n",
       "      <td>83.0</td>\n",
       "      <td>5.5</td>\n",
       "      <td>E</td>\n",
       "    </tr>\n",
       "    <tr>\n",
       "      <th>659</th>\n",
       "      <td>NaN</td>\n",
       "      <td>GEN</td>\n",
       "      <td>1993.0</td>\n",
       "      <td>NaN</td>\n",
       "      <td>1.78</td>\n",
       "      <td>0.53</td>\n",
       "      <td>0.00</td>\n",
       "      <td>0.08</td>\n",
       "      <td>NaN</td>\n",
       "      <td>NaN</td>\n",
       "      <td>NaN</td>\n",
       "    </tr>\n",
       "    <tr>\n",
       "      <th>14244</th>\n",
       "      <td>NaN</td>\n",
       "      <td>GEN</td>\n",
       "      <td>1993.0</td>\n",
       "      <td>NaN</td>\n",
       "      <td>0.00</td>\n",
       "      <td>0.00</td>\n",
       "      <td>0.03</td>\n",
       "      <td>0.00</td>\n",
       "      <td>NaN</td>\n",
       "      <td>NaN</td>\n",
       "      <td>NaN</td>\n",
       "    </tr>\n",
       "    <tr>\n",
       "      <th>16230</th>\n",
       "      <td>Madden NFL 13</td>\n",
       "      <td>PS3</td>\n",
       "      <td>2012.0</td>\n",
       "      <td>Sports</td>\n",
       "      <td>0.00</td>\n",
       "      <td>0.01</td>\n",
       "      <td>0.00</td>\n",
       "      <td>0.00</td>\n",
       "      <td>83.0</td>\n",
       "      <td>5.5</td>\n",
       "      <td>E</td>\n",
       "    </tr>\n",
       "  </tbody>\n",
       "</table>\n",
       "</div>"
      ],
      "text/plain": [
       "                Name Platform  Year_of_Release   Genre  NA_sales  EU_sales  \\\n",
       "604    Madden NFL 13      PS3           2012.0  Sports      2.11      0.22   \n",
       "659              NaN      GEN           1993.0     NaN      1.78      0.53   \n",
       "14244            NaN      GEN           1993.0     NaN      0.00      0.00   \n",
       "16230  Madden NFL 13      PS3           2012.0  Sports      0.00      0.01   \n",
       "\n",
       "       JP_sales  Other_sales  Critic_Score User_Score Rating  \n",
       "604        0.00         0.23          83.0        5.5      E  \n",
       "659        0.00         0.08           NaN        NaN    NaN  \n",
       "14244      0.03         0.00           NaN        NaN    NaN  \n",
       "16230      0.00         0.00          83.0        5.5      E  "
      ]
     },
     "execution_count": 64,
     "metadata": {},
     "output_type": "execute_result"
    }
   ],
   "source": [
    "\n",
    "temp = df.copy()\n",
    "temp[temp[['Name', 'Platform','Year_of_Release']].duplicated(keep=False)]"
   ]
  },
  {
   "cell_type": "code",
   "execution_count": 65,
   "id": "e5e1685a-d001-4c73-bb31-c4977c762ef4",
   "metadata": {
    "id": "e5e1685a-d001-4c73-bb31-c4977c762ef4"
   },
   "outputs": [],
   "source": [
    "df.columns = [c.lower() for c in df.columns]"
   ]
  },
  {
   "cell_type": "markdown",
   "id": "9c706ea9-0fce-48bf-a24c-371dfccef982",
   "metadata": {
    "id": "9c706ea9-0fce-48bf-a24c-371dfccef982"
   },
   "source": [
    "Приводим к нижнему регистру названия столбцов"
   ]
  },
  {
   "cell_type": "code",
   "execution_count": 66,
   "id": "442d9301-34b0-4547-bfbb-76f168f6dfd9",
   "metadata": {
    "colab": {
     "base_uri": "https://localhost:8080/"
    },
    "id": "442d9301-34b0-4547-bfbb-76f168f6dfd9",
    "outputId": "7a2255bf-372e-422a-b60a-feae7438d93c"
   },
   "outputs": [
    {
     "data": {
      "text/plain": [
       "Index(['name', 'platform', 'year_of_release', 'genre', 'na_sales', 'eu_sales',\n",
       "       'jp_sales', 'other_sales', 'critic_score', 'user_score', 'rating'],\n",
       "      dtype='object')"
      ]
     },
     "execution_count": 66,
     "metadata": {},
     "output_type": "execute_result"
    }
   ],
   "source": [
    "df.columns"
   ]
  },
  {
   "cell_type": "markdown",
   "id": "f6bc61ff-862c-4ddd-94c0-8f734a0e1676",
   "metadata": {
    "id": "f6bc61ff-862c-4ddd-94c0-8f734a0e1676"
   },
   "source": [
    "Заменяем значение tbd на nan, так как на данный момент мы не знаем чем будет определено tbd"
   ]
  },
  {
   "cell_type": "code",
   "execution_count": 67,
   "id": "e6f51441-80dc-4b67-8dc8-80560eb19dbd",
   "metadata": {
    "id": "e6f51441-80dc-4b67-8dc8-80560eb19dbd"
   },
   "outputs": [],
   "source": [
    "df.loc[df['user_score'] == 'tbd', 'user_score'] = np.nan"
   ]
  },
  {
   "cell_type": "markdown",
   "id": "fa78e9aa-63ff-4488-8b27-2a8e33d23494",
   "metadata": {
    "id": "fa78e9aa-63ff-4488-8b27-2a8e33d23494"
   },
   "source": [
    "Изменяем тип данных с object на float для удобной работы с данными."
   ]
  },
  {
   "cell_type": "code",
   "execution_count": 68,
   "id": "3ff8fc55-bbd9-43d3-8bc8-2dae3e8aa064",
   "metadata": {
    "id": "3ff8fc55-bbd9-43d3-8bc8-2dae3e8aa064"
   },
   "outputs": [],
   "source": [
    "df['user_score'] = df['user_score'].astype('float')"
   ]
  },
  {
   "cell_type": "markdown",
   "id": "a1435b01-a60f-4be0-a9d5-2d9e277ed727",
   "metadata": {
    "id": "a1435b01-a60f-4be0-a9d5-2d9e277ed727"
   },
   "source": [
    "Смотрим пропуски"
   ]
  },
  {
   "cell_type": "code",
   "execution_count": 69,
   "id": "c4de6189-21b7-4f71-82ef-daed2f56ea0c",
   "metadata": {
    "colab": {
     "base_uri": "https://localhost:8080/"
    },
    "id": "c4de6189-21b7-4f71-82ef-daed2f56ea0c",
    "outputId": "30e9d6c1-a2dd-4dcb-ed1e-122ddd908334"
   },
   "outputs": [
    {
     "data": {
      "text/plain": [
       "name               0.000120\n",
       "platform           0.000000\n",
       "year_of_release    0.016093\n",
       "genre              0.000120\n",
       "na_sales           0.000000\n",
       "eu_sales           0.000000\n",
       "jp_sales           0.000000\n",
       "other_sales        0.000000\n",
       "critic_score       0.513192\n",
       "user_score         0.545917\n",
       "rating             0.404786\n",
       "dtype: float64"
      ]
     },
     "execution_count": 69,
     "metadata": {},
     "output_type": "execute_result"
    }
   ],
   "source": [
    "df.isna().mean()"
   ]
  },
  {
   "cell_type": "code",
   "execution_count": 70,
   "id": "28034abe-d016-4621-8122-33f0b398088b",
   "metadata": {
    "colab": {
     "base_uri": "https://localhost:8080/"
    },
    "id": "28034abe-d016-4621-8122-33f0b398088b",
    "outputId": "68737e72-200a-463b-ef6b-b590986c9ae1",
    "scrolled": true
   },
   "outputs": [
    {
     "data": {
      "text/plain": [
       "0.0"
      ]
     },
     "execution_count": 70,
     "metadata": {},
     "output_type": "execute_result"
    }
   ],
   "source": [
    "df = df.dropna (subset=['name'])\n",
    "df['name'].isna().mean()"
   ]
  },
  {
   "cell_type": "markdown",
   "id": "1caee844-894e-4cfa-bab9-01c1611633b2",
   "metadata": {
    "id": "1caee844-894e-4cfa-bab9-01c1611633b2"
   },
   "source": [
    "В столбце 'name' удалили две строки, так как они не несут для нас полезной информации, и их удаление не скажется на датасете. Вместе с ними удалились две строки из столбца 'genre' так как они были связаны."
   ]
  },
  {
   "cell_type": "markdown",
   "id": "f9ed0dee-6f93-4ca3-aefd-c0295b81184d",
   "metadata": {
    "id": "f9ed0dee-6f93-4ca3-aefd-c0295b81184d"
   },
   "source": [
    "В столбце 'year_of_release' оставили значение NaN, так как год выхода мы не знаем."
   ]
  },
  {
   "cell_type": "code",
   "execution_count": 71,
   "id": "8526bd10-84f5-4cc5-9397-af98b67b24f0",
   "metadata": {
    "id": "8526bd10-84f5-4cc5-9397-af98b67b24f0"
   },
   "outputs": [],
   "source": [
    "#df.groupby('year_of_release').agg(total_critic=('critic_score','count'), total_user=('user_score','count'), total_games=('name', 'count'))"
   ]
  },
  {
   "cell_type": "markdown",
   "id": "57ba1610-8143-4a63-b240-aefacd55b8c5",
   "metadata": {
    "id": "57ba1610-8143-4a63-b240-aefacd55b8c5"
   },
   "source": [
    "Мы можем обратить внимание, что в самом начале формирования игровой индустрии количество оценок низкое(мало кто серьезно относился к ней,чтобы появились игровые критики, да и площадок для обсуждения и оценок не было). Пропуски в столбцах critic_score и user_score оставляем, так как мы не можем определить оценку критиков и людей."
   ]
  },
  {
   "cell_type": "markdown",
   "id": "0491d2e0-39e4-4d4e-acdc-4b0447d5af10",
   "metadata": {
    "id": "0491d2e0-39e4-4d4e-acdc-4b0447d5af10"
   },
   "source": [
    "В столбце 'rating' пропущенные значения нам неизвестны, поэтому мы их заменили на 'неизвестно'."
   ]
  },
  {
   "cell_type": "code",
   "execution_count": 72,
   "id": "c7a261b7-6122-4c24-9fa6-2feb6bb679bf",
   "metadata": {
    "colab": {
     "base_uri": "https://localhost:8080/"
    },
    "id": "c7a261b7-6122-4c24-9fa6-2feb6bb679bf",
    "outputId": "76f65f86-b018-49bf-b35f-854e32f490cb"
   },
   "outputs": [
    {
     "data": {
      "text/plain": [
       "0.0"
      ]
     },
     "execution_count": 72,
     "metadata": {},
     "output_type": "execute_result"
    }
   ],
   "source": [
    "df['rating'] = df['rating'].fillna('неизвестно')\n",
    "df['rating'].isna().mean()"
   ]
  },
  {
   "cell_type": "markdown",
   "id": "d50777a4-0544-49dd-a5c1-56be06ad323d",
   "metadata": {
    "id": "d50777a4-0544-49dd-a5c1-56be06ad323d"
   },
   "source": [
    "Считаем суммарные продажи во всех регионах и записываем их в отдельный столбец"
   ]
  },
  {
   "cell_type": "code",
   "execution_count": 73,
   "id": "ac37831a-4b38-46c9-a5db-690db59fc124",
   "metadata": {
    "colab": {
     "base_uri": "https://localhost:8080/",
     "height": 409
    },
    "id": "ac37831a-4b38-46c9-a5db-690db59fc124",
    "outputId": "2fa96ad0-a62d-4ba9-9486-498a3ebfa022"
   },
   "outputs": [
    {
     "data": {
      "text/html": [
       "<div>\n",
       "<style scoped>\n",
       "    .dataframe tbody tr th:only-of-type {\n",
       "        vertical-align: middle;\n",
       "    }\n",
       "\n",
       "    .dataframe tbody tr th {\n",
       "        vertical-align: top;\n",
       "    }\n",
       "\n",
       "    .dataframe thead th {\n",
       "        text-align: right;\n",
       "    }\n",
       "</style>\n",
       "<table border=\"1\" class=\"dataframe\">\n",
       "  <thead>\n",
       "    <tr style=\"text-align: right;\">\n",
       "      <th></th>\n",
       "      <th>name</th>\n",
       "      <th>platform</th>\n",
       "      <th>year_of_release</th>\n",
       "      <th>genre</th>\n",
       "      <th>na_sales</th>\n",
       "      <th>eu_sales</th>\n",
       "      <th>jp_sales</th>\n",
       "      <th>other_sales</th>\n",
       "      <th>critic_score</th>\n",
       "      <th>user_score</th>\n",
       "      <th>rating</th>\n",
       "      <th>total_sales</th>\n",
       "    </tr>\n",
       "  </thead>\n",
       "  <tbody>\n",
       "    <tr>\n",
       "      <th>0</th>\n",
       "      <td>Wii Sports</td>\n",
       "      <td>Wii</td>\n",
       "      <td>2006.0</td>\n",
       "      <td>Sports</td>\n",
       "      <td>41.36</td>\n",
       "      <td>28.96</td>\n",
       "      <td>3.77</td>\n",
       "      <td>8.45</td>\n",
       "      <td>76.0</td>\n",
       "      <td>8.0</td>\n",
       "      <td>E</td>\n",
       "      <td>82.54</td>\n",
       "    </tr>\n",
       "    <tr>\n",
       "      <th>1</th>\n",
       "      <td>Super Mario Bros.</td>\n",
       "      <td>NES</td>\n",
       "      <td>1985.0</td>\n",
       "      <td>Platform</td>\n",
       "      <td>29.08</td>\n",
       "      <td>3.58</td>\n",
       "      <td>6.81</td>\n",
       "      <td>0.77</td>\n",
       "      <td>NaN</td>\n",
       "      <td>NaN</td>\n",
       "      <td>неизвестно</td>\n",
       "      <td>40.24</td>\n",
       "    </tr>\n",
       "    <tr>\n",
       "      <th>2</th>\n",
       "      <td>Mario Kart Wii</td>\n",
       "      <td>Wii</td>\n",
       "      <td>2008.0</td>\n",
       "      <td>Racing</td>\n",
       "      <td>15.68</td>\n",
       "      <td>12.76</td>\n",
       "      <td>3.79</td>\n",
       "      <td>3.29</td>\n",
       "      <td>82.0</td>\n",
       "      <td>8.3</td>\n",
       "      <td>E</td>\n",
       "      <td>35.52</td>\n",
       "    </tr>\n",
       "    <tr>\n",
       "      <th>3</th>\n",
       "      <td>Wii Sports Resort</td>\n",
       "      <td>Wii</td>\n",
       "      <td>2009.0</td>\n",
       "      <td>Sports</td>\n",
       "      <td>15.61</td>\n",
       "      <td>10.93</td>\n",
       "      <td>3.28</td>\n",
       "      <td>2.95</td>\n",
       "      <td>80.0</td>\n",
       "      <td>8.0</td>\n",
       "      <td>E</td>\n",
       "      <td>32.77</td>\n",
       "    </tr>\n",
       "    <tr>\n",
       "      <th>4</th>\n",
       "      <td>Pokemon Red/Pokemon Blue</td>\n",
       "      <td>GB</td>\n",
       "      <td>1996.0</td>\n",
       "      <td>Role-Playing</td>\n",
       "      <td>11.27</td>\n",
       "      <td>8.89</td>\n",
       "      <td>10.22</td>\n",
       "      <td>1.00</td>\n",
       "      <td>NaN</td>\n",
       "      <td>NaN</td>\n",
       "      <td>неизвестно</td>\n",
       "      <td>31.38</td>\n",
       "    </tr>\n",
       "  </tbody>\n",
       "</table>\n",
       "</div>"
      ],
      "text/plain": [
       "                       name platform  year_of_release         genre  na_sales  \\\n",
       "0                Wii Sports      Wii           2006.0        Sports     41.36   \n",
       "1         Super Mario Bros.      NES           1985.0      Platform     29.08   \n",
       "2            Mario Kart Wii      Wii           2008.0        Racing     15.68   \n",
       "3         Wii Sports Resort      Wii           2009.0        Sports     15.61   \n",
       "4  Pokemon Red/Pokemon Blue       GB           1996.0  Role-Playing     11.27   \n",
       "\n",
       "   eu_sales  jp_sales  other_sales  critic_score  user_score      rating  \\\n",
       "0     28.96      3.77         8.45          76.0         8.0           E   \n",
       "1      3.58      6.81         0.77           NaN         NaN  неизвестно   \n",
       "2     12.76      3.79         3.29          82.0         8.3           E   \n",
       "3     10.93      3.28         2.95          80.0         8.0           E   \n",
       "4      8.89     10.22         1.00           NaN         NaN  неизвестно   \n",
       "\n",
       "   total_sales  \n",
       "0        82.54  \n",
       "1        40.24  \n",
       "2        35.52  \n",
       "3        32.77  \n",
       "4        31.38  "
      ]
     },
     "execution_count": 73,
     "metadata": {},
     "output_type": "execute_result"
    }
   ],
   "source": [
    "df['total_sales'] = df['na_sales'] + df['eu_sales'] +  df['jp_sales'] + df['other_sales']\n",
    "df.head()"
   ]
  },
  {
   "cell_type": "markdown",
   "id": "f4f6318e-7f09-4855-a33b-ee3567d1de18",
   "metadata": {
    "id": "f4f6318e-7f09-4855-a33b-ee3567d1de18"
   },
   "source": [
    "### Промежуточный вывод о данных\n"
   ]
  },
  {
   "cell_type": "markdown",
   "id": "a6d39b10-8e30-463b-9345-8bfcdc6a9c9c",
   "metadata": {
    "id": "a6d39b10-8e30-463b-9345-8bfcdc6a9c9c"
   },
   "source": [
    "Был проведен поиск дубликатов - в данных их не было обнаружено. Так же были изменены названия столбцов, а именно - привели их к нижнему регистру. Изменили тип данных в столбце 'user_score' с object на float для удобной работы с данными. В столбце 'name' удалили две строки, так как они не несут для нас полезной информации, и их удаление не скажется на датасете. Вместе с ними удалились две строки из столбца 'genre' так как они были связаны. В столбце 'year_of_release' оставили значение NaN, так как год выхода мы не знаем. Так же мы можем заметить, что в 1980 году индустрия игр была в самом начале формирования, поэтому количество оценок низкое(мало кто имел доступ к цифровым играм). Пропуски в столбцах critic_score и user_score оставляем, так как мы не можем оценить мнение критиков или людей оно уникально. В столбце 'rating' пропущенные значения нам неизвестны, поэтому мы их заменили на 'неизвестно'. Так же был добавлен столбец под названием 'total_sales' с общим количеством продаж.\n",
    "\n",
    "Причины пропусков:\n",
    "\n",
    "'name' - ошибка в заполнении данных.\n",
    "\n",
    "'year_of_release' - скорее всего год выхода нам неизвестен.\n",
    "\n",
    "'genre' - ошибка в заполнении данных.\n",
    "\n",
    "'critic_score ' - это связано с отсутствием площадок для оценок игр и неразвитой индустрией игр.\n",
    "\n",
    "'user_score' - это связано с отсутствием площадок для оценок игр и неразвитой индустрией игр.\n",
    "\n",
    "'rating' - в каждом регионе есть свой рейтинг, но здесь он неуказан, поэтому есть пропуски.\n"
   ]
  },
  {
   "cell_type": "code",
   "execution_count": 74,
   "id": "ed23c104",
   "metadata": {
    "colab": {
     "base_uri": "https://localhost:8080/"
    },
    "id": "ed23c104",
    "outputId": "2d950ff6-001a-4de9-ab4b-6da419793831"
   },
   "outputs": [
    {
     "name": "stdout",
     "output_type": "stream",
     "text": [
      "<class 'pandas.core.frame.DataFrame'>\n",
      "Int64Index: 16713 entries, 0 to 16714\n",
      "Data columns (total 12 columns):\n",
      " #   Column           Non-Null Count  Dtype  \n",
      "---  ------           --------------  -----  \n",
      " 0   name             16713 non-null  object \n",
      " 1   platform         16713 non-null  object \n",
      " 2   year_of_release  16444 non-null  float64\n",
      " 3   genre            16713 non-null  object \n",
      " 4   na_sales         16713 non-null  float64\n",
      " 5   eu_sales         16713 non-null  float64\n",
      " 6   jp_sales         16713 non-null  float64\n",
      " 7   other_sales      16713 non-null  float64\n",
      " 8   critic_score     8137 non-null   float64\n",
      " 9   user_score       7590 non-null   float64\n",
      " 10  rating           16713 non-null  object \n",
      " 11  total_sales      16713 non-null  float64\n",
      "dtypes: float64(8), object(4)\n",
      "memory usage: 1.7+ MB\n",
      "None\n",
      "-------------------------\n",
      "name [' Beyblade Burst' ' Fire Emblem Fates' \" Frozen: Olaf's Quest\" ...\n",
      " 'uDraw Studio: Instant Artist' 'wwe Smackdown vs. Raw 2006'\n",
      " '¡Shin Chan Flipa en colores!']\n",
      "name : кол-во NaN 0 , процент NaN 0.0 %\n",
      "-------------------------\n",
      "platform ['2600' '3DO' '3DS' 'DC' 'DS' 'GB' 'GBA' 'GC' 'GEN' 'GG' 'N64' 'NES' 'NG'\n",
      " 'PC' 'PCFX' 'PS' 'PS2' 'PS3' 'PS4' 'PSP' 'PSV' 'SAT' 'SCD' 'SNES' 'TG16'\n",
      " 'WS' 'Wii' 'WiiU' 'X360' 'XB' 'XOne']\n",
      "platform : кол-во NaN 0 , процент NaN 0.0 %\n",
      "-------------------------\n",
      "year_of_release [1980. 1981. 1982. 1983. 1984. 1985. 1986. 1987. 1988. 1989. 1990. 1991.\n",
      " 1992. 1993. 1994. 1995. 1996. 1997. 1998. 1999. 2000. 2001. 2002. 2003.\n",
      " 2004. 2005. 2006. 2007. 2008. 2009. 2010. 2011. 2012. 2013. 2014. 2015.\n",
      " 2016.   nan]\n",
      "year_of_release : кол-во NaN 269 , процент NaN 1.61 %\n",
      "-------------------------\n",
      "genre ['Action' 'Adventure' 'Fighting' 'Misc' 'Platform' 'Puzzle' 'Racing'\n",
      " 'Role-Playing' 'Shooter' 'Simulation' 'Sports' 'Strategy']\n",
      "genre : кол-во NaN 0 , процент NaN 0.0 %\n",
      "-------------------------\n",
      "critic_score [13. 17. 19. 20. 21. 22. 23. 24. 25. 26. 27. 28. 29. 30. 31. 32. 33. 34.\n",
      " 35. 36. 37. 38. 39. 40. 41. 42. 43. 44. 45. 46. 47. 48. 49. 50. 51. 52.\n",
      " 53. 54. 55. 56. 57. 58. 59. 60. 61. 62. 63. 64. 65. 66. 67. 68. 69. 70.\n",
      " 71. 72. 73. 74. 75. 76. 77. 78. 79. 80. 81. 82. 83. 84. 85. 86. 87. 88.\n",
      " 89. 90. 91. 92. 93. 94. 95. 96. 97. 98. nan]\n",
      "critic_score : кол-во NaN 8576 , процент NaN 51.31 %\n",
      "-------------------------\n",
      "user_score [0.  0.2 0.3 0.5 0.6 0.7 0.9 1.  1.1 1.2 1.3 1.4 1.5 1.6 1.7 1.8 1.9 2.\n",
      " 2.1 2.2 2.3 2.4 2.5 2.6 2.7 2.8 2.9 3.  3.1 3.2 3.3 3.4 3.5 3.6 3.7 3.8\n",
      " 3.9 4.  4.1 4.2 4.3 4.4 4.5 4.6 4.7 4.8 4.9 5.  5.1 5.2 5.3 5.4 5.5 5.6\n",
      " 5.7 5.8 5.9 6.  6.1 6.2 6.3 6.4 6.5 6.6 6.7 6.8 6.9 7.  7.1 7.2 7.3 7.4\n",
      " 7.5 7.6 7.7 7.8 7.9 8.  8.1 8.2 8.3 8.4 8.5 8.6 8.7 8.8 8.9 9.  9.1 9.2\n",
      " 9.3 9.4 9.5 9.6 9.7 nan]\n",
      "user_score : кол-во NaN 9123 , процент NaN 54.59 %\n",
      "-------------------------\n",
      "rating ['AO' 'E' 'E10+' 'EC' 'K-A' 'M' 'RP' 'T' 'неизвестно']\n",
      "rating : кол-во NaN 0 , процент NaN 0.0 %\n"
     ]
    }
   ],
   "source": [
    "\n",
    "temp = df.copy()\n",
    "list_c = ['name', 'platform', 'year_of_release', 'genre', 'critic_score', 'user_score', 'rating']\n",
    "print(temp.info())\n",
    "for col_l in list_c:\n",
    "  print('-'* 25)\n",
    "  print(col_l, temp[col_l].sort_values().unique())\n",
    "  print(col_l,': кол-во NaN',temp[col_l].isna().sum(),\n",
    "        ', процент NaN', round(temp[col_l].isna().mean()*100,2),'%')"
   ]
  },
  {
   "cell_type": "markdown",
   "id": "1bbabc41-a1ca-4d9f-bd30-62ea0b1e737f",
   "metadata": {
    "id": "1bbabc41-a1ca-4d9f-bd30-62ea0b1e737f"
   },
   "source": [
    "## Исследовательский анализ данных"
   ]
  },
  {
   "cell_type": "markdown",
   "id": "b9299c42-4327-476a-964e-59c8984e5712",
   "metadata": {
    "id": "b9299c42-4327-476a-964e-59c8984e5712"
   },
   "source": [
    "Группируем данные по годам и смотрим количесвто оценок в год и количество выпущенных игр\n",
    "в год\n"
   ]
  },
  {
   "cell_type": "code",
   "execution_count": 75,
   "id": "62b2eebc-77e8-47c1-bed9-de919fc794b2",
   "metadata": {
    "colab": {
     "base_uri": "https://localhost:8080/",
     "height": 1000
    },
    "id": "62b2eebc-77e8-47c1-bed9-de919fc794b2",
    "outputId": "8ea0dbbd-9339-4f6d-eb54-bde6b5bd456b"
   },
   "outputs": [
    {
     "data": {
      "text/html": [
       "<div>\n",
       "<style scoped>\n",
       "    .dataframe tbody tr th:only-of-type {\n",
       "        vertical-align: middle;\n",
       "    }\n",
       "\n",
       "    .dataframe tbody tr th {\n",
       "        vertical-align: top;\n",
       "    }\n",
       "\n",
       "    .dataframe thead th {\n",
       "        text-align: right;\n",
       "    }\n",
       "</style>\n",
       "<table border=\"1\" class=\"dataframe\">\n",
       "  <thead>\n",
       "    <tr style=\"text-align: right;\">\n",
       "      <th></th>\n",
       "      <th>total_critic</th>\n",
       "      <th>total_user</th>\n",
       "      <th>total_games</th>\n",
       "    </tr>\n",
       "    <tr>\n",
       "      <th>year_of_release</th>\n",
       "      <th></th>\n",
       "      <th></th>\n",
       "      <th></th>\n",
       "    </tr>\n",
       "  </thead>\n",
       "  <tbody>\n",
       "    <tr>\n",
       "      <th>1980.0</th>\n",
       "      <td>0</td>\n",
       "      <td>0</td>\n",
       "      <td>9</td>\n",
       "    </tr>\n",
       "    <tr>\n",
       "      <th>1981.0</th>\n",
       "      <td>0</td>\n",
       "      <td>0</td>\n",
       "      <td>46</td>\n",
       "    </tr>\n",
       "    <tr>\n",
       "      <th>1982.0</th>\n",
       "      <td>0</td>\n",
       "      <td>0</td>\n",
       "      <td>36</td>\n",
       "    </tr>\n",
       "    <tr>\n",
       "      <th>1983.0</th>\n",
       "      <td>0</td>\n",
       "      <td>0</td>\n",
       "      <td>17</td>\n",
       "    </tr>\n",
       "    <tr>\n",
       "      <th>1984.0</th>\n",
       "      <td>0</td>\n",
       "      <td>0</td>\n",
       "      <td>14</td>\n",
       "    </tr>\n",
       "    <tr>\n",
       "      <th>1985.0</th>\n",
       "      <td>1</td>\n",
       "      <td>1</td>\n",
       "      <td>14</td>\n",
       "    </tr>\n",
       "    <tr>\n",
       "      <th>1986.0</th>\n",
       "      <td>0</td>\n",
       "      <td>0</td>\n",
       "      <td>21</td>\n",
       "    </tr>\n",
       "    <tr>\n",
       "      <th>1987.0</th>\n",
       "      <td>0</td>\n",
       "      <td>0</td>\n",
       "      <td>16</td>\n",
       "    </tr>\n",
       "    <tr>\n",
       "      <th>1988.0</th>\n",
       "      <td>1</td>\n",
       "      <td>1</td>\n",
       "      <td>15</td>\n",
       "    </tr>\n",
       "    <tr>\n",
       "      <th>1989.0</th>\n",
       "      <td>0</td>\n",
       "      <td>0</td>\n",
       "      <td>17</td>\n",
       "    </tr>\n",
       "    <tr>\n",
       "      <th>1990.0</th>\n",
       "      <td>0</td>\n",
       "      <td>0</td>\n",
       "      <td>16</td>\n",
       "    </tr>\n",
       "    <tr>\n",
       "      <th>1991.0</th>\n",
       "      <td>0</td>\n",
       "      <td>0</td>\n",
       "      <td>41</td>\n",
       "    </tr>\n",
       "    <tr>\n",
       "      <th>1992.0</th>\n",
       "      <td>1</td>\n",
       "      <td>1</td>\n",
       "      <td>43</td>\n",
       "    </tr>\n",
       "    <tr>\n",
       "      <th>1993.0</th>\n",
       "      <td>0</td>\n",
       "      <td>0</td>\n",
       "      <td>60</td>\n",
       "    </tr>\n",
       "    <tr>\n",
       "      <th>1994.0</th>\n",
       "      <td>1</td>\n",
       "      <td>1</td>\n",
       "      <td>121</td>\n",
       "    </tr>\n",
       "    <tr>\n",
       "      <th>1995.0</th>\n",
       "      <td>0</td>\n",
       "      <td>0</td>\n",
       "      <td>219</td>\n",
       "    </tr>\n",
       "    <tr>\n",
       "      <th>1996.0</th>\n",
       "      <td>8</td>\n",
       "      <td>8</td>\n",
       "      <td>263</td>\n",
       "    </tr>\n",
       "    <tr>\n",
       "      <th>1997.0</th>\n",
       "      <td>17</td>\n",
       "      <td>18</td>\n",
       "      <td>289</td>\n",
       "    </tr>\n",
       "    <tr>\n",
       "      <th>1998.0</th>\n",
       "      <td>28</td>\n",
       "      <td>31</td>\n",
       "      <td>379</td>\n",
       "    </tr>\n",
       "    <tr>\n",
       "      <th>1999.0</th>\n",
       "      <td>39</td>\n",
       "      <td>31</td>\n",
       "      <td>338</td>\n",
       "    </tr>\n",
       "    <tr>\n",
       "      <th>2000.0</th>\n",
       "      <td>143</td>\n",
       "      <td>107</td>\n",
       "      <td>350</td>\n",
       "    </tr>\n",
       "    <tr>\n",
       "      <th>2001.0</th>\n",
       "      <td>326</td>\n",
       "      <td>257</td>\n",
       "      <td>482</td>\n",
       "    </tr>\n",
       "    <tr>\n",
       "      <th>2002.0</th>\n",
       "      <td>627</td>\n",
       "      <td>464</td>\n",
       "      <td>829</td>\n",
       "    </tr>\n",
       "    <tr>\n",
       "      <th>2003.0</th>\n",
       "      <td>585</td>\n",
       "      <td>516</td>\n",
       "      <td>775</td>\n",
       "    </tr>\n",
       "    <tr>\n",
       "      <th>2004.0</th>\n",
       "      <td>561</td>\n",
       "      <td>489</td>\n",
       "      <td>762</td>\n",
       "    </tr>\n",
       "    <tr>\n",
       "      <th>2005.0</th>\n",
       "      <td>655</td>\n",
       "      <td>583</td>\n",
       "      <td>939</td>\n",
       "    </tr>\n",
       "    <tr>\n",
       "      <th>2006.0</th>\n",
       "      <td>620</td>\n",
       "      <td>552</td>\n",
       "      <td>1006</td>\n",
       "    </tr>\n",
       "    <tr>\n",
       "      <th>2007.0</th>\n",
       "      <td>692</td>\n",
       "      <td>629</td>\n",
       "      <td>1197</td>\n",
       "    </tr>\n",
       "    <tr>\n",
       "      <th>2008.0</th>\n",
       "      <td>715</td>\n",
       "      <td>661</td>\n",
       "      <td>1427</td>\n",
       "    </tr>\n",
       "    <tr>\n",
       "      <th>2009.0</th>\n",
       "      <td>651</td>\n",
       "      <td>614</td>\n",
       "      <td>1426</td>\n",
       "    </tr>\n",
       "    <tr>\n",
       "      <th>2010.0</th>\n",
       "      <td>500</td>\n",
       "      <td>467</td>\n",
       "      <td>1255</td>\n",
       "    </tr>\n",
       "    <tr>\n",
       "      <th>2011.0</th>\n",
       "      <td>500</td>\n",
       "      <td>501</td>\n",
       "      <td>1136</td>\n",
       "    </tr>\n",
       "    <tr>\n",
       "      <th>2012.0</th>\n",
       "      <td>321</td>\n",
       "      <td>339</td>\n",
       "      <td>653</td>\n",
       "    </tr>\n",
       "    <tr>\n",
       "      <th>2013.0</th>\n",
       "      <td>273</td>\n",
       "      <td>304</td>\n",
       "      <td>544</td>\n",
       "    </tr>\n",
       "    <tr>\n",
       "      <th>2014.0</th>\n",
       "      <td>261</td>\n",
       "      <td>329</td>\n",
       "      <td>581</td>\n",
       "    </tr>\n",
       "    <tr>\n",
       "      <th>2015.0</th>\n",
       "      <td>225</td>\n",
       "      <td>297</td>\n",
       "      <td>606</td>\n",
       "    </tr>\n",
       "    <tr>\n",
       "      <th>2016.0</th>\n",
       "      <td>232</td>\n",
       "      <td>262</td>\n",
       "      <td>502</td>\n",
       "    </tr>\n",
       "  </tbody>\n",
       "</table>\n",
       "</div>"
      ],
      "text/plain": [
       "                 total_critic  total_user  total_games\n",
       "year_of_release                                       \n",
       "1980.0                      0           0            9\n",
       "1981.0                      0           0           46\n",
       "1982.0                      0           0           36\n",
       "1983.0                      0           0           17\n",
       "1984.0                      0           0           14\n",
       "1985.0                      1           1           14\n",
       "1986.0                      0           0           21\n",
       "1987.0                      0           0           16\n",
       "1988.0                      1           1           15\n",
       "1989.0                      0           0           17\n",
       "1990.0                      0           0           16\n",
       "1991.0                      0           0           41\n",
       "1992.0                      1           1           43\n",
       "1993.0                      0           0           60\n",
       "1994.0                      1           1          121\n",
       "1995.0                      0           0          219\n",
       "1996.0                      8           8          263\n",
       "1997.0                     17          18          289\n",
       "1998.0                     28          31          379\n",
       "1999.0                     39          31          338\n",
       "2000.0                    143         107          350\n",
       "2001.0                    326         257          482\n",
       "2002.0                    627         464          829\n",
       "2003.0                    585         516          775\n",
       "2004.0                    561         489          762\n",
       "2005.0                    655         583          939\n",
       "2006.0                    620         552         1006\n",
       "2007.0                    692         629         1197\n",
       "2008.0                    715         661         1427\n",
       "2009.0                    651         614         1426\n",
       "2010.0                    500         467         1255\n",
       "2011.0                    500         501         1136\n",
       "2012.0                    321         339          653\n",
       "2013.0                    273         304          544\n",
       "2014.0                    261         329          581\n",
       "2015.0                    225         297          606\n",
       "2016.0                    232         262          502"
      ]
     },
     "execution_count": 75,
     "metadata": {},
     "output_type": "execute_result"
    }
   ],
   "source": [
    "y = df.groupby('year_of_release').agg(total_critic=('critic_score','count'), total_user=('user_score','count'), total_games=('name', 'count'))\n",
    "y"
   ]
  },
  {
   "cell_type": "markdown",
   "id": "cda8ee0c-79a7-4ee8-a402-e9dbd1a6fa03",
   "metadata": {
    "id": "cda8ee0c-79a7-4ee8-a402-e9dbd1a6fa03"
   },
   "source": [
    "выбрал актуальные данные.\n",
    "Создаем переменную с агрегированными данными от 2013 года. В этот год вышла консоль XboxOne и PS4"
   ]
  },
  {
   "cell_type": "code",
   "execution_count": 76,
   "id": "4235a41d-fc81-4d5a-852e-a83a1efccbad",
   "metadata": {
    "colab": {
     "base_uri": "https://localhost:8080/",
     "height": 400
    },
    "id": "4235a41d-fc81-4d5a-852e-a83a1efccbad",
    "outputId": "ed1d9427-0d95-44d7-e0d1-7b710835fcd3"
   },
   "outputs": [
    {
     "data": {
      "text/html": [
       "<div>\n",
       "<style scoped>\n",
       "    .dataframe tbody tr th:only-of-type {\n",
       "        vertical-align: middle;\n",
       "    }\n",
       "\n",
       "    .dataframe tbody tr th {\n",
       "        vertical-align: top;\n",
       "    }\n",
       "\n",
       "    .dataframe thead th {\n",
       "        text-align: right;\n",
       "    }\n",
       "</style>\n",
       "<table border=\"1\" class=\"dataframe\">\n",
       "  <thead>\n",
       "    <tr style=\"text-align: right;\">\n",
       "      <th></th>\n",
       "      <th>name</th>\n",
       "      <th>platform</th>\n",
       "      <th>year_of_release</th>\n",
       "      <th>genre</th>\n",
       "      <th>na_sales</th>\n",
       "      <th>eu_sales</th>\n",
       "      <th>jp_sales</th>\n",
       "      <th>other_sales</th>\n",
       "      <th>critic_score</th>\n",
       "      <th>user_score</th>\n",
       "      <th>rating</th>\n",
       "      <th>total_sales</th>\n",
       "    </tr>\n",
       "  </thead>\n",
       "  <tbody>\n",
       "    <tr>\n",
       "      <th>16</th>\n",
       "      <td>Grand Theft Auto V</td>\n",
       "      <td>PS3</td>\n",
       "      <td>2013.0</td>\n",
       "      <td>Action</td>\n",
       "      <td>7.02</td>\n",
       "      <td>9.09</td>\n",
       "      <td>0.98</td>\n",
       "      <td>3.96</td>\n",
       "      <td>97.0</td>\n",
       "      <td>8.2</td>\n",
       "      <td>M</td>\n",
       "      <td>21.05</td>\n",
       "    </tr>\n",
       "    <tr>\n",
       "      <th>23</th>\n",
       "      <td>Grand Theft Auto V</td>\n",
       "      <td>X360</td>\n",
       "      <td>2013.0</td>\n",
       "      <td>Action</td>\n",
       "      <td>9.66</td>\n",
       "      <td>5.14</td>\n",
       "      <td>0.06</td>\n",
       "      <td>1.41</td>\n",
       "      <td>97.0</td>\n",
       "      <td>8.1</td>\n",
       "      <td>M</td>\n",
       "      <td>16.27</td>\n",
       "    </tr>\n",
       "    <tr>\n",
       "      <th>31</th>\n",
       "      <td>Call of Duty: Black Ops 3</td>\n",
       "      <td>PS4</td>\n",
       "      <td>2015.0</td>\n",
       "      <td>Shooter</td>\n",
       "      <td>6.03</td>\n",
       "      <td>5.86</td>\n",
       "      <td>0.36</td>\n",
       "      <td>2.38</td>\n",
       "      <td>NaN</td>\n",
       "      <td>NaN</td>\n",
       "      <td>неизвестно</td>\n",
       "      <td>14.63</td>\n",
       "    </tr>\n",
       "    <tr>\n",
       "      <th>33</th>\n",
       "      <td>Pokemon X/Pokemon Y</td>\n",
       "      <td>3DS</td>\n",
       "      <td>2013.0</td>\n",
       "      <td>Role-Playing</td>\n",
       "      <td>5.28</td>\n",
       "      <td>4.19</td>\n",
       "      <td>4.35</td>\n",
       "      <td>0.78</td>\n",
       "      <td>NaN</td>\n",
       "      <td>NaN</td>\n",
       "      <td>неизвестно</td>\n",
       "      <td>14.60</td>\n",
       "    </tr>\n",
       "    <tr>\n",
       "      <th>42</th>\n",
       "      <td>Grand Theft Auto V</td>\n",
       "      <td>PS4</td>\n",
       "      <td>2014.0</td>\n",
       "      <td>Action</td>\n",
       "      <td>3.96</td>\n",
       "      <td>6.31</td>\n",
       "      <td>0.38</td>\n",
       "      <td>1.97</td>\n",
       "      <td>97.0</td>\n",
       "      <td>8.3</td>\n",
       "      <td>M</td>\n",
       "      <td>12.62</td>\n",
       "    </tr>\n",
       "  </tbody>\n",
       "</table>\n",
       "</div>"
      ],
      "text/plain": [
       "                         name platform  year_of_release         genre  \\\n",
       "16         Grand Theft Auto V      PS3           2013.0        Action   \n",
       "23         Grand Theft Auto V     X360           2013.0        Action   \n",
       "31  Call of Duty: Black Ops 3      PS4           2015.0       Shooter   \n",
       "33        Pokemon X/Pokemon Y      3DS           2013.0  Role-Playing   \n",
       "42         Grand Theft Auto V      PS4           2014.0        Action   \n",
       "\n",
       "    na_sales  eu_sales  jp_sales  other_sales  critic_score  user_score  \\\n",
       "16      7.02      9.09      0.98         3.96          97.0         8.2   \n",
       "23      9.66      5.14      0.06         1.41          97.0         8.1   \n",
       "31      6.03      5.86      0.36         2.38           NaN         NaN   \n",
       "33      5.28      4.19      4.35         0.78           NaN         NaN   \n",
       "42      3.96      6.31      0.38         1.97          97.0         8.3   \n",
       "\n",
       "        rating  total_sales  \n",
       "16           M        21.05  \n",
       "23           M        16.27  \n",
       "31  неизвестно        14.63  \n",
       "33  неизвестно        14.60  \n",
       "42           M        12.62  "
      ]
     },
     "execution_count": 76,
     "metadata": {},
     "output_type": "execute_result"
    }
   ],
   "source": [
    "t = df.query('year_of_release >= 2013.0')\n",
    "t.head()"
   ]
  },
  {
   "cell_type": "markdown",
   "id": "d0404cb0-9464-4729-89b3-15b6e2391161",
   "metadata": {
    "id": "d0404cb0-9464-4729-89b3-15b6e2391161"
   },
   "source": [
    "Смотрим топ 10 платформ по продажам за все исследуемое время"
   ]
  },
  {
   "cell_type": "code",
   "execution_count": 77,
   "id": "11875c9a-db70-450d-9ba7-9b3963112a97",
   "metadata": {
    "colab": {
     "base_uri": "https://localhost:8080/",
     "height": 494
    },
    "id": "11875c9a-db70-450d-9ba7-9b3963112a97",
    "outputId": "53484c0a-422e-4896-fef6-9c756aaf3675"
   },
   "outputs": [
    {
     "data": {
      "image/png": "[encoded data removed]",
      "text/plain": [
       "<Figure size 432x288 with 1 Axes>"
      ]
     },
     "metadata": {},
     "output_type": "display_data"
    }
   ],
   "source": [
    "top_10 = df.groupby('platform').agg(total_revenue=('total_sales', 'sum')).reset_index().sort_values(by=['total_revenue'], ascending=False).head(10)\n",
    "top_10.plot(kind='bar', xlabel='Платформа', x='platform', ylabel='Количесвто продаж', legend=False, title='График топ 10 платформ');\n"
   ]
  },
  {
   "cell_type": "markdown",
   "id": "31d1c127-53e4-4884-9406-0d3ca44ca91e",
   "metadata": {
    "id": "31d1c127-53e4-4884-9406-0d3ca44ca91e"
   },
   "source": [
    "#### Строим графики для каждой платформы из топ 10 и смотрим на распределение продаж по годам"
   ]
  },
  {
   "cell_type": "markdown",
   "id": "9ff71205-5f16-416b-b67a-3bacb0bc29a0",
   "metadata": {
    "id": "9ff71205-5f16-416b-b67a-3bacb0bc29a0"
   },
   "source": [
    "Строим график для PS2"
   ]
  },
  {
   "cell_type": "code",
   "execution_count": 78,
   "id": "9311b4ce-75cc-45c5-accb-bf95dd0792d2",
   "metadata": {
    "id": "9311b4ce-75cc-45c5-accb-bf95dd0792d2"
   },
   "outputs": [],
   "source": [
    "ps_2 = df.query('platform == \"PS2\"').groupby('year_of_release')['total_sales'].agg('sum')"
   ]
  },
  {
   "cell_type": "code",
   "execution_count": 79,
   "id": "05c33106-4d4a-4a10-a80b-20c7ed7cb826",
   "metadata": {
    "colab": {
     "base_uri": "https://localhost:8080/",
     "height": 472
    },
    "id": "05c33106-4d4a-4a10-a80b-20c7ed7cb826",
    "outputId": "f8dedd25-efda-48fc-e7c9-32c258ec6f45"
   },
   "outputs": [
    {
     "data": {
      "image/png": "[encoded data removed]",
      "text/plain": [
       "<Figure size 432x288 with 1 Axes>"
      ]
     },
     "metadata": {},
     "output_type": "display_data"
    }
   ],
   "source": [
    "ps_2.plot(title='График суммарных продаж по годам (PS2)', grid=True, xlabel='Год', ylabel='продажи')\n",
    "plt.show()"
   ]
  },
  {
   "cell_type": "markdown",
   "id": "e6da594e-1bac-4705-8ca4-c513b18e9804",
   "metadata": {
    "id": "e6da594e-1bac-4705-8ca4-c513b18e9804"
   },
   "source": [
    "Заметен сильный рост продаж в момент выхода приставки в 2000, который длится до 2004 года, потом идет постоянный спад."
   ]
  },
  {
   "cell_type": "markdown",
   "id": "0ea1fb9b-543e-4683-b3f0-7ed89b91bc70",
   "metadata": {
    "id": "0ea1fb9b-543e-4683-b3f0-7ed89b91bc70"
   },
   "source": [
    "Строим график для X360"
   ]
  },
  {
   "cell_type": "code",
   "execution_count": 80,
   "id": "414fa681-72fc-426a-8cc1-190df5ae8143",
   "metadata": {
    "id": "414fa681-72fc-426a-8cc1-190df5ae8143"
   },
   "outputs": [],
   "source": [
    "X_360 = df.query('platform == \"X360\"').groupby('year_of_release')['total_sales'].agg('sum')"
   ]
  },
  {
   "cell_type": "code",
   "execution_count": 81,
   "id": "51b8dc71-0cbb-49a1-8fa6-0c0a93212499",
   "metadata": {
    "colab": {
     "base_uri": "https://localhost:8080/",
     "height": 472
    },
    "id": "51b8dc71-0cbb-49a1-8fa6-0c0a93212499",
    "outputId": "5b80f8b0-e89a-4d65-b194-d2e171ac3590"
   },
   "outputs": [
    {
     "data": {
      "image/png": "[encoded data removed]",
      "text/plain": [
       "<Figure size 432x288 with 1 Axes>"
      ]
     },
     "metadata": {},
     "output_type": "display_data"
    }
   ],
   "source": [
    "X_360.plot(title='График суммарных продаж по годам (X360)', grid=True, xlabel='Год', ylabel='продажи')\n",
    "plt.show()"
   ]
  },
  {
   "cell_type": "markdown",
   "id": "ea07d8b2-33e3-4750-8a45-4e23b8297f35",
   "metadata": {
    "id": "ea07d8b2-33e3-4750-8a45-4e23b8297f35"
   },
   "source": [
    "Выход в 2005. Не такой стремитльеный рост как у PS2, но уверенный, длится до 2010 года, потом постоянный спад."
   ]
  },
  {
   "cell_type": "markdown",
   "id": "450192c5-f2c3-464b-adb9-a1c0e793b3f2",
   "metadata": {
    "id": "450192c5-f2c3-464b-adb9-a1c0e793b3f2"
   },
   "source": [
    "Строим график для PS3"
   ]
  },
  {
   "cell_type": "code",
   "execution_count": 82,
   "id": "73afaf84-2028-4d1b-9cac-933db751fe47",
   "metadata": {
    "colab": {
     "base_uri": "https://localhost:8080/",
     "height": 472
    },
    "id": "73afaf84-2028-4d1b-9cac-933db751fe47",
    "outputId": "dffb544a-da17-4118-94a3-264b7ad87d1e"
   },
   "outputs": [
    {
     "data": {
      "image/png": "[encoded data removed]",
      "text/plain": [
       "<Figure size 432x288 with 1 Axes>"
      ]
     },
     "metadata": {},
     "output_type": "display_data"
    }
   ],
   "source": [
    "PS_3 = df.query('platform == \"PS3\"').groupby('year_of_release')['total_sales'].agg('sum')\n",
    "PS_3.plot(title='График суммарных продаж по годам (PS3)', grid=True, xlabel='Год',  ylabel='продажи')\n",
    "plt.show()"
   ]
  },
  {
   "cell_type": "markdown",
   "id": "1787ed95-03b1-487a-be6c-81bdbcce186b",
   "metadata": {
    "id": "1787ed95-03b1-487a-be6c-81bdbcce186b"
   },
   "source": [
    "Мы видим  рост продаж в 2006 году, который длиться до 2011, потом идет спад до 2012, снова кратковременный рост и потом постоянный спад\n"
   ]
  },
  {
   "cell_type": "markdown",
   "id": "fb5ec9c8-2a38-473f-a33f-bcf9385db9fd",
   "metadata": {
    "id": "fb5ec9c8-2a38-473f-a33f-bcf9385db9fd"
   },
   "source": [
    "Строим график для Wii"
   ]
  },
  {
   "cell_type": "code",
   "execution_count": 83,
   "id": "affce3a2-2127-471c-992c-c5e79cc691b5",
   "metadata": {
    "colab": {
     "base_uri": "https://localhost:8080/",
     "height": 472
    },
    "id": "affce3a2-2127-471c-992c-c5e79cc691b5",
    "outputId": "7300b199-a1d4-477e-dff4-73e721d4f009"
   },
   "outputs": [
    {
     "data": {
      "image/png": "[encoded data removed]",
      "text/plain": [
       "<Figure size 432x288 with 1 Axes>"
      ]
     },
     "metadata": {},
     "output_type": "display_data"
    }
   ],
   "source": [
    "Wii = df.query('platform == \"Wii\"').groupby('year_of_release')['total_sales'].agg('sum')\n",
    "Wii.plot(title='График суммарных продаж по годам (Wii)', grid=True, xlabel='Год',ylim=0,  ylabel='продажи')\n",
    "plt.show()"
   ]
  },
  {
   "cell_type": "markdown",
   "id": "214119b3-47ae-443b-a1f2-3f57cb66cd8f",
   "metadata": {
    "id": "214119b3-47ae-443b-a1f2-3f57cb66cd8f"
   },
   "source": [
    "Рост продаж в  2006 году, при этом первый год очень доходный около 126 млн копий продано, идет хороший рост до 2009 и потом постоянный сильный спад"
   ]
  },
  {
   "cell_type": "markdown",
   "id": "1c1257f2-42d4-4270-a23a-993248910560",
   "metadata": {
    "id": "1c1257f2-42d4-4270-a23a-993248910560"
   },
   "source": [
    "Строим график для DS"
   ]
  },
  {
   "cell_type": "code",
   "execution_count": 84,
   "id": "dba811ef-e5e5-4935-a9c3-476fb1b7fec6",
   "metadata": {
    "colab": {
     "base_uri": "https://localhost:8080/",
     "height": 472
    },
    "id": "dba811ef-e5e5-4935-a9c3-476fb1b7fec6",
    "outputId": "b1f5860c-7d41-4ef5-907d-6de8428c662c"
   },
   "outputs": [
    {
     "data": {
      "image/png": "[encoded data removed]",
      "text/plain": [
       "<Figure size 432x288 with 1 Axes>"
      ]
     },
     "metadata": {},
     "output_type": "display_data"
    }
   ],
   "source": [
    "DS = df.query('platform == \"DS\"').groupby('year_of_release')['total_sales'].agg('sum')\n",
    "DS.plot(title='График суммарных продаж по годам (DS)', grid=True, xlabel='Год',  ylabel='продажи')\n",
    "plt.show()"
   ]
  },
  {
   "cell_type": "markdown",
   "id": "43dfe174-50bd-400d-9d8e-eda9d4436823",
   "metadata": {
    "id": "43dfe174-50bd-400d-9d8e-eda9d4436823"
   },
   "source": [
    "Год выпуска 2004, потом резкий рост до 142млн копий и резкий  постоянный спад. В данных есть ошибка, стоит обработать их."
   ]
  },
  {
   "cell_type": "code",
   "execution_count": 85,
   "id": "5515733e-f0d3-4d4e-bb66-bc697b428159",
   "metadata": {
    "colab": {
     "base_uri": "https://localhost:8080/",
     "height": 472
    },
    "id": "5515733e-f0d3-4d4e-bb66-bc697b428159",
    "outputId": "c4a0cfc2-6c0b-4020-a8b7-a580c3050ade"
   },
   "outputs": [
    {
     "data": {
      "image/png": "[encoded data removed]",
      "text/plain": [
       "<Figure size 432x288 with 1 Axes>"
      ]
     },
     "metadata": {},
     "output_type": "display_data"
    }
   ],
   "source": [
    "PS = df.query('platform == \"PS\"').groupby('year_of_release')['total_sales'].agg('sum')\n",
    "PS.plot(title='График суммарных продаж по годам (PS)', grid=True, xlabel='Год',  ylabel='продажи')\n",
    "plt.show()"
   ]
  },
  {
   "cell_type": "markdown",
   "id": "4139e3b7-2526-48d6-8331-09ad5394fcd8",
   "metadata": {
    "id": "4139e3b7-2526-48d6-8331-09ad5394fcd8"
   },
   "source": [
    "Выход в 1994 году, хороший, постоянный рост до 1998 года и, после, постоянный спад."
   ]
  },
  {
   "cell_type": "code",
   "execution_count": 86,
   "id": "be8119b4-f6f6-4648-8fd0-95de49cfb384",
   "metadata": {
    "colab": {
     "base_uri": "https://localhost:8080/",
     "height": 472
    },
    "id": "be8119b4-f6f6-4648-8fd0-95de49cfb384",
    "outputId": "fcb2c160-c1c8-4473-adb0-cf1047c6ff6f"
   },
   "outputs": [
    {
     "data": {
      "image/png": "[encoded data removed]",
      "text/plain": [
       "<Figure size 432x288 with 1 Axes>"
      ]
     },
     "metadata": {},
     "output_type": "display_data"
    }
   ],
   "source": [
    "GBA\t= df.query('platform == \"GBA\"').groupby('year_of_release')['total_sales'].agg('sum')\n",
    "GBA.plot(title='График суммарных продаж по годам (GBA)', grid=True, xlabel='Год', ylabel='продажи')\n",
    "plt.show()"
   ]
  },
  {
   "cell_type": "markdown",
   "id": "cd2cee10-1019-4e6d-a106-5b04cd20206c",
   "metadata": {
    "id": "cd2cee10-1019-4e6d-a106-5b04cd20206c"
   },
   "source": [
    "Выход в 2000 и стремительный рост до 2001, с 2001 рост продолжается, но не такой сильный, в 2002 спад до 58млн копий и в 2003 последний рост продаж до 2004 года, потом постоянный спад. С выходом PSP начинается постоянный спад."
   ]
  },
  {
   "cell_type": "code",
   "execution_count": 87,
   "id": "d04b7ec8-1a86-48cd-9986-229673849522",
   "metadata": {
    "colab": {
     "base_uri": "https://localhost:8080/",
     "height": 472
    },
    "id": "d04b7ec8-1a86-48cd-9986-229673849522",
    "outputId": "0c50dc10-e01d-49b5-e2c7-5d8e2becba2a"
   },
   "outputs": [
    {
     "data": {
      "image/png": "[encoded data removed]",
      "text/plain": [
       "<Figure size 432x288 with 1 Axes>"
      ]
     },
     "metadata": {},
     "output_type": "display_data"
    }
   ],
   "source": [
    "PS4\t= df.query('platform == \"PS4\"').groupby('year_of_release')['total_sales'].agg('sum')\n",
    "PS4.plot(title='График суммарных продаж по годам (PS4)', grid=True, xlabel='Год', ylim=0, ylabel='продажи')\n",
    "plt.show()"
   ]
  },
  {
   "cell_type": "markdown",
   "id": "d68d03d3-c690-48f2-b1a1-658dcb51af67",
   "metadata": {
    "id": "d68d03d3-c690-48f2-b1a1-658dcb51af67"
   },
   "source": [
    "Выход в 2013 и хороший рост продаж до 2015 года, потом идет спад."
   ]
  },
  {
   "cell_type": "code",
   "execution_count": 88,
   "id": "88ce02d2-68c2-4a99-b39e-765693023817",
   "metadata": {
    "colab": {
     "base_uri": "https://localhost:8080/",
     "height": 472
    },
    "id": "88ce02d2-68c2-4a99-b39e-765693023817",
    "outputId": "6652ec94-1e00-4d72-b8f8-798c8988fc70"
   },
   "outputs": [
    {
     "data": {
      "image/png": "[encoded data removed]",
      "text/plain": [
       "<Figure size 432x288 with 1 Axes>"
      ]
     },
     "metadata": {},
     "output_type": "display_data"
    }
   ],
   "source": [
    "PSP\t= df.query('platform == \"PSP\"').groupby('year_of_release')['total_sales'].agg('sum')\n",
    "PSP\t.plot(title='График суммарных продаж по годам (PSP)', grid=True, xlabel='Год', ylim=0, ylabel='продажи')\n",
    "plt.show()"
   ]
  },
  {
   "cell_type": "markdown",
   "id": "f5c85ceb-f288-4709-b53e-5d5df73ef97f",
   "metadata": {
    "id": "f5c85ceb-f288-4709-b53e-5d5df73ef97f"
   },
   "source": [
    "Выход в 2004 и начало стремительного роста  продаж  до 2006 года, потом идет скачкообразный спад, первый скачок до 2008 года, потом короткий рост до 2009 и потом кратковременный спад до 2010, после сильный постоянный спад продаж."
   ]
  },
  {
   "cell_type": "code",
   "execution_count": 89,
   "id": "a0832830-7916-48a4-8840-4090bb1faa7b",
   "metadata": {
    "colab": {
     "base_uri": "https://localhost:8080/",
     "height": 472
    },
    "id": "a0832830-7916-48a4-8840-4090bb1faa7b",
    "outputId": "c16b5198-f66a-4734-c54f-2508ae03382b"
   },
   "outputs": [
    {
     "data": {
      "image/png": "[encoded data removed]",
      "text/plain": [
       "<Figure size 432x288 with 1 Axes>"
      ]
     },
     "metadata": {},
     "output_type": "display_data"
    }
   ],
   "source": [
    "PC = df.query('platform == \"PC\"').groupby('year_of_release')['total_sales'].agg('sum')\n",
    "PC.plot(title='График суммарных продаж по годам (PC)', grid=True, xlabel='Год', ylim=0, ylabel='продажи')\n",
    "plt.show()"
   ]
  },
  {
   "cell_type": "markdown",
   "id": "39eeb60f-2c5a-41ae-b175-73180c7526d4",
   "metadata": {
    "id": "39eeb60f-2c5a-41ae-b175-73180c7526d4"
   },
   "source": [
    "Выход в 1985 году не принес роста продаж вплоть до 1987 года, потом идет медленный рост в 1992 и в этом году резкий скачок продаж до 13млн, стоит заметить, что до 2006 года продажи PS постоянно растут и падают, 5 скачков, но ни один не принес больше продаж чем 1993, все меняется в 2006 году, резкий рост до 2011 года достигает 35млн копий, потом идет резкий спад, который продлиться до конца."
   ]
  },
  {
   "cell_type": "markdown",
   "id": "64e7f61c-5d2f-48fc-9da6-fa20a36cccf0",
   "metadata": {
    "id": "64e7f61c-5d2f-48fc-9da6-fa20a36cccf0"
   },
   "source": [
    "Смотрим год выпуска"
   ]
  },
  {
   "cell_type": "code",
   "execution_count": 90,
   "id": "22c5fbb7-081c-48a2-a541-d1a060689b2a",
   "metadata": {
    "colab": {
     "base_uri": "https://localhost:8080/",
     "height": 1000
    },
    "id": "22c5fbb7-081c-48a2-a541-d1a060689b2a",
    "outputId": "846d051b-8b03-4a13-cd7d-bf30b83b1428"
   },
   "outputs": [
    {
     "data": {
      "text/html": [
       "<div>\n",
       "<style scoped>\n",
       "    .dataframe tbody tr th:only-of-type {\n",
       "        vertical-align: middle;\n",
       "    }\n",
       "\n",
       "    .dataframe tbody tr th {\n",
       "        vertical-align: top;\n",
       "    }\n",
       "\n",
       "    .dataframe thead th {\n",
       "        text-align: right;\n",
       "    }\n",
       "</style>\n",
       "<table border=\"1\" class=\"dataframe\">\n",
       "  <thead>\n",
       "    <tr style=\"text-align: right;\">\n",
       "      <th></th>\n",
       "      <th>platform</th>\n",
       "      <th>year_of_release</th>\n",
       "    </tr>\n",
       "  </thead>\n",
       "  <tbody>\n",
       "    <tr>\n",
       "      <th>0</th>\n",
       "      <td>2600</td>\n",
       "      <td>1980.0</td>\n",
       "    </tr>\n",
       "    <tr>\n",
       "      <th>11</th>\n",
       "      <td>NES</td>\n",
       "      <td>1983.0</td>\n",
       "    </tr>\n",
       "    <tr>\n",
       "      <th>4</th>\n",
       "      <td>DS</td>\n",
       "      <td>1985.0</td>\n",
       "    </tr>\n",
       "    <tr>\n",
       "      <th>13</th>\n",
       "      <td>PC</td>\n",
       "      <td>1985.0</td>\n",
       "    </tr>\n",
       "    <tr>\n",
       "      <th>5</th>\n",
       "      <td>GB</td>\n",
       "      <td>1988.0</td>\n",
       "    </tr>\n",
       "    <tr>\n",
       "      <th>23</th>\n",
       "      <td>SNES</td>\n",
       "      <td>1990.0</td>\n",
       "    </tr>\n",
       "    <tr>\n",
       "      <th>8</th>\n",
       "      <td>GEN</td>\n",
       "      <td>1990.0</td>\n",
       "    </tr>\n",
       "    <tr>\n",
       "      <th>9</th>\n",
       "      <td>GG</td>\n",
       "      <td>1992.0</td>\n",
       "    </tr>\n",
       "    <tr>\n",
       "      <th>22</th>\n",
       "      <td>SCD</td>\n",
       "      <td>1993.0</td>\n",
       "    </tr>\n",
       "    <tr>\n",
       "      <th>12</th>\n",
       "      <td>NG</td>\n",
       "      <td>1993.0</td>\n",
       "    </tr>\n",
       "    <tr>\n",
       "      <th>21</th>\n",
       "      <td>SAT</td>\n",
       "      <td>1994.0</td>\n",
       "    </tr>\n",
       "    <tr>\n",
       "      <th>15</th>\n",
       "      <td>PS</td>\n",
       "      <td>1994.0</td>\n",
       "    </tr>\n",
       "    <tr>\n",
       "      <th>1</th>\n",
       "      <td>3DO</td>\n",
       "      <td>1994.0</td>\n",
       "    </tr>\n",
       "    <tr>\n",
       "      <th>24</th>\n",
       "      <td>TG16</td>\n",
       "      <td>1995.0</td>\n",
       "    </tr>\n",
       "    <tr>\n",
       "      <th>14</th>\n",
       "      <td>PCFX</td>\n",
       "      <td>1996.0</td>\n",
       "    </tr>\n",
       "    <tr>\n",
       "      <th>10</th>\n",
       "      <td>N64</td>\n",
       "      <td>1996.0</td>\n",
       "    </tr>\n",
       "    <tr>\n",
       "      <th>3</th>\n",
       "      <td>DC</td>\n",
       "      <td>1998.0</td>\n",
       "    </tr>\n",
       "    <tr>\n",
       "      <th>25</th>\n",
       "      <td>WS</td>\n",
       "      <td>1999.0</td>\n",
       "    </tr>\n",
       "    <tr>\n",
       "      <th>6</th>\n",
       "      <td>GBA</td>\n",
       "      <td>2000.0</td>\n",
       "    </tr>\n",
       "    <tr>\n",
       "      <th>29</th>\n",
       "      <td>XB</td>\n",
       "      <td>2000.0</td>\n",
       "    </tr>\n",
       "    <tr>\n",
       "      <th>16</th>\n",
       "      <td>PS2</td>\n",
       "      <td>2000.0</td>\n",
       "    </tr>\n",
       "    <tr>\n",
       "      <th>7</th>\n",
       "      <td>GC</td>\n",
       "      <td>2001.0</td>\n",
       "    </tr>\n",
       "    <tr>\n",
       "      <th>19</th>\n",
       "      <td>PSP</td>\n",
       "      <td>2004.0</td>\n",
       "    </tr>\n",
       "    <tr>\n",
       "      <th>28</th>\n",
       "      <td>X360</td>\n",
       "      <td>2005.0</td>\n",
       "    </tr>\n",
       "    <tr>\n",
       "      <th>17</th>\n",
       "      <td>PS3</td>\n",
       "      <td>2006.0</td>\n",
       "    </tr>\n",
       "    <tr>\n",
       "      <th>26</th>\n",
       "      <td>Wii</td>\n",
       "      <td>2006.0</td>\n",
       "    </tr>\n",
       "    <tr>\n",
       "      <th>2</th>\n",
       "      <td>3DS</td>\n",
       "      <td>2011.0</td>\n",
       "    </tr>\n",
       "    <tr>\n",
       "      <th>20</th>\n",
       "      <td>PSV</td>\n",
       "      <td>2011.0</td>\n",
       "    </tr>\n",
       "    <tr>\n",
       "      <th>27</th>\n",
       "      <td>WiiU</td>\n",
       "      <td>2012.0</td>\n",
       "    </tr>\n",
       "    <tr>\n",
       "      <th>18</th>\n",
       "      <td>PS4</td>\n",
       "      <td>2013.0</td>\n",
       "    </tr>\n",
       "    <tr>\n",
       "      <th>30</th>\n",
       "      <td>XOne</td>\n",
       "      <td>2013.0</td>\n",
       "    </tr>\n",
       "  </tbody>\n",
       "</table>\n",
       "</div>"
      ],
      "text/plain": [
       "   platform  year_of_release\n",
       "0      2600           1980.0\n",
       "11      NES           1983.0\n",
       "4        DS           1985.0\n",
       "13       PC           1985.0\n",
       "5        GB           1988.0\n",
       "23     SNES           1990.0\n",
       "8       GEN           1990.0\n",
       "9        GG           1992.0\n",
       "22      SCD           1993.0\n",
       "12       NG           1993.0\n",
       "21      SAT           1994.0\n",
       "15       PS           1994.0\n",
       "1       3DO           1994.0\n",
       "24     TG16           1995.0\n",
       "14     PCFX           1996.0\n",
       "10      N64           1996.0\n",
       "3        DC           1998.0\n",
       "25       WS           1999.0\n",
       "6       GBA           2000.0\n",
       "29       XB           2000.0\n",
       "16      PS2           2000.0\n",
       "7        GC           2001.0\n",
       "19      PSP           2004.0\n",
       "28     X360           2005.0\n",
       "17      PS3           2006.0\n",
       "26      Wii           2006.0\n",
       "2       3DS           2011.0\n",
       "20      PSV           2011.0\n",
       "27     WiiU           2012.0\n",
       "18      PS4           2013.0\n",
       "30     XOne           2013.0"
      ]
     },
     "execution_count": 90,
     "metadata": {},
     "output_type": "execute_result"
    }
   ],
   "source": [
    "y_r = df.groupby('platform').agg(year_of_release=('year_of_release', 'min')).reset_index().sort_values(by=['year_of_release'])\n",
    "y_r"
   ]
  },
  {
   "cell_type": "markdown",
   "id": "6dc9ec82-1764-464c-809c-7c02b4d2b22e",
   "metadata": {
    "id": "6dc9ec82-1764-464c-809c-7c02b4d2b22e"
   },
   "source": [
    "Cтоит заметить что в начале формирования индустрия происходит большое количество выпускаемых платформ, но ближе к 2000 году вырабатывается характерный срок появлений платформ и их срок популярности - около 5 лет"
   ]
  },
  {
   "cell_type": "code",
   "execution_count": 91,
   "id": "5c62e27f",
   "metadata": {
    "colab": {
     "base_uri": "https://localhost:8080/"
    },
    "id": "5c62e27f",
    "outputId": "f2385acf-22a7-4b45-f50b-5891a627c45a"
   },
   "outputs": [
    {
     "data": {
      "text/plain": [
       "7.0"
      ]
     },
     "execution_count": 91,
     "metadata": {},
     "output_type": "execute_result"
    }
   ],
   "source": [
    "\n",
    "temp = df.copy()\n",
    "time_life = temp.pivot_table(index='platform', values='year_of_release', aggfunc=['min', 'max']).reset_index()\n",
    "time_life['life'] = time_life['max'] - time_life['min'] + 1 # в срок жизни платформы, должны входить границы диапазона,\n",
    "                                                            # поэтому +1\n",
    "time_life['life'].median()"
   ]
  },
  {
   "cell_type": "code",
   "execution_count": 92,
   "id": "07773140-bcf3-49d1-b291-55755c73c7c7",
   "metadata": {
    "colab": {
     "base_uri": "https://localhost:8080/",
     "height": 363
    },
    "id": "07773140-bcf3-49d1-b291-55755c73c7c7",
    "outputId": "ec4b9076-3e83-4a9e-f94c-63fdd1b131cc",
    "scrolled": true
   },
   "outputs": [
    {
     "data": {
      "text/html": [
       "<div>\n",
       "<style scoped>\n",
       "    .dataframe tbody tr th:only-of-type {\n",
       "        vertical-align: middle;\n",
       "    }\n",
       "\n",
       "    .dataframe tbody tr th {\n",
       "        vertical-align: top;\n",
       "    }\n",
       "\n",
       "    .dataframe thead th {\n",
       "        text-align: right;\n",
       "    }\n",
       "</style>\n",
       "<table border=\"1\" class=\"dataframe\">\n",
       "  <thead>\n",
       "    <tr style=\"text-align: right;\">\n",
       "      <th></th>\n",
       "      <th>platform</th>\n",
       "      <th>total_revenue</th>\n",
       "    </tr>\n",
       "  </thead>\n",
       "  <tbody>\n",
       "    <tr>\n",
       "      <th>4</th>\n",
       "      <td>PS4</td>\n",
       "      <td>314.14</td>\n",
       "    </tr>\n",
       "    <tr>\n",
       "      <th>3</th>\n",
       "      <td>PS3</td>\n",
       "      <td>181.43</td>\n",
       "    </tr>\n",
       "    <tr>\n",
       "      <th>10</th>\n",
       "      <td>XOne</td>\n",
       "      <td>159.32</td>\n",
       "    </tr>\n",
       "    <tr>\n",
       "      <th>0</th>\n",
       "      <td>3DS</td>\n",
       "      <td>143.25</td>\n",
       "    </tr>\n",
       "    <tr>\n",
       "      <th>9</th>\n",
       "      <td>X360</td>\n",
       "      <td>136.80</td>\n",
       "    </tr>\n",
       "    <tr>\n",
       "      <th>8</th>\n",
       "      <td>WiiU</td>\n",
       "      <td>64.63</td>\n",
       "    </tr>\n",
       "    <tr>\n",
       "      <th>2</th>\n",
       "      <td>PC</td>\n",
       "      <td>39.43</td>\n",
       "    </tr>\n",
       "    <tr>\n",
       "      <th>6</th>\n",
       "      <td>PSV</td>\n",
       "      <td>32.99</td>\n",
       "    </tr>\n",
       "    <tr>\n",
       "      <th>7</th>\n",
       "      <td>Wii</td>\n",
       "      <td>13.66</td>\n",
       "    </tr>\n",
       "    <tr>\n",
       "      <th>5</th>\n",
       "      <td>PSP</td>\n",
       "      <td>3.50</td>\n",
       "    </tr>\n",
       "  </tbody>\n",
       "</table>\n",
       "</div>"
      ],
      "text/plain": [
       "   platform  total_revenue\n",
       "4       PS4         314.14\n",
       "3       PS3         181.43\n",
       "10     XOne         159.32\n",
       "0       3DS         143.25\n",
       "9      X360         136.80\n",
       "8      WiiU          64.63\n",
       "2        PC          39.43\n",
       "6       PSV          32.99\n",
       "7       Wii          13.66\n",
       "5       PSP           3.50"
      ]
     },
     "metadata": {},
     "output_type": "display_data"
    }
   ],
   "source": [
    "display(t.groupby('platform').agg(total_revenue=('total_sales', 'sum')).reset_index().sort_values(by=['total_revenue'], ascending=False).head(10))\n"
   ]
  },
  {
   "cell_type": "markdown",
   "id": "6c8cccd1-78a5-4f08-a3fe-efdf795225d5",
   "metadata": {
    "id": "6c8cccd1-78a5-4f08-a3fe-efdf795225d5"
   },
   "source": [
    "Стоит обратить внимание на платфоры PlayStation, Xbox и Wii."
   ]
  },
  {
   "cell_type": "markdown",
   "id": "4cb9a79d-86c7-4f23-831b-7476e57c2f07",
   "metadata": {
    "id": "4cb9a79d-86c7-4f23-831b-7476e57c2f07"
   },
   "source": [
    "#### Строим boxplot для разных платформ"
   ]
  },
  {
   "cell_type": "markdown",
   "id": "aspg3fYyLHKX",
   "metadata": {
    "id": "aspg3fYyLHKX"
   },
   "source": [
    "Комментарий студента: реализовал так. Подскажи как у тебя реализовано? Например, цвет он у тебя есть, а я так и не смог сделать."
   ]
  },
  {
   "cell_type": "code",
   "execution_count": 93,
   "id": "jfXhcsj-ixE8",
   "metadata": {
    "colab": {
     "base_uri": "https://localhost:8080/",
     "height": 913
    },
    "id": "jfXhcsj-ixE8",
    "outputId": "e3952b38-b5e2-477e-fa9d-b19542faec1f"
   },
   "outputs": [
    {
     "data": {
      "image/png": "[encoded data removed]",
      "text/plain": [
       "<Figure size 432x288 with 1 Axes>"
      ]
     },
     "metadata": {},
     "output_type": "display_data"
    },
    {
     "data": {
      "image/png": "[encoded data removed]",
      "text/plain": [
       "<Figure size 432x288 with 1 Axes>"
      ]
     },
     "metadata": {},
     "output_type": "display_data"
    }
   ],
   "source": [
    "axes = plt.subplots(1,1)\n",
    "sns.boxplot(x = 'platform', y = 'total_sales', data = t)\n",
    "sns.set(style=\"whitegrid\")\n",
    "plt.ylim(0, 3)\n",
    "plt.xlabel('Платформы')\n",
    "plt.ylabel('Общие продажи')\n",
    "plt.title('Продажи по перспективным платформ с 2013 - 2016 года ')\n",
    "plt.show()\n",
    "sns.boxplot(x = 'platform', y = 'total_sales', data = t);\n"
   ]
  },
  {
   "cell_type": "markdown",
   "id": "WZFGR7c4OIvq",
   "metadata": {
    "id": "WZFGR7c4OIvq"
   },
   "source": [
    "У PS3 медиана продаж равна 150т копий, а основные значения разбросаны между 40т и 510т проданных копий. Есть супер хит с 21млн продаж, а суммарное количество продаж равно 345млн. При этом у X360 медиана равна 265т а основные значения находятся разбросаны между 80т 795т копий. Есть супер хит 16 млн продаж, и суммарное количество продаж за выбранный период равно 186млн.  \n",
    "\n",
    "Разберем PS4 и XOne. У PS4 медиана равна 200т, а основные значения разбросаны между 60т и 730т. Главный хит продался 14.63млн копий, а общее количество продаж равно 392млн. У XOne медиана равна 220т,  а основные значения разбросана между 60т и 685т главный хит принес 7.39 млн копий, а общее количество продаж равно 247млн.\n",
    "\n",
    "Разберем еще WiiU. У нее медиана равна 200т, а основные значения разбросана между 60т и 595т, главный хит принес 7.09 млн продаж, а общее количество продаж равно 115млн."
   ]
  },
  {
   "cell_type": "markdown",
   "id": "aa3dac9a-a4bc-4dcc-aa6b-1cead54d15c0",
   "metadata": {
    "id": "aa3dac9a-a4bc-4dcc-aa6b-1cead54d15c0"
   },
   "source": [
    "#### Строим диаграмму рассеяния"
   ]
  },
  {
   "cell_type": "code",
   "execution_count": 94,
   "id": "d6aa1ace-6db6-4743-a82c-07072bd49d00",
   "metadata": {
    "colab": {
     "base_uri": "https://localhost:8080/",
     "height": 1000
    },
    "id": "d6aa1ace-6db6-4743-a82c-07072bd49d00",
    "outputId": "f9570468-f673-44f6-afb1-296158c2625b"
   },
   "outputs": [
    {
     "name": "stdout",
     "output_type": "stream",
     "text": [
      "Платформа: PS3  0.3342853393371919\n"
     ]
    },
    {
     "data": {
      "image/png": "[encoded data removed]",
      "text/plain": [
       "<Figure size 432x288 with 1 Axes>"
      ]
     },
     "metadata": {},
     "output_type": "display_data"
    },
    {
     "name": "stdout",
     "output_type": "stream",
     "text": [
      "Платформа: X360  0.3503445460228664\n"
     ]
    },
    {
     "data": {
      "image/png": "[encoded data removed]",
      "text/plain": [
       "<Figure size 432x288 with 1 Axes>"
      ]
     },
     "metadata": {},
     "output_type": "display_data"
    },
    {
     "name": "stdout",
     "output_type": "stream",
     "text": [
      "Платформа: PS4  0.40656790206178095\n"
     ]
    },
    {
     "data": {
      "image/png": "[encoded data removed]",
      "text/plain": [
       "<Figure size 432x288 with 1 Axes>"
      ]
     },
     "metadata": {},
     "output_type": "display_data"
    },
    {
     "name": "stdout",
     "output_type": "stream",
     "text": [
      "Платформа: 3DS  0.3570566142288103\n"
     ]
    },
    {
     "data": {
      "image/png": "[encoded data removed]",
      "text/plain": [
       "<Figure size 432x288 with 1 Axes>"
      ]
     },
     "metadata": {},
     "output_type": "display_data"
    },
    {
     "name": "stdout",
     "output_type": "stream",
     "text": [
      "Платформа: XOne  0.4169983280084017\n"
     ]
    },
    {
     "data": {
      "image/png": "[encoded data removed]",
      "text/plain": [
       "<Figure size 432x288 with 1 Axes>"
      ]
     },
     "metadata": {},
     "output_type": "display_data"
    },
    {
     "name": "stdout",
     "output_type": "stream",
     "text": [
      "Платформа: PSV  0.2547423503068656\n"
     ]
    },
    {
     "data": {
      "image/png": "[encoded data removed]",
      "text/plain": [
       "<Figure size 432x288 with 1 Axes>"
      ]
     },
     "metadata": {},
     "output_type": "display_data"
    }
   ],
   "source": [
    "list_platfor = ['PS3', 'X360', 'PS4', '3DS', 'XOne','PSV']\n",
    "for i in list_platfor:\n",
    "  t.loc[t['platform'] == i].plot.scatter (x = 'total_sales', y = 'critic_score', title='Зависимость между продажами и оценкой критиков',  xlabel='продажи',  ylabel='оценка критиков',  color = 'b')\n",
    "  cor_cor = t.loc[t['platform'] == i]['critic_score'].corr(t.loc[t['platform'] == i]['total_sales'])\n",
    "  print(f\"Платформа: {i}  {cor_cor}\")\n",
    "  plt.show()"
   ]
  },
  {
   "cell_type": "code",
   "execution_count": 95,
   "id": "O6IrnhITUUCK",
   "metadata": {
    "colab": {
     "base_uri": "https://localhost:8080/",
     "height": 1000
    },
    "id": "O6IrnhITUUCK",
    "outputId": "c6a54aad-ab8c-4e8d-8883-1696599fc762"
   },
   "outputs": [
    {
     "name": "stdout",
     "output_type": "stream",
     "text": [
      "Платформа: PS3  0.0023944027357566925\n",
      "Платформа: X360  -0.011742185147181342\n",
      "Платформа: PS4  -0.031957110204556376\n",
      "Платформа: 3DS  0.24150411773563016\n",
      "Платформа: XOne  -0.06892505328279414\n",
      "Платформа: PSV  0.0009424723319108626\n"
     ]
    },
    {
     "data": {
      "image/png": "[encoded data removed]",
      "text/plain": [
       "<Figure size 432x288 with 1 Axes>"
      ]
     },
     "metadata": {},
     "output_type": "display_data"
    },
    {
     "data": {
      "image/png": "[encoded data removed]",
      "text/plain": [
       "<Figure size 432x288 with 1 Axes>"
      ]
     },
     "metadata": {},
     "output_type": "display_data"
    },
    {
     "data": {
      "image/png": "[encoded data removed]",
      "text/plain": [
       "<Figure size 432x288 with 1 Axes>"
      ]
     },
     "metadata": {},
     "output_type": "display_data"
    },
    {
     "data": {
      "image/png": "[encoded data removed]",
      "text/plain": [
       "<Figure size 432x288 with 1 Axes>"
      ]
     },
     "metadata": {},
     "output_type": "display_data"
    },
    {
     "data": {
      "image/png": "[encoded data removed]",
      "text/plain": [
       "<Figure size 432x288 with 1 Axes>"
      ]
     },
     "metadata": {},
     "output_type": "display_data"
    },
    {
     "data": {
      "image/png": "[encoded data removed]",
      "text/plain": [
       "<Figure size 432x288 with 1 Axes>"
      ]
     },
     "metadata": {},
     "output_type": "display_data"
    }
   ],
   "source": [
    "list_platfor = ['PS3', 'X360', 'PS4', '3DS', 'XOne','PSV']\n",
    "for i in list_platfor:\n",
    "  t.loc[t['platform'] == i].plot.scatter (x = 'total_sales', y = 'user_score', title='Зависимость между продажами и оценкой юзеров',  xlabel='продажи',  ylabel='оценка критиков',  color = 'b')\n",
    "  cor_cor = t.loc[t['platform'] == i]['user_score'].corr(t.loc[t['platform'] == i]['total_sales'])\n",
    "  print(f\"Платформа: {i}  {cor_cor}\")\n",
    "  plt.show"
   ]
  },
  {
   "cell_type": "markdown",
   "id": "rXSoAJlAU2AT",
   "metadata": {
    "id": "rXSoAJlAU2AT"
   },
   "source": [
    "Вывод: Зависимости между продажами и оценкой критиков или пользователей  нет."
   ]
  },
  {
   "cell_type": "markdown",
   "id": "0420c492-c8b8-4eb6-abf1-5aa9ffc8fa94",
   "metadata": {
    "id": "0420c492-c8b8-4eb6-abf1-5aa9ffc8fa94"
   },
   "source": [
    "Смотрим на общее распределение игр по жанрам"
   ]
  },
  {
   "cell_type": "code",
   "execution_count": 97,
   "id": "17cc3d7c-7e01-4b30-9c56-b1ba2fc48730",
   "metadata": {
    "colab": {
     "base_uri": "https://localhost:8080/",
     "height": 426
    },
    "id": "17cc3d7c-7e01-4b30-9c56-b1ba2fc48730",
    "outputId": "38197a5f-5a80-46fd-e090-203615c6a896"
   },
   "outputs": [
    {
     "data": {
      "text/html": [
       "<div>\n",
       "<style scoped>\n",
       "    .dataframe tbody tr th:only-of-type {\n",
       "        vertical-align: middle;\n",
       "    }\n",
       "\n",
       "    .dataframe tbody tr th {\n",
       "        vertical-align: top;\n",
       "    }\n",
       "\n",
       "    .dataframe thead th {\n",
       "        text-align: right;\n",
       "    }\n",
       "</style>\n",
       "<table border=\"1\" class=\"dataframe\">\n",
       "  <thead>\n",
       "    <tr style=\"text-align: right;\">\n",
       "      <th></th>\n",
       "      <th>genre</th>\n",
       "      <th>total_sales</th>\n",
       "    </tr>\n",
       "  </thead>\n",
       "  <tbody>\n",
       "    <tr>\n",
       "      <th>8</th>\n",
       "      <td>Shooter</td>\n",
       "      <td>0.450</td>\n",
       "    </tr>\n",
       "    <tr>\n",
       "      <th>10</th>\n",
       "      <td>Sports</td>\n",
       "      <td>0.240</td>\n",
       "    </tr>\n",
       "    <tr>\n",
       "      <th>4</th>\n",
       "      <td>Platform</td>\n",
       "      <td>0.225</td>\n",
       "    </tr>\n",
       "    <tr>\n",
       "      <th>7</th>\n",
       "      <td>Role-Playing</td>\n",
       "      <td>0.125</td>\n",
       "    </tr>\n",
       "    <tr>\n",
       "      <th>2</th>\n",
       "      <td>Fighting</td>\n",
       "      <td>0.125</td>\n",
       "    </tr>\n",
       "    <tr>\n",
       "      <th>6</th>\n",
       "      <td>Racing</td>\n",
       "      <td>0.120</td>\n",
       "    </tr>\n",
       "    <tr>\n",
       "      <th>0</th>\n",
       "      <td>Action</td>\n",
       "      <td>0.110</td>\n",
       "    </tr>\n",
       "    <tr>\n",
       "      <th>9</th>\n",
       "      <td>Simulation</td>\n",
       "      <td>0.100</td>\n",
       "    </tr>\n",
       "    <tr>\n",
       "      <th>3</th>\n",
       "      <td>Misc</td>\n",
       "      <td>0.100</td>\n",
       "    </tr>\n",
       "    <tr>\n",
       "      <th>11</th>\n",
       "      <td>Strategy</td>\n",
       "      <td>0.080</td>\n",
       "    </tr>\n",
       "    <tr>\n",
       "      <th>5</th>\n",
       "      <td>Puzzle</td>\n",
       "      <td>0.060</td>\n",
       "    </tr>\n",
       "    <tr>\n",
       "      <th>1</th>\n",
       "      <td>Adventure</td>\n",
       "      <td>0.030</td>\n",
       "    </tr>\n",
       "  </tbody>\n",
       "</table>\n",
       "</div>"
      ],
      "text/plain": [
       "           genre  total_sales\n",
       "8        Shooter        0.450\n",
       "10        Sports        0.240\n",
       "4       Platform        0.225\n",
       "7   Role-Playing        0.125\n",
       "2       Fighting        0.125\n",
       "6         Racing        0.120\n",
       "0         Action        0.110\n",
       "9     Simulation        0.100\n",
       "3           Misc        0.100\n",
       "11      Strategy        0.080\n",
       "5         Puzzle        0.060\n",
       "1      Adventure        0.030"
      ]
     },
     "metadata": {},
     "output_type": "display_data"
    }
   ],
   "source": [
    "display(t.groupby('genre').agg(total_sales=('total_sales', 'median')).reset_index().sort_values('total_sales', ascending=False))\n"
   ]
  },
  {
   "cell_type": "markdown",
   "id": "6db6153f-2f25-4a8b-b77d-19db84e82d30",
   "metadata": {
    "id": "6db6153f-2f25-4a8b-b77d-19db84e82d30"
   },
   "source": [
    "Топ 5 жанров: Shooter, Sports, Platform, Role-Playing, Fighting.\n",
    "Топ 5 жанров(непопулярных): Adventure, Puzzle, Strategy, Misc, Simulation.\n",
    "Стоит заметить что осталось два жанра, которые не так сильно востребованы как топ 5 но и не такие непопулрные как топ 5 (непопулярных), а именно: Racing и Action."
   ]
  },
  {
   "cell_type": "markdown",
   "id": "6ea503d3-7474-42f4-a0c9-384ee88d1994",
   "metadata": {
    "id": "6ea503d3-7474-42f4-a0c9-384ee88d1994"
   },
   "source": [
    "##  Составляем портрет пользователя каждого региона"
   ]
  },
  {
   "cell_type": "markdown",
   "id": "a27e70b4-c287-40cc-aa47-60558d9332c6",
   "metadata": {
    "id": "a27e70b4-c287-40cc-aa47-60558d9332c6"
   },
   "source": [
    "#### Топ 5 платформ по продажам"
   ]
  },
  {
   "cell_type": "markdown",
   "id": "Rm2cw4FJikY1",
   "metadata": {
    "id": "Rm2cw4FJikY1"
   },
   "source": [
    "Комментарий студента: Подскажи, пожалуйста, как можно реализовать через pie с долей 'Другие'. Пробовал разное, но так и не вышло."
   ]
  },
  {
   "cell_type": "markdown",
   "id": "6c04bb00-b028-4154-97d3-09aee329eb4c",
   "metadata": {
    "id": "6c04bb00-b028-4154-97d3-09aee329eb4c"
   },
   "source": [
    "Смотрим на продажи в Северной Америке"
   ]
  },
  {
   "cell_type": "code",
   "execution_count": 98,
   "id": "lyQbQABsNg_n",
   "metadata": {
    "colab": {
     "base_uri": "https://localhost:8080/",
     "height": 394
    },
    "id": "lyQbQABsNg_n",
    "outputId": "aff812ee-ad45-460f-db85-ee459eee7b1f"
   },
   "outputs": [
    {
     "data": {
      "text/html": [
       "<div>\n",
       "<style scoped>\n",
       "    .dataframe tbody tr th:only-of-type {\n",
       "        vertical-align: middle;\n",
       "    }\n",
       "\n",
       "    .dataframe tbody tr th {\n",
       "        vertical-align: top;\n",
       "    }\n",
       "\n",
       "    .dataframe thead th {\n",
       "        text-align: right;\n",
       "    }\n",
       "</style>\n",
       "<table border=\"1\" class=\"dataframe\">\n",
       "  <thead>\n",
       "    <tr style=\"text-align: right;\">\n",
       "      <th></th>\n",
       "      <th>platform</th>\n",
       "      <th>na_sales</th>\n",
       "      <th>percent</th>\n",
       "    </tr>\n",
       "  </thead>\n",
       "  <tbody>\n",
       "    <tr>\n",
       "      <th>0</th>\n",
       "      <td>PS4</td>\n",
       "      <td>108.74</td>\n",
       "      <td>24.842933</td>\n",
       "    </tr>\n",
       "    <tr>\n",
       "      <th>1</th>\n",
       "      <td>XOne</td>\n",
       "      <td>93.12</td>\n",
       "      <td>21.274360</td>\n",
       "    </tr>\n",
       "    <tr>\n",
       "      <th>2</th>\n",
       "      <td>X360</td>\n",
       "      <td>81.66</td>\n",
       "      <td>18.656188</td>\n",
       "    </tr>\n",
       "    <tr>\n",
       "      <th>3</th>\n",
       "      <td>PS3</td>\n",
       "      <td>63.50</td>\n",
       "      <td>14.507322</td>\n",
       "    </tr>\n",
       "    <tr>\n",
       "      <th>4</th>\n",
       "      <td>3DS</td>\n",
       "      <td>38.20</td>\n",
       "      <td>8.727239</td>\n",
       "    </tr>\n",
       "    <tr>\n",
       "      <th>5</th>\n",
       "      <td>WiiU</td>\n",
       "      <td>29.21</td>\n",
       "      <td>6.673368</td>\n",
       "    </tr>\n",
       "    <tr>\n",
       "      <th>6</th>\n",
       "      <td>PC</td>\n",
       "      <td>11.11</td>\n",
       "      <td>2.538210</td>\n",
       "    </tr>\n",
       "    <tr>\n",
       "      <th>7</th>\n",
       "      <td>Wii</td>\n",
       "      <td>6.56</td>\n",
       "      <td>1.498709</td>\n",
       "    </tr>\n",
       "    <tr>\n",
       "      <th>8</th>\n",
       "      <td>PSV</td>\n",
       "      <td>5.04</td>\n",
       "      <td>1.151447</td>\n",
       "    </tr>\n",
       "    <tr>\n",
       "      <th>9</th>\n",
       "      <td>DS</td>\n",
       "      <td>0.57</td>\n",
       "      <td>0.130223</td>\n",
       "    </tr>\n",
       "    <tr>\n",
       "      <th>10</th>\n",
       "      <td>PSP</td>\n",
       "      <td>0.00</td>\n",
       "      <td>0.000000</td>\n",
       "    </tr>\n",
       "  </tbody>\n",
       "</table>\n",
       "</div>"
      ],
      "text/plain": [
       "   platform  na_sales    percent\n",
       "0       PS4    108.74  24.842933\n",
       "1      XOne     93.12  21.274360\n",
       "2      X360     81.66  18.656188\n",
       "3       PS3     63.50  14.507322\n",
       "4       3DS     38.20   8.727239\n",
       "5      WiiU     29.21   6.673368\n",
       "6        PC     11.11   2.538210\n",
       "7       Wii      6.56   1.498709\n",
       "8       PSV      5.04   1.151447\n",
       "9        DS      0.57   0.130223\n",
       "10      PSP      0.00   0.000000"
      ]
     },
     "execution_count": 98,
     "metadata": {},
     "output_type": "execute_result"
    }
   ],
   "source": [
    "n = t.groupby('platform')['na_sales'].agg('sum').sort_values(ascending=False).reset_index()\n",
    "n['percent'] = n['na_sales'] /  n['na_sales'].sum() * 100\n",
    "n"
   ]
  },
  {
   "cell_type": "code",
   "execution_count": 99,
   "id": "B-APgtP0aSmF",
   "metadata": {
    "id": "B-APgtP0aSmF"
   },
   "outputs": [],
   "source": [
    "#n[5:].sum()"
   ]
  },
  {
   "cell_type": "markdown",
   "id": "dcd8d13d-b022-4bd4-9712-82143dcbc4af",
   "metadata": {
    "id": "dcd8d13d-b022-4bd4-9712-82143dcbc4af"
   },
   "source": [
    "PS4 лидирует у него 24.8 процента рынка у XOne - 21.27, у  X360 -  18.6, у PS3 - 14.5, у 3DS - 8.7, а у  WiiU - 6.67.  Остальным 5 платформам суммарно принадлежит 11.99."
   ]
  },
  {
   "cell_type": "markdown",
   "id": "e83a3d39-7fb4-4216-a932-e6bd6e47dc60",
   "metadata": {
    "id": "e83a3d39-7fb4-4216-a932-e6bd6e47dc60"
   },
   "source": [
    "Смотрим на продажи в Европе"
   ]
  },
  {
   "cell_type": "code",
   "execution_count": 100,
   "id": "a8cee1e7-ebd8-482a-a0d1-933021ab4888",
   "metadata": {
    "colab": {
     "base_uri": "https://localhost:8080/",
     "height": 394
    },
    "id": "a8cee1e7-ebd8-482a-a0d1-933021ab4888",
    "outputId": "3008bd6e-549f-4dba-827e-dcac78695217"
   },
   "outputs": [
    {
     "data": {
      "text/html": [
       "<div>\n",
       "<style scoped>\n",
       "    .dataframe tbody tr th:only-of-type {\n",
       "        vertical-align: middle;\n",
       "    }\n",
       "\n",
       "    .dataframe tbody tr th {\n",
       "        vertical-align: top;\n",
       "    }\n",
       "\n",
       "    .dataframe thead th {\n",
       "        text-align: right;\n",
       "    }\n",
       "</style>\n",
       "<table border=\"1\" class=\"dataframe\">\n",
       "  <thead>\n",
       "    <tr style=\"text-align: right;\">\n",
       "      <th></th>\n",
       "      <th>platform</th>\n",
       "      <th>eu_sales</th>\n",
       "      <th>percent</th>\n",
       "    </tr>\n",
       "  </thead>\n",
       "  <tbody>\n",
       "    <tr>\n",
       "      <th>0</th>\n",
       "      <td>PS4</td>\n",
       "      <td>141.09</td>\n",
       "      <td>35.971241</td>\n",
       "    </tr>\n",
       "    <tr>\n",
       "      <th>1</th>\n",
       "      <td>PS3</td>\n",
       "      <td>67.81</td>\n",
       "      <td>17.288326</td>\n",
       "    </tr>\n",
       "    <tr>\n",
       "      <th>2</th>\n",
       "      <td>XOne</td>\n",
       "      <td>51.59</td>\n",
       "      <td>13.152997</td>\n",
       "    </tr>\n",
       "    <tr>\n",
       "      <th>3</th>\n",
       "      <td>X360</td>\n",
       "      <td>42.52</td>\n",
       "      <td>10.840578</td>\n",
       "    </tr>\n",
       "    <tr>\n",
       "      <th>4</th>\n",
       "      <td>3DS</td>\n",
       "      <td>30.96</td>\n",
       "      <td>7.893328</td>\n",
       "    </tr>\n",
       "    <tr>\n",
       "      <th>5</th>\n",
       "      <td>PC</td>\n",
       "      <td>25.36</td>\n",
       "      <td>6.465594</td>\n",
       "    </tr>\n",
       "    <tr>\n",
       "      <th>6</th>\n",
       "      <td>WiiU</td>\n",
       "      <td>19.85</td>\n",
       "      <td>5.060806</td>\n",
       "    </tr>\n",
       "    <tr>\n",
       "      <th>7</th>\n",
       "      <td>PSV</td>\n",
       "      <td>6.10</td>\n",
       "      <td>1.555210</td>\n",
       "    </tr>\n",
       "    <tr>\n",
       "      <th>8</th>\n",
       "      <td>Wii</td>\n",
       "      <td>5.93</td>\n",
       "      <td>1.511868</td>\n",
       "    </tr>\n",
       "    <tr>\n",
       "      <th>9</th>\n",
       "      <td>DS</td>\n",
       "      <td>0.85</td>\n",
       "      <td>0.216710</td>\n",
       "    </tr>\n",
       "    <tr>\n",
       "      <th>10</th>\n",
       "      <td>PSP</td>\n",
       "      <td>0.17</td>\n",
       "      <td>0.043342</td>\n",
       "    </tr>\n",
       "  </tbody>\n",
       "</table>\n",
       "</div>"
      ],
      "text/plain": [
       "   platform  eu_sales    percent\n",
       "0       PS4    141.09  35.971241\n",
       "1       PS3     67.81  17.288326\n",
       "2      XOne     51.59  13.152997\n",
       "3      X360     42.52  10.840578\n",
       "4       3DS     30.96   7.893328\n",
       "5        PC     25.36   6.465594\n",
       "6      WiiU     19.85   5.060806\n",
       "7       PSV      6.10   1.555210\n",
       "8       Wii      5.93   1.511868\n",
       "9        DS      0.85   0.216710\n",
       "10      PSP      0.17   0.043342"
      ]
     },
     "execution_count": 100,
     "metadata": {},
     "output_type": "execute_result"
    }
   ],
   "source": [
    "eu = t.groupby('platform')['eu_sales'].agg('sum').sort_values(ascending=False).reset_index()\n",
    "eu['percent'] = eu['eu_sales'] /  eu['eu_sales'].sum() * 100\n",
    "eu"
   ]
  },
  {
   "cell_type": "code",
   "execution_count": 101,
   "id": "vClmc5n0cBXO",
   "metadata": {
    "id": "vClmc5n0cBXO"
   },
   "outputs": [],
   "source": [
    "#eu[5:].sum()"
   ]
  },
  {
   "cell_type": "markdown",
   "id": "ae95e1b3-705a-4ef8-b4ad-77e61f4a3350",
   "metadata": {
    "id": "ae95e1b3-705a-4ef8-b4ad-77e61f4a3350"
   },
   "source": [
    "В Европе 35.97 процентов продаж принадлежат PS4 и  PS3 - 17.28. XOne - 13.15, X360 - 10.840578. 3DS - 7.89. PC - 6.46. Остальным 5 платформам суммарно принадлежит  14.85."
   ]
  },
  {
   "cell_type": "markdown",
   "id": "885ab986-4053-449b-85f6-9c2f948f13be",
   "metadata": {
    "id": "885ab986-4053-449b-85f6-9c2f948f13be"
   },
   "source": [
    "Смотрим на продажи в Японии"
   ]
  },
  {
   "cell_type": "code",
   "execution_count": 102,
   "id": "1c700657-e2b9-4f9d-b6be-7e080d33dc90",
   "metadata": {
    "colab": {
     "base_uri": "https://localhost:8080/",
     "height": 394
    },
    "id": "1c700657-e2b9-4f9d-b6be-7e080d33dc90",
    "outputId": "1c436a0c-41e2-4732-b9f6-b3b89696b6c1"
   },
   "outputs": [
    {
     "data": {
      "text/html": [
       "<div>\n",
       "<style scoped>\n",
       "    .dataframe tbody tr th:only-of-type {\n",
       "        vertical-align: middle;\n",
       "    }\n",
       "\n",
       "    .dataframe tbody tr th {\n",
       "        vertical-align: top;\n",
       "    }\n",
       "\n",
       "    .dataframe thead th {\n",
       "        text-align: right;\n",
       "    }\n",
       "</style>\n",
       "<table border=\"1\" class=\"dataframe\">\n",
       "  <thead>\n",
       "    <tr style=\"text-align: right;\">\n",
       "      <th></th>\n",
       "      <th>platform</th>\n",
       "      <th>jp_sales</th>\n",
       "      <th>percent</th>\n",
       "    </tr>\n",
       "  </thead>\n",
       "  <tbody>\n",
       "    <tr>\n",
       "      <th>0</th>\n",
       "      <td>3DS</td>\n",
       "      <td>67.81</td>\n",
       "      <td>48.167353</td>\n",
       "    </tr>\n",
       "    <tr>\n",
       "      <th>1</th>\n",
       "      <td>PS3</td>\n",
       "      <td>23.35</td>\n",
       "      <td>16.586163</td>\n",
       "    </tr>\n",
       "    <tr>\n",
       "      <th>2</th>\n",
       "      <td>PSV</td>\n",
       "      <td>18.59</td>\n",
       "      <td>13.205001</td>\n",
       "    </tr>\n",
       "    <tr>\n",
       "      <th>3</th>\n",
       "      <td>PS4</td>\n",
       "      <td>15.96</td>\n",
       "      <td>11.336838</td>\n",
       "    </tr>\n",
       "    <tr>\n",
       "      <th>4</th>\n",
       "      <td>WiiU</td>\n",
       "      <td>10.88</td>\n",
       "      <td>7.728371</td>\n",
       "    </tr>\n",
       "    <tr>\n",
       "      <th>5</th>\n",
       "      <td>PSP</td>\n",
       "      <td>3.29</td>\n",
       "      <td>2.336980</td>\n",
       "    </tr>\n",
       "    <tr>\n",
       "      <th>6</th>\n",
       "      <td>X360</td>\n",
       "      <td>0.51</td>\n",
       "      <td>0.362267</td>\n",
       "    </tr>\n",
       "    <tr>\n",
       "      <th>7</th>\n",
       "      <td>XOne</td>\n",
       "      <td>0.34</td>\n",
       "      <td>0.241512</td>\n",
       "    </tr>\n",
       "    <tr>\n",
       "      <th>8</th>\n",
       "      <td>Wii</td>\n",
       "      <td>0.05</td>\n",
       "      <td>0.035516</td>\n",
       "    </tr>\n",
       "    <tr>\n",
       "      <th>9</th>\n",
       "      <td>DS</td>\n",
       "      <td>0.00</td>\n",
       "      <td>0.000000</td>\n",
       "    </tr>\n",
       "    <tr>\n",
       "      <th>10</th>\n",
       "      <td>PC</td>\n",
       "      <td>0.00</td>\n",
       "      <td>0.000000</td>\n",
       "    </tr>\n",
       "  </tbody>\n",
       "</table>\n",
       "</div>"
      ],
      "text/plain": [
       "   platform  jp_sales    percent\n",
       "0       3DS     67.81  48.167353\n",
       "1       PS3     23.35  16.586163\n",
       "2       PSV     18.59  13.205001\n",
       "3       PS4     15.96  11.336838\n",
       "4      WiiU     10.88   7.728371\n",
       "5       PSP      3.29   2.336980\n",
       "6      X360      0.51   0.362267\n",
       "7      XOne      0.34   0.241512\n",
       "8       Wii      0.05   0.035516\n",
       "9        DS      0.00   0.000000\n",
       "10       PC      0.00   0.000000"
      ]
     },
     "execution_count": 102,
     "metadata": {},
     "output_type": "execute_result"
    }
   ],
   "source": [
    "jp = t.groupby('platform')['jp_sales'].agg('sum').sort_values(ascending=False).reset_index()\n",
    "jp['percent'] = jp['jp_sales'] /  jp['jp_sales'].sum() * 100\n",
    "jp"
   ]
  },
  {
   "cell_type": "code",
   "execution_count": 103,
   "id": "CVocpnFadqsT",
   "metadata": {
    "id": "CVocpnFadqsT"
   },
   "outputs": [],
   "source": [
    "#jp[5:].sum()"
   ]
  },
  {
   "cell_type": "markdown",
   "id": "b4cb5c32-d526-44ef-be1e-6bb16ca337c3",
   "metadata": {
    "id": "b4cb5c32-d526-44ef-be1e-6bb16ca337c3"
   },
   "source": [
    "Что называется любовь к отечественному производителю, все топ 5 Японские компании. 3DS - 48.16, второе место у PS3 -\t16.58. PSV - 13.20, PS4 - 11.33, WiiU\t-\t7.72. Остальные 5 суммарно имеют  2.97.*Курсив*\n",
    "\n",
    "\n",
    "\n"
   ]
  },
  {
   "cell_type": "markdown",
   "id": "44a8c77c-42b8-42f7-bb48-0d6acd00e5cd",
   "metadata": {
    "id": "44a8c77c-42b8-42f7-bb48-0d6acd00e5cd"
   },
   "source": [
    "#### Топ 5 жанров по странам"
   ]
  },
  {
   "cell_type": "markdown",
   "id": "4d0f37a1-8f85-4e98-be9a-2f481bf98e60",
   "metadata": {
    "id": "4d0f37a1-8f85-4e98-be9a-2f481bf98e60"
   },
   "source": [
    "Топ 5 жанров в Северной Америке¶"
   ]
  },
  {
   "cell_type": "code",
   "execution_count": 104,
   "id": "596c73a2-c141-435d-91a2-ccff5600b365",
   "metadata": {
    "colab": {
     "base_uri": "https://localhost:8080/",
     "height": 149
    },
    "id": "596c73a2-c141-435d-91a2-ccff5600b365",
    "outputId": "b53e21e1-634c-40f0-b9b3-f0d9cd8ac5f1"
   },
   "outputs": [
    {
     "data": {
      "text/plain": [
       "genre\n",
       "Shooter     0.200\n",
       "Platform    0.090\n",
       "Sports      0.080\n",
       "Fighting    0.045\n",
       "Racing      0.030\n",
       "Name: na_sales, dtype: float64"
      ]
     },
     "metadata": {},
     "output_type": "display_data"
    }
   ],
   "source": [
    "display(t.groupby('genre')['na_sales'].agg('median').sort_values(ascending=False).head(5))\n"
   ]
  },
  {
   "cell_type": "markdown",
   "id": "a333636a-c5f3-41b8-8539-2ac572797a35",
   "metadata": {
    "id": "a333636a-c5f3-41b8-8539-2ac572797a35"
   },
   "source": [
    "Топ 5 жанров в Европе"
   ]
  },
  {
   "cell_type": "code",
   "execution_count": 105,
   "id": "a05900a3-af6c-404f-b618-8da88917817f",
   "metadata": {
    "colab": {
     "base_uri": "https://localhost:8080/",
     "height": 149
    },
    "id": "a05900a3-af6c-404f-b618-8da88917817f",
    "outputId": "1e03f959-173f-4824-8ef7-e233525532d7"
   },
   "outputs": [
    {
     "data": {
      "text/plain": [
       "genre\n",
       "Shooter       0.190\n",
       "Platform      0.080\n",
       "Racing        0.060\n",
       "Sports        0.050\n",
       "Simulation    0.035\n",
       "Name: eu_sales, dtype: float64"
      ]
     },
     "metadata": {},
     "output_type": "display_data"
    }
   ],
   "source": [
    "display(t.groupby('genre')['eu_sales'].agg('median').sort_values(ascending=False).head(5))"
   ]
  },
  {
   "cell_type": "markdown",
   "id": "3d3c435b-68a9-4dc1-ab5a-5f90e54c7322",
   "metadata": {
    "id": "3d3c435b-68a9-4dc1-ab5a-5f90e54c7322"
   },
   "source": [
    "Топ 5 жанров в Японии"
   ]
  },
  {
   "cell_type": "code",
   "execution_count": 106,
   "id": "4d43f157-ad76-4664-81ba-5e018c6f46cc",
   "metadata": {
    "colab": {
     "base_uri": "https://localhost:8080/"
    },
    "id": "4d43f157-ad76-4664-81ba-5e018c6f46cc",
    "outputId": "f190fbd7-3609-4dc8-dbcb-7543e735bcd3"
   },
   "outputs": [
    {
     "data": {
      "text/plain": [
       "genre\n",
       "Role-Playing    0.05\n",
       "Fighting        0.03\n",
       "Misc            0.02\n",
       "Puzzle          0.02\n",
       "Action          0.01\n",
       "Name: jp_sales, dtype: float64"
      ]
     },
     "execution_count": 106,
     "metadata": {},
     "output_type": "execute_result"
    }
   ],
   "source": [
    "t.groupby('genre')['jp_sales'].agg('median').sort_values(ascending=False).head(5)"
   ]
  },
  {
   "cell_type": "markdown",
   "id": "4e55f340-6d02-4fbb-98bd-b89518cababa",
   "metadata": {
    "id": "4e55f340-6d02-4fbb-98bd-b89518cababa"
   },
   "source": [
    "В Европе и Северной Америке одинаково популярны жанры Action, Sports, Shooter. В Японии же самый популярный жанр Role-Playing, только потом идет Action, при этом  Misc замыкает тройку лидеров. Разница культур."
   ]
  },
  {
   "cell_type": "markdown",
   "id": "6bc64ade-8874-4410-bb20-93ed73014959",
   "metadata": {
    "id": "6bc64ade-8874-4410-bb20-93ed73014959"
   },
   "source": [
    "#### Влияние рейтинга на продажи"
   ]
  },
  {
   "cell_type": "markdown",
   "id": "7bebc0ab-8baa-4782-b5b2-e0ab42415194",
   "metadata": {
    "id": "7bebc0ab-8baa-4782-b5b2-e0ab42415194"
   },
   "source": [
    "Северная Америка"
   ]
  },
  {
   "cell_type": "code",
   "execution_count": 107,
   "id": "5a1500ed-c1ec-442d-b8a5-dcfdfd198c37",
   "metadata": {
    "colab": {
     "base_uri": "https://localhost:8080/"
    },
    "id": "5a1500ed-c1ec-442d-b8a5-dcfdfd198c37",
    "outputId": "9981b37d-da14-455f-9261-799496d76e63"
   },
   "outputs": [
    {
     "data": {
      "text/plain": [
       "rating\n",
       "M             165.21\n",
       "неизвестно     89.42\n",
       "E              79.05\n",
       "E10+           54.24\n",
       "T              49.79\n",
       "Name: na_sales, dtype: float64"
      ]
     },
     "execution_count": 107,
     "metadata": {},
     "output_type": "execute_result"
    }
   ],
   "source": [
    "t.groupby('rating')['na_sales'].agg('sum').sort_values(ascending=False)"
   ]
  },
  {
   "cell_type": "markdown",
   "id": "54ce0196-8731-4a26-9067-cbbad47cee64",
   "metadata": {
    "id": "54ce0196-8731-4a26-9067-cbbad47cee64"
   },
   "source": [
    "Европа"
   ]
  },
  {
   "cell_type": "code",
   "execution_count": 108,
   "id": "d931e83d-2b7f-4421-9d3b-8e09e21189e9",
   "metadata": {
    "colab": {
     "base_uri": "https://localhost:8080/"
    },
    "id": "d931e83d-2b7f-4421-9d3b-8e09e21189e9",
    "outputId": "a8886aaf-e92e-4cd9-aa08-05112584e8f9"
   },
   "outputs": [
    {
     "data": {
      "text/plain": [
       "rating\n",
       "M             145.32\n",
       "E              83.36\n",
       "неизвестно     78.91\n",
       "E10+           42.69\n",
       "T              41.95\n",
       "Name: eu_sales, dtype: float64"
      ]
     },
     "execution_count": 108,
     "metadata": {},
     "output_type": "execute_result"
    }
   ],
   "source": [
    "t.groupby('rating')['eu_sales'].agg('sum').sort_values(ascending=False)"
   ]
  },
  {
   "cell_type": "markdown",
   "id": "0b44d144-80ef-4def-a363-9d3f35efa40b",
   "metadata": {
    "id": "0b44d144-80ef-4def-a363-9d3f35efa40b"
   },
   "source": [
    "Япония"
   ]
  },
  {
   "cell_type": "code",
   "execution_count": 109,
   "id": "152a3acf-7df7-4a4a-af6e-81ac8f4e0001",
   "metadata": {
    "colab": {
     "base_uri": "https://localhost:8080/"
    },
    "id": "152a3acf-7df7-4a4a-af6e-81ac8f4e0001",
    "outputId": "26809e37-0c4a-47f2-d068-3686b3ad6f35"
   },
   "outputs": [
    {
     "data": {
      "text/plain": [
       "rating\n",
       "неизвестно    85.05\n",
       "T             20.59\n",
       "E             15.14\n",
       "M             14.11\n",
       "E10+           5.89\n",
       "Name: jp_sales, dtype: float64"
      ]
     },
     "execution_count": 109,
     "metadata": {},
     "output_type": "execute_result"
    }
   ],
   "source": [
    "t.groupby('rating')['jp_sales'].agg('sum').sort_values(ascending=False)"
   ]
  },
  {
   "cell_type": "markdown",
   "id": "c7a7eba3-f864-4cd2-a16e-19171988779f",
   "metadata": {
    "id": "c7a7eba3-f864-4cd2-a16e-19171988779f"
   },
   "source": [
    "В Европе и Северной Америке больше всего продается игр с рейтингом E, на втором месте по продажам идет рейтинг M  и на третьем T. Видно, что выставленный рейтинг влияет на количество проданных копий, например,  E(для всех), самый продаваемый, немудрено, так как рейтинг подразумевает возможность играть всем возрастам. В Японии же больше всего выходят игр с неопределённым рейтингом игр, но все равно второе место досталось рейтингу E"
   ]
  },
  {
   "cell_type": "markdown",
   "id": "d237985b-3b5a-4534-a2b0-43a8c3378bf8",
   "metadata": {
    "id": "d237985b-3b5a-4534-a2b0-43a8c3378bf8"
   },
   "source": [
    "## Проверка гипотез"
   ]
  },
  {
   "cell_type": "markdown",
   "id": "2f88888c-6887-44b4-8d70-c135d1f80a93",
   "metadata": {
    "id": "2f88888c-6887-44b4-8d70-c135d1f80a93"
   },
   "source": [
    "H0 = средний рейтинг у Xbox One равен среднему рейтингу PS\n",
    "H1 = средний рейтинг у Xbox One  неравен среднему рейтингу PS\n",
    "\n",
    "Используем t-test так как он работает для выборок любого размера. Так же для нас не важно  больше или меньше средней рейтин, поэтому тест двусторонний.\n",
    "\n",
    "При условии что H0 верна какова вероятность получить H1"
   ]
  },
  {
   "cell_type": "code",
   "execution_count": 110,
   "id": "cda96cf0-e2a4-44a7-8bf5-026cb0808e07",
   "metadata": {
    "colab": {
     "base_uri": "https://localhost:8080/"
    },
    "id": "cda96cf0-e2a4-44a7-8bf5-026cb0808e07",
    "outputId": "63185f2b-a2e3-4b87-9c2c-d5d429d46913"
   },
   "outputs": [
    {
     "name": "stdout",
     "output_type": "stream",
     "text": [
      "p-значение: 0.14012658403611647\n",
      "Не получилось отвергнуть нулевую гипотезу\n"
     ]
    }
   ],
   "source": [
    "x_test = t[(t['platform'] == 'XOne') & (~t['user_score'].isna())]['user_score']\n",
    "pc_test = t[(t['platform'] == 'PC') & (~t['user_score'].isna())]['user_score']\n",
    "\n",
    "alpha = 0.05\n",
    "\n",
    "results = st.ttest_ind(x_test, pc_test)\n",
    "\n",
    "print('p-значение:', results.pvalue)\n",
    "\n",
    "if results.pvalue < alpha:\n",
    "    print('Отвергаем нулевую гипотезу')\n",
    "else:\n",
    "    print('Не получилось отвергнуть нулевую гипотезу')"
   ]
  },
  {
   "cell_type": "markdown",
   "id": "b4e82051",
   "metadata": {},
   "source": [
    "На имеющихся данных, на уровне значимости 5% есть основания отвергнуть нулевую гипотезу о равенстве средних значений пользовательских рейтингов (отзывов) таких платформ как  XOne и PC в пользу альтернативной гипотезы."
   ]
  },
  {
   "cell_type": "markdown",
   "id": "60c352eb-a6ae-4470-9a54-d2f66b8657da",
   "metadata": {
    "id": "60c352eb-a6ae-4470-9a54-d2f66b8657da"
   },
   "source": [
    "H0 = средний рейтинг у Action равен среднему рейтингу Sports\n",
    "H1 = средний рейтинг у Action  неравен среднему рейтингу Sports\n",
    "Используем t-test так как он работает для выборок любого размера. Так же для нас не важно  больше или меньше средней рейтин, поэтому тест двусторонний.\n",
    "\n",
    "При условии что H0 верна какова вероятность получить H1\n"
   ]
  },
  {
   "cell_type": "code",
   "execution_count": 111,
   "id": "3b9b3d60-a673-42fd-b163-cbc71d0967f1",
   "metadata": {
    "colab": {
     "base_uri": "https://localhost:8080/"
    },
    "id": "3b9b3d60-a673-42fd-b163-cbc71d0967f1",
    "outputId": "24cc7575-1a60-466a-cd26-0898c33b0090"
   },
   "outputs": [
    {
     "name": "stdout",
     "output_type": "stream",
     "text": [
      "p-значение: 1.0517832389140023e-27\n",
      "Отвергаем нулевую гипотезу\n"
     ]
    }
   ],
   "source": [
    "action_test =t[(t['genre'] == 'Action') & (t['user_score'] > 0)]['user_score']\n",
    "sports_test = t[(t['genre'] == 'Sports') & (t['user_score'] > 0)]['user_score']\n",
    "alpha = 0.05\n",
    "\n",
    "results = st.ttest_ind(action_test, sports_test)\n",
    "\n",
    "print('p-значение:', results.pvalue)\n",
    "\n",
    "if results.pvalue < alpha:\n",
    "    print('Отвергаем нулевую гипотезу')\n",
    "else:\n",
    "    print('Не получилось отвергнуть нулевую гипотезу')"
   ]
  },
  {
   "cell_type": "markdown",
   "id": "BTR-d8kNb4ql",
   "metadata": {
    "id": "BTR-d8kNb4ql"
   },
   "source": [
    "Вероятность получить такие значения низкая(порог alpha задан 0.05) при условии что H0 верна, поэтому мы отвергаем нулевую гипотезу, что означает средние рейтинги жанров Action и Sports разные"
   ]
  },
  {
   "cell_type": "markdown",
   "id": "a68f4c43-22f2-4a4c-a8b7-966bf750d218",
   "metadata": {
    "id": "a68f4c43-22f2-4a4c-a8b7-966bf750d218"
   },
   "source": [
    "Вопрос студента: не понимаю что делать с nan в p-value?"
   ]
  },
  {
   "cell_type": "markdown",
   "id": "683e7bb4-5c69-4a6f-a84b-e8a2695cdba9",
   "metadata": {
    "id": "683e7bb4-5c69-4a6f-a84b-e8a2695cdba9"
   },
   "source": [
    "#### Общий вывод"
   ]
  },
  {
   "cell_type": "markdown",
   "id": "C2Va2MPeCGLw",
   "metadata": {
    "id": "C2Va2MPeCGLw"
   },
   "source": [
    "ПРЕДОБРАБОТКА ДАННЫХ:\n",
    "Был проведен поиск дубликатов - в данных их не было обнаружено. Так же были изменены названия столбцов, а именно  - привели их к нижнему регистру. Изменили тип данных в столбце 'user_score' с object на float для удобной работы с данными. В столбце 'name' удалили две строки, так как они не несут для нас полезной информации, и их удаление не скажется на датасете. Вместе с ними удалились две строки из столбца 'genre' так как они были связаны. В столбце 'year_of_release' оставили значение NaN, так как год выхода мы не знаем. Так же мы можем заметить, что в 1980 году  индустрия игр была в самом начале формирования, поэтому количество оценок низкое(мало кто имел доступ к цифровым играм). Пропуски в столбцах critic_score и user_score оставляем, так как мы не можем оценить мнение критиков или людей оно уникально. В столбце 'rating' пропущенные значения нам неизвестны, поэтому мы их заменили на 'неизвестно'. Так же был добавлен столбец под названием 'total_sales' с общим количеством продаж.\n",
    "\n",
    "ИССЛЕДОВАТЕЛЬСКИЙ АНАЛИЗ ДАННЫХ:\n",
    "Была создана переменная с агрегированными данными от 2000 года. Заметно, что с этого года количество выпущенных игр существенное и количество оценок.Так же выяснили топ 10 платформ за все время.\n",
    "\n",
    "    platform\n",
    "\tPS2\t1255.77\n",
    "\tX360 971.42\n",
    "\tPS3\t939.65\n",
    "\tWii\t907.51\n",
    "    DS\t806.12\n",
    "\tPS\t730.86\n",
    "\tGBA\t317.85\n",
    "\tPS4\t314.14\n",
    "\tPSP\t294.05\n",
    "\tPC\t259.52\n",
    " Построили 10 графиков по топ 10 платформ. Графики описывают распределение продаж по годам в каждой платформе:\n",
    "\n",
    " PS2 - заметен сильный рост продаж в момент выхода приставки в 2000, который длится до 2004 года, потом идет постоянный спад.\n",
    "\n",
    " X360 - выход в 2005. Не такой стремитльеный рост как у PS2, но уверенный, длится до 2010 года, потом постоянный спад.\n",
    "\n",
    " PS3 - видим  рост продаж в 2006 году(дата выхода приставки), который длиться до 2011, потом идет спад до 2012, снова кратковременный рост и потом постоянный спад.\n",
    "\n",
    " Wii - рост продаж в  2006 году(дата выхода приставки), при этом первый год очень доходный около 126 млн копий продано, идет хороший рост до 2009 и потом постоянный сильный спад\n",
    "\n",
    " DS - год выпуска 1885, медленный рост продаж 2004, потом резкий рост до 142млн копий и резкий  постоянный спад.\n",
    "\n",
    " PS - выход в 1994 году, хороший, постоянный рост до 1998 года и, после, постоянный спад.\n",
    "\n",
    " GBA - выход в 2000 и стремительный рост до 2001, с 2001 рост продолжается, но не такой сильный, в 2002 спад до 58млн копий и в 2003 последний рост продаж до 2004 года, потом постоянный спад. С выходом PSP начинается постоянный спад.\n",
    "\n",
    " PS4 - выход в 2013 и хороший рост продаж до 2015 года, потом идет спад.\n",
    "\n",
    " PSP - выход в 2004 и начало стремительного роста  продаж  до 2006 года, потом идет скачкообразный спад, первый скачок до 2008 года, потом короткий рост до 2009 и потом кратковременный спад до 2010, после сильный постоянный спад продаж.\n",
    "\n",
    " PC - выход в 1985 году не принес роста продаж вплоть до 1987 года, потом идет медленный рост в 1992 и в этом году резкий скачок продаж до 13млн, стоит заметить, что до 2006 года продажи PS постоянно растут и падают, 5 скачков, но ни один не принес больше продаж чем 1993, все меняется в 2006 году, резкий рост до 2011 года достигает 35млн копий, потом идет резкий спад, который продлиться до конца.\n",
    "\n",
    " Также на основе графиков и сводной таблицы было замечено, что в начале формирования индустрия происходит большое количество выпускаемых платформ, но ближе к 2000 году вырабатывается характерный срок появления платформ - около 5 лет.\n",
    "\n",
    " Также было построенно 10 диаграмм рассеяния: одни показывает зависимость между продажами и оценкой критиков(взаимосвязи почти нет), а другие показывает зависимость между продажами и оценкой юзеров(взаимосвязи нет)\n",
    "\n",
    "Были построенны графики по топ 5 платформ по продажам в отдельном регионе:\n",
    "\n",
    "Продажи в Северной Америке\n",
    "\n",
    "PS4 лидирует у него 24.8 процента рынка у XOne - 21.27, у X360 - 18.6, у PS3 - 14.5, у 3DS - 8.7, а у WiiU - 6.67. Остальным 5 платформам суммарно принадлежит 11.99.\n",
    "\n",
    "Продажи в Европе\n",
    "\n",
    "В Европе 35.97 процентов продаж принадлежат PS4 и  PS3 - 17.28. XOne - 13.15, X360 - 10.840578. 3DS - 7.89. PC - 6.46. Остальным 5 платформам суммарно принадлежит  14.85.\n",
    "\n",
    "Продажи в Японии\n",
    "\n",
    "Что называется любовь к отечественному производителю, все топ 5 Японские компании. 3DS - 48.16, второе место у PS3 -\t16.58. PSV - 13.20, PS4 - 11.33, WiiU\t-\t7.72. Остальные 5 суммарно имеют  2.97.*Курсив*\n",
    "\n",
    "\n",
    "Также выяснили топ 5 жанров по странам:\n",
    "\n",
    "В Северной Америке\n",
    "\n",
    "\n",
    "Shooter     0.200;\n",
    "Platform    0.090;\n",
    "Sports      0.080;\n",
    "Fighting    0.045;\n",
    "Racing      0.030;\n",
    "\n",
    "В Европе\n",
    "\n",
    "\n",
    "Shooter       0.190;\n",
    "Platform      0.080;\n",
    "Racing        0.060;\n",
    "Sports        0.050;\n",
    "Simulation    0.035;\n",
    "\n",
    "В Японии\n",
    "\n",
    "Role-Playing    0.05;\n",
    "Fighting        0.03;\n",
    "Misc            0.02;\n",
    "Puzzle          0.02;\n",
    "Action          0.01;\n",
    "\n",
    "Показаны медианный значения.\n",
    "\n",
    "В Европе и Северной Америке одинаково популярны жанры Shooter, Platform, Sports. В Японии же самый популярный жанр Role-Playing, только потом Fighting, при этом  Misc замыкает тройку лидеров Японии. Разница культур.\n",
    "\n",
    "\n",
    "Также заметно, как рейтинг влияет на продажи: в Европе и Северной Америке больше всего продается игр с рейтингом E, на втором месте по продажам идет рейтинг M  и на третьем T. Видно, что выставленный рейтинг влияет на количество проданных копий, например,  E(для всех), самый продаваемый, немудрено, так как рейтинг подразумевает возможность играть всем возрастам. В Японии же больше всего выходят игр с региональным рейтингом, но все равно второе место досталось рейтингу E.\n",
    "\n",
    "Также были выдвинуты две гипотезы:\n",
    "\n",
    "1. Равны ли средние пользовательские рейтинги (отзывы) платформ Xbox One и PC? Гипотеза была отвергнута на уровне значимости 5% в пользу альтернативной — их средние рейтинги не равны.\n",
    "\n",
    "2. Равны ли средние пользовательские рейтинги (отзывы) жанров Action и Sports? Гипотеза была отвергнута на уровне значимости 5% в пользу альтернативной — их средние рейтинги не равны.\n",
    "\n",
    "РЕКОМЕНДАЦИЯ БИЗНЕСУ:\n",
    "Магазину \"Стримчик\" стоит закупать игры в жанрах  Action, Sports, Shooter, Role-Playing, Misc с рейтингом 'E', но рейтиг 'M' и \"T\" тоже весьма прибольны. При закупках игр стоит рассматривать платформы PlayStation, Xbox\n",
    " и DS(этот вариант для Япоского рынка). \n",
    " \n",
    " Стоит заметить, что на отзывы критиков и пользователей обращать внимание не стоит, так как существенной корреляции между проданными копиями и оценкой не было обнаружено.\n",
    "\n",
    "Определяющие успешность игры закономерности:\n",
    "В Европе и Северной Америке в рекламной компании делать ставку на игры жанра Shooter с рейтингом 'E', для Северной Америки желательна платформа Xbox, а для Европы PlayStation.  Также можно рассмотреть вариант с жанром Sports  с рейтингом 'E'. В Японии же лучше сделать ставку на жанр Role-Playing  с рейтингом 'E'. А платформу выбрать DS.\n"
   ]
  }
 ],
 "metadata": {
  "ExecuteTimeLog": [
   {
    "duration": 1099,
    "start_time": "2024-01-24T12:03:24.741Z"
   },
   {
    "duration": 129,
    "start_time": "2024-01-24T12:03:25.842Z"
   },
   {
    "duration": 0,
    "start_time": "2024-01-24T12:03:25.974Z"
   },
   {
    "duration": 0,
    "start_time": "2024-01-24T12:03:25.975Z"
   },
   {
    "duration": 0,
    "start_time": "2024-01-24T12:03:25.976Z"
   },
   {
    "duration": 0,
    "start_time": "2024-01-24T12:03:25.977Z"
   },
   {
    "duration": 0,
    "start_time": "2024-01-24T12:03:25.978Z"
   },
   {
    "duration": 0,
    "start_time": "2024-01-24T12:03:25.979Z"
   },
   {
    "duration": 0,
    "start_time": "2024-01-24T12:03:25.980Z"
   },
   {
    "duration": 0,
    "start_time": "2024-01-24T12:03:25.981Z"
   },
   {
    "duration": 0,
    "start_time": "2024-01-24T12:03:25.981Z"
   },
   {
    "duration": 0,
    "start_time": "2024-01-24T12:03:25.982Z"
   },
   {
    "duration": 0,
    "start_time": "2024-01-24T12:03:25.983Z"
   },
   {
    "duration": 0,
    "start_time": "2024-01-24T12:03:25.984Z"
   },
   {
    "duration": 0,
    "start_time": "2024-01-24T12:03:25.985Z"
   },
   {
    "duration": 0,
    "start_time": "2024-01-24T12:03:25.986Z"
   },
   {
    "duration": 0,
    "start_time": "2024-01-24T12:03:25.987Z"
   },
   {
    "duration": 0,
    "start_time": "2024-01-24T12:03:25.988Z"
   },
   {
    "duration": 0,
    "start_time": "2024-01-24T12:03:25.989Z"
   },
   {
    "duration": 0,
    "start_time": "2024-01-24T12:03:25.990Z"
   },
   {
    "duration": 0,
    "start_time": "2024-01-24T12:03:25.991Z"
   },
   {
    "duration": 0,
    "start_time": "2024-01-24T12:03:25.992Z"
   },
   {
    "duration": 0,
    "start_time": "2024-01-24T12:03:25.992Z"
   },
   {
    "duration": 0,
    "start_time": "2024-01-24T12:03:25.993Z"
   },
   {
    "duration": 0,
    "start_time": "2024-01-24T12:03:25.994Z"
   },
   {
    "duration": 0,
    "start_time": "2024-01-24T12:03:25.995Z"
   },
   {
    "duration": 0,
    "start_time": "2024-01-24T12:03:25.996Z"
   },
   {
    "duration": 0,
    "start_time": "2024-01-24T12:03:25.997Z"
   },
   {
    "duration": 0,
    "start_time": "2024-01-24T12:03:25.998Z"
   },
   {
    "duration": 0,
    "start_time": "2024-01-24T12:03:25.999Z"
   },
   {
    "duration": 0,
    "start_time": "2024-01-24T12:03:26.000Z"
   },
   {
    "duration": 0,
    "start_time": "2024-01-24T12:03:26.001Z"
   },
   {
    "duration": 0,
    "start_time": "2024-01-24T12:03:26.002Z"
   },
   {
    "duration": 0,
    "start_time": "2024-01-24T12:03:26.002Z"
   },
   {
    "duration": 0,
    "start_time": "2024-01-24T12:03:26.003Z"
   },
   {
    "duration": 0,
    "start_time": "2024-01-24T12:03:26.004Z"
   },
   {
    "duration": 0,
    "start_time": "2024-01-24T12:03:26.005Z"
   },
   {
    "duration": 0,
    "start_time": "2024-01-24T12:03:26.006Z"
   },
   {
    "duration": 0,
    "start_time": "2024-01-24T12:03:26.059Z"
   },
   {
    "duration": 0,
    "start_time": "2024-01-24T12:03:26.060Z"
   },
   {
    "duration": 0,
    "start_time": "2024-01-24T12:03:26.061Z"
   },
   {
    "duration": 0,
    "start_time": "2024-01-24T12:03:26.061Z"
   },
   {
    "duration": 0,
    "start_time": "2024-01-24T12:03:26.062Z"
   },
   {
    "duration": 0,
    "start_time": "2024-01-24T12:03:26.063Z"
   },
   {
    "duration": 0,
    "start_time": "2024-01-24T12:03:26.064Z"
   },
   {
    "duration": 0,
    "start_time": "2024-01-24T12:03:26.065Z"
   },
   {
    "duration": 0,
    "start_time": "2024-01-24T12:03:26.066Z"
   },
   {
    "duration": 0,
    "start_time": "2024-01-24T12:03:26.067Z"
   },
   {
    "duration": 0,
    "start_time": "2024-01-24T12:03:26.068Z"
   },
   {
    "duration": 0,
    "start_time": "2024-01-24T12:03:26.068Z"
   },
   {
    "duration": 0,
    "start_time": "2024-01-24T12:03:26.069Z"
   },
   {
    "duration": 0,
    "start_time": "2024-01-24T12:03:26.070Z"
   },
   {
    "duration": 1099,
    "start_time": "2024-01-24T23:02:24.623Z"
   },
   {
    "duration": 164,
    "start_time": "2024-01-24T23:02:25.724Z"
   },
   {
    "duration": 0,
    "start_time": "2024-01-24T23:02:25.894Z"
   },
   {
    "duration": 0,
    "start_time": "2024-01-24T23:02:25.895Z"
   },
   {
    "duration": 0,
    "start_time": "2024-01-24T23:02:25.896Z"
   },
   {
    "duration": 0,
    "start_time": "2024-01-24T23:02:25.898Z"
   },
   {
    "duration": 0,
    "start_time": "2024-01-24T23:02:25.899Z"
   },
   {
    "duration": 0,
    "start_time": "2024-01-24T23:02:25.900Z"
   },
   {
    "duration": 0,
    "start_time": "2024-01-24T23:02:25.902Z"
   },
   {
    "duration": 0,
    "start_time": "2024-01-24T23:02:25.903Z"
   },
   {
    "duration": 0,
    "start_time": "2024-01-24T23:02:25.904Z"
   },
   {
    "duration": 0,
    "start_time": "2024-01-24T23:02:25.906Z"
   },
   {
    "duration": 0,
    "start_time": "2024-01-24T23:02:25.907Z"
   },
   {
    "duration": 0,
    "start_time": "2024-01-24T23:02:25.908Z"
   },
   {
    "duration": 0,
    "start_time": "2024-01-24T23:02:25.910Z"
   },
   {
    "duration": 0,
    "start_time": "2024-01-24T23:02:25.911Z"
   },
   {
    "duration": 1,
    "start_time": "2024-01-24T23:02:25.912Z"
   },
   {
    "duration": 0,
    "start_time": "2024-01-24T23:02:25.914Z"
   },
   {
    "duration": 0,
    "start_time": "2024-01-24T23:02:25.915Z"
   },
   {
    "duration": 0,
    "start_time": "2024-01-24T23:02:25.917Z"
   },
   {
    "duration": 0,
    "start_time": "2024-01-24T23:02:25.918Z"
   },
   {
    "duration": 0,
    "start_time": "2024-01-24T23:02:25.919Z"
   },
   {
    "duration": 0,
    "start_time": "2024-01-24T23:02:25.920Z"
   },
   {
    "duration": 0,
    "start_time": "2024-01-24T23:02:25.959Z"
   },
   {
    "duration": 0,
    "start_time": "2024-01-24T23:02:25.961Z"
   },
   {
    "duration": 0,
    "start_time": "2024-01-24T23:02:25.962Z"
   },
   {
    "duration": 0,
    "start_time": "2024-01-24T23:02:25.963Z"
   },
   {
    "duration": 0,
    "start_time": "2024-01-24T23:02:25.965Z"
   },
   {
    "duration": 0,
    "start_time": "2024-01-24T23:02:25.966Z"
   },
   {
    "duration": 0,
    "start_time": "2024-01-24T23:02:25.967Z"
   },
   {
    "duration": 0,
    "start_time": "2024-01-24T23:02:25.969Z"
   },
   {
    "duration": 0,
    "start_time": "2024-01-24T23:02:25.970Z"
   },
   {
    "duration": 0,
    "start_time": "2024-01-24T23:02:25.971Z"
   },
   {
    "duration": 0,
    "start_time": "2024-01-24T23:02:25.973Z"
   },
   {
    "duration": 0,
    "start_time": "2024-01-24T23:02:25.974Z"
   },
   {
    "duration": 0,
    "start_time": "2024-01-24T23:02:25.975Z"
   },
   {
    "duration": 0,
    "start_time": "2024-01-24T23:02:25.977Z"
   },
   {
    "duration": 0,
    "start_time": "2024-01-24T23:02:25.978Z"
   },
   {
    "duration": 0,
    "start_time": "2024-01-24T23:02:25.980Z"
   },
   {
    "duration": 0,
    "start_time": "2024-01-24T23:02:25.981Z"
   },
   {
    "duration": 0,
    "start_time": "2024-01-24T23:02:25.983Z"
   },
   {
    "duration": 0,
    "start_time": "2024-01-24T23:02:25.984Z"
   },
   {
    "duration": 0,
    "start_time": "2024-01-24T23:02:25.985Z"
   },
   {
    "duration": 0,
    "start_time": "2024-01-24T23:02:25.987Z"
   },
   {
    "duration": 0,
    "start_time": "2024-01-24T23:02:25.988Z"
   },
   {
    "duration": 0,
    "start_time": "2024-01-24T23:02:25.989Z"
   },
   {
    "duration": 0,
    "start_time": "2024-01-24T23:02:25.990Z"
   },
   {
    "duration": 0,
    "start_time": "2024-01-24T23:02:25.992Z"
   },
   {
    "duration": 0,
    "start_time": "2024-01-24T23:02:25.993Z"
   },
   {
    "duration": 0,
    "start_time": "2024-01-24T23:02:25.994Z"
   },
   {
    "duration": 0,
    "start_time": "2024-01-24T23:02:25.996Z"
   },
   {
    "duration": 0,
    "start_time": "2024-01-24T23:02:25.997Z"
   },
   {
    "duration": 46,
    "start_time": "2024-01-25T05:59:15.723Z"
   },
   {
    "duration": 1274,
    "start_time": "2024-01-25T06:04:10.806Z"
   },
   {
    "duration": 94,
    "start_time": "2024-01-25T06:04:12.082Z"
   },
   {
    "duration": 22,
    "start_time": "2024-01-25T06:04:12.177Z"
   },
   {
    "duration": 15,
    "start_time": "2024-01-25T06:04:12.202Z"
   },
   {
    "duration": 16,
    "start_time": "2024-01-25T06:04:12.219Z"
   },
   {
    "duration": 15,
    "start_time": "2024-01-25T06:04:12.236Z"
   },
   {
    "duration": 3,
    "start_time": "2024-01-25T06:04:12.252Z"
   },
   {
    "duration": 5,
    "start_time": "2024-01-25T06:04:12.256Z"
   },
   {
    "duration": 6,
    "start_time": "2024-01-25T06:04:12.263Z"
   },
   {
    "duration": 6,
    "start_time": "2024-01-25T06:04:12.270Z"
   },
   {
    "duration": 46,
    "start_time": "2024-01-25T06:04:12.277Z"
   },
   {
    "duration": 11,
    "start_time": "2024-01-25T06:04:12.324Z"
   },
   {
    "duration": 2,
    "start_time": "2024-01-25T06:04:12.337Z"
   },
   {
    "duration": 7,
    "start_time": "2024-01-25T06:04:12.342Z"
   },
   {
    "duration": 17,
    "start_time": "2024-01-25T06:04:12.350Z"
   },
   {
    "duration": 57,
    "start_time": "2024-01-25T06:04:12.369Z"
   },
   {
    "duration": 22,
    "start_time": "2024-01-25T06:04:12.428Z"
   },
   {
    "duration": 14,
    "start_time": "2024-01-25T06:04:12.452Z"
   },
   {
    "duration": 6,
    "start_time": "2024-01-25T06:04:12.467Z"
   },
   {
    "duration": 148,
    "start_time": "2024-01-25T06:04:12.474Z"
   },
   {
    "duration": 6,
    "start_time": "2024-01-25T06:04:12.623Z"
   },
   {
    "duration": 135,
    "start_time": "2024-01-25T06:04:12.631Z"
   },
   {
    "duration": 135,
    "start_time": "2024-01-25T06:04:12.767Z"
   },
   {
    "duration": 135,
    "start_time": "2024-01-25T06:04:12.904Z"
   },
   {
    "duration": 126,
    "start_time": "2024-01-25T06:04:13.041Z"
   },
   {
    "duration": 132,
    "start_time": "2024-01-25T06:04:13.169Z"
   },
   {
    "duration": 138,
    "start_time": "2024-01-25T06:04:13.303Z"
   },
   {
    "duration": 138,
    "start_time": "2024-01-25T06:04:13.443Z"
   },
   {
    "duration": 210,
    "start_time": "2024-01-25T06:04:13.582Z"
   },
   {
    "duration": 133,
    "start_time": "2024-01-25T06:04:13.794Z"
   },
   {
    "duration": 17,
    "start_time": "2024-01-25T06:04:13.928Z"
   },
   {
    "duration": 23,
    "start_time": "2024-01-25T06:04:13.946Z"
   },
   {
    "duration": 116,
    "start_time": "2024-01-25T06:04:13.970Z"
   },
   {
    "duration": 6,
    "start_time": "2024-01-25T06:04:14.087Z"
   },
   {
    "duration": 104,
    "start_time": "2024-01-25T06:04:14.095Z"
   },
   {
    "duration": 18,
    "start_time": "2024-01-25T06:04:14.200Z"
   },
   {
    "duration": 100,
    "start_time": "2024-01-25T06:04:14.220Z"
   },
   {
    "duration": 6,
    "start_time": "2024-01-25T06:04:14.322Z"
   },
   {
    "duration": 153,
    "start_time": "2024-01-25T06:04:14.330Z"
   },
   {
    "duration": 150,
    "start_time": "2024-01-25T06:04:14.484Z"
   },
   {
    "duration": 13,
    "start_time": "2024-01-25T06:04:14.638Z"
   },
   {
    "duration": 209,
    "start_time": "2024-01-25T06:04:14.653Z"
   },
   {
    "duration": 199,
    "start_time": "2024-01-25T06:04:14.863Z"
   },
   {
    "duration": 180,
    "start_time": "2024-01-25T06:04:15.064Z"
   },
   {
    "duration": 7,
    "start_time": "2024-01-25T06:04:15.245Z"
   },
   {
    "duration": 9,
    "start_time": "2024-01-25T06:04:15.253Z"
   },
   {
    "duration": 18,
    "start_time": "2024-01-25T06:04:15.263Z"
   },
   {
    "duration": 22,
    "start_time": "2024-01-25T06:04:15.283Z"
   },
   {
    "duration": 6,
    "start_time": "2024-01-25T06:04:15.307Z"
   },
   {
    "duration": 10,
    "start_time": "2024-01-25T06:04:15.317Z"
   },
   {
    "duration": 9,
    "start_time": "2024-01-25T06:04:15.328Z"
   },
   {
    "duration": 10,
    "start_time": "2024-01-25T06:04:15.338Z"
   },
   {
    "duration": 3,
    "start_time": "2024-01-25T06:18:42.056Z"
   },
   {
    "duration": 55,
    "start_time": "2024-01-25T06:18:42.060Z"
   },
   {
    "duration": 15,
    "start_time": "2024-01-25T06:18:42.117Z"
   },
   {
    "duration": 25,
    "start_time": "2024-01-25T06:18:42.134Z"
   },
   {
    "duration": 16,
    "start_time": "2024-01-25T06:18:42.161Z"
   },
   {
    "duration": 40,
    "start_time": "2024-01-25T06:18:42.179Z"
   },
   {
    "duration": 3,
    "start_time": "2024-01-25T06:18:42.220Z"
   },
   {
    "duration": 6,
    "start_time": "2024-01-25T06:18:42.225Z"
   },
   {
    "duration": 16,
    "start_time": "2024-01-25T06:18:42.233Z"
   },
   {
    "duration": 11,
    "start_time": "2024-01-25T06:18:42.251Z"
   },
   {
    "duration": 28,
    "start_time": "2024-01-25T06:18:42.266Z"
   },
   {
    "duration": 15,
    "start_time": "2024-01-25T06:18:42.296Z"
   },
   {
    "duration": 5,
    "start_time": "2024-01-25T06:18:42.313Z"
   },
   {
    "duration": 9,
    "start_time": "2024-01-25T06:18:42.319Z"
   },
   {
    "duration": 20,
    "start_time": "2024-01-25T06:18:42.330Z"
   },
   {
    "duration": 20,
    "start_time": "2024-01-25T06:18:42.351Z"
   },
   {
    "duration": 46,
    "start_time": "2024-01-25T06:18:42.373Z"
   },
   {
    "duration": 16,
    "start_time": "2024-01-25T06:18:42.420Z"
   },
   {
    "duration": 6,
    "start_time": "2024-01-25T06:18:42.437Z"
   },
   {
    "duration": 122,
    "start_time": "2024-01-25T06:18:42.444Z"
   },
   {
    "duration": 6,
    "start_time": "2024-01-25T06:18:42.568Z"
   },
   {
    "duration": 199,
    "start_time": "2024-01-25T06:18:42.575Z"
   },
   {
    "duration": 126,
    "start_time": "2024-01-25T06:18:42.776Z"
   },
   {
    "duration": 129,
    "start_time": "2024-01-25T06:18:42.903Z"
   },
   {
    "duration": 124,
    "start_time": "2024-01-25T06:18:43.034Z"
   },
   {
    "duration": 123,
    "start_time": "2024-01-25T06:18:43.160Z"
   },
   {
    "duration": 137,
    "start_time": "2024-01-25T06:18:43.284Z"
   },
   {
    "duration": 144,
    "start_time": "2024-01-25T06:18:43.424Z"
   },
   {
    "duration": 141,
    "start_time": "2024-01-25T06:18:43.572Z"
   },
   {
    "duration": 122,
    "start_time": "2024-01-25T06:18:43.715Z"
   },
   {
    "duration": 15,
    "start_time": "2024-01-25T06:18:43.838Z"
   },
   {
    "duration": 23,
    "start_time": "2024-01-25T06:18:43.855Z"
   },
   {
    "duration": 111,
    "start_time": "2024-01-25T06:18:43.879Z"
   },
   {
    "duration": 6,
    "start_time": "2024-01-25T06:18:43.991Z"
   },
   {
    "duration": 94,
    "start_time": "2024-01-25T06:18:43.999Z"
   },
   {
    "duration": 7,
    "start_time": "2024-01-25T06:18:44.094Z"
   },
   {
    "duration": 163,
    "start_time": "2024-01-25T06:18:44.102Z"
   },
   {
    "duration": 7,
    "start_time": "2024-01-25T06:18:44.266Z"
   },
   {
    "duration": 151,
    "start_time": "2024-01-25T06:18:44.274Z"
   },
   {
    "duration": 148,
    "start_time": "2024-01-25T06:18:44.426Z"
   },
   {
    "duration": 13,
    "start_time": "2024-01-25T06:18:44.575Z"
   },
   {
    "duration": 190,
    "start_time": "2024-01-25T06:18:44.590Z"
   },
   {
    "duration": 190,
    "start_time": "2024-01-25T06:18:44.782Z"
   },
   {
    "duration": 187,
    "start_time": "2024-01-25T06:18:44.973Z"
   },
   {
    "duration": 6,
    "start_time": "2024-01-25T06:18:45.162Z"
   },
   {
    "duration": 8,
    "start_time": "2024-01-25T06:18:45.170Z"
   },
   {
    "duration": 14,
    "start_time": "2024-01-25T06:18:45.180Z"
   },
   {
    "duration": 24,
    "start_time": "2024-01-25T06:18:45.195Z"
   },
   {
    "duration": 33,
    "start_time": "2024-01-25T06:18:45.220Z"
   },
   {
    "duration": 14,
    "start_time": "2024-01-25T06:18:45.254Z"
   },
   {
    "duration": 29,
    "start_time": "2024-01-25T06:18:45.269Z"
   },
   {
    "duration": 18,
    "start_time": "2024-01-25T06:18:45.299Z"
   },
   {
    "duration": 1178,
    "start_time": "2024-01-25T10:16:25.746Z"
   },
   {
    "duration": 55,
    "start_time": "2024-01-25T10:16:26.925Z"
   },
   {
    "duration": 20,
    "start_time": "2024-01-25T10:16:26.981Z"
   },
   {
    "duration": 16,
    "start_time": "2024-01-25T10:16:27.002Z"
   },
   {
    "duration": 30,
    "start_time": "2024-01-25T10:16:27.021Z"
   },
   {
    "duration": 14,
    "start_time": "2024-01-25T10:16:27.052Z"
   },
   {
    "duration": 15,
    "start_time": "2024-01-25T10:16:27.067Z"
   },
   {
    "duration": 10,
    "start_time": "2024-01-25T10:16:27.084Z"
   },
   {
    "duration": 18,
    "start_time": "2024-01-25T10:16:27.096Z"
   },
   {
    "duration": 13,
    "start_time": "2024-01-25T10:16:27.116Z"
   },
   {
    "duration": 15,
    "start_time": "2024-01-25T10:16:27.131Z"
   },
   {
    "duration": 18,
    "start_time": "2024-01-25T10:16:27.147Z"
   },
   {
    "duration": 2,
    "start_time": "2024-01-25T10:16:27.166Z"
   },
   {
    "duration": 10,
    "start_time": "2024-01-25T10:16:27.170Z"
   },
   {
    "duration": 16,
    "start_time": "2024-01-25T10:16:27.181Z"
   },
   {
    "duration": 25,
    "start_time": "2024-01-25T10:16:27.198Z"
   },
   {
    "duration": 20,
    "start_time": "2024-01-25T10:16:27.225Z"
   },
   {
    "duration": 14,
    "start_time": "2024-01-25T10:16:27.246Z"
   },
   {
    "duration": 25,
    "start_time": "2024-01-25T10:16:27.261Z"
   },
   {
    "duration": 146,
    "start_time": "2024-01-25T10:16:27.287Z"
   },
   {
    "duration": 7,
    "start_time": "2024-01-25T10:16:27.434Z"
   },
   {
    "duration": 147,
    "start_time": "2024-01-25T10:16:27.442Z"
   },
   {
    "duration": 138,
    "start_time": "2024-01-25T10:16:27.591Z"
   },
   {
    "duration": 152,
    "start_time": "2024-01-25T10:16:27.731Z"
   },
   {
    "duration": 138,
    "start_time": "2024-01-25T10:16:27.885Z"
   },
   {
    "duration": 135,
    "start_time": "2024-01-25T10:16:28.024Z"
   },
   {
    "duration": 146,
    "start_time": "2024-01-25T10:16:28.160Z"
   },
   {
    "duration": 140,
    "start_time": "2024-01-25T10:16:28.308Z"
   },
   {
    "duration": 135,
    "start_time": "2024-01-25T10:16:28.449Z"
   },
   {
    "duration": 202,
    "start_time": "2024-01-25T10:16:28.585Z"
   },
   {
    "duration": 18,
    "start_time": "2024-01-25T10:16:28.789Z"
   },
   {
    "duration": 25,
    "start_time": "2024-01-25T10:16:28.808Z"
   },
   {
    "duration": 114,
    "start_time": "2024-01-25T10:16:28.835Z"
   },
   {
    "duration": 6,
    "start_time": "2024-01-25T10:16:28.951Z"
   },
   {
    "duration": 118,
    "start_time": "2024-01-25T10:16:28.958Z"
   },
   {
    "duration": 9,
    "start_time": "2024-01-25T10:16:29.077Z"
   },
   {
    "duration": 106,
    "start_time": "2024-01-25T10:16:29.088Z"
   },
   {
    "duration": 6,
    "start_time": "2024-01-25T10:16:29.196Z"
   },
   {
    "duration": 160,
    "start_time": "2024-01-25T10:16:29.204Z"
   },
   {
    "duration": 158,
    "start_time": "2024-01-25T10:16:29.365Z"
   },
   {
    "duration": 14,
    "start_time": "2024-01-25T10:16:29.526Z"
   },
   {
    "duration": 199,
    "start_time": "2024-01-25T10:16:29.541Z"
   },
   {
    "duration": 223,
    "start_time": "2024-01-25T10:16:29.742Z"
   },
   {
    "duration": 201,
    "start_time": "2024-01-25T10:16:29.966Z"
   },
   {
    "duration": 15,
    "start_time": "2024-01-25T10:16:30.168Z"
   },
   {
    "duration": 44,
    "start_time": "2024-01-25T10:16:30.184Z"
   },
   {
    "duration": 53,
    "start_time": "2024-01-25T10:16:30.229Z"
   },
   {
    "duration": 54,
    "start_time": "2024-01-25T10:16:30.283Z"
   },
   {
    "duration": 71,
    "start_time": "2024-01-25T10:16:30.339Z"
   },
   {
    "duration": 127,
    "start_time": "2024-01-25T10:16:30.412Z"
   },
   {
    "duration": 88,
    "start_time": "2024-01-25T10:16:30.540Z"
   },
   {
    "duration": 55,
    "start_time": "2024-01-25T10:16:30.629Z"
   },
   {
    "duration": 77,
    "start_time": "2024-01-25T10:25:46.990Z"
   },
   {
    "duration": 25,
    "start_time": "2024-01-25T10:34:13.624Z"
   },
   {
    "duration": 1252,
    "start_time": "2024-01-28T15:00:46.827Z"
   },
   {
    "duration": 95,
    "start_time": "2024-01-28T15:00:48.081Z"
   },
   {
    "duration": 19,
    "start_time": "2024-01-28T15:00:48.178Z"
   },
   {
    "duration": 37,
    "start_time": "2024-01-28T15:00:48.199Z"
   },
   {
    "duration": 38,
    "start_time": "2024-01-28T15:00:48.237Z"
   },
   {
    "duration": 27,
    "start_time": "2024-01-28T15:00:48.277Z"
   },
   {
    "duration": 22,
    "start_time": "2024-01-28T15:00:48.305Z"
   },
   {
    "duration": 28,
    "start_time": "2024-01-28T15:00:48.328Z"
   },
   {
    "duration": 36,
    "start_time": "2024-01-28T15:00:48.358Z"
   },
   {
    "duration": 41,
    "start_time": "2024-01-28T15:00:48.397Z"
   },
   {
    "duration": 25,
    "start_time": "2024-01-28T15:00:48.439Z"
   },
   {
    "duration": 23,
    "start_time": "2024-01-28T15:00:48.466Z"
   },
   {
    "duration": 21,
    "start_time": "2024-01-28T15:00:48.491Z"
   },
   {
    "duration": 45,
    "start_time": "2024-01-28T15:00:48.514Z"
   },
   {
    "duration": 55,
    "start_time": "2024-01-28T15:00:48.561Z"
   },
   {
    "duration": 80,
    "start_time": "2024-01-28T15:00:48.617Z"
   },
   {
    "duration": 20,
    "start_time": "2024-01-28T15:00:48.699Z"
   },
   {
    "duration": 30,
    "start_time": "2024-01-28T15:00:48.721Z"
   },
   {
    "duration": 183,
    "start_time": "2024-01-28T15:00:48.752Z"
   },
   {
    "duration": 8,
    "start_time": "2024-01-28T15:00:48.936Z"
   },
   {
    "duration": 149,
    "start_time": "2024-01-28T15:00:48.945Z"
   },
   {
    "duration": 6,
    "start_time": "2024-01-28T15:00:49.096Z"
   },
   {
    "duration": 161,
    "start_time": "2024-01-28T15:00:49.103Z"
   },
   {
    "duration": 142,
    "start_time": "2024-01-28T15:00:49.266Z"
   },
   {
    "duration": 140,
    "start_time": "2024-01-28T15:00:49.410Z"
   },
   {
    "duration": 141,
    "start_time": "2024-01-28T15:00:49.552Z"
   },
   {
    "duration": 145,
    "start_time": "2024-01-28T15:00:49.695Z"
   },
   {
    "duration": 163,
    "start_time": "2024-01-28T15:00:49.843Z"
   },
   {
    "duration": 212,
    "start_time": "2024-01-28T15:00:50.008Z"
   },
   {
    "duration": 131,
    "start_time": "2024-01-28T15:00:50.222Z"
   },
   {
    "duration": 146,
    "start_time": "2024-01-28T15:00:50.355Z"
   },
   {
    "duration": 18,
    "start_time": "2024-01-28T15:00:50.502Z"
   },
   {
    "duration": 44,
    "start_time": "2024-01-28T15:00:50.522Z"
   },
   {
    "duration": 16,
    "start_time": "2024-01-28T15:00:50.568Z"
   },
   {
    "duration": 503,
    "start_time": "2024-01-28T15:00:50.586Z"
   },
   {
    "duration": 1058,
    "start_time": "2024-01-28T15:00:51.090Z"
   },
   {
    "duration": 1109,
    "start_time": "2024-01-28T15:00:52.150Z"
   },
   {
    "duration": 17,
    "start_time": "2024-01-28T15:00:53.260Z"
   },
   {
    "duration": 12,
    "start_time": "2024-01-28T15:00:53.279Z"
   },
   {
    "duration": 36,
    "start_time": "2024-01-28T15:00:53.293Z"
   },
   {
    "duration": 36,
    "start_time": "2024-01-28T15:00:53.331Z"
   },
   {
    "duration": 26,
    "start_time": "2024-01-28T15:00:53.368Z"
   },
   {
    "duration": 27,
    "start_time": "2024-01-28T15:00:53.396Z"
   },
   {
    "duration": 16,
    "start_time": "2024-01-28T15:00:53.424Z"
   },
   {
    "duration": 12,
    "start_time": "2024-01-28T15:00:53.442Z"
   },
   {
    "duration": 36,
    "start_time": "2024-01-28T15:00:53.456Z"
   },
   {
    "duration": 31,
    "start_time": "2024-01-28T15:00:53.494Z"
   },
   {
    "duration": 14,
    "start_time": "2024-01-28T15:00:53.526Z"
   },
   {
    "duration": 11,
    "start_time": "2024-01-28T15:00:53.542Z"
   },
   {
    "duration": 17,
    "start_time": "2024-01-28T15:00:53.554Z"
   },
   {
    "duration": 22,
    "start_time": "2024-01-28T15:00:53.573Z"
   },
   {
    "duration": 15,
    "start_time": "2024-01-28T15:00:53.596Z"
   },
   {
    "duration": 24,
    "start_time": "2024-01-28T15:00:53.613Z"
   },
   {
    "duration": 13,
    "start_time": "2024-01-28T15:00:53.638Z"
   },
   {
    "duration": 1316,
    "start_time": "2024-01-28T15:41:08.202Z"
   },
   {
    "duration": 95,
    "start_time": "2024-01-28T15:41:09.520Z"
   },
   {
    "duration": 30,
    "start_time": "2024-01-28T15:41:09.617Z"
   },
   {
    "duration": 56,
    "start_time": "2024-01-28T15:41:09.649Z"
   },
   {
    "duration": 60,
    "start_time": "2024-01-28T15:41:09.708Z"
   },
   {
    "duration": 40,
    "start_time": "2024-01-28T15:41:09.770Z"
   },
   {
    "duration": 37,
    "start_time": "2024-01-28T15:41:09.811Z"
   },
   {
    "duration": 47,
    "start_time": "2024-01-28T15:41:09.850Z"
   },
   {
    "duration": 37,
    "start_time": "2024-01-28T15:41:09.899Z"
   },
   {
    "duration": 45,
    "start_time": "2024-01-28T15:41:09.938Z"
   },
   {
    "duration": 58,
    "start_time": "2024-01-28T15:41:09.984Z"
   },
   {
    "duration": 43,
    "start_time": "2024-01-28T15:41:10.044Z"
   },
   {
    "duration": 53,
    "start_time": "2024-01-28T15:41:10.088Z"
   },
   {
    "duration": 56,
    "start_time": "2024-01-28T15:41:10.144Z"
   },
   {
    "duration": 69,
    "start_time": "2024-01-28T15:41:10.202Z"
   },
   {
    "duration": 105,
    "start_time": "2024-01-28T15:41:10.273Z"
   },
   {
    "duration": 20,
    "start_time": "2024-01-28T15:41:10.380Z"
   },
   {
    "duration": 39,
    "start_time": "2024-01-28T15:41:10.402Z"
   },
   {
    "duration": 180,
    "start_time": "2024-01-28T15:41:10.444Z"
   },
   {
    "duration": 8,
    "start_time": "2024-01-28T15:41:10.626Z"
   },
   {
    "duration": 185,
    "start_time": "2024-01-28T15:41:10.635Z"
   },
   {
    "duration": 7,
    "start_time": "2024-01-28T15:41:10.822Z"
   },
   {
    "duration": 172,
    "start_time": "2024-01-28T15:41:10.831Z"
   },
   {
    "duration": 153,
    "start_time": "2024-01-28T15:41:11.005Z"
   },
   {
    "duration": 153,
    "start_time": "2024-01-28T15:41:11.159Z"
   },
   {
    "duration": 148,
    "start_time": "2024-01-28T15:41:11.314Z"
   },
   {
    "duration": 142,
    "start_time": "2024-01-28T15:41:11.464Z"
   },
   {
    "duration": 160,
    "start_time": "2024-01-28T15:41:11.607Z"
   },
   {
    "duration": 214,
    "start_time": "2024-01-28T15:41:11.768Z"
   },
   {
    "duration": 135,
    "start_time": "2024-01-28T15:41:11.983Z"
   },
   {
    "duration": 155,
    "start_time": "2024-01-28T15:41:12.119Z"
   },
   {
    "duration": 21,
    "start_time": "2024-01-28T15:41:12.276Z"
   },
   {
    "duration": 24,
    "start_time": "2024-01-28T15:41:12.299Z"
   },
   {
    "duration": 15,
    "start_time": "2024-01-28T15:41:12.325Z"
   },
   {
    "duration": 532,
    "start_time": "2024-01-28T15:41:12.342Z"
   },
   {
    "duration": 1097,
    "start_time": "2024-01-28T15:41:12.876Z"
   },
   {
    "duration": 1197,
    "start_time": "2024-01-28T15:41:13.975Z"
   },
   {
    "duration": 19,
    "start_time": "2024-01-28T15:41:15.174Z"
   },
   {
    "duration": 31,
    "start_time": "2024-01-28T15:41:15.194Z"
   },
   {
    "duration": 6,
    "start_time": "2024-01-28T15:41:15.226Z"
   },
   {
    "duration": 27,
    "start_time": "2024-01-28T15:41:15.236Z"
   },
   {
    "duration": 18,
    "start_time": "2024-01-28T15:41:15.265Z"
   },
   {
    "duration": 41,
    "start_time": "2024-01-28T15:41:15.285Z"
   },
   {
    "duration": 22,
    "start_time": "2024-01-28T15:41:15.328Z"
   },
   {
    "duration": 35,
    "start_time": "2024-01-28T15:41:15.352Z"
   },
   {
    "duration": 20,
    "start_time": "2024-01-28T15:41:15.388Z"
   },
   {
    "duration": 27,
    "start_time": "2024-01-28T15:41:15.410Z"
   },
   {
    "duration": 17,
    "start_time": "2024-01-28T15:41:15.438Z"
   },
   {
    "duration": 15,
    "start_time": "2024-01-28T15:41:15.456Z"
   },
   {
    "duration": 33,
    "start_time": "2024-01-28T15:41:15.472Z"
   },
   {
    "duration": 21,
    "start_time": "2024-01-28T15:41:15.507Z"
   },
   {
    "duration": 24,
    "start_time": "2024-01-28T15:41:15.529Z"
   },
   {
    "duration": 14,
    "start_time": "2024-01-28T15:41:15.555Z"
   },
   {
    "duration": 9,
    "start_time": "2024-01-28T15:41:15.571Z"
   },
   {
    "duration": 23,
    "start_time": "2024-01-28T15:44:02.538Z"
   },
   {
    "duration": 107,
    "start_time": "2024-01-28T15:44:21.412Z"
   },
   {
    "duration": 1162,
    "start_time": "2024-01-28T15:44:28.271Z"
   },
   {
    "duration": 58,
    "start_time": "2024-01-28T15:44:29.435Z"
   },
   {
    "duration": 20,
    "start_time": "2024-01-28T15:44:29.494Z"
   },
   {
    "duration": 14,
    "start_time": "2024-01-28T15:44:29.516Z"
   },
   {
    "duration": 16,
    "start_time": "2024-01-28T15:44:29.532Z"
   },
   {
    "duration": 41,
    "start_time": "2024-01-28T15:44:29.550Z"
   },
   {
    "duration": 23,
    "start_time": "2024-01-28T15:44:29.600Z"
   },
   {
    "duration": 3,
    "start_time": "2024-01-28T15:44:29.625Z"
   },
   {
    "duration": 6,
    "start_time": "2024-01-28T15:44:29.629Z"
   },
   {
    "duration": 5,
    "start_time": "2024-01-28T15:44:29.637Z"
   },
   {
    "duration": 5,
    "start_time": "2024-01-28T15:44:29.643Z"
   },
   {
    "duration": 36,
    "start_time": "2024-01-28T15:44:29.650Z"
   },
   {
    "duration": 12,
    "start_time": "2024-01-28T15:44:29.688Z"
   },
   {
    "duration": 2,
    "start_time": "2024-01-28T15:44:29.703Z"
   },
   {
    "duration": 19,
    "start_time": "2024-01-28T15:44:29.706Z"
   },
   {
    "duration": 17,
    "start_time": "2024-01-28T15:44:29.726Z"
   },
   {
    "duration": 112,
    "start_time": "2024-01-28T15:44:29.744Z"
   },
   {
    "duration": 32,
    "start_time": "2024-01-28T15:44:29.857Z"
   },
   {
    "duration": 19,
    "start_time": "2024-01-28T15:44:29.890Z"
   },
   {
    "duration": 185,
    "start_time": "2024-01-28T15:44:29.911Z"
   },
   {
    "duration": 8,
    "start_time": "2024-01-28T15:44:30.097Z"
   },
   {
    "duration": 166,
    "start_time": "2024-01-28T15:44:30.106Z"
   },
   {
    "duration": 12,
    "start_time": "2024-01-28T15:44:30.274Z"
   },
   {
    "duration": 172,
    "start_time": "2024-01-28T15:44:30.288Z"
   },
   {
    "duration": 167,
    "start_time": "2024-01-28T15:44:30.462Z"
   },
   {
    "duration": 155,
    "start_time": "2024-01-28T15:44:30.631Z"
   },
   {
    "duration": 195,
    "start_time": "2024-01-28T15:44:30.787Z"
   },
   {
    "duration": 242,
    "start_time": "2024-01-28T15:44:30.984Z"
   },
   {
    "duration": 309,
    "start_time": "2024-01-28T15:44:31.281Z"
   },
   {
    "duration": 421,
    "start_time": "2024-01-28T15:44:31.591Z"
   },
   {
    "duration": 289,
    "start_time": "2024-01-28T15:44:32.014Z"
   },
   {
    "duration": 214,
    "start_time": "2024-01-28T15:44:32.304Z"
   },
   {
    "duration": 23,
    "start_time": "2024-01-28T15:44:32.520Z"
   },
   {
    "duration": 41,
    "start_time": "2024-01-28T15:44:32.545Z"
   },
   {
    "duration": 16,
    "start_time": "2024-01-28T15:44:32.588Z"
   },
   {
    "duration": 512,
    "start_time": "2024-01-28T15:44:32.605Z"
   },
   {
    "duration": 1112,
    "start_time": "2024-01-28T15:44:33.119Z"
   },
   {
    "duration": 1189,
    "start_time": "2024-01-28T15:44:34.233Z"
   },
   {
    "duration": 15,
    "start_time": "2024-01-28T15:44:35.424Z"
   },
   {
    "duration": 12,
    "start_time": "2024-01-28T15:44:35.441Z"
   },
   {
    "duration": 2,
    "start_time": "2024-01-28T15:44:35.457Z"
   },
   {
    "duration": 31,
    "start_time": "2024-01-28T15:44:35.460Z"
   },
   {
    "duration": 2,
    "start_time": "2024-01-28T15:44:35.493Z"
   },
   {
    "duration": 15,
    "start_time": "2024-01-28T15:44:35.496Z"
   },
   {
    "duration": 3,
    "start_time": "2024-01-28T15:44:35.512Z"
   },
   {
    "duration": 8,
    "start_time": "2024-01-28T15:44:35.516Z"
   },
   {
    "duration": 10,
    "start_time": "2024-01-28T15:44:35.525Z"
   },
   {
    "duration": 7,
    "start_time": "2024-01-28T15:44:35.536Z"
   },
   {
    "duration": 39,
    "start_time": "2024-01-28T15:44:35.544Z"
   },
   {
    "duration": 8,
    "start_time": "2024-01-28T15:44:35.585Z"
   },
   {
    "duration": 8,
    "start_time": "2024-01-28T15:44:35.594Z"
   },
   {
    "duration": 9,
    "start_time": "2024-01-28T15:44:35.604Z"
   },
   {
    "duration": 17,
    "start_time": "2024-01-28T15:44:35.615Z"
   },
   {
    "duration": 12,
    "start_time": "2024-01-28T15:44:35.633Z"
   },
   {
    "duration": 10,
    "start_time": "2024-01-28T15:44:35.646Z"
   },
   {
    "duration": 101,
    "start_time": "2024-01-28T16:16:08.005Z"
   },
   {
    "duration": 11,
    "start_time": "2024-01-28T16:16:36.450Z"
   },
   {
    "duration": 157,
    "start_time": "2024-01-28T16:16:44.539Z"
   },
   {
    "duration": 166,
    "start_time": "2024-01-28T16:16:59.763Z"
   },
   {
    "duration": 147,
    "start_time": "2024-01-28T16:17:44.749Z"
   },
   {
    "duration": 151,
    "start_time": "2024-01-28T16:18:02.830Z"
   },
   {
    "duration": 169,
    "start_time": "2024-01-28T16:18:36.682Z"
   },
   {
    "duration": 174,
    "start_time": "2024-01-28T16:19:09.980Z"
   },
   {
    "duration": 5,
    "start_time": "2024-01-28T16:25:16.696Z"
   },
   {
    "duration": 5,
    "start_time": "2024-01-28T16:25:36.531Z"
   },
   {
    "duration": 4,
    "start_time": "2024-01-28T16:26:05.904Z"
   },
   {
    "duration": 22,
    "start_time": "2024-01-28T16:28:37.960Z"
   },
   {
    "duration": 8,
    "start_time": "2024-01-28T16:32:21.278Z"
   },
   {
    "duration": 5,
    "start_time": "2024-01-28T16:32:29.263Z"
   },
   {
    "duration": 8,
    "start_time": "2024-01-28T16:32:43.478Z"
   },
   {
    "duration": 7,
    "start_time": "2024-01-28T16:32:59.028Z"
   },
   {
    "duration": 1452,
    "start_time": "2024-01-29T08:01:27.810Z"
   },
   {
    "duration": 189,
    "start_time": "2024-01-29T08:01:29.264Z"
   },
   {
    "duration": 22,
    "start_time": "2024-01-29T08:01:29.454Z"
   },
   {
    "duration": 16,
    "start_time": "2024-01-29T08:01:29.478Z"
   },
   {
    "duration": 28,
    "start_time": "2024-01-29T08:01:29.496Z"
   },
   {
    "duration": 43,
    "start_time": "2024-01-29T08:01:29.526Z"
   },
   {
    "duration": 27,
    "start_time": "2024-01-29T08:01:29.571Z"
   },
   {
    "duration": 4,
    "start_time": "2024-01-29T08:01:29.600Z"
   },
   {
    "duration": 31,
    "start_time": "2024-01-29T08:01:29.606Z"
   },
   {
    "duration": 9,
    "start_time": "2024-01-29T08:01:29.640Z"
   },
   {
    "duration": 13,
    "start_time": "2024-01-29T08:01:29.651Z"
   },
   {
    "duration": 14,
    "start_time": "2024-01-29T08:01:29.666Z"
   },
   {
    "duration": 17,
    "start_time": "2024-01-29T08:01:29.682Z"
   },
   {
    "duration": 2,
    "start_time": "2024-01-29T08:01:29.701Z"
   },
   {
    "duration": 31,
    "start_time": "2024-01-29T08:01:29.705Z"
   },
   {
    "duration": 28,
    "start_time": "2024-01-29T08:01:29.738Z"
   },
   {
    "duration": 122,
    "start_time": "2024-01-29T08:01:29.769Z"
   },
   {
    "duration": 22,
    "start_time": "2024-01-29T08:01:29.893Z"
   },
   {
    "duration": 33,
    "start_time": "2024-01-29T08:01:29.916Z"
   },
   {
    "duration": 190,
    "start_time": "2024-01-29T08:01:29.950Z"
   },
   {
    "duration": 7,
    "start_time": "2024-01-29T08:01:30.142Z"
   },
   {
    "duration": 200,
    "start_time": "2024-01-29T08:01:30.151Z"
   },
   {
    "duration": 7,
    "start_time": "2024-01-29T08:01:30.353Z"
   },
   {
    "duration": 188,
    "start_time": "2024-01-29T08:01:30.361Z"
   },
   {
    "duration": 150,
    "start_time": "2024-01-29T08:01:30.551Z"
   },
   {
    "duration": 167,
    "start_time": "2024-01-29T08:01:30.703Z"
   },
   {
    "duration": 170,
    "start_time": "2024-01-29T08:01:30.873Z"
   },
   {
    "duration": 169,
    "start_time": "2024-01-29T08:01:31.047Z"
   },
   {
    "duration": 176,
    "start_time": "2024-01-29T08:01:31.218Z"
   },
   {
    "duration": 226,
    "start_time": "2024-01-29T08:01:31.396Z"
   },
   {
    "duration": 138,
    "start_time": "2024-01-29T08:01:31.623Z"
   },
   {
    "duration": 233,
    "start_time": "2024-01-29T08:01:31.763Z"
   },
   {
    "duration": 20,
    "start_time": "2024-01-29T08:01:31.998Z"
   },
   {
    "duration": 40,
    "start_time": "2024-01-29T08:01:32.020Z"
   },
   {
    "duration": 36,
    "start_time": "2024-01-29T08:01:32.062Z"
   },
   {
    "duration": 527,
    "start_time": "2024-01-29T08:01:32.100Z"
   },
   {
    "duration": 1170,
    "start_time": "2024-01-29T08:01:32.629Z"
   },
   {
    "duration": 1255,
    "start_time": "2024-01-29T08:01:33.801Z"
   },
   {
    "duration": 175,
    "start_time": "2024-01-29T08:01:35.058Z"
   },
   {
    "duration": 18,
    "start_time": "2024-01-29T08:01:35.236Z"
   },
   {
    "duration": 27,
    "start_time": "2024-01-29T08:01:35.256Z"
   },
   {
    "duration": 6,
    "start_time": "2024-01-29T08:01:35.291Z"
   },
   {
    "duration": 24,
    "start_time": "2024-01-29T08:01:35.299Z"
   },
   {
    "duration": 2,
    "start_time": "2024-01-29T08:01:35.325Z"
   },
   {
    "duration": 20,
    "start_time": "2024-01-29T08:01:35.329Z"
   },
   {
    "duration": 13,
    "start_time": "2024-01-29T08:01:35.351Z"
   },
   {
    "duration": 10,
    "start_time": "2024-01-29T08:01:35.365Z"
   },
   {
    "duration": 7,
    "start_time": "2024-01-29T08:01:35.377Z"
   },
   {
    "duration": 23,
    "start_time": "2024-01-29T08:01:35.385Z"
   },
   {
    "duration": 13,
    "start_time": "2024-01-29T08:01:35.409Z"
   },
   {
    "duration": 7,
    "start_time": "2024-01-29T08:01:35.424Z"
   },
   {
    "duration": 7,
    "start_time": "2024-01-29T08:01:35.432Z"
   },
   {
    "duration": 10,
    "start_time": "2024-01-29T08:01:35.441Z"
   },
   {
    "duration": 8,
    "start_time": "2024-01-29T08:01:35.452Z"
   },
   {
    "duration": 6,
    "start_time": "2024-01-29T08:01:35.461Z"
   },
   {
    "duration": 6,
    "start_time": "2024-01-29T08:01:35.492Z"
   },
   {
    "duration": 24,
    "start_time": "2024-01-29T08:01:35.499Z"
   },
   {
    "duration": 5,
    "start_time": "2024-01-29T08:06:13.139Z"
   },
   {
    "duration": 10,
    "start_time": "2024-01-29T08:06:35.706Z"
   },
   {
    "duration": 12,
    "start_time": "2024-01-29T08:06:42.403Z"
   },
   {
    "duration": 139,
    "start_time": "2024-01-29T08:09:58.859Z"
   },
   {
    "duration": 3,
    "start_time": "2024-01-29T08:24:54.155Z"
   },
   {
    "duration": 84,
    "start_time": "2024-01-29T08:24:54.160Z"
   },
   {
    "duration": 18,
    "start_time": "2024-01-29T08:24:54.246Z"
   },
   {
    "duration": 40,
    "start_time": "2024-01-29T08:24:54.265Z"
   },
   {
    "duration": 41,
    "start_time": "2024-01-29T08:24:54.308Z"
   },
   {
    "duration": 24,
    "start_time": "2024-01-29T08:24:54.351Z"
   },
   {
    "duration": 36,
    "start_time": "2024-01-29T08:24:54.377Z"
   },
   {
    "duration": 26,
    "start_time": "2024-01-29T08:24:54.415Z"
   },
   {
    "duration": 46,
    "start_time": "2024-01-29T08:24:54.443Z"
   },
   {
    "duration": 19,
    "start_time": "2024-01-29T08:24:54.491Z"
   },
   {
    "duration": 34,
    "start_time": "2024-01-29T08:24:54.513Z"
   },
   {
    "duration": 43,
    "start_time": "2024-01-29T08:24:54.549Z"
   },
   {
    "duration": 26,
    "start_time": "2024-01-29T08:24:54.594Z"
   },
   {
    "duration": 15,
    "start_time": "2024-01-29T08:24:54.622Z"
   },
   {
    "duration": 45,
    "start_time": "2024-01-29T08:24:54.638Z"
   },
   {
    "duration": 45,
    "start_time": "2024-01-29T08:24:54.684Z"
   },
   {
    "duration": 124,
    "start_time": "2024-01-29T08:24:54.731Z"
   },
   {
    "duration": 23,
    "start_time": "2024-01-29T08:24:54.856Z"
   },
   {
    "duration": 70,
    "start_time": "2024-01-29T08:24:54.881Z"
   },
   {
    "duration": 216,
    "start_time": "2024-01-29T08:24:54.952Z"
   },
   {
    "duration": 8,
    "start_time": "2024-01-29T08:24:55.169Z"
   },
   {
    "duration": 255,
    "start_time": "2024-01-29T08:24:55.179Z"
   },
   {
    "duration": 8,
    "start_time": "2024-01-29T08:24:55.436Z"
   },
   {
    "duration": 286,
    "start_time": "2024-01-29T08:24:55.446Z"
   },
   {
    "duration": 186,
    "start_time": "2024-01-29T08:24:55.734Z"
   },
   {
    "duration": 200,
    "start_time": "2024-01-29T08:24:55.922Z"
   },
   {
    "duration": 189,
    "start_time": "2024-01-29T08:24:56.124Z"
   },
   {
    "duration": 181,
    "start_time": "2024-01-29T08:24:56.314Z"
   },
   {
    "duration": 206,
    "start_time": "2024-01-29T08:24:56.498Z"
   },
   {
    "duration": 289,
    "start_time": "2024-01-29T08:24:56.706Z"
   },
   {
    "duration": 179,
    "start_time": "2024-01-29T08:24:56.997Z"
   },
   {
    "duration": 188,
    "start_time": "2024-01-29T08:24:57.177Z"
   },
   {
    "duration": 29,
    "start_time": "2024-01-29T08:24:57.367Z"
   },
   {
    "duration": 48,
    "start_time": "2024-01-29T08:24:57.397Z"
   },
   {
    "duration": 18,
    "start_time": "2024-01-29T08:24:57.446Z"
   },
   {
    "duration": 587,
    "start_time": "2024-01-29T08:24:57.465Z"
   },
   {
    "duration": 1162,
    "start_time": "2024-01-29T08:24:58.053Z"
   },
   {
    "duration": 1325,
    "start_time": "2024-01-29T08:24:59.216Z"
   },
   {
    "duration": 227,
    "start_time": "2024-01-29T08:25:00.543Z"
   },
   {
    "duration": 27,
    "start_time": "2024-01-29T08:25:00.772Z"
   },
   {
    "duration": 58,
    "start_time": "2024-01-29T08:25:00.802Z"
   },
   {
    "duration": 83,
    "start_time": "2024-01-29T08:25:00.862Z"
   },
   {
    "duration": 230,
    "start_time": "2024-01-29T08:25:00.947Z"
   },
   {
    "duration": 35,
    "start_time": "2024-01-29T08:25:01.179Z"
   },
   {
    "duration": 73,
    "start_time": "2024-01-29T08:25:01.217Z"
   },
   {
    "duration": 2,
    "start_time": "2024-01-29T08:25:01.292Z"
   },
   {
    "duration": 32,
    "start_time": "2024-01-29T08:25:01.296Z"
   },
   {
    "duration": 32,
    "start_time": "2024-01-29T08:25:01.330Z"
   },
   {
    "duration": 35,
    "start_time": "2024-01-29T08:25:01.363Z"
   },
   {
    "duration": 185,
    "start_time": "2024-01-29T08:25:01.399Z"
   },
   {
    "duration": 71,
    "start_time": "2024-01-29T08:25:01.586Z"
   },
   {
    "duration": 89,
    "start_time": "2024-01-29T08:25:01.659Z"
   },
   {
    "duration": 379,
    "start_time": "2024-01-29T08:25:01.750Z"
   },
   {
    "duration": 294,
    "start_time": "2024-01-29T08:25:02.130Z"
   },
   {
    "duration": 1197,
    "start_time": "2024-01-29T16:04:01.925Z"
   },
   {
    "duration": 54,
    "start_time": "2024-01-29T16:04:03.124Z"
   },
   {
    "duration": 30,
    "start_time": "2024-01-29T16:04:03.179Z"
   },
   {
    "duration": 52,
    "start_time": "2024-01-29T16:04:03.210Z"
   },
   {
    "duration": 28,
    "start_time": "2024-01-29T16:04:03.265Z"
   },
   {
    "duration": 82,
    "start_time": "2024-01-29T16:04:03.295Z"
   },
   {
    "duration": 56,
    "start_time": "2024-01-29T16:04:03.379Z"
   },
   {
    "duration": 7,
    "start_time": "2024-01-29T16:04:03.436Z"
   },
   {
    "duration": 41,
    "start_time": "2024-01-29T16:04:03.445Z"
   },
   {
    "duration": 29,
    "start_time": "2024-01-29T16:04:03.488Z"
   },
   {
    "duration": 37,
    "start_time": "2024-01-29T16:04:03.518Z"
   },
   {
    "duration": 32,
    "start_time": "2024-01-29T16:04:03.557Z"
   },
   {
    "duration": 12,
    "start_time": "2024-01-29T16:04:03.590Z"
   },
   {
    "duration": 9,
    "start_time": "2024-01-29T16:04:03.606Z"
   },
   {
    "duration": 21,
    "start_time": "2024-01-29T16:04:03.616Z"
   },
   {
    "duration": 57,
    "start_time": "2024-01-29T16:04:03.638Z"
   },
   {
    "duration": 100,
    "start_time": "2024-01-29T16:04:03.697Z"
   },
   {
    "duration": 20,
    "start_time": "2024-01-29T16:04:03.799Z"
   },
   {
    "duration": 32,
    "start_time": "2024-01-29T16:04:03.821Z"
   },
   {
    "duration": 350,
    "start_time": "2024-01-29T16:04:03.855Z"
   },
   {
    "duration": 41,
    "start_time": "2024-01-29T16:04:04.206Z"
   },
   {
    "duration": 138,
    "start_time": "2024-01-29T16:04:04.248Z"
   },
   {
    "duration": 7,
    "start_time": "2024-01-29T16:04:04.387Z"
   },
   {
    "duration": 163,
    "start_time": "2024-01-29T16:04:04.395Z"
   },
   {
    "duration": 152,
    "start_time": "2024-01-29T16:04:04.560Z"
   },
   {
    "duration": 155,
    "start_time": "2024-01-29T16:04:04.714Z"
   },
   {
    "duration": 146,
    "start_time": "2024-01-29T16:04:04.870Z"
   },
   {
    "duration": 141,
    "start_time": "2024-01-29T16:04:05.017Z"
   },
   {
    "duration": 164,
    "start_time": "2024-01-29T16:04:05.160Z"
   },
   {
    "duration": 216,
    "start_time": "2024-01-29T16:04:05.326Z"
   },
   {
    "duration": 133,
    "start_time": "2024-01-29T16:04:05.544Z"
   },
   {
    "duration": 159,
    "start_time": "2024-01-29T16:04:05.678Z"
   },
   {
    "duration": 17,
    "start_time": "2024-01-29T16:04:05.838Z"
   },
   {
    "duration": 41,
    "start_time": "2024-01-29T16:04:05.856Z"
   },
   {
    "duration": 19,
    "start_time": "2024-01-29T16:04:05.899Z"
   },
   {
    "duration": 493,
    "start_time": "2024-01-29T16:04:05.920Z"
   },
   {
    "duration": 1082,
    "start_time": "2024-01-29T16:04:06.414Z"
   },
   {
    "duration": 1161,
    "start_time": "2024-01-29T16:04:07.498Z"
   },
   {
    "duration": 170,
    "start_time": "2024-01-29T16:04:08.660Z"
   },
   {
    "duration": 25,
    "start_time": "2024-01-29T16:04:08.833Z"
   },
   {
    "duration": 20,
    "start_time": "2024-01-29T16:04:08.880Z"
   },
   {
    "duration": 3,
    "start_time": "2024-01-29T16:04:08.903Z"
   },
   {
    "duration": 21,
    "start_time": "2024-01-29T16:04:08.908Z"
   },
   {
    "duration": 3,
    "start_time": "2024-01-29T16:04:08.931Z"
   },
   {
    "duration": 46,
    "start_time": "2024-01-29T16:04:08.936Z"
   },
   {
    "duration": 11,
    "start_time": "2024-01-29T16:04:08.983Z"
   },
   {
    "duration": 13,
    "start_time": "2024-01-29T16:04:08.995Z"
   },
   {
    "duration": 8,
    "start_time": "2024-01-29T16:04:09.010Z"
   },
   {
    "duration": 9,
    "start_time": "2024-01-29T16:04:09.020Z"
   },
   {
    "duration": 10,
    "start_time": "2024-01-29T16:04:09.030Z"
   },
   {
    "duration": 6,
    "start_time": "2024-01-29T16:04:09.042Z"
   },
   {
    "duration": 32,
    "start_time": "2024-01-29T16:04:09.050Z"
   },
   {
    "duration": 9,
    "start_time": "2024-01-29T16:04:09.085Z"
   },
   {
    "duration": 13,
    "start_time": "2024-01-29T16:04:09.097Z"
   },
   {
    "duration": 1402,
    "start_time": "2024-07-03T11:05:53.596Z"
   },
   {
    "duration": 200,
    "start_time": "2024-07-03T11:05:55.000Z"
   },
   {
    "duration": 21,
    "start_time": "2024-07-03T11:05:55.201Z"
   },
   {
    "duration": 18,
    "start_time": "2024-07-03T11:05:55.225Z"
   },
   {
    "duration": 79,
    "start_time": "2024-07-03T11:05:55.245Z"
   },
   {
    "duration": 10,
    "start_time": "2024-07-03T11:05:55.326Z"
   },
   {
    "duration": 31,
    "start_time": "2024-07-03T11:05:55.338Z"
   },
   {
    "duration": 10,
    "start_time": "2024-07-03T11:05:55.370Z"
   },
   {
    "duration": 9,
    "start_time": "2024-07-03T11:05:55.381Z"
   },
   {
    "duration": 7,
    "start_time": "2024-07-03T11:05:55.393Z"
   },
   {
    "duration": 5,
    "start_time": "2024-07-03T11:05:55.401Z"
   },
   {
    "duration": 23,
    "start_time": "2024-07-03T11:05:55.408Z"
   },
   {
    "duration": 23,
    "start_time": "2024-07-03T11:05:55.433Z"
   },
   {
    "duration": 3,
    "start_time": "2024-07-03T11:05:55.457Z"
   },
   {
    "duration": 10,
    "start_time": "2024-07-03T11:05:55.462Z"
   },
   {
    "duration": 25,
    "start_time": "2024-07-03T11:05:55.473Z"
   },
   {
    "duration": 115,
    "start_time": "2024-07-03T11:05:55.500Z"
   },
   {
    "duration": 21,
    "start_time": "2024-07-03T11:05:55.617Z"
   },
   {
    "duration": 129,
    "start_time": "2024-07-03T11:05:55.640Z"
   },
   {
    "duration": 182,
    "start_time": "2024-07-03T11:05:55.771Z"
   },
   {
    "duration": 7,
    "start_time": "2024-07-03T11:05:55.955Z"
   },
   {
    "duration": 166,
    "start_time": "2024-07-03T11:05:55.963Z"
   },
   {
    "duration": 9,
    "start_time": "2024-07-03T11:05:56.131Z"
   },
   {
    "duration": 151,
    "start_time": "2024-07-03T11:05:56.141Z"
   },
   {
    "duration": 156,
    "start_time": "2024-07-03T11:05:56.293Z"
   },
   {
    "duration": 168,
    "start_time": "2024-07-03T11:05:56.450Z"
   },
   {
    "duration": 164,
    "start_time": "2024-07-03T11:05:56.620Z"
   },
   {
    "duration": 154,
    "start_time": "2024-07-03T11:05:56.787Z"
   },
   {
    "duration": 168,
    "start_time": "2024-07-03T11:05:56.943Z"
   },
   {
    "duration": 221,
    "start_time": "2024-07-03T11:05:57.112Z"
   },
   {
    "duration": 139,
    "start_time": "2024-07-03T11:05:57.334Z"
   },
   {
    "duration": 154,
    "start_time": "2024-07-03T11:05:57.475Z"
   },
   {
    "duration": 26,
    "start_time": "2024-07-03T11:05:57.630Z"
   },
   {
    "duration": 114,
    "start_time": "2024-07-03T11:05:57.657Z"
   },
   {
    "duration": 14,
    "start_time": "2024-07-03T11:05:57.772Z"
   },
   {
    "duration": 507,
    "start_time": "2024-07-03T11:05:57.788Z"
   },
   {
    "duration": 1134,
    "start_time": "2024-07-03T11:05:58.297Z"
   },
   {
    "duration": 1217,
    "start_time": "2024-07-03T11:05:59.433Z"
   },
   {
    "duration": 165,
    "start_time": "2024-07-03T11:06:00.653Z"
   },
   {
    "duration": 34,
    "start_time": "2024-07-03T11:06:00.819Z"
   },
   {
    "duration": 50,
    "start_time": "2024-07-03T11:06:00.854Z"
   },
   {
    "duration": 164,
    "start_time": "2024-07-03T11:06:00.906Z"
   },
   {
    "duration": 64,
    "start_time": "2024-07-03T11:06:01.072Z"
   },
   {
    "duration": 33,
    "start_time": "2024-07-03T11:06:01.138Z"
   },
   {
    "duration": 39,
    "start_time": "2024-07-03T11:06:01.173Z"
   },
   {
    "duration": 29,
    "start_time": "2024-07-03T11:06:01.213Z"
   },
   {
    "duration": 78,
    "start_time": "2024-07-03T11:06:01.244Z"
   },
   {
    "duration": 32,
    "start_time": "2024-07-03T11:06:01.324Z"
   },
   {
    "duration": 35,
    "start_time": "2024-07-03T11:06:01.357Z"
   },
   {
    "duration": 41,
    "start_time": "2024-07-03T11:06:01.393Z"
   },
   {
    "duration": 51,
    "start_time": "2024-07-03T11:06:01.435Z"
   },
   {
    "duration": 60,
    "start_time": "2024-07-03T11:06:01.487Z"
   },
   {
    "duration": 51,
    "start_time": "2024-07-03T11:06:01.549Z"
   },
   {
    "duration": 150,
    "start_time": "2024-07-03T11:06:01.602Z"
   },
   {
    "duration": 1287,
    "start_time": "2024-07-03T11:20:49.957Z"
   },
   {
    "duration": 1203,
    "start_time": "2024-07-03T11:23:03.373Z"
   },
   {
    "duration": 1077,
    "start_time": "2024-07-03T11:23:58.801Z"
   },
   {
    "duration": 3,
    "start_time": "2024-07-03T11:24:36.460Z"
   },
   {
    "duration": 56,
    "start_time": "2024-07-03T11:24:36.464Z"
   },
   {
    "duration": 15,
    "start_time": "2024-07-03T11:24:36.522Z"
   },
   {
    "duration": 20,
    "start_time": "2024-07-03T11:24:36.539Z"
   },
   {
    "duration": 17,
    "start_time": "2024-07-03T11:24:36.561Z"
   },
   {
    "duration": 16,
    "start_time": "2024-07-03T11:24:36.580Z"
   },
   {
    "duration": 69,
    "start_time": "2024-07-03T11:24:36.599Z"
   },
   {
    "duration": 4,
    "start_time": "2024-07-03T11:24:36.670Z"
   },
   {
    "duration": 7,
    "start_time": "2024-07-03T11:24:36.676Z"
   },
   {
    "duration": 7,
    "start_time": "2024-07-03T11:24:36.685Z"
   },
   {
    "duration": 7,
    "start_time": "2024-07-03T11:24:36.696Z"
   },
   {
    "duration": 15,
    "start_time": "2024-07-03T11:24:36.704Z"
   },
   {
    "duration": 47,
    "start_time": "2024-07-03T11:24:36.721Z"
   },
   {
    "duration": 22,
    "start_time": "2024-07-03T11:24:36.769Z"
   },
   {
    "duration": 24,
    "start_time": "2024-07-03T11:24:36.793Z"
   },
   {
    "duration": 24,
    "start_time": "2024-07-03T11:24:36.819Z"
   },
   {
    "duration": 84,
    "start_time": "2024-07-03T11:24:36.845Z"
   },
   {
    "duration": 30,
    "start_time": "2024-07-03T11:24:36.930Z"
   },
   {
    "duration": 19,
    "start_time": "2024-07-03T11:24:36.962Z"
   },
   {
    "duration": 199,
    "start_time": "2024-07-03T11:24:36.983Z"
   },
   {
    "duration": 8,
    "start_time": "2024-07-03T11:24:37.184Z"
   },
   {
    "duration": 170,
    "start_time": "2024-07-03T11:24:37.193Z"
   },
   {
    "duration": 7,
    "start_time": "2024-07-03T11:24:37.364Z"
   },
   {
    "duration": 178,
    "start_time": "2024-07-03T11:24:37.373Z"
   },
   {
    "duration": 193,
    "start_time": "2024-07-03T11:24:37.555Z"
   },
   {
    "duration": 209,
    "start_time": "2024-07-03T11:24:37.750Z"
   },
   {
    "duration": 264,
    "start_time": "2024-07-03T11:24:37.961Z"
   },
   {
    "duration": 174,
    "start_time": "2024-07-03T11:24:38.227Z"
   },
   {
    "duration": 194,
    "start_time": "2024-07-03T11:24:38.405Z"
   },
   {
    "duration": 195,
    "start_time": "2024-07-03T11:24:38.601Z"
   },
   {
    "duration": 176,
    "start_time": "2024-07-03T11:24:38.797Z"
   },
   {
    "duration": 184,
    "start_time": "2024-07-03T11:24:38.974Z"
   },
   {
    "duration": 18,
    "start_time": "2024-07-03T11:24:39.160Z"
   },
   {
    "duration": 34,
    "start_time": "2024-07-03T11:24:39.180Z"
   },
   {
    "duration": 48,
    "start_time": "2024-07-03T11:24:39.216Z"
   },
   {
    "duration": 576,
    "start_time": "2024-07-03T11:24:39.266Z"
   },
   {
    "duration": 1183,
    "start_time": "2024-07-03T11:24:39.843Z"
   },
   {
    "duration": 1107,
    "start_time": "2024-07-03T11:24:41.028Z"
   },
   {
    "duration": 169,
    "start_time": "2024-07-03T11:24:42.136Z"
   },
   {
    "duration": 16,
    "start_time": "2024-07-03T11:24:42.307Z"
   },
   {
    "duration": 53,
    "start_time": "2024-07-03T11:24:42.325Z"
   },
   {
    "duration": 8,
    "start_time": "2024-07-03T11:24:42.380Z"
   },
   {
    "duration": 24,
    "start_time": "2024-07-03T11:24:42.389Z"
   },
   {
    "duration": 16,
    "start_time": "2024-07-03T11:24:42.414Z"
   },
   {
    "duration": 26,
    "start_time": "2024-07-03T11:24:42.431Z"
   },
   {
    "duration": 2,
    "start_time": "2024-07-03T11:24:42.459Z"
   },
   {
    "duration": 31,
    "start_time": "2024-07-03T11:24:42.463Z"
   },
   {
    "duration": 22,
    "start_time": "2024-07-03T11:24:42.496Z"
   },
   {
    "duration": 18,
    "start_time": "2024-07-03T11:24:42.519Z"
   },
   {
    "duration": 31,
    "start_time": "2024-07-03T11:24:42.539Z"
   },
   {
    "duration": 11,
    "start_time": "2024-07-03T11:24:42.572Z"
   },
   {
    "duration": 16,
    "start_time": "2024-07-03T11:24:42.585Z"
   },
   {
    "duration": 29,
    "start_time": "2024-07-03T11:24:42.603Z"
   },
   {
    "duration": 25,
    "start_time": "2024-07-03T11:24:42.634Z"
   }
  ],
  "colab": {
   "provenance": [],
   "toc_visible": true
  },
  "kernelspec": {
   "display_name": "Python 3 (ipykernel)",
   "language": "python",
   "name": "python3"
  },
  "language_info": {
   "codemirror_mode": {
    "name": "ipython",
    "version": 3
   },
   "file_extension": ".py",
   "mimetype": "text/x-python",
   "name": "python",
   "nbconvert_exporter": "python",
   "pygments_lexer": "ipython3",
   "version": "3.9.18"
  },
  "toc": {
   "base_numbering": 1,
   "nav_menu": {},
   "number_sections": true,
   "sideBar": true,
   "skip_h1_title": true,
   "title_cell": "Table of Contents",
   "title_sidebar": "Contents",
   "toc_cell": false,
   "toc_position": {
    "height": "calc(100% - 180px)",
    "left": "10px",
    "top": "150px",
    "width": "172.943px"
   },
   "toc_section_display": true,
   "toc_window_display": true
  }
 },
 "nbformat": 4,
 "nbformat_minor": 5
}
