{
 "cells": [
  {
   "cell_type": "markdown",
   "id": "97dbc56f-62c5-4379-b46d-58a67036e9fa",
   "metadata": {},
   "source": [
    "# Проект: Поиск клиента с неоптимальными тарифами\n"
   ]
  },
  {
   "cell_type": "markdown",
   "id": "54231ec8-1012-431b-9e2b-3a3807b51ef1",
   "metadata": {},
   "source": [
    "## Общая информация"
   ]
  },
  {
   "cell_type": "markdown",
   "id": "b641aad6-50a4-403b-bf34-9dadfedca468",
   "metadata": {},
   "source": [
    "**Вывод**\n",
    "\n",
    "В данных были обнаружены пропуски. В столбце internal пропущено 117 значений, что составляет 0,22% от общего числа. В столбце operator_id пропущено 8172 значения, или 15%. Также было выявлено 4900 дублированных строк, что составляет 9% от общего количества.\n",
    "\n",
    "Было установлено, что большинство пользователей совершают от одного до пяти звонков в день. Продолжительность звонков, включая время гудков, варьируется от 46 минут до 901 минуты.\n",
    "\n",
    "Стоит отметить, что 50% звонков остаются без ответа. В 9 и 10 месяце 7% клиентов, или 21 клиент, не совершили ни одного звонка. В 8 месяце 72% клиентов говорили 0 минут, а в 9 — 43%.\n",
    "\n",
    "На основе этих данных было решено отобрать пользователей для дальнейшего анализа. В результате в таблицу вошли 109 клиента.\n",
    "\n",
    "Также было замечено, что исходящие звонки преобладают — 54% (12395), но разница с входящими звонками не очень большая — 45% (10361).\n",
    "\n",
    "Лидируют клиенты с тарифом 'C', их 10068 или 40 процентов, потом идут клиенты с тарифом 'B', их 9207 или 37 процентов, и в конце идут клиенты с тарифом 'A', их 7261 или 23 процента.\n",
    "\n",
    "В результате была создана таблица the_end, в которой отражены клиенты, использующие неоптимальный тариф всего их 71. Из таблицы видно, что чаще всего клиентам с тарифом «B» предлагалось перейти на новый тариф.\n",
    "\n",
    "Также было проведено два статистических теста Манна-Уитни. Один из тестов выявил, что средняя продолжительность общего времени исходящего звонка у клиентов с тарифов A и B не различается. Поэтому потенциально клиенты с тарифом 'A' используют его неоптимально.\n",
    "\n",
    "В завершение хотелось бы отметить, что клиенты, переходящие на новый тариф, в среднем могут сэкономить до 20%.\n",
    "\n",
    "Также были построены графики, отражающие разницу в выручке в зависимости от того, остался клиент на старом тарифе или перешел на новый. Эта информация отображена в презентации по этой ссылке https://disk.yandex.ru/i/qLLElvxDb9YPJQ"
   ]
  },
  {
   "cell_type": "markdown",
   "id": "693c0477-ea89-44dc-a410-09b7f6a339e1",
   "metadata": {},
   "source": [
    "**Задача:** \\\n",
    "Найти клиентов, которые:\\\n",
    "а) переплачивают на текущих тарифах;\\\n",
    "Итоговый результат: таблица с индикатором клиента — старый тариф — новый тариф.\\\n",
    "b) что будет если мы переведем на более оптимальный тариф(как изменится наша выручка и другие показатели)\n",
    "\n",
    "\n",
    "\n",
    "**Ежемесячная плата за тариф:** Тариф А — 4000 ₽, Тариф B — 2000 ₽, Тариф С — 1000 ₽.\n",
    "\n",
    "**Дополнительная ежемесячная плата за каждого оператора:**\n",
    "Тариф А — 50 ₽, Тариф B — 150 ₽, Тариф С — 300 ₽.\\\n",
    "Входящие и внутренние звонки — бесплатны на всех тарифах,\n",
    "\n",
    "\n",
    "**Исходящие звонки внутри сети, включённые в тариф:**\n",
    "Тариф А — 2000 минут,\n",
    "Тариф B — 500 минут, Тариф С — нет.\n",
    "\n",
    "**Цена сверх лимита:** A — 0.1 ₽/мин.,\n",
    "B — 0.15 ₽/мин., C — 0.3 ₽/мин.\n",
    "\n",
    "**Исходящие звонки, кроме внутренних:**\n",
    "A — 0.3 ₽/мин., B — 0.5 ₽/мин., C — 0.7 ₽/мин.\n",
    "\n",
    "1. Предобработка данных\n",
    "- пропуски\n",
    "- тип данных\n",
    "- дубликаты\n",
    "2. Проведите исследовательский анализ данных\n",
    "- проанализировать выбросы и аномалии \n",
    "- принять решение об активных пользователях\n",
    "- посмотреть на период сбора данных и принять решение об использованном периоде\n",
    "- посмотреть на данные в целом поискать инсайты\n",
    "3. Найдите клиентов с неоптимальными тарифами\n",
    "- Получить расходы клиентов на каждом из тарифов\n",
    "\n",
    "4. Показать изменения в выручке для заказчика (общей, средняя  в месяц, средняя на одного клиента в общем выржании и в процентах) при смене тарифов\n",
    "- проанализировать полученные результаты\n",
    "5. Проверьте статистические гипотезы\n",
    "\n",
    "\n",
    "a) Различаются ли средние чеки клиентов на тарифах A и B?\\\n",
    " H0 = среднии чеки клиентов на тарифах A и B не различаются; H1 = средние чеки клиентов на тарифах A и B различаются.\n",
    "\n",
    "b) Различается ли средняя продолжительность общего времени исходящего звонка в месяц у клиентов  в зависимости от тарифов A и B?\\\n",
    " H0 =  средняя продолжительность общего времени исходящего звонка  у клиентов тарифов A и B не различаются;\\\n",
    " H1 =  средняя продолжительность общего времени исходящего звонка  у клиентов тарифов A и B  различаются."
   ]
  },
  {
   "cell_type": "markdown",
   "id": "358e1e21-5f9d-4aa7-9bdc-658c935a08aa",
   "metadata": {},
   "source": [
    "#### Описание данных"
   ]
  },
  {
   "cell_type": "markdown",
   "id": "85526297-7841-47b9-8e14-80013899fc47",
   "metadata": {},
   "source": [
    "Датасеты описывают использование услуг «Нупозвони» — провайдера виртуальной телефонии. Его клиенты — колл-центры, которые:\n",
    "- распределяют входящие вызовы на операторов,\n",
    "- совершают исходящие вызовы силами операторов.\n",
    "\n",
    "Также операторы могут делать внутренние вызовы — вызовы друг между другом внутри сети виртуальной телефонии.\n",
    "\n",
    "Датасет /datasets/telecom_dataset.csv Колонки:\n",
    "- user_id — идентификатор клиента;\n",
    "- date — дата статистики;\n",
    "- direction — направление вызовов: out — исходящий вызов, in — входящий;\n",
    "- internal — маркер внутренних и внешних вызовов;\n",
    "- operator_id — идентификатор оператора;\n",
    "- is_missed_call — маркер пропущенных вызовов;\n",
    "- calls_count — количество звонков;\n",
    "- call_duration — длительность звонка без учёта времени ожидания;\n",
    "- total_call_duration — длительность звонка с учётом времени ожидания.\n",
    "\n",
    "Датасет /datasets/telecom_clients.csv Колонки:\n",
    "- user_id — идентификатор клиента;\n",
    "- tariff_plan — тарифный план клиента;\n",
    "- date_start — дата регистрации клиента в сервисе.\n"
   ]
  },
  {
   "cell_type": "markdown",
   "id": "f1171f0d-ab5a-4325-9ac5-599cf28d4a79",
   "metadata": {},
   "source": [
    "## Предобработка данных"
   ]
  },
  {
   "cell_type": "code",
   "execution_count": 1,
   "id": "601cc2b7-e3be-488b-bcb1-a85dd9e1c446",
   "metadata": {},
   "outputs": [],
   "source": [
    "import pandas as pd\n",
    "import seaborn as sns\n",
    "import matplotlib.pyplot as plt\n",
    "import scipy.stats as stats\n",
    "import numpy as np\n",
    "\n"
   ]
  },
  {
   "cell_type": "code",
   "execution_count": 2,
   "id": "aa5e4cc5-4b48-4efd-b1d7-bb820d55c402",
   "metadata": {},
   "outputs": [],
   "source": [
    "try:\n",
    "    df_1 = pd.read_csv('telecom_dataset.csv')\n",
    "except:\n",
    "    df_1 = pd.read_csv('/datasets/telecom_dataset.csv')"
   ]
  },
  {
   "cell_type": "code",
   "execution_count": 3,
   "id": "dfc7d480-491e-41ab-8c47-33618ada05d8",
   "metadata": {},
   "outputs": [],
   "source": [
    "try:\n",
    "    client = pd.read_csv('telecom_clients.csv')\n",
    "except:\n",
    "    client = pd.read_csv(' /datasets/telecom_clients.csv')"
   ]
  },
  {
   "cell_type": "markdown",
   "id": "6533d453-77b7-4e79-95f4-3cfe5f66dd52",
   "metadata": {},
   "source": [
    "**Выводим общую информацию двух датафреймов**"
   ]
  },
  {
   "cell_type": "code",
   "execution_count": 4,
   "id": "c450e24c-8fa2-401f-a628-010ce01ac733",
   "metadata": {},
   "outputs": [
    {
     "data": {
      "text/html": [
       "<div>\n",
       "<style scoped>\n",
       "    .dataframe tbody tr th:only-of-type {\n",
       "        vertical-align: middle;\n",
       "    }\n",
       "\n",
       "    .dataframe tbody tr th {\n",
       "        vertical-align: top;\n",
       "    }\n",
       "\n",
       "    .dataframe thead th {\n",
       "        text-align: right;\n",
       "    }\n",
       "</style>\n",
       "<table border=\"1\" class=\"dataframe\">\n",
       "  <thead>\n",
       "    <tr style=\"text-align: right;\">\n",
       "      <th></th>\n",
       "      <th>user_id</th>\n",
       "      <th>date</th>\n",
       "      <th>direction</th>\n",
       "      <th>internal</th>\n",
       "      <th>operator_id</th>\n",
       "      <th>is_missed_call</th>\n",
       "      <th>calls_count</th>\n",
       "      <th>call_duration</th>\n",
       "      <th>total_call_duration</th>\n",
       "    </tr>\n",
       "  </thead>\n",
       "  <tbody>\n",
       "    <tr>\n",
       "      <th>0</th>\n",
       "      <td>166377</td>\n",
       "      <td>2019-08-04 00:00:00+03:00</td>\n",
       "      <td>in</td>\n",
       "      <td>False</td>\n",
       "      <td>NaN</td>\n",
       "      <td>True</td>\n",
       "      <td>2</td>\n",
       "      <td>0</td>\n",
       "      <td>4</td>\n",
       "    </tr>\n",
       "    <tr>\n",
       "      <th>1</th>\n",
       "      <td>166377</td>\n",
       "      <td>2019-08-05 00:00:00+03:00</td>\n",
       "      <td>out</td>\n",
       "      <td>True</td>\n",
       "      <td>880022.0</td>\n",
       "      <td>True</td>\n",
       "      <td>3</td>\n",
       "      <td>0</td>\n",
       "      <td>5</td>\n",
       "    </tr>\n",
       "    <tr>\n",
       "      <th>2</th>\n",
       "      <td>166377</td>\n",
       "      <td>2019-08-05 00:00:00+03:00</td>\n",
       "      <td>out</td>\n",
       "      <td>True</td>\n",
       "      <td>880020.0</td>\n",
       "      <td>True</td>\n",
       "      <td>1</td>\n",
       "      <td>0</td>\n",
       "      <td>1</td>\n",
       "    </tr>\n",
       "    <tr>\n",
       "      <th>3</th>\n",
       "      <td>166377</td>\n",
       "      <td>2019-08-05 00:00:00+03:00</td>\n",
       "      <td>out</td>\n",
       "      <td>True</td>\n",
       "      <td>880020.0</td>\n",
       "      <td>False</td>\n",
       "      <td>1</td>\n",
       "      <td>10</td>\n",
       "      <td>18</td>\n",
       "    </tr>\n",
       "    <tr>\n",
       "      <th>4</th>\n",
       "      <td>166377</td>\n",
       "      <td>2019-08-05 00:00:00+03:00</td>\n",
       "      <td>out</td>\n",
       "      <td>False</td>\n",
       "      <td>880022.0</td>\n",
       "      <td>True</td>\n",
       "      <td>3</td>\n",
       "      <td>0</td>\n",
       "      <td>25</td>\n",
       "    </tr>\n",
       "  </tbody>\n",
       "</table>\n",
       "</div>"
      ],
      "text/plain": [
       "   user_id                       date direction internal  operator_id  \\\n",
       "0   166377  2019-08-04 00:00:00+03:00        in    False          NaN   \n",
       "1   166377  2019-08-05 00:00:00+03:00       out     True     880022.0   \n",
       "2   166377  2019-08-05 00:00:00+03:00       out     True     880020.0   \n",
       "3   166377  2019-08-05 00:00:00+03:00       out     True     880020.0   \n",
       "4   166377  2019-08-05 00:00:00+03:00       out    False     880022.0   \n",
       "\n",
       "   is_missed_call  calls_count  call_duration  total_call_duration  \n",
       "0            True            2              0                    4  \n",
       "1            True            3              0                    5  \n",
       "2            True            1              0                    1  \n",
       "3           False            1             10                   18  \n",
       "4            True            3              0                   25  "
      ]
     },
     "execution_count": 4,
     "metadata": {},
     "output_type": "execute_result"
    }
   ],
   "source": [
    "df_1.head()"
   ]
  },
  {
   "cell_type": "code",
   "execution_count": 5,
   "id": "69bfd685-27e9-4a8b-9c1f-c206a1f2ad58",
   "metadata": {},
   "outputs": [
    {
     "name": "stdout",
     "output_type": "stream",
     "text": [
      "<class 'pandas.core.frame.DataFrame'>\n",
      "RangeIndex: 53902 entries, 0 to 53901\n",
      "Data columns (total 9 columns):\n",
      " #   Column               Non-Null Count  Dtype  \n",
      "---  ------               --------------  -----  \n",
      " 0   user_id              53902 non-null  int64  \n",
      " 1   date                 53902 non-null  object \n",
      " 2   direction            53902 non-null  object \n",
      " 3   internal             53785 non-null  object \n",
      " 4   operator_id          45730 non-null  float64\n",
      " 5   is_missed_call       53902 non-null  bool   \n",
      " 6   calls_count          53902 non-null  int64  \n",
      " 7   call_duration        53902 non-null  int64  \n",
      " 8   total_call_duration  53902 non-null  int64  \n",
      "dtypes: bool(1), float64(1), int64(4), object(3)\n",
      "memory usage: 3.3+ MB\n"
     ]
    }
   ],
   "source": [
    "df_1.info()"
   ]
  },
  {
   "cell_type": "code",
   "execution_count": 6,
   "id": "2423e622-8c57-4b06-a122-e677c2d89c91",
   "metadata": {},
   "outputs": [
    {
     "data": {
      "text/html": [
       "<div>\n",
       "<style scoped>\n",
       "    .dataframe tbody tr th:only-of-type {\n",
       "        vertical-align: middle;\n",
       "    }\n",
       "\n",
       "    .dataframe tbody tr th {\n",
       "        vertical-align: top;\n",
       "    }\n",
       "\n",
       "    .dataframe thead th {\n",
       "        text-align: right;\n",
       "    }\n",
       "</style>\n",
       "<table border=\"1\" class=\"dataframe\">\n",
       "  <thead>\n",
       "    <tr style=\"text-align: right;\">\n",
       "      <th></th>\n",
       "      <th>user_id</th>\n",
       "      <th>tariff_plan</th>\n",
       "      <th>date_start</th>\n",
       "    </tr>\n",
       "  </thead>\n",
       "  <tbody>\n",
       "    <tr>\n",
       "      <th>0</th>\n",
       "      <td>166713</td>\n",
       "      <td>A</td>\n",
       "      <td>2019-08-15</td>\n",
       "    </tr>\n",
       "    <tr>\n",
       "      <th>1</th>\n",
       "      <td>166901</td>\n",
       "      <td>A</td>\n",
       "      <td>2019-08-23</td>\n",
       "    </tr>\n",
       "    <tr>\n",
       "      <th>2</th>\n",
       "      <td>168527</td>\n",
       "      <td>A</td>\n",
       "      <td>2019-10-29</td>\n",
       "    </tr>\n",
       "    <tr>\n",
       "      <th>3</th>\n",
       "      <td>167097</td>\n",
       "      <td>A</td>\n",
       "      <td>2019-09-01</td>\n",
       "    </tr>\n",
       "    <tr>\n",
       "      <th>4</th>\n",
       "      <td>168193</td>\n",
       "      <td>A</td>\n",
       "      <td>2019-10-16</td>\n",
       "    </tr>\n",
       "  </tbody>\n",
       "</table>\n",
       "</div>"
      ],
      "text/plain": [
       "   user_id tariff_plan  date_start\n",
       "0   166713           A  2019-08-15\n",
       "1   166901           A  2019-08-23\n",
       "2   168527           A  2019-10-29\n",
       "3   167097           A  2019-09-01\n",
       "4   168193           A  2019-10-16"
      ]
     },
     "execution_count": 6,
     "metadata": {},
     "output_type": "execute_result"
    }
   ],
   "source": [
    "client.head()"
   ]
  },
  {
   "cell_type": "code",
   "execution_count": 7,
   "id": "d4a381c1-1acd-4f82-85e0-ac0681efeb73",
   "metadata": {},
   "outputs": [
    {
     "name": "stdout",
     "output_type": "stream",
     "text": [
      "<class 'pandas.core.frame.DataFrame'>\n",
      "RangeIndex: 732 entries, 0 to 731\n",
      "Data columns (total 3 columns):\n",
      " #   Column       Non-Null Count  Dtype \n",
      "---  ------       --------------  ----- \n",
      " 0   user_id      732 non-null    int64 \n",
      " 1   tariff_plan  732 non-null    object\n",
      " 2   date_start   732 non-null    object\n",
      "dtypes: int64(1), object(2)\n",
      "memory usage: 17.3+ KB\n"
     ]
    }
   ],
   "source": [
    "client.info()"
   ]
  },
  {
   "cell_type": "markdown",
   "id": "79e29d81-e6a0-407b-b761-dfdf1a8b79fc",
   "metadata": {},
   "source": [
    "\n",
    "В таблице df_1 в столбцах internal и operator_id есть пропуски. Также столбец date имеет неверный тип данных\n",
    "\n",
    "В таблице client нет пропусков, но в столбце date_start неправильный тип данных"
   ]
  },
  {
   "cell_type": "markdown",
   "id": "dac15c77-cac3-443c-9ca9-58ecf7f9c41c",
   "metadata": {},
   "source": [
    "**Меняем тип данных**"
   ]
  },
  {
   "cell_type": "code",
   "execution_count": 8,
   "id": "2ee56591-f169-46b3-b5f8-1eada2a8a168",
   "metadata": {},
   "outputs": [
    {
     "data": {
      "text/plain": [
       "dtype('O')"
      ]
     },
     "metadata": {},
     "output_type": "display_data"
    },
    {
     "data": {
      "text/plain": [
       "dtype('<M8[ns]')"
      ]
     },
     "metadata": {},
     "output_type": "display_data"
    },
    {
     "data": {
      "text/plain": [
       "dtype('<M8[ns]')"
      ]
     },
     "execution_count": 8,
     "metadata": {},
     "output_type": "execute_result"
    }
   ],
   "source": [
    "df_1['date'] = pd.to_datetime(df_1['date'])\n",
    "df_1['date'] = df_1['date'].dt.tz_localize(None)\n",
    "client['date_start'] = pd.to_datetime(client['date_start'])\n",
    "\n",
    "display(df_1['internal'].dtypes)\n",
    "display(df_1['date'].dtypes)\n",
    "client['date_start'].dtypes"
   ]
  },
  {
   "cell_type": "markdown",
   "id": "c64649d0-ab46-4278-97e8-3716ef76f884",
   "metadata": {},
   "source": [
    "Создаем столбец с месяцами"
   ]
  },
  {
   "cell_type": "code",
   "execution_count": 9,
   "id": "558090d0-1afc-482e-8602-ced4e57bbcf4",
   "metadata": {},
   "outputs": [],
   "source": [
    "df_1['month'] = df_1['date'].dt.to_period('M')"
   ]
  },
  {
   "cell_type": "markdown",
   "id": "490e1c31-1794-422b-a4a6-fbff88e3f701",
   "metadata": {},
   "source": [
    "**Объединяем таблицы**"
   ]
  },
  {
   "cell_type": "code",
   "execution_count": 10,
   "id": "3ffe18b3-96e4-4539-a5b1-4c6f6f51c25f",
   "metadata": {},
   "outputs": [],
   "source": [
    "df_2 = pd.merge(df_1, client, on='user_id', how='inner')"
   ]
  },
  {
   "cell_type": "code",
   "execution_count": 11,
   "id": "dab6f31d-25fc-4e5b-82fa-b060de818354",
   "metadata": {},
   "outputs": [
    {
     "data": {
      "text/html": [
       "<div>\n",
       "<style scoped>\n",
       "    .dataframe tbody tr th:only-of-type {\n",
       "        vertical-align: middle;\n",
       "    }\n",
       "\n",
       "    .dataframe tbody tr th {\n",
       "        vertical-align: top;\n",
       "    }\n",
       "\n",
       "    .dataframe thead th {\n",
       "        text-align: right;\n",
       "    }\n",
       "</style>\n",
       "<table border=\"1\" class=\"dataframe\">\n",
       "  <thead>\n",
       "    <tr style=\"text-align: right;\">\n",
       "      <th></th>\n",
       "      <th>user_id</th>\n",
       "      <th>date</th>\n",
       "      <th>direction</th>\n",
       "      <th>internal</th>\n",
       "      <th>operator_id</th>\n",
       "      <th>is_missed_call</th>\n",
       "      <th>calls_count</th>\n",
       "      <th>call_duration</th>\n",
       "      <th>total_call_duration</th>\n",
       "      <th>month</th>\n",
       "      <th>tariff_plan</th>\n",
       "      <th>date_start</th>\n",
       "    </tr>\n",
       "  </thead>\n",
       "  <tbody>\n",
       "    <tr>\n",
       "      <th>0</th>\n",
       "      <td>166377</td>\n",
       "      <td>2019-08-04</td>\n",
       "      <td>in</td>\n",
       "      <td>False</td>\n",
       "      <td>NaN</td>\n",
       "      <td>True</td>\n",
       "      <td>2</td>\n",
       "      <td>0</td>\n",
       "      <td>4</td>\n",
       "      <td>2019-08</td>\n",
       "      <td>B</td>\n",
       "      <td>2019-08-01</td>\n",
       "    </tr>\n",
       "    <tr>\n",
       "      <th>1</th>\n",
       "      <td>166377</td>\n",
       "      <td>2019-08-05</td>\n",
       "      <td>out</td>\n",
       "      <td>True</td>\n",
       "      <td>880022.0</td>\n",
       "      <td>True</td>\n",
       "      <td>3</td>\n",
       "      <td>0</td>\n",
       "      <td>5</td>\n",
       "      <td>2019-08</td>\n",
       "      <td>B</td>\n",
       "      <td>2019-08-01</td>\n",
       "    </tr>\n",
       "    <tr>\n",
       "      <th>2</th>\n",
       "      <td>166377</td>\n",
       "      <td>2019-08-05</td>\n",
       "      <td>out</td>\n",
       "      <td>True</td>\n",
       "      <td>880020.0</td>\n",
       "      <td>True</td>\n",
       "      <td>1</td>\n",
       "      <td>0</td>\n",
       "      <td>1</td>\n",
       "      <td>2019-08</td>\n",
       "      <td>B</td>\n",
       "      <td>2019-08-01</td>\n",
       "    </tr>\n",
       "    <tr>\n",
       "      <th>3</th>\n",
       "      <td>166377</td>\n",
       "      <td>2019-08-05</td>\n",
       "      <td>out</td>\n",
       "      <td>True</td>\n",
       "      <td>880020.0</td>\n",
       "      <td>False</td>\n",
       "      <td>1</td>\n",
       "      <td>10</td>\n",
       "      <td>18</td>\n",
       "      <td>2019-08</td>\n",
       "      <td>B</td>\n",
       "      <td>2019-08-01</td>\n",
       "    </tr>\n",
       "    <tr>\n",
       "      <th>4</th>\n",
       "      <td>166377</td>\n",
       "      <td>2019-08-05</td>\n",
       "      <td>out</td>\n",
       "      <td>False</td>\n",
       "      <td>880022.0</td>\n",
       "      <td>True</td>\n",
       "      <td>3</td>\n",
       "      <td>0</td>\n",
       "      <td>25</td>\n",
       "      <td>2019-08</td>\n",
       "      <td>B</td>\n",
       "      <td>2019-08-01</td>\n",
       "    </tr>\n",
       "    <tr>\n",
       "      <th>5</th>\n",
       "      <td>166377</td>\n",
       "      <td>2019-08-05</td>\n",
       "      <td>out</td>\n",
       "      <td>False</td>\n",
       "      <td>880020.0</td>\n",
       "      <td>False</td>\n",
       "      <td>2</td>\n",
       "      <td>3</td>\n",
       "      <td>29</td>\n",
       "      <td>2019-08</td>\n",
       "      <td>B</td>\n",
       "      <td>2019-08-01</td>\n",
       "    </tr>\n",
       "    <tr>\n",
       "      <th>6</th>\n",
       "      <td>166377</td>\n",
       "      <td>2019-08-05</td>\n",
       "      <td>out</td>\n",
       "      <td>False</td>\n",
       "      <td>880020.0</td>\n",
       "      <td>True</td>\n",
       "      <td>8</td>\n",
       "      <td>0</td>\n",
       "      <td>50</td>\n",
       "      <td>2019-08</td>\n",
       "      <td>B</td>\n",
       "      <td>2019-08-01</td>\n",
       "    </tr>\n",
       "    <tr>\n",
       "      <th>7</th>\n",
       "      <td>166377</td>\n",
       "      <td>2019-08-05</td>\n",
       "      <td>in</td>\n",
       "      <td>False</td>\n",
       "      <td>NaN</td>\n",
       "      <td>True</td>\n",
       "      <td>6</td>\n",
       "      <td>0</td>\n",
       "      <td>35</td>\n",
       "      <td>2019-08</td>\n",
       "      <td>B</td>\n",
       "      <td>2019-08-01</td>\n",
       "    </tr>\n",
       "    <tr>\n",
       "      <th>8</th>\n",
       "      <td>166377</td>\n",
       "      <td>2019-08-05</td>\n",
       "      <td>out</td>\n",
       "      <td>False</td>\n",
       "      <td>880020.0</td>\n",
       "      <td>True</td>\n",
       "      <td>8</td>\n",
       "      <td>0</td>\n",
       "      <td>50</td>\n",
       "      <td>2019-08</td>\n",
       "      <td>B</td>\n",
       "      <td>2019-08-01</td>\n",
       "    </tr>\n",
       "    <tr>\n",
       "      <th>9</th>\n",
       "      <td>166377</td>\n",
       "      <td>2019-08-06</td>\n",
       "      <td>in</td>\n",
       "      <td>False</td>\n",
       "      <td>NaN</td>\n",
       "      <td>True</td>\n",
       "      <td>4</td>\n",
       "      <td>0</td>\n",
       "      <td>62</td>\n",
       "      <td>2019-08</td>\n",
       "      <td>B</td>\n",
       "      <td>2019-08-01</td>\n",
       "    </tr>\n",
       "  </tbody>\n",
       "</table>\n",
       "</div>"
      ],
      "text/plain": [
       "   user_id       date direction internal  operator_id  is_missed_call  \\\n",
       "0   166377 2019-08-04        in    False          NaN            True   \n",
       "1   166377 2019-08-05       out     True     880022.0            True   \n",
       "2   166377 2019-08-05       out     True     880020.0            True   \n",
       "3   166377 2019-08-05       out     True     880020.0           False   \n",
       "4   166377 2019-08-05       out    False     880022.0            True   \n",
       "5   166377 2019-08-05       out    False     880020.0           False   \n",
       "6   166377 2019-08-05       out    False     880020.0            True   \n",
       "7   166377 2019-08-05        in    False          NaN            True   \n",
       "8   166377 2019-08-05       out    False     880020.0            True   \n",
       "9   166377 2019-08-06        in    False          NaN            True   \n",
       "\n",
       "   calls_count  call_duration  total_call_duration    month tariff_plan  \\\n",
       "0            2              0                    4  2019-08           B   \n",
       "1            3              0                    5  2019-08           B   \n",
       "2            1              0                    1  2019-08           B   \n",
       "3            1             10                   18  2019-08           B   \n",
       "4            3              0                   25  2019-08           B   \n",
       "5            2              3                   29  2019-08           B   \n",
       "6            8              0                   50  2019-08           B   \n",
       "7            6              0                   35  2019-08           B   \n",
       "8            8              0                   50  2019-08           B   \n",
       "9            4              0                   62  2019-08           B   \n",
       "\n",
       "  date_start  \n",
       "0 2019-08-01  \n",
       "1 2019-08-01  \n",
       "2 2019-08-01  \n",
       "3 2019-08-01  \n",
       "4 2019-08-01  \n",
       "5 2019-08-01  \n",
       "6 2019-08-01  \n",
       "7 2019-08-01  \n",
       "8 2019-08-01  \n",
       "9 2019-08-01  "
      ]
     },
     "execution_count": 11,
     "metadata": {},
     "output_type": "execute_result"
    }
   ],
   "source": [
    "df_2.head(10)"
   ]
  },
  {
   "cell_type": "code",
   "execution_count": 12,
   "id": "5c34f077-ea71-47f4-8aea-9b1da4cd39ed",
   "metadata": {},
   "outputs": [
    {
     "name": "stdout",
     "output_type": "stream",
     "text": [
      "<class 'pandas.core.frame.DataFrame'>\n",
      "Int64Index: 53902 entries, 0 to 53901\n",
      "Data columns (total 12 columns):\n",
      " #   Column               Non-Null Count  Dtype         \n",
      "---  ------               --------------  -----         \n",
      " 0   user_id              53902 non-null  int64         \n",
      " 1   date                 53902 non-null  datetime64[ns]\n",
      " 2   direction            53902 non-null  object        \n",
      " 3   internal             53785 non-null  object        \n",
      " 4   operator_id          45730 non-null  float64       \n",
      " 5   is_missed_call       53902 non-null  bool          \n",
      " 6   calls_count          53902 non-null  int64         \n",
      " 7   call_duration        53902 non-null  int64         \n",
      " 8   total_call_duration  53902 non-null  int64         \n",
      " 9   month                53902 non-null  period[M]     \n",
      " 10  tariff_plan          53902 non-null  object        \n",
      " 11  date_start           53902 non-null  datetime64[ns]\n",
      "dtypes: bool(1), datetime64[ns](2), float64(1), int64(4), object(3), period[M](1)\n",
      "memory usage: 5.0+ MB\n"
     ]
    }
   ],
   "source": [
    "df_2.info()"
   ]
  },
  {
   "cell_type": "code",
   "execution_count": 13,
   "id": "bc8b6ba6-bf04-480c-8cc8-27630ef37fc6",
   "metadata": {},
   "outputs": [
    {
     "data": {
      "text/plain": [
       "307"
      ]
     },
     "execution_count": 13,
     "metadata": {},
     "output_type": "execute_result"
    }
   ],
   "source": [
    "df_1['user_id'].nunique()"
   ]
  },
  {
   "cell_type": "markdown",
   "id": "3e7e94c4-dfc3-49a2-80c1-c78f0070b5ed",
   "metadata": {},
   "source": [
    "\n",
    "В таблицу вошли не все клиенты, в основую таблицу вошли 307 клиентов"
   ]
  },
  {
   "cell_type": "markdown",
   "id": "92db60f7-145c-491d-8c27-cef10faaccbb",
   "metadata": {},
   "source": [
    "**Смотрим пропуски в данных**"
   ]
  },
  {
   "cell_type": "code",
   "execution_count": 14,
   "id": "f37fa01c-d3e1-47e5-adb2-75563510a431",
   "metadata": {},
   "outputs": [
    {
     "data": {
      "text/plain": [
       "user_id                   0\n",
       "date                      0\n",
       "direction                 0\n",
       "internal                117\n",
       "operator_id            8172\n",
       "is_missed_call            0\n",
       "calls_count               0\n",
       "call_duration             0\n",
       "total_call_duration       0\n",
       "month                     0\n",
       "tariff_plan               0\n",
       "date_start                0\n",
       "dtype: int64"
      ]
     },
     "metadata": {},
     "output_type": "display_data"
    },
    {
     "data": {
      "text/plain": [
       "user_id                 0.000000\n",
       "date                    0.000000\n",
       "direction               0.000000\n",
       "internal                0.217061\n",
       "operator_id            15.160847\n",
       "is_missed_call          0.000000\n",
       "calls_count             0.000000\n",
       "call_duration           0.000000\n",
       "total_call_duration     0.000000\n",
       "month                   0.000000\n",
       "tariff_plan             0.000000\n",
       "date_start              0.000000\n",
       "dtype: float64"
      ]
     },
     "execution_count": 14,
     "metadata": {},
     "output_type": "execute_result"
    }
   ],
   "source": [
    "display(df_2.isnull().sum())\n",
    "df_2.isnull().mean() * 100\n"
   ]
  },
  {
   "cell_type": "markdown",
   "id": "a5491460-9779-4362-9382-a909be124999",
   "metadata": {},
   "source": [
    "\n",
    "Пропуски не трогаем, так как нельзя найти логику замены пропусков, номер оператора не подбирается, как и марка внутренних и внешних звонков не определяется."
   ]
  },
  {
   "cell_type": "markdown",
   "id": "0e603300-d64f-400c-9d7b-a13a439e32c5",
   "metadata": {},
   "source": [
    "**Смотрим дубликаты**"
   ]
  },
  {
   "cell_type": "code",
   "execution_count": 15,
   "id": "2aede879-5bd5-4fea-ae4b-e243d084257f",
   "metadata": {},
   "outputs": [
    {
     "data": {
      "text/plain": [
       "4900"
      ]
     },
     "metadata": {},
     "output_type": "display_data"
    },
    {
     "data": {
      "text/plain": [
       "9.09"
      ]
     },
     "execution_count": 15,
     "metadata": {},
     "output_type": "execute_result"
    }
   ],
   "source": [
    "display(df_2.duplicated().sum())\n",
    "round(df_2.duplicated().sum() /  df_2['user_id'].count() * 100, 2)"
   ]
  },
  {
   "cell_type": "markdown",
   "id": "04b18d8e-6cc5-4e31-9bb1-c17d3c043c7d",
   "metadata": {},
   "source": [
    "Удаляем дубликаты так как каждая целая строка уникальна"
   ]
  },
  {
   "cell_type": "code",
   "execution_count": 16,
   "id": "ea464108-8b41-44f9-83c0-3b7384e47e00",
   "metadata": {},
   "outputs": [
    {
     "data": {
      "text/plain": [
       "0"
      ]
     },
     "execution_count": 16,
     "metadata": {},
     "output_type": "execute_result"
    }
   ],
   "source": [
    "df_2 = df_2.drop_duplicates()\n",
    "df_2.duplicated().sum()"
   ]
  },
  {
   "cell_type": "code",
   "execution_count": 17,
   "id": "95fb606c-52e0-4356-a558-a9797cc39233",
   "metadata": {},
   "outputs": [
    {
     "data": {
      "text/plain": [
       "array(['in', 'out'], dtype=object)"
      ]
     },
     "execution_count": 17,
     "metadata": {},
     "output_type": "execute_result"
    }
   ],
   "source": [
    "df_2['direction'].unique()"
   ]
  },
  {
   "cell_type": "code",
   "execution_count": 18,
   "id": "ec70a031-a401-48ba-8444-8be6543129e2",
   "metadata": {},
   "outputs": [
    {
     "data": {
      "text/plain": [
       "array(['B', 'C', 'A'], dtype=object)"
      ]
     },
     "execution_count": 18,
     "metadata": {},
     "output_type": "execute_result"
    }
   ],
   "source": [
    "df_2['tariff_plan'].unique()"
   ]
  },
  {
   "cell_type": "markdown",
   "id": "e76c3ee4-6baf-4128-b561-539459eef2e1",
   "metadata": {},
   "source": [
    "\n",
    "Проверили на неявные дубликаты, их нет"
   ]
  },
  {
   "cell_type": "markdown",
   "id": "eafcb3c3-5dc6-4a36-9082-99f2c6cc3f91",
   "metadata": {},
   "source": [
    "**Создаем датафрейм**"
   ]
  },
  {
   "cell_type": "code",
   "execution_count": 19,
   "id": "c7b387d1-46e0-4683-9e79-3886d2469b8b",
   "metadata": {},
   "outputs": [
    {
     "data": {
      "text/html": [
       "<div>\n",
       "<style scoped>\n",
       "    .dataframe tbody tr th:only-of-type {\n",
       "        vertical-align: middle;\n",
       "    }\n",
       "\n",
       "    .dataframe tbody tr th {\n",
       "        vertical-align: top;\n",
       "    }\n",
       "\n",
       "    .dataframe thead th {\n",
       "        text-align: right;\n",
       "    }\n",
       "</style>\n",
       "<table border=\"1\" class=\"dataframe\">\n",
       "  <thead>\n",
       "    <tr style=\"text-align: right;\">\n",
       "      <th></th>\n",
       "      <th>month_pay</th>\n",
       "      <th>tariff_plan</th>\n",
       "      <th>add_pay</th>\n",
       "      <th>out_call_min</th>\n",
       "      <th>over_limit_cost</th>\n",
       "      <th>out_call_cost</th>\n",
       "    </tr>\n",
       "  </thead>\n",
       "  <tbody>\n",
       "    <tr>\n",
       "      <th>0</th>\n",
       "      <td>4000</td>\n",
       "      <td>A</td>\n",
       "      <td>50</td>\n",
       "      <td>2000</td>\n",
       "      <td>0.10</td>\n",
       "      <td>0.3</td>\n",
       "    </tr>\n",
       "    <tr>\n",
       "      <th>1</th>\n",
       "      <td>2000</td>\n",
       "      <td>B</td>\n",
       "      <td>150</td>\n",
       "      <td>500</td>\n",
       "      <td>0.15</td>\n",
       "      <td>0.5</td>\n",
       "    </tr>\n",
       "    <tr>\n",
       "      <th>2</th>\n",
       "      <td>1000</td>\n",
       "      <td>C</td>\n",
       "      <td>300</td>\n",
       "      <td>0</td>\n",
       "      <td>0.30</td>\n",
       "      <td>0.7</td>\n",
       "    </tr>\n",
       "  </tbody>\n",
       "</table>\n",
       "</div>"
      ],
      "text/plain": [
       "   month_pay tariff_plan  add_pay  out_call_min  over_limit_cost  \\\n",
       "0       4000           A       50          2000             0.10   \n",
       "1       2000           B      150           500             0.15   \n",
       "2       1000           C      300             0             0.30   \n",
       "\n",
       "   out_call_cost  \n",
       "0            0.3  \n",
       "1            0.5  \n",
       "2            0.7  "
      ]
     },
     "execution_count": 19,
     "metadata": {},
     "output_type": "execute_result"
    }
   ],
   "source": [
    "creat = pd.DataFrame(  {'month_pay': [4000 ,  2000, 1000],\n",
    "    'tariff_plan': ['A', 'B', 'C'],\n",
    "    'add_pay': [50, 150, 300],\n",
    "    'out_call_min': [2000, 500, 0],\n",
    "    'over_limit_cost': [0.1, 0.15, 0.3],  \n",
    "    'out_call_cost': [0.3, 0.5, 0.7]})\n",
    "creat"
   ]
  },
  {
   "cell_type": "markdown",
   "id": "01158d1e-d04f-42ed-9558-cf0eaa77401c",
   "metadata": {},
   "source": [
    "Соединяем таблицы"
   ]
  },
  {
   "cell_type": "code",
   "execution_count": 20,
   "id": "08bdcf54-93ec-4d75-9af3-06a626c76297",
   "metadata": {},
   "outputs": [],
   "source": [
    "df = pd.merge(df_2, creat, on='tariff_plan', how='left')"
   ]
  },
  {
   "cell_type": "code",
   "execution_count": 21,
   "id": "e66f8b31-69c9-4820-9b73-b20f3a30f1a0",
   "metadata": {},
   "outputs": [
    {
     "data": {
      "text/html": [
       "<div>\n",
       "<style scoped>\n",
       "    .dataframe tbody tr th:only-of-type {\n",
       "        vertical-align: middle;\n",
       "    }\n",
       "\n",
       "    .dataframe tbody tr th {\n",
       "        vertical-align: top;\n",
       "    }\n",
       "\n",
       "    .dataframe thead th {\n",
       "        text-align: right;\n",
       "    }\n",
       "</style>\n",
       "<table border=\"1\" class=\"dataframe\">\n",
       "  <thead>\n",
       "    <tr style=\"text-align: right;\">\n",
       "      <th></th>\n",
       "      <th>user_id</th>\n",
       "      <th>date</th>\n",
       "      <th>direction</th>\n",
       "      <th>internal</th>\n",
       "      <th>operator_id</th>\n",
       "      <th>is_missed_call</th>\n",
       "      <th>calls_count</th>\n",
       "      <th>call_duration</th>\n",
       "      <th>total_call_duration</th>\n",
       "      <th>month</th>\n",
       "      <th>tariff_plan</th>\n",
       "      <th>date_start</th>\n",
       "      <th>month_pay</th>\n",
       "      <th>add_pay</th>\n",
       "      <th>out_call_min</th>\n",
       "      <th>over_limit_cost</th>\n",
       "      <th>out_call_cost</th>\n",
       "    </tr>\n",
       "  </thead>\n",
       "  <tbody>\n",
       "    <tr>\n",
       "      <th>0</th>\n",
       "      <td>166377</td>\n",
       "      <td>2019-08-04</td>\n",
       "      <td>in</td>\n",
       "      <td>False</td>\n",
       "      <td>NaN</td>\n",
       "      <td>True</td>\n",
       "      <td>2</td>\n",
       "      <td>0</td>\n",
       "      <td>4</td>\n",
       "      <td>2019-08</td>\n",
       "      <td>B</td>\n",
       "      <td>2019-08-01</td>\n",
       "      <td>2000</td>\n",
       "      <td>150</td>\n",
       "      <td>500</td>\n",
       "      <td>0.15</td>\n",
       "      <td>0.5</td>\n",
       "    </tr>\n",
       "    <tr>\n",
       "      <th>1</th>\n",
       "      <td>166377</td>\n",
       "      <td>2019-08-05</td>\n",
       "      <td>out</td>\n",
       "      <td>True</td>\n",
       "      <td>880022.0</td>\n",
       "      <td>True</td>\n",
       "      <td>3</td>\n",
       "      <td>0</td>\n",
       "      <td>5</td>\n",
       "      <td>2019-08</td>\n",
       "      <td>B</td>\n",
       "      <td>2019-08-01</td>\n",
       "      <td>2000</td>\n",
       "      <td>150</td>\n",
       "      <td>500</td>\n",
       "      <td>0.15</td>\n",
       "      <td>0.5</td>\n",
       "    </tr>\n",
       "    <tr>\n",
       "      <th>2</th>\n",
       "      <td>166377</td>\n",
       "      <td>2019-08-05</td>\n",
       "      <td>out</td>\n",
       "      <td>True</td>\n",
       "      <td>880020.0</td>\n",
       "      <td>True</td>\n",
       "      <td>1</td>\n",
       "      <td>0</td>\n",
       "      <td>1</td>\n",
       "      <td>2019-08</td>\n",
       "      <td>B</td>\n",
       "      <td>2019-08-01</td>\n",
       "      <td>2000</td>\n",
       "      <td>150</td>\n",
       "      <td>500</td>\n",
       "      <td>0.15</td>\n",
       "      <td>0.5</td>\n",
       "    </tr>\n",
       "    <tr>\n",
       "      <th>3</th>\n",
       "      <td>166377</td>\n",
       "      <td>2019-08-05</td>\n",
       "      <td>out</td>\n",
       "      <td>True</td>\n",
       "      <td>880020.0</td>\n",
       "      <td>False</td>\n",
       "      <td>1</td>\n",
       "      <td>10</td>\n",
       "      <td>18</td>\n",
       "      <td>2019-08</td>\n",
       "      <td>B</td>\n",
       "      <td>2019-08-01</td>\n",
       "      <td>2000</td>\n",
       "      <td>150</td>\n",
       "      <td>500</td>\n",
       "      <td>0.15</td>\n",
       "      <td>0.5</td>\n",
       "    </tr>\n",
       "    <tr>\n",
       "      <th>4</th>\n",
       "      <td>166377</td>\n",
       "      <td>2019-08-05</td>\n",
       "      <td>out</td>\n",
       "      <td>False</td>\n",
       "      <td>880022.0</td>\n",
       "      <td>True</td>\n",
       "      <td>3</td>\n",
       "      <td>0</td>\n",
       "      <td>25</td>\n",
       "      <td>2019-08</td>\n",
       "      <td>B</td>\n",
       "      <td>2019-08-01</td>\n",
       "      <td>2000</td>\n",
       "      <td>150</td>\n",
       "      <td>500</td>\n",
       "      <td>0.15</td>\n",
       "      <td>0.5</td>\n",
       "    </tr>\n",
       "  </tbody>\n",
       "</table>\n",
       "</div>"
      ],
      "text/plain": [
       "   user_id       date direction internal  operator_id  is_missed_call  \\\n",
       "0   166377 2019-08-04        in    False          NaN            True   \n",
       "1   166377 2019-08-05       out     True     880022.0            True   \n",
       "2   166377 2019-08-05       out     True     880020.0            True   \n",
       "3   166377 2019-08-05       out     True     880020.0           False   \n",
       "4   166377 2019-08-05       out    False     880022.0            True   \n",
       "\n",
       "   calls_count  call_duration  total_call_duration    month tariff_plan  \\\n",
       "0            2              0                    4  2019-08           B   \n",
       "1            3              0                    5  2019-08           B   \n",
       "2            1              0                    1  2019-08           B   \n",
       "3            1             10                   18  2019-08           B   \n",
       "4            3              0                   25  2019-08           B   \n",
       "\n",
       "  date_start  month_pay  add_pay  out_call_min  over_limit_cost  out_call_cost  \n",
       "0 2019-08-01       2000      150           500             0.15            0.5  \n",
       "1 2019-08-01       2000      150           500             0.15            0.5  \n",
       "2 2019-08-01       2000      150           500             0.15            0.5  \n",
       "3 2019-08-01       2000      150           500             0.15            0.5  \n",
       "4 2019-08-01       2000      150           500             0.15            0.5  "
      ]
     },
     "execution_count": 21,
     "metadata": {},
     "output_type": "execute_result"
    }
   ],
   "source": [
    "df.head()"
   ]
  },
  {
   "cell_type": "markdown",
   "id": "87574696-71df-4f6b-b66b-6e31636e86ab",
   "metadata": {},
   "source": [
    "**Промежуточные выводы:** в данных были обнаружены пропуски, а именно в столбцах internal(117 пропусков или 0.22%) и operator_id(8172 пропусков или 15%). \n",
    "Также было обнаружено 4900 строк продублированных данных или 9%."
   ]
  },
  {
   "cell_type": "markdown",
   "id": "d1249e3a-4063-4da2-8585-1f1bdd69ed96",
   "metadata": {},
   "source": [
    "## Исследовательский анализ данных"
   ]
  },
  {
   "cell_type": "markdown",
   "id": "64646877-6bdc-4ed0-937e-23fa5e513b08",
   "metadata": {},
   "source": [
    "**Смотрим на выбросы и аномалии**"
   ]
  },
  {
   "cell_type": "markdown",
   "id": "7629e74a-413b-4604-9d05-07bf1a850cb4",
   "metadata": {},
   "source": [
    "Строим гистограмму длительности звонков."
   ]
  },
  {
   "cell_type": "code",
   "execution_count": 22,
   "id": "f86e8df4-d3a2-44db-a144-7aca6424b505",
   "metadata": {},
   "outputs": [
    {
     "data": {
      "image/png": "[encoded data removed]",
      "text/plain": [
       "<Figure size 640x480 with 1 Axes>"
      ]
     },
     "metadata": {},
     "output_type": "display_data"
    },
    {
     "data": {
      "text/plain": [
       "count     49002.000000\n",
       "mean       1156.558202\n",
       "std        4451.473661\n",
       "min           0.000000\n",
       "25%          46.000000\n",
       "50%         208.000000\n",
       "75%         901.000000\n",
       "max      166155.000000\n",
       "Name: total_call_duration, dtype: float64"
      ]
     },
     "execution_count": 22,
     "metadata": {},
     "output_type": "execute_result"
    }
   ],
   "source": [
    "sns.histplot(x='total_call_duration', data=df, bins=50)\n",
    "# Настраиваем подписи осей и легенду\n",
    "plt.xlabel('Минуты')\n",
    "plt.ylabel('Количество клиентов')\n",
    "plt.title('Распределение длительности звонков')\n",
    "plt.show()\n",
    "df['total_call_duration'].describe()"
   ]
  },
  {
   "cell_type": "markdown",
   "id": "0762b157-4515-4edb-90ab-f09e9665bc05",
   "metadata": {},
   "source": [
    "\n",
    "Видно, что основные значения находятся в диапазоне 46 минут и 901 минуты, и есть жирный хвост, который достигает отметки в 166155 минут.\n",
    "Данные фильтруем по принципу рабочего дня. Предполагаем, что оператор работает 10 часов в день, следовательно, он не может выйти за рамки 600 минут в день."
   ]
  },
  {
   "cell_type": "code",
   "execution_count": 23,
   "id": "f2de13e9-02b9-4119-b41a-7c18896e7475",
   "metadata": {},
   "outputs": [],
   "source": [
    "filter = df.query('total_call_duration < 600')"
   ]
  },
  {
   "cell_type": "code",
   "execution_count": 24,
   "id": "fbf59ff2-5cfc-4afd-bc6d-ddaead755770",
   "metadata": {},
   "outputs": [
    {
     "data": {
      "image/png": "[encoded data removed]",
      "text/plain": [
       "<Figure size 640x480 with 1 Axes>"
      ]
     },
     "metadata": {},
     "output_type": "display_data"
    }
   ],
   "source": [
    "sns.histplot(x='total_call_duration', data=filter, bins=50)\n",
    "# Настраиваем подписи осей и легенду\n",
    "plt.xlabel('Минуты')\n",
    "plt.ylabel('Количество клиентов')\n",
    "plt.title('Распределение длительности звонков')\n",
    "plt.show()"
   ]
  },
  {
   "cell_type": "markdown",
   "id": "c05d2674-53e4-4dd1-941e-bed4ed7a1c22",
   "metadata": {},
   "source": [
    "Строим гистограмму количества звонков."
   ]
  },
  {
   "cell_type": "code",
   "execution_count": 25,
   "id": "565d1e62-b0e7-4626-9d65-699147c0fc41",
   "metadata": {},
   "outputs": [
    {
     "data": {
      "image/png": "[encoded data removed]",
      "text/plain": [
       "<Figure size 640x480 with 1 Axes>"
      ]
     },
     "metadata": {},
     "output_type": "display_data"
    },
    {
     "data": {
      "text/plain": [
       "count    33493.000000\n",
       "mean         4.288777\n",
       "std          8.989728\n",
       "min          1.000000\n",
       "25%          1.000000\n",
       "50%          2.000000\n",
       "75%          5.000000\n",
       "max        714.000000\n",
       "Name: calls_count, dtype: float64"
      ]
     },
     "execution_count": 25,
     "metadata": {},
     "output_type": "execute_result"
    }
   ],
   "source": [
    "sns.histplot(x='calls_count', data=filter, bins=50)\n",
    "# Настраиваем подписи осей и легенду\n",
    "plt.xlabel('Количество звонков')\n",
    "plt.ylabel('Количество клиентов')\n",
    "plt.title('Распределение количества звонков')\n",
    "plt.show()\n",
    "filter['calls_count'].describe()"
   ]
  },
  {
   "cell_type": "markdown",
   "id": "70bf6aaa-d1f0-4f47-bc15-474aafd25619",
   "metadata": {},
   "source": [
    "\n",
    "\n",
    "Видим, как основные значения распределены в диапазоне одного звонка и 5 звонков, и есть жирный хвост с отметкой 714.\n",
    "Отфильтруем данные и оставим небольше 20 звонков\n"
   ]
  },
  {
   "cell_type": "markdown",
   "id": "8e83fcc4-4129-4a36-8275-2dd36169b366",
   "metadata": {},
   "source": [
    "Строим гистрограмму количества звонков."
   ]
  },
  {
   "cell_type": "code",
   "execution_count": 26,
   "id": "377915f6-0df6-473c-93a0-578f07693a2b",
   "metadata": {},
   "outputs": [
    {
     "data": {
      "image/png": "[encoded data removed]",
      "text/plain": [
       "<Figure size 640x480 with 1 Axes>"
      ]
     },
     "metadata": {},
     "output_type": "display_data"
    },
    {
     "data": {
      "text/plain": [
       "count    32479.000000\n",
       "mean         3.405185\n",
       "std          3.522135\n",
       "min          1.000000\n",
       "25%          1.000000\n",
       "50%          2.000000\n",
       "75%          4.000000\n",
       "max         19.000000\n",
       "Name: calls_count, dtype: float64"
      ]
     },
     "execution_count": 26,
     "metadata": {},
     "output_type": "execute_result"
    }
   ],
   "source": [
    "filter = filter.query('calls_count < 20')\n",
    "sns.histplot(x='calls_count', data=filter, bins=19)\n",
    "# Настраиваем подписи осей и легенду\n",
    "plt.xlabel('Количество звонков')\n",
    "plt.ylabel('Количество клиентов')\n",
    "plt.title('Распределение количества звонков')\n",
    "plt.show()\n",
    "filter['calls_count'].describe()"
   ]
  },
  {
   "cell_type": "code",
   "execution_count": 27,
   "id": "e282087b-64e8-4c42-ab23-7b7dbcb5334f",
   "metadata": {},
   "outputs": [
    {
     "data": {
      "image/png": "[encoded data removed]",
      "text/plain": [
       "<Figure size 640x480 with 1 Axes>"
      ]
     },
     "metadata": {},
     "output_type": "display_data"
    },
    {
     "data": {
      "text/plain": [
       "count    32479.000000\n",
       "mean        76.970104\n",
       "std        130.203588\n",
       "min          0.000000\n",
       "25%          0.000000\n",
       "50%          0.000000\n",
       "75%        103.000000\n",
       "max        595.000000\n",
       "Name: call_duration, dtype: float64"
      ]
     },
     "execution_count": 27,
     "metadata": {},
     "output_type": "execute_result"
    }
   ],
   "source": [
    "sns.histplot(x='call_duration', data=filter, bins=10)\n",
    "# Настраиваем подписи осей и легенду\n",
    "plt.xlabel('Количество минут')\n",
    "plt.ylabel('Количество клиентов')\n",
    "plt.title('Распределение количества минут отвеченных звонков')\n",
    "plt.show()\n",
    "filter['call_duration'].describe()"
   ]
  },
  {
   "cell_type": "markdown",
   "id": "b64a83aa-f2bc-4052-b283-bfa4f53a35b7",
   "metadata": {},
   "source": [
    "\n",
    "\n",
    "Видно, что 50 процентов звонков остаются неотвеченными. Так же есть жирный хвост с отметкой в 9 часов. Обработаем данные и оставим звонки которые длились небольше 120 минут"
   ]
  },
  {
   "cell_type": "markdown",
   "id": "f05db1bf-54a8-44db-8c82-27809649cf49",
   "metadata": {},
   "source": [
    "Строим гистограмму количества минут состоявшихся разговоров."
   ]
  },
  {
   "cell_type": "code",
   "execution_count": 28,
   "id": "bc7f4fb2-8cfc-411e-8d84-70dce712803d",
   "metadata": {},
   "outputs": [
    {
     "data": {
      "image/png": "[encoded data removed]",
      "text/plain": [
       "<Figure size 640x480 with 1 Axes>"
      ]
     },
     "metadata": {},
     "output_type": "display_data"
    },
    {
     "data": {
      "text/plain": [
       "count    25001.000000\n",
       "mean        14.661414\n",
       "std         29.088082\n",
       "min          0.000000\n",
       "25%          0.000000\n",
       "50%          0.000000\n",
       "75%         13.000000\n",
       "max        119.000000\n",
       "Name: call_duration, dtype: float64"
      ]
     },
     "execution_count": 28,
     "metadata": {},
     "output_type": "execute_result"
    }
   ],
   "source": [
    "filter = filter.query('call_duration < 120')\n",
    "sns.histplot(x='call_duration', data=filter, bins=10)\n",
    "# Настраиваем подписи осей и легенду\n",
    "plt.xlabel('Количество минут состоявшихся разговоров')\n",
    "plt.ylabel('Количество клиентов')\n",
    "plt.title('Распределение минут состоявшихся разговоров')\n",
    "plt.show()\n",
    "filter['call_duration'].describe()"
   ]
  },
  {
   "cell_type": "markdown",
   "id": "e1a9ccb7-9126-4314-9618-b52e44d7e6e2",
   "metadata": {},
   "source": [
    "Смотрим на распределение звонков входящих и исходящих."
   ]
  },
  {
   "cell_type": "code",
   "execution_count": 29,
   "id": "2d7f7126-11e8-4858-85ef-520df18a2f41",
   "metadata": {},
   "outputs": [
    {
     "data": {
      "text/plain": [
       "out    14083\n",
       "in     10918\n",
       "Name: direction, dtype: int64"
      ]
     },
     "metadata": {},
     "output_type": "display_data"
    },
    {
     "data": {
      "text/plain": [
       "out    0.563297\n",
       "in     0.436703\n",
       "Name: direction, dtype: float64"
      ]
     },
     "execution_count": 29,
     "metadata": {},
     "output_type": "execute_result"
    }
   ],
   "source": [
    "display(filter['direction'].value_counts())\n",
    "filter['direction'].value_counts(normalize=True)"
   ]
  },
  {
   "cell_type": "markdown",
   "id": "1990acda-5585-4785-b0fa-e158f7db4e4d",
   "metadata": {},
   "source": [
    "Больше исходящих звонков 54 процента или 12395, но разница не очень большая, входящих звонков 45 процентов или 10361."
   ]
  },
  {
   "cell_type": "markdown",
   "id": "3fc36804-cd4b-4dc9-b7b3-1d77e2b31492",
   "metadata": {},
   "source": [
    "Смотрим на то, какие клиенты с какими тарифами преобладают. "
   ]
  },
  {
   "cell_type": "code",
   "execution_count": 30,
   "id": "10c22704-830e-4434-8c7e-cfa1bed20bc7",
   "metadata": {},
   "outputs": [
    {
     "data": {
      "text/plain": [
       "1000    10068\n",
       "2000     9207\n",
       "4000     5726\n",
       "Name: month_pay, dtype: int64"
      ]
     },
     "metadata": {},
     "output_type": "display_data"
    },
    {
     "data": {
      "text/plain": [
       "1000    0.402704\n",
       "2000    0.368265\n",
       "4000    0.229031\n",
       "Name: month_pay, dtype: float64"
      ]
     },
     "execution_count": 30,
     "metadata": {},
     "output_type": "execute_result"
    }
   ],
   "source": [
    "display(filter['month_pay'].value_counts())\n",
    "filter['month_pay'].value_counts(normalize=True)"
   ]
  },
  {
   "cell_type": "markdown",
   "id": "5f0d96a9-11b7-4108-97b5-fa787a5038f0",
   "metadata": {},
   "source": [
    "Лидируют клиенты с тарифом 'C', их 10068 или 40 процентов, потом идут клиенты с тарифом 'B', их 9207 или 37 процентов, и в конце идут клиенты с тарифом 'A', их 7261 или 23 процента."
   ]
  },
  {
   "cell_type": "markdown",
   "id": "e2450ea2-5ae1-49ff-b341-ed699d12356f",
   "metadata": {},
   "source": [
    "**Смотрим на диапазон дат**"
   ]
  },
  {
   "cell_type": "code",
   "execution_count": 31,
   "id": "ddef4ce9-cc41-4ef1-8d61-45024f4ebda2",
   "metadata": {},
   "outputs": [
    {
     "data": {
      "text/plain": [
       "Timestamp('2019-08-01 00:00:00')"
      ]
     },
     "metadata": {},
     "output_type": "display_data"
    },
    {
     "data": {
      "text/plain": [
       "Timestamp('2019-10-31 00:00:00')"
      ]
     },
     "execution_count": 31,
     "metadata": {},
     "output_type": "execute_result"
    }
   ],
   "source": [
    "display(filter['date_start'].min())\n",
    "filter['date_start'].max()\n"
   ]
  },
  {
   "cell_type": "markdown",
   "id": "4eddd3e0-296f-439a-9289-dda77b839258",
   "metadata": {},
   "source": [
    "**Определяем актуальный диапазон**"
   ]
  },
  {
   "cell_type": "code",
   "execution_count": 32,
   "id": "9375f133-b618-4a96-9281-f36a1cf2abdb",
   "metadata": {},
   "outputs": [
    {
     "data": {
      "text/html": [
       "<div>\n",
       "<style scoped>\n",
       "    .dataframe tbody tr th:only-of-type {\n",
       "        vertical-align: middle;\n",
       "    }\n",
       "\n",
       "    .dataframe tbody tr th {\n",
       "        vertical-align: top;\n",
       "    }\n",
       "\n",
       "    .dataframe thead th {\n",
       "        text-align: right;\n",
       "    }\n",
       "</style>\n",
       "<table border=\"1\" class=\"dataframe\">\n",
       "  <thead>\n",
       "    <tr style=\"text-align: right;\">\n",
       "      <th>month</th>\n",
       "      <th>user_id</th>\n",
       "      <th>2019-08</th>\n",
       "      <th>2019-09</th>\n",
       "      <th>2019-10</th>\n",
       "      <th>2019-11</th>\n",
       "    </tr>\n",
       "  </thead>\n",
       "  <tbody>\n",
       "    <tr>\n",
       "      <th>0</th>\n",
       "      <td>166377</td>\n",
       "      <td>5042.0</td>\n",
       "      <td>11233.0</td>\n",
       "      <td>9712.0</td>\n",
       "      <td>11013.0</td>\n",
       "    </tr>\n",
       "    <tr>\n",
       "      <th>1</th>\n",
       "      <td>166391</td>\n",
       "      <td>620.0</td>\n",
       "      <td>36.0</td>\n",
       "      <td>2.0</td>\n",
       "      <td>85.0</td>\n",
       "    </tr>\n",
       "    <tr>\n",
       "      <th>2</th>\n",
       "      <td>166392</td>\n",
       "      <td>277.0</td>\n",
       "      <td>467.0</td>\n",
       "      <td>769.0</td>\n",
       "      <td>353.0</td>\n",
       "    </tr>\n",
       "    <tr>\n",
       "      <th>3</th>\n",
       "      <td>166399</td>\n",
       "      <td>244.0</td>\n",
       "      <td>230.0</td>\n",
       "      <td>315.0</td>\n",
       "      <td>NaN</td>\n",
       "    </tr>\n",
       "    <tr>\n",
       "      <th>4</th>\n",
       "      <td>166405</td>\n",
       "      <td>4171.0</td>\n",
       "      <td>6744.0</td>\n",
       "      <td>10741.0</td>\n",
       "      <td>16555.0</td>\n",
       "    </tr>\n",
       "    <tr>\n",
       "      <th>...</th>\n",
       "      <td>...</td>\n",
       "      <td>...</td>\n",
       "      <td>...</td>\n",
       "      <td>...</td>\n",
       "      <td>...</td>\n",
       "    </tr>\n",
       "    <tr>\n",
       "      <th>302</th>\n",
       "      <td>168583</td>\n",
       "      <td>NaN</td>\n",
       "      <td>NaN</td>\n",
       "      <td>36.0</td>\n",
       "      <td>1127.0</td>\n",
       "    </tr>\n",
       "    <tr>\n",
       "      <th>303</th>\n",
       "      <td>168598</td>\n",
       "      <td>NaN</td>\n",
       "      <td>NaN</td>\n",
       "      <td>NaN</td>\n",
       "      <td>837.0</td>\n",
       "    </tr>\n",
       "    <tr>\n",
       "      <th>304</th>\n",
       "      <td>168601</td>\n",
       "      <td>NaN</td>\n",
       "      <td>NaN</td>\n",
       "      <td>NaN</td>\n",
       "      <td>2441.0</td>\n",
       "    </tr>\n",
       "    <tr>\n",
       "      <th>305</th>\n",
       "      <td>168603</td>\n",
       "      <td>NaN</td>\n",
       "      <td>NaN</td>\n",
       "      <td>NaN</td>\n",
       "      <td>316.0</td>\n",
       "    </tr>\n",
       "    <tr>\n",
       "      <th>306</th>\n",
       "      <td>168606</td>\n",
       "      <td>NaN</td>\n",
       "      <td>NaN</td>\n",
       "      <td>NaN</td>\n",
       "      <td>295.0</td>\n",
       "    </tr>\n",
       "  </tbody>\n",
       "</table>\n",
       "<p>307 rows × 5 columns</p>\n",
       "</div>"
      ],
      "text/plain": [
       "month  user_id  2019-08  2019-09  2019-10  2019-11\n",
       "0       166377   5042.0  11233.0   9712.0  11013.0\n",
       "1       166391    620.0     36.0      2.0     85.0\n",
       "2       166392    277.0    467.0    769.0    353.0\n",
       "3       166399    244.0    230.0    315.0      NaN\n",
       "4       166405   4171.0   6744.0  10741.0  16555.0\n",
       "..         ...      ...      ...      ...      ...\n",
       "302     168583      NaN      NaN     36.0   1127.0\n",
       "303     168598      NaN      NaN      NaN    837.0\n",
       "304     168601      NaN      NaN      NaN   2441.0\n",
       "305     168603      NaN      NaN      NaN    316.0\n",
       "306     168606      NaN      NaN      NaN    295.0\n",
       "\n",
       "[307 rows x 5 columns]"
      ]
     },
     "execution_count": 32,
     "metadata": {},
     "output_type": "execute_result"
    }
   ],
   "source": [
    "t = filter.pivot_table(values='total_call_duration', index='user_id', columns='month', aggfunc='sum').reset_index()\n",
    "t"
   ]
  },
  {
   "cell_type": "code",
   "execution_count": 33,
   "id": "f2f6f87c-0272-4873-ade3-fda357d6b75e",
   "metadata": {},
   "outputs": [
    {
     "data": {
      "text/plain": [
       "month\n",
       "user_id     0.000000\n",
       "2019-08    72.312704\n",
       "2019-09    43.973941\n",
       "2019-10    11.400651\n",
       "2019-11    14.983713\n",
       "dtype: float64"
      ]
     },
     "execution_count": 33,
     "metadata": {},
     "output_type": "execute_result"
    }
   ],
   "source": [
    "t.isnull().mean() * 100"
   ]
  },
  {
   "cell_type": "markdown",
   "id": "fa868e3b-dd79-47e9-84ca-de1bc3ac0cb7",
   "metadata": {},
   "source": [
    "В 8 месяце 72 процентов клиентов говорили 0 минут, а в 9 — 43 процента. Об этом стоит сказать заказчику."
   ]
  },
  {
   "cell_type": "markdown",
   "id": "3fb5f30f-ee15-4872-a047-47a41034cd63",
   "metadata": {},
   "source": [
    "Убираем 8 месяц из данных"
   ]
  },
  {
   "cell_type": "code",
   "execution_count": 34,
   "id": "6c041e43-2b4d-42de-8a77-4024d1d27e87",
   "metadata": {},
   "outputs": [
    {
     "data": {
      "text/plain": [
       "<PeriodArray>\n",
       "['2019-09', '2019-10', '2019-11']\n",
       "Length: 3, dtype: period[M]"
      ]
     },
     "execution_count": 34,
     "metadata": {},
     "output_type": "execute_result"
    }
   ],
   "source": [
    "filter_1 = filter.query('month > \"2019-08\"')\n",
    "filter_1['month'].unique()"
   ]
  },
  {
   "cell_type": "markdown",
   "id": "debf8f6a-82a2-4891-88ca-1bf953048948",
   "metadata": {},
   "source": [
    "**Отбираем активных клиентов**"
   ]
  },
  {
   "cell_type": "markdown",
   "id": "dd915037-b96c-4438-b0e3-b198ad8d2eba",
   "metadata": {},
   "source": [
    "Мы формируем сводную таблицу, где индексом у нас будет номер клиента, а столбцы будут месяца, и в значениях столбцов выводим суммарное количество минут (total_call_duration), сделанное клиентом за месяц. После чего начинаем фильтровать таблицу по столбцам, где у клиента было nan-значение в 9 и 10 месяце, это означает, что целых два месяца клиент не совершал никаких звонков. Потом проверяем клиентов, которые не совершали звонков в течение трех месяцев. После такой обработки выводим описание таблицы и смотрим на распределение значений. На основании этих значений делаем финальный отбор."
   ]
  },
  {
   "cell_type": "markdown",
   "id": "d2d4e122-1e8a-470c-82b4-e1e24b1f0a72",
   "metadata": {},
   "source": [
    "Мы формируем сводную таблицу, где индексом у нас будет номер клиента, а столбцы будут месяца, и в значениях столбцов выводим суммарное количество минут (total_call_duration), сделанное клиентом за месяц."
   ]
  },
  {
   "cell_type": "code",
   "execution_count": 35,
   "id": "8caf71f7-3919-49af-93a2-38a28af7b5aa",
   "metadata": {},
   "outputs": [
    {
     "data": {
      "text/html": [
       "<div>\n",
       "<style scoped>\n",
       "    .dataframe tbody tr th:only-of-type {\n",
       "        vertical-align: middle;\n",
       "    }\n",
       "\n",
       "    .dataframe tbody tr th {\n",
       "        vertical-align: top;\n",
       "    }\n",
       "\n",
       "    .dataframe thead th {\n",
       "        text-align: right;\n",
       "    }\n",
       "</style>\n",
       "<table border=\"1\" class=\"dataframe\">\n",
       "  <thead>\n",
       "    <tr style=\"text-align: right;\">\n",
       "      <th></th>\n",
       "      <th>user_id</th>\n",
       "      <th>m9</th>\n",
       "      <th>m10</th>\n",
       "      <th>m11</th>\n",
       "    </tr>\n",
       "  </thead>\n",
       "  <tbody>\n",
       "    <tr>\n",
       "      <th>0</th>\n",
       "      <td>166377</td>\n",
       "      <td>11233.0</td>\n",
       "      <td>9712.0</td>\n",
       "      <td>11013.0</td>\n",
       "    </tr>\n",
       "    <tr>\n",
       "      <th>1</th>\n",
       "      <td>166391</td>\n",
       "      <td>36.0</td>\n",
       "      <td>2.0</td>\n",
       "      <td>85.0</td>\n",
       "    </tr>\n",
       "    <tr>\n",
       "      <th>2</th>\n",
       "      <td>166392</td>\n",
       "      <td>467.0</td>\n",
       "      <td>769.0</td>\n",
       "      <td>353.0</td>\n",
       "    </tr>\n",
       "    <tr>\n",
       "      <th>3</th>\n",
       "      <td>166399</td>\n",
       "      <td>230.0</td>\n",
       "      <td>315.0</td>\n",
       "      <td>NaN</td>\n",
       "    </tr>\n",
       "    <tr>\n",
       "      <th>4</th>\n",
       "      <td>166405</td>\n",
       "      <td>6744.0</td>\n",
       "      <td>10741.0</td>\n",
       "      <td>16555.0</td>\n",
       "    </tr>\n",
       "    <tr>\n",
       "      <th>...</th>\n",
       "      <td>...</td>\n",
       "      <td>...</td>\n",
       "      <td>...</td>\n",
       "      <td>...</td>\n",
       "    </tr>\n",
       "    <tr>\n",
       "      <th>298</th>\n",
       "      <td>168583</td>\n",
       "      <td>NaN</td>\n",
       "      <td>36.0</td>\n",
       "      <td>1127.0</td>\n",
       "    </tr>\n",
       "    <tr>\n",
       "      <th>299</th>\n",
       "      <td>168598</td>\n",
       "      <td>NaN</td>\n",
       "      <td>NaN</td>\n",
       "      <td>837.0</td>\n",
       "    </tr>\n",
       "    <tr>\n",
       "      <th>300</th>\n",
       "      <td>168601</td>\n",
       "      <td>NaN</td>\n",
       "      <td>NaN</td>\n",
       "      <td>2441.0</td>\n",
       "    </tr>\n",
       "    <tr>\n",
       "      <th>301</th>\n",
       "      <td>168603</td>\n",
       "      <td>NaN</td>\n",
       "      <td>NaN</td>\n",
       "      <td>316.0</td>\n",
       "    </tr>\n",
       "    <tr>\n",
       "      <th>302</th>\n",
       "      <td>168606</td>\n",
       "      <td>NaN</td>\n",
       "      <td>NaN</td>\n",
       "      <td>295.0</td>\n",
       "    </tr>\n",
       "  </tbody>\n",
       "</table>\n",
       "<p>303 rows × 4 columns</p>\n",
       "</div>"
      ],
      "text/plain": [
       "     user_id       m9      m10      m11\n",
       "0     166377  11233.0   9712.0  11013.0\n",
       "1     166391     36.0      2.0     85.0\n",
       "2     166392    467.0    769.0    353.0\n",
       "3     166399    230.0    315.0      NaN\n",
       "4     166405   6744.0  10741.0  16555.0\n",
       "..       ...      ...      ...      ...\n",
       "298   168583      NaN     36.0   1127.0\n",
       "299   168598      NaN      NaN    837.0\n",
       "300   168601      NaN      NaN   2441.0\n",
       "301   168603      NaN      NaN    316.0\n",
       "302   168606      NaN      NaN    295.0\n",
       "\n",
       "[303 rows x 4 columns]"
      ]
     },
     "execution_count": 35,
     "metadata": {},
     "output_type": "execute_result"
    }
   ],
   "source": [
    "t1 = filter_1.pivot_table(values='total_call_duration', index='user_id', columns='month', aggfunc='sum').reset_index()\n",
    "t1.columns = ['user_id', 'm9', 'm10', 'm11']\n",
    "t1"
   ]
  },
  {
   "cell_type": "markdown",
   "id": "be79f198-9605-471b-bd85-79ede027a3c4",
   "metadata": {},
   "source": [
    "Смотрим сколько клиентов не  совершило ни одного звонка за два месяца"
   ]
  },
  {
   "cell_type": "code",
   "execution_count": 36,
   "id": "1fc48bb9-22d1-4545-8c11-44b747362c05",
   "metadata": {},
   "outputs": [],
   "source": [
    "nan_user = t1[t1[['m9', 'm10']].isnull().all(axis=1)]['user_id']"
   ]
  },
  {
   "cell_type": "code",
   "execution_count": 37,
   "id": "4ecd7c36-40fd-49d5-9ef7-e2496146db5a",
   "metadata": {},
   "outputs": [
    {
     "data": {
      "text/plain": [
       "21"
      ]
     },
     "metadata": {},
     "output_type": "display_data"
    },
    {
     "data": {
      "text/plain": [
       "6.9306930693069315"
      ]
     },
     "execution_count": 37,
     "metadata": {},
     "output_type": "execute_result"
    }
   ],
   "source": [
    "display(nan_user.count())\n",
    "nan_user.count() / t1['user_id'].count() * 100"
   ]
  },
  {
   "cell_type": "markdown",
   "id": "2deaeafb-b4d8-47e6-b1b6-696b22fbb347",
   "metadata": {},
   "source": [
    "После чего начинаем фильтровать таблицу по столбцам, где у клиента было nan-значение в 9 и 10 месяце, это означает, что целых два месяца клиент не совершал никаких звонков. Потом проверяем клиентов, которые не совершали звонков в течение трех месяцев. "
   ]
  },
  {
   "cell_type": "code",
   "execution_count": 38,
   "id": "b98d3051-b531-450b-b78d-4c2cf765eed5",
   "metadata": {},
   "outputs": [
    {
     "data": {
      "text/plain": [
       "user_id    0\n",
       "m9         0\n",
       "m10        0\n",
       "m11        0\n",
       "dtype: int64"
      ]
     },
     "execution_count": 38,
     "metadata": {},
     "output_type": "execute_result"
    }
   ],
   "source": [
    "t2 = t1.dropna(subset=['m9', 'm10'])\n",
    "t3 = t2.dropna(subset=['m9', 'm10', 'm11'])\n",
    "t3.isnull().sum()\n"
   ]
  },
  {
   "cell_type": "markdown",
   "id": "b866e025-e710-4fe2-8dd3-7494db8ba228",
   "metadata": {},
   "source": [
    " После такой обработки выводим описание таблицы и смотрим на распределение значений. На основании этих значений делаем финальный отбор."
   ]
  },
  {
   "cell_type": "code",
   "execution_count": 39,
   "id": "2af3af57-ec19-4845-8659-735fe22e69c0",
   "metadata": {},
   "outputs": [
    {
     "data": {
      "text/html": [
       "<div>\n",
       "<style scoped>\n",
       "    .dataframe tbody tr th:only-of-type {\n",
       "        vertical-align: middle;\n",
       "    }\n",
       "\n",
       "    .dataframe tbody tr th {\n",
       "        vertical-align: top;\n",
       "    }\n",
       "\n",
       "    .dataframe thead th {\n",
       "        text-align: right;\n",
       "    }\n",
       "</style>\n",
       "<table border=\"1\" class=\"dataframe\">\n",
       "  <thead>\n",
       "    <tr style=\"text-align: right;\">\n",
       "      <th></th>\n",
       "      <th>user_id</th>\n",
       "      <th>m9</th>\n",
       "      <th>m10</th>\n",
       "      <th>m11</th>\n",
       "    </tr>\n",
       "  </thead>\n",
       "  <tbody>\n",
       "    <tr>\n",
       "      <th>count</th>\n",
       "      <td>138.000000</td>\n",
       "      <td>138.000000</td>\n",
       "      <td>138.000000</td>\n",
       "      <td>138.000000</td>\n",
       "    </tr>\n",
       "    <tr>\n",
       "      <th>mean</th>\n",
       "      <td>167030.811594</td>\n",
       "      <td>2052.173913</td>\n",
       "      <td>3709.485507</td>\n",
       "      <td>3618.210145</td>\n",
       "    </tr>\n",
       "    <tr>\n",
       "      <th>std</th>\n",
       "      <td>377.870069</td>\n",
       "      <td>3503.015470</td>\n",
       "      <td>4792.223215</td>\n",
       "      <td>5092.265593</td>\n",
       "    </tr>\n",
       "    <tr>\n",
       "      <th>min</th>\n",
       "      <td>166377.000000</td>\n",
       "      <td>2.000000</td>\n",
       "      <td>2.000000</td>\n",
       "      <td>2.000000</td>\n",
       "    </tr>\n",
       "    <tr>\n",
       "      <th>25%</th>\n",
       "      <td>166708.750000</td>\n",
       "      <td>218.250000</td>\n",
       "      <td>571.750000</td>\n",
       "      <td>378.500000</td>\n",
       "    </tr>\n",
       "    <tr>\n",
       "      <th>50%</th>\n",
       "      <td>167017.500000</td>\n",
       "      <td>779.500000</td>\n",
       "      <td>1830.500000</td>\n",
       "      <td>1651.500000</td>\n",
       "    </tr>\n",
       "    <tr>\n",
       "      <th>75%</th>\n",
       "      <td>167283.750000</td>\n",
       "      <td>2463.000000</td>\n",
       "      <td>4637.000000</td>\n",
       "      <td>5025.250000</td>\n",
       "    </tr>\n",
       "    <tr>\n",
       "      <th>max</th>\n",
       "      <td>167781.000000</td>\n",
       "      <td>25823.000000</td>\n",
       "      <td>26784.000000</td>\n",
       "      <td>30850.000000</td>\n",
       "    </tr>\n",
       "  </tbody>\n",
       "</table>\n",
       "</div>"
      ],
      "text/plain": [
       "             user_id            m9           m10           m11\n",
       "count     138.000000    138.000000    138.000000    138.000000\n",
       "mean   167030.811594   2052.173913   3709.485507   3618.210145\n",
       "std       377.870069   3503.015470   4792.223215   5092.265593\n",
       "min    166377.000000      2.000000      2.000000      2.000000\n",
       "25%    166708.750000    218.250000    571.750000    378.500000\n",
       "50%    167017.500000    779.500000   1830.500000   1651.500000\n",
       "75%    167283.750000   2463.000000   4637.000000   5025.250000\n",
       "max    167781.000000  25823.000000  26784.000000  30850.000000"
      ]
     },
     "execution_count": 39,
     "metadata": {},
     "output_type": "execute_result"
    }
   ],
   "source": [
    "t3.describe()\n"
   ]
  },
  {
   "cell_type": "markdown",
   "id": "94435cda-73ed-4149-baeb-00f1576ea2aa",
   "metadata": {},
   "source": [
    "Убираем тех у кого меньше 60 мин в месяц"
   ]
  },
  {
   "cell_type": "code",
   "execution_count": 40,
   "id": "1d2ca0ec-e51b-4d5c-a762-fbf76c9e4a3f",
   "metadata": {},
   "outputs": [],
   "source": [
    "min = 60"
   ]
  },
  {
   "cell_type": "code",
   "execution_count": 41,
   "id": "ff54625d-8b57-415c-8d71-56f1817403de",
   "metadata": {},
   "outputs": [
    {
     "data": {
      "text/html": [
       "<div>\n",
       "<style scoped>\n",
       "    .dataframe tbody tr th:only-of-type {\n",
       "        vertical-align: middle;\n",
       "    }\n",
       "\n",
       "    .dataframe tbody tr th {\n",
       "        vertical-align: top;\n",
       "    }\n",
       "\n",
       "    .dataframe thead th {\n",
       "        text-align: right;\n",
       "    }\n",
       "</style>\n",
       "<table border=\"1\" class=\"dataframe\">\n",
       "  <thead>\n",
       "    <tr style=\"text-align: right;\">\n",
       "      <th></th>\n",
       "      <th>user_id</th>\n",
       "      <th>m9</th>\n",
       "      <th>m10</th>\n",
       "      <th>m11</th>\n",
       "    </tr>\n",
       "  </thead>\n",
       "  <tbody>\n",
       "    <tr>\n",
       "      <th>count</th>\n",
       "      <td>110.000000</td>\n",
       "      <td>110.000000</td>\n",
       "      <td>110.000000</td>\n",
       "      <td>110.000000</td>\n",
       "    </tr>\n",
       "    <tr>\n",
       "      <th>mean</th>\n",
       "      <td>167012.200000</td>\n",
       "      <td>2516.109091</td>\n",
       "      <td>4490.436364</td>\n",
       "      <td>4345.254545</td>\n",
       "    </tr>\n",
       "    <tr>\n",
       "      <th>std</th>\n",
       "      <td>352.470932</td>\n",
       "      <td>3780.793724</td>\n",
       "      <td>5054.374892</td>\n",
       "      <td>5415.701589</td>\n",
       "    </tr>\n",
       "    <tr>\n",
       "      <th>min</th>\n",
       "      <td>166377.000000</td>\n",
       "      <td>85.000000</td>\n",
       "      <td>86.000000</td>\n",
       "      <td>79.000000</td>\n",
       "    </tr>\n",
       "    <tr>\n",
       "      <th>25%</th>\n",
       "      <td>166714.000000</td>\n",
       "      <td>421.750000</td>\n",
       "      <td>1082.750000</td>\n",
       "      <td>751.250000</td>\n",
       "    </tr>\n",
       "    <tr>\n",
       "      <th>50%</th>\n",
       "      <td>167002.500000</td>\n",
       "      <td>1255.000000</td>\n",
       "      <td>2689.500000</td>\n",
       "      <td>2438.500000</td>\n",
       "    </tr>\n",
       "    <tr>\n",
       "      <th>75%</th>\n",
       "      <td>167263.750000</td>\n",
       "      <td>3026.750000</td>\n",
       "      <td>6311.250000</td>\n",
       "      <td>5684.500000</td>\n",
       "    </tr>\n",
       "    <tr>\n",
       "      <th>max</th>\n",
       "      <td>167716.000000</td>\n",
       "      <td>25823.000000</td>\n",
       "      <td>26784.000000</td>\n",
       "      <td>30850.000000</td>\n",
       "    </tr>\n",
       "  </tbody>\n",
       "</table>\n",
       "</div>"
      ],
      "text/plain": [
       "             user_id            m9           m10           m11\n",
       "count     110.000000    110.000000    110.000000    110.000000\n",
       "mean   167012.200000   2516.109091   4490.436364   4345.254545\n",
       "std       352.470932   3780.793724   5054.374892   5415.701589\n",
       "min    166377.000000     85.000000     86.000000     79.000000\n",
       "25%    166714.000000    421.750000   1082.750000    751.250000\n",
       "50%    167002.500000   1255.000000   2689.500000   2438.500000\n",
       "75%    167263.750000   3026.750000   6311.250000   5684.500000\n",
       "max    167716.000000  25823.000000  26784.000000  30850.000000"
      ]
     },
     "execution_count": 41,
     "metadata": {},
     "output_type": "execute_result"
    }
   ],
   "source": [
    "t3 = t3.query('m9 > @min and m10 > @min and m11 > @min')\n",
    "t3.describe()"
   ]
  },
  {
   "cell_type": "code",
   "execution_count": 42,
   "id": "dd45fff2-9d8b-4ae1-94f0-30febe95b661",
   "metadata": {},
   "outputs": [],
   "source": [
    "t3 = t3.query('user_id != 166975')"
   ]
  },
  {
   "cell_type": "code",
   "execution_count": 43,
   "id": "78aeea51-c771-4a69-9e45-d63bb761923c",
   "metadata": {},
   "outputs": [
    {
     "data": {
      "text/plain": [
       "109"
      ]
     },
     "execution_count": 43,
     "metadata": {},
     "output_type": "execute_result"
    }
   ],
   "source": [
    "t3['user_id'].count()"
   ]
  },
  {
   "cell_type": "markdown",
   "id": "1a14d068-059a-4aeb-bece-9c0d9a6adf8c",
   "metadata": {},
   "source": [
    "Таким образом, мы отобрали 109 активных клиента, осталось дабавить их в основную таблицу."
   ]
  },
  {
   "cell_type": "code",
   "execution_count": 44,
   "id": "2286c52e-e153-435a-a247-52a8eb6a410d",
   "metadata": {},
   "outputs": [],
   "source": [
    "data = pd.merge(t3, filter_1, on='user_id', how='left')"
   ]
  },
  {
   "cell_type": "code",
   "execution_count": 45,
   "id": "f792bb50-61b1-4395-82e6-06b115ddb742",
   "metadata": {},
   "outputs": [
    {
     "data": {
      "text/html": [
       "<div>\n",
       "<style scoped>\n",
       "    .dataframe tbody tr th:only-of-type {\n",
       "        vertical-align: middle;\n",
       "    }\n",
       "\n",
       "    .dataframe tbody tr th {\n",
       "        vertical-align: top;\n",
       "    }\n",
       "\n",
       "    .dataframe thead th {\n",
       "        text-align: right;\n",
       "    }\n",
       "</style>\n",
       "<table border=\"1\" class=\"dataframe\">\n",
       "  <thead>\n",
       "    <tr style=\"text-align: right;\">\n",
       "      <th></th>\n",
       "      <th>user_id</th>\n",
       "      <th>m9</th>\n",
       "      <th>m10</th>\n",
       "      <th>m11</th>\n",
       "      <th>date</th>\n",
       "      <th>direction</th>\n",
       "      <th>internal</th>\n",
       "      <th>operator_id</th>\n",
       "      <th>is_missed_call</th>\n",
       "      <th>calls_count</th>\n",
       "      <th>call_duration</th>\n",
       "      <th>total_call_duration</th>\n",
       "      <th>month</th>\n",
       "      <th>tariff_plan</th>\n",
       "      <th>date_start</th>\n",
       "      <th>month_pay</th>\n",
       "      <th>add_pay</th>\n",
       "      <th>out_call_min</th>\n",
       "      <th>over_limit_cost</th>\n",
       "      <th>out_call_cost</th>\n",
       "    </tr>\n",
       "  </thead>\n",
       "  <tbody>\n",
       "    <tr>\n",
       "      <th>0</th>\n",
       "      <td>166377</td>\n",
       "      <td>11233.0</td>\n",
       "      <td>9712.0</td>\n",
       "      <td>11013.0</td>\n",
       "      <td>2019-09-02</td>\n",
       "      <td>in</td>\n",
       "      <td>False</td>\n",
       "      <td>880028.0</td>\n",
       "      <td>False</td>\n",
       "      <td>2</td>\n",
       "      <td>66</td>\n",
       "      <td>75</td>\n",
       "      <td>2019-09</td>\n",
       "      <td>B</td>\n",
       "      <td>2019-08-01</td>\n",
       "      <td>2000</td>\n",
       "      <td>150</td>\n",
       "      <td>500</td>\n",
       "      <td>0.15</td>\n",
       "      <td>0.5</td>\n",
       "    </tr>\n",
       "    <tr>\n",
       "      <th>1</th>\n",
       "      <td>166377</td>\n",
       "      <td>11233.0</td>\n",
       "      <td>9712.0</td>\n",
       "      <td>11013.0</td>\n",
       "      <td>2019-09-02</td>\n",
       "      <td>in</td>\n",
       "      <td>False</td>\n",
       "      <td>880026.0</td>\n",
       "      <td>False</td>\n",
       "      <td>1</td>\n",
       "      <td>31</td>\n",
       "      <td>34</td>\n",
       "      <td>2019-09</td>\n",
       "      <td>B</td>\n",
       "      <td>2019-08-01</td>\n",
       "      <td>2000</td>\n",
       "      <td>150</td>\n",
       "      <td>500</td>\n",
       "      <td>0.15</td>\n",
       "      <td>0.5</td>\n",
       "    </tr>\n",
       "    <tr>\n",
       "      <th>2</th>\n",
       "      <td>166377</td>\n",
       "      <td>11233.0</td>\n",
       "      <td>9712.0</td>\n",
       "      <td>11013.0</td>\n",
       "      <td>2019-09-02</td>\n",
       "      <td>out</td>\n",
       "      <td>False</td>\n",
       "      <td>880026.0</td>\n",
       "      <td>True</td>\n",
       "      <td>6</td>\n",
       "      <td>0</td>\n",
       "      <td>168</td>\n",
       "      <td>2019-09</td>\n",
       "      <td>B</td>\n",
       "      <td>2019-08-01</td>\n",
       "      <td>2000</td>\n",
       "      <td>150</td>\n",
       "      <td>500</td>\n",
       "      <td>0.15</td>\n",
       "      <td>0.5</td>\n",
       "    </tr>\n",
       "    <tr>\n",
       "      <th>3</th>\n",
       "      <td>166377</td>\n",
       "      <td>11233.0</td>\n",
       "      <td>9712.0</td>\n",
       "      <td>11013.0</td>\n",
       "      <td>2019-09-02</td>\n",
       "      <td>out</td>\n",
       "      <td>True</td>\n",
       "      <td>880020.0</td>\n",
       "      <td>True</td>\n",
       "      <td>2</td>\n",
       "      <td>0</td>\n",
       "      <td>0</td>\n",
       "      <td>2019-09</td>\n",
       "      <td>B</td>\n",
       "      <td>2019-08-01</td>\n",
       "      <td>2000</td>\n",
       "      <td>150</td>\n",
       "      <td>500</td>\n",
       "      <td>0.15</td>\n",
       "      <td>0.5</td>\n",
       "    </tr>\n",
       "    <tr>\n",
       "      <th>4</th>\n",
       "      <td>166377</td>\n",
       "      <td>11233.0</td>\n",
       "      <td>9712.0</td>\n",
       "      <td>11013.0</td>\n",
       "      <td>2019-09-02</td>\n",
       "      <td>out</td>\n",
       "      <td>False</td>\n",
       "      <td>880020.0</td>\n",
       "      <td>True</td>\n",
       "      <td>2</td>\n",
       "      <td>0</td>\n",
       "      <td>3</td>\n",
       "      <td>2019-09</td>\n",
       "      <td>B</td>\n",
       "      <td>2019-08-01</td>\n",
       "      <td>2000</td>\n",
       "      <td>150</td>\n",
       "      <td>500</td>\n",
       "      <td>0.15</td>\n",
       "      <td>0.5</td>\n",
       "    </tr>\n",
       "    <tr>\n",
       "      <th>...</th>\n",
       "      <td>...</td>\n",
       "      <td>...</td>\n",
       "      <td>...</td>\n",
       "      <td>...</td>\n",
       "      <td>...</td>\n",
       "      <td>...</td>\n",
       "      <td>...</td>\n",
       "      <td>...</td>\n",
       "      <td>...</td>\n",
       "      <td>...</td>\n",
       "      <td>...</td>\n",
       "      <td>...</td>\n",
       "      <td>...</td>\n",
       "      <td>...</td>\n",
       "      <td>...</td>\n",
       "      <td>...</td>\n",
       "      <td>...</td>\n",
       "      <td>...</td>\n",
       "      <td>...</td>\n",
       "      <td>...</td>\n",
       "    </tr>\n",
       "    <tr>\n",
       "      <th>15385</th>\n",
       "      <td>167716</td>\n",
       "      <td>599.0</td>\n",
       "      <td>4601.0</td>\n",
       "      <td>4787.0</td>\n",
       "      <td>2019-11-25</td>\n",
       "      <td>out</td>\n",
       "      <td>False</td>\n",
       "      <td>922142.0</td>\n",
       "      <td>True</td>\n",
       "      <td>9</td>\n",
       "      <td>0</td>\n",
       "      <td>330</td>\n",
       "      <td>2019-11</td>\n",
       "      <td>B</td>\n",
       "      <td>2019-09-26</td>\n",
       "      <td>2000</td>\n",
       "      <td>150</td>\n",
       "      <td>500</td>\n",
       "      <td>0.15</td>\n",
       "      <td>0.5</td>\n",
       "    </tr>\n",
       "    <tr>\n",
       "      <th>15386</th>\n",
       "      <td>167716</td>\n",
       "      <td>599.0</td>\n",
       "      <td>4601.0</td>\n",
       "      <td>4787.0</td>\n",
       "      <td>2019-11-25</td>\n",
       "      <td>in</td>\n",
       "      <td>False</td>\n",
       "      <td>NaN</td>\n",
       "      <td>True</td>\n",
       "      <td>1</td>\n",
       "      <td>0</td>\n",
       "      <td>5</td>\n",
       "      <td>2019-11</td>\n",
       "      <td>B</td>\n",
       "      <td>2019-09-26</td>\n",
       "      <td>2000</td>\n",
       "      <td>150</td>\n",
       "      <td>500</td>\n",
       "      <td>0.15</td>\n",
       "      <td>0.5</td>\n",
       "    </tr>\n",
       "    <tr>\n",
       "      <th>15387</th>\n",
       "      <td>167716</td>\n",
       "      <td>599.0</td>\n",
       "      <td>4601.0</td>\n",
       "      <td>4787.0</td>\n",
       "      <td>2019-11-26</td>\n",
       "      <td>out</td>\n",
       "      <td>False</td>\n",
       "      <td>922142.0</td>\n",
       "      <td>True</td>\n",
       "      <td>8</td>\n",
       "      <td>0</td>\n",
       "      <td>193</td>\n",
       "      <td>2019-11</td>\n",
       "      <td>B</td>\n",
       "      <td>2019-09-26</td>\n",
       "      <td>2000</td>\n",
       "      <td>150</td>\n",
       "      <td>500</td>\n",
       "      <td>0.15</td>\n",
       "      <td>0.5</td>\n",
       "    </tr>\n",
       "    <tr>\n",
       "      <th>15388</th>\n",
       "      <td>167716</td>\n",
       "      <td>599.0</td>\n",
       "      <td>4601.0</td>\n",
       "      <td>4787.0</td>\n",
       "      <td>2019-11-27</td>\n",
       "      <td>out</td>\n",
       "      <td>False</td>\n",
       "      <td>922142.0</td>\n",
       "      <td>True</td>\n",
       "      <td>5</td>\n",
       "      <td>0</td>\n",
       "      <td>158</td>\n",
       "      <td>2019-11</td>\n",
       "      <td>B</td>\n",
       "      <td>2019-09-26</td>\n",
       "      <td>2000</td>\n",
       "      <td>150</td>\n",
       "      <td>500</td>\n",
       "      <td>0.15</td>\n",
       "      <td>0.5</td>\n",
       "    </tr>\n",
       "    <tr>\n",
       "      <th>15389</th>\n",
       "      <td>167716</td>\n",
       "      <td>599.0</td>\n",
       "      <td>4601.0</td>\n",
       "      <td>4787.0</td>\n",
       "      <td>2019-11-28</td>\n",
       "      <td>out</td>\n",
       "      <td>False</td>\n",
       "      <td>922142.0</td>\n",
       "      <td>True</td>\n",
       "      <td>1</td>\n",
       "      <td>0</td>\n",
       "      <td>35</td>\n",
       "      <td>2019-11</td>\n",
       "      <td>B</td>\n",
       "      <td>2019-09-26</td>\n",
       "      <td>2000</td>\n",
       "      <td>150</td>\n",
       "      <td>500</td>\n",
       "      <td>0.15</td>\n",
       "      <td>0.5</td>\n",
       "    </tr>\n",
       "  </tbody>\n",
       "</table>\n",
       "<p>15390 rows × 20 columns</p>\n",
       "</div>"
      ],
      "text/plain": [
       "       user_id       m9     m10      m11       date direction internal  \\\n",
       "0       166377  11233.0  9712.0  11013.0 2019-09-02        in    False   \n",
       "1       166377  11233.0  9712.0  11013.0 2019-09-02        in    False   \n",
       "2       166377  11233.0  9712.0  11013.0 2019-09-02       out    False   \n",
       "3       166377  11233.0  9712.0  11013.0 2019-09-02       out     True   \n",
       "4       166377  11233.0  9712.0  11013.0 2019-09-02       out    False   \n",
       "...        ...      ...     ...      ...        ...       ...      ...   \n",
       "15385   167716    599.0  4601.0   4787.0 2019-11-25       out    False   \n",
       "15386   167716    599.0  4601.0   4787.0 2019-11-25        in    False   \n",
       "15387   167716    599.0  4601.0   4787.0 2019-11-26       out    False   \n",
       "15388   167716    599.0  4601.0   4787.0 2019-11-27       out    False   \n",
       "15389   167716    599.0  4601.0   4787.0 2019-11-28       out    False   \n",
       "\n",
       "       operator_id  is_missed_call  calls_count  call_duration  \\\n",
       "0         880028.0           False            2             66   \n",
       "1         880026.0           False            1             31   \n",
       "2         880026.0            True            6              0   \n",
       "3         880020.0            True            2              0   \n",
       "4         880020.0            True            2              0   \n",
       "...            ...             ...          ...            ...   \n",
       "15385     922142.0            True            9              0   \n",
       "15386          NaN            True            1              0   \n",
       "15387     922142.0            True            8              0   \n",
       "15388     922142.0            True            5              0   \n",
       "15389     922142.0            True            1              0   \n",
       "\n",
       "       total_call_duration    month tariff_plan date_start  month_pay  \\\n",
       "0                       75  2019-09           B 2019-08-01       2000   \n",
       "1                       34  2019-09           B 2019-08-01       2000   \n",
       "2                      168  2019-09           B 2019-08-01       2000   \n",
       "3                        0  2019-09           B 2019-08-01       2000   \n",
       "4                        3  2019-09           B 2019-08-01       2000   \n",
       "...                    ...      ...         ...        ...        ...   \n",
       "15385                  330  2019-11           B 2019-09-26       2000   \n",
       "15386                    5  2019-11           B 2019-09-26       2000   \n",
       "15387                  193  2019-11           B 2019-09-26       2000   \n",
       "15388                  158  2019-11           B 2019-09-26       2000   \n",
       "15389                   35  2019-11           B 2019-09-26       2000   \n",
       "\n",
       "       add_pay  out_call_min  over_limit_cost  out_call_cost  \n",
       "0          150           500             0.15            0.5  \n",
       "1          150           500             0.15            0.5  \n",
       "2          150           500             0.15            0.5  \n",
       "3          150           500             0.15            0.5  \n",
       "4          150           500             0.15            0.5  \n",
       "...        ...           ...              ...            ...  \n",
       "15385      150           500             0.15            0.5  \n",
       "15386      150           500             0.15            0.5  \n",
       "15387      150           500             0.15            0.5  \n",
       "15388      150           500             0.15            0.5  \n",
       "15389      150           500             0.15            0.5  \n",
       "\n",
       "[15390 rows x 20 columns]"
      ]
     },
     "execution_count": 45,
     "metadata": {},
     "output_type": "execute_result"
    }
   ],
   "source": [
    "data"
   ]
  },
  {
   "cell_type": "markdown",
   "id": "861e0b9d-6219-40ec-978c-b6b914ec614b",
   "metadata": {},
   "source": [
    "Удаляем ненужные столбцы."
   ]
  },
  {
   "cell_type": "code",
   "execution_count": 46,
   "id": "c03f9e5b-5e97-492c-ac73-4f8fb5ae0479",
   "metadata": {},
   "outputs": [],
   "source": [
    "data = data.drop(['m9', 'm10', 'm11'], axis=1)"
   ]
  },
  {
   "cell_type": "code",
   "execution_count": 47,
   "id": "1b28e358-240a-43b8-977b-89b39bc796b2",
   "metadata": {},
   "outputs": [
    {
     "data": {
      "text/html": [
       "<div>\n",
       "<style scoped>\n",
       "    .dataframe tbody tr th:only-of-type {\n",
       "        vertical-align: middle;\n",
       "    }\n",
       "\n",
       "    .dataframe tbody tr th {\n",
       "        vertical-align: top;\n",
       "    }\n",
       "\n",
       "    .dataframe thead th {\n",
       "        text-align: right;\n",
       "    }\n",
       "</style>\n",
       "<table border=\"1\" class=\"dataframe\">\n",
       "  <thead>\n",
       "    <tr style=\"text-align: right;\">\n",
       "      <th></th>\n",
       "      <th>user_id</th>\n",
       "      <th>date</th>\n",
       "      <th>direction</th>\n",
       "      <th>internal</th>\n",
       "      <th>operator_id</th>\n",
       "      <th>is_missed_call</th>\n",
       "      <th>calls_count</th>\n",
       "      <th>call_duration</th>\n",
       "      <th>total_call_duration</th>\n",
       "      <th>month</th>\n",
       "      <th>tariff_plan</th>\n",
       "      <th>date_start</th>\n",
       "      <th>month_pay</th>\n",
       "      <th>add_pay</th>\n",
       "      <th>out_call_min</th>\n",
       "      <th>over_limit_cost</th>\n",
       "      <th>out_call_cost</th>\n",
       "    </tr>\n",
       "  </thead>\n",
       "  <tbody>\n",
       "    <tr>\n",
       "      <th>0</th>\n",
       "      <td>166377</td>\n",
       "      <td>2019-09-02</td>\n",
       "      <td>in</td>\n",
       "      <td>False</td>\n",
       "      <td>880028.0</td>\n",
       "      <td>False</td>\n",
       "      <td>2</td>\n",
       "      <td>66</td>\n",
       "      <td>75</td>\n",
       "      <td>2019-09</td>\n",
       "      <td>B</td>\n",
       "      <td>2019-08-01</td>\n",
       "      <td>2000</td>\n",
       "      <td>150</td>\n",
       "      <td>500</td>\n",
       "      <td>0.15</td>\n",
       "      <td>0.5</td>\n",
       "    </tr>\n",
       "    <tr>\n",
       "      <th>1</th>\n",
       "      <td>166377</td>\n",
       "      <td>2019-09-02</td>\n",
       "      <td>in</td>\n",
       "      <td>False</td>\n",
       "      <td>880026.0</td>\n",
       "      <td>False</td>\n",
       "      <td>1</td>\n",
       "      <td>31</td>\n",
       "      <td>34</td>\n",
       "      <td>2019-09</td>\n",
       "      <td>B</td>\n",
       "      <td>2019-08-01</td>\n",
       "      <td>2000</td>\n",
       "      <td>150</td>\n",
       "      <td>500</td>\n",
       "      <td>0.15</td>\n",
       "      <td>0.5</td>\n",
       "    </tr>\n",
       "    <tr>\n",
       "      <th>2</th>\n",
       "      <td>166377</td>\n",
       "      <td>2019-09-02</td>\n",
       "      <td>out</td>\n",
       "      <td>False</td>\n",
       "      <td>880026.0</td>\n",
       "      <td>True</td>\n",
       "      <td>6</td>\n",
       "      <td>0</td>\n",
       "      <td>168</td>\n",
       "      <td>2019-09</td>\n",
       "      <td>B</td>\n",
       "      <td>2019-08-01</td>\n",
       "      <td>2000</td>\n",
       "      <td>150</td>\n",
       "      <td>500</td>\n",
       "      <td>0.15</td>\n",
       "      <td>0.5</td>\n",
       "    </tr>\n",
       "    <tr>\n",
       "      <th>3</th>\n",
       "      <td>166377</td>\n",
       "      <td>2019-09-02</td>\n",
       "      <td>out</td>\n",
       "      <td>True</td>\n",
       "      <td>880020.0</td>\n",
       "      <td>True</td>\n",
       "      <td>2</td>\n",
       "      <td>0</td>\n",
       "      <td>0</td>\n",
       "      <td>2019-09</td>\n",
       "      <td>B</td>\n",
       "      <td>2019-08-01</td>\n",
       "      <td>2000</td>\n",
       "      <td>150</td>\n",
       "      <td>500</td>\n",
       "      <td>0.15</td>\n",
       "      <td>0.5</td>\n",
       "    </tr>\n",
       "    <tr>\n",
       "      <th>4</th>\n",
       "      <td>166377</td>\n",
       "      <td>2019-09-02</td>\n",
       "      <td>out</td>\n",
       "      <td>False</td>\n",
       "      <td>880020.0</td>\n",
       "      <td>True</td>\n",
       "      <td>2</td>\n",
       "      <td>0</td>\n",
       "      <td>3</td>\n",
       "      <td>2019-09</td>\n",
       "      <td>B</td>\n",
       "      <td>2019-08-01</td>\n",
       "      <td>2000</td>\n",
       "      <td>150</td>\n",
       "      <td>500</td>\n",
       "      <td>0.15</td>\n",
       "      <td>0.5</td>\n",
       "    </tr>\n",
       "    <tr>\n",
       "      <th>...</th>\n",
       "      <td>...</td>\n",
       "      <td>...</td>\n",
       "      <td>...</td>\n",
       "      <td>...</td>\n",
       "      <td>...</td>\n",
       "      <td>...</td>\n",
       "      <td>...</td>\n",
       "      <td>...</td>\n",
       "      <td>...</td>\n",
       "      <td>...</td>\n",
       "      <td>...</td>\n",
       "      <td>...</td>\n",
       "      <td>...</td>\n",
       "      <td>...</td>\n",
       "      <td>...</td>\n",
       "      <td>...</td>\n",
       "      <td>...</td>\n",
       "    </tr>\n",
       "    <tr>\n",
       "      <th>15385</th>\n",
       "      <td>167716</td>\n",
       "      <td>2019-11-25</td>\n",
       "      <td>out</td>\n",
       "      <td>False</td>\n",
       "      <td>922142.0</td>\n",
       "      <td>True</td>\n",
       "      <td>9</td>\n",
       "      <td>0</td>\n",
       "      <td>330</td>\n",
       "      <td>2019-11</td>\n",
       "      <td>B</td>\n",
       "      <td>2019-09-26</td>\n",
       "      <td>2000</td>\n",
       "      <td>150</td>\n",
       "      <td>500</td>\n",
       "      <td>0.15</td>\n",
       "      <td>0.5</td>\n",
       "    </tr>\n",
       "    <tr>\n",
       "      <th>15386</th>\n",
       "      <td>167716</td>\n",
       "      <td>2019-11-25</td>\n",
       "      <td>in</td>\n",
       "      <td>False</td>\n",
       "      <td>NaN</td>\n",
       "      <td>True</td>\n",
       "      <td>1</td>\n",
       "      <td>0</td>\n",
       "      <td>5</td>\n",
       "      <td>2019-11</td>\n",
       "      <td>B</td>\n",
       "      <td>2019-09-26</td>\n",
       "      <td>2000</td>\n",
       "      <td>150</td>\n",
       "      <td>500</td>\n",
       "      <td>0.15</td>\n",
       "      <td>0.5</td>\n",
       "    </tr>\n",
       "    <tr>\n",
       "      <th>15387</th>\n",
       "      <td>167716</td>\n",
       "      <td>2019-11-26</td>\n",
       "      <td>out</td>\n",
       "      <td>False</td>\n",
       "      <td>922142.0</td>\n",
       "      <td>True</td>\n",
       "      <td>8</td>\n",
       "      <td>0</td>\n",
       "      <td>193</td>\n",
       "      <td>2019-11</td>\n",
       "      <td>B</td>\n",
       "      <td>2019-09-26</td>\n",
       "      <td>2000</td>\n",
       "      <td>150</td>\n",
       "      <td>500</td>\n",
       "      <td>0.15</td>\n",
       "      <td>0.5</td>\n",
       "    </tr>\n",
       "    <tr>\n",
       "      <th>15388</th>\n",
       "      <td>167716</td>\n",
       "      <td>2019-11-27</td>\n",
       "      <td>out</td>\n",
       "      <td>False</td>\n",
       "      <td>922142.0</td>\n",
       "      <td>True</td>\n",
       "      <td>5</td>\n",
       "      <td>0</td>\n",
       "      <td>158</td>\n",
       "      <td>2019-11</td>\n",
       "      <td>B</td>\n",
       "      <td>2019-09-26</td>\n",
       "      <td>2000</td>\n",
       "      <td>150</td>\n",
       "      <td>500</td>\n",
       "      <td>0.15</td>\n",
       "      <td>0.5</td>\n",
       "    </tr>\n",
       "    <tr>\n",
       "      <th>15389</th>\n",
       "      <td>167716</td>\n",
       "      <td>2019-11-28</td>\n",
       "      <td>out</td>\n",
       "      <td>False</td>\n",
       "      <td>922142.0</td>\n",
       "      <td>True</td>\n",
       "      <td>1</td>\n",
       "      <td>0</td>\n",
       "      <td>35</td>\n",
       "      <td>2019-11</td>\n",
       "      <td>B</td>\n",
       "      <td>2019-09-26</td>\n",
       "      <td>2000</td>\n",
       "      <td>150</td>\n",
       "      <td>500</td>\n",
       "      <td>0.15</td>\n",
       "      <td>0.5</td>\n",
       "    </tr>\n",
       "  </tbody>\n",
       "</table>\n",
       "<p>15390 rows × 17 columns</p>\n",
       "</div>"
      ],
      "text/plain": [
       "       user_id       date direction internal  operator_id  is_missed_call  \\\n",
       "0       166377 2019-09-02        in    False     880028.0           False   \n",
       "1       166377 2019-09-02        in    False     880026.0           False   \n",
       "2       166377 2019-09-02       out    False     880026.0            True   \n",
       "3       166377 2019-09-02       out     True     880020.0            True   \n",
       "4       166377 2019-09-02       out    False     880020.0            True   \n",
       "...        ...        ...       ...      ...          ...             ...   \n",
       "15385   167716 2019-11-25       out    False     922142.0            True   \n",
       "15386   167716 2019-11-25        in    False          NaN            True   \n",
       "15387   167716 2019-11-26       out    False     922142.0            True   \n",
       "15388   167716 2019-11-27       out    False     922142.0            True   \n",
       "15389   167716 2019-11-28       out    False     922142.0            True   \n",
       "\n",
       "       calls_count  call_duration  total_call_duration    month tariff_plan  \\\n",
       "0                2             66                   75  2019-09           B   \n",
       "1                1             31                   34  2019-09           B   \n",
       "2                6              0                  168  2019-09           B   \n",
       "3                2              0                    0  2019-09           B   \n",
       "4                2              0                    3  2019-09           B   \n",
       "...            ...            ...                  ...      ...         ...   \n",
       "15385            9              0                  330  2019-11           B   \n",
       "15386            1              0                    5  2019-11           B   \n",
       "15387            8              0                  193  2019-11           B   \n",
       "15388            5              0                  158  2019-11           B   \n",
       "15389            1              0                   35  2019-11           B   \n",
       "\n",
       "      date_start  month_pay  add_pay  out_call_min  over_limit_cost  \\\n",
       "0     2019-08-01       2000      150           500             0.15   \n",
       "1     2019-08-01       2000      150           500             0.15   \n",
       "2     2019-08-01       2000      150           500             0.15   \n",
       "3     2019-08-01       2000      150           500             0.15   \n",
       "4     2019-08-01       2000      150           500             0.15   \n",
       "...          ...        ...      ...           ...              ...   \n",
       "15385 2019-09-26       2000      150           500             0.15   \n",
       "15386 2019-09-26       2000      150           500             0.15   \n",
       "15387 2019-09-26       2000      150           500             0.15   \n",
       "15388 2019-09-26       2000      150           500             0.15   \n",
       "15389 2019-09-26       2000      150           500             0.15   \n",
       "\n",
       "       out_call_cost  \n",
       "0                0.5  \n",
       "1                0.5  \n",
       "2                0.5  \n",
       "3                0.5  \n",
       "4                0.5  \n",
       "...              ...  \n",
       "15385            0.5  \n",
       "15386            0.5  \n",
       "15387            0.5  \n",
       "15388            0.5  \n",
       "15389            0.5  \n",
       "\n",
       "[15390 rows x 17 columns]"
      ]
     },
     "execution_count": 47,
     "metadata": {},
     "output_type": "execute_result"
    }
   ],
   "source": [
    "data"
   ]
  },
  {
   "cell_type": "markdown",
   "id": "bbd5ed7c-e533-4b16-9564-a1b7e9b186b5",
   "metadata": {},
   "source": [
    "\n",
    "Промежуточный вывод\n",
    "\n",
    "В основном совершается от одного звонка и до 5 звонков в день. Также длительность звонка с учетом гудков находятся в диапазоне 46 минут и 901 минуты.\n",
    "Стоит заметить, что 50 процентов звонков остаются неотвеченными. Около 7 процентов или 21 клиент  не совершили ни одного звонка в 9 и 10 месяце. В 8 месяце 72 процента клиентов говорили 0 минут, а в 9 — 43 процента. Поэтому было принято решение отобрать пользователей, в итоге в таблицу вошли 109 клиента. Также в данных присутствовало больше исходящих звонков — 54 процента или 12395, но разница не очень большая, входящих звонков — 45 процентов или 10361. Стоит заметить что лидируют клиенты с тарифом 'C', их 10068 или 40 процентов, потом идут клиенты с тарифом 'B', их 9207 или 37 процентов, и в конце идут клиенты с тарифом 'A', их 7261 или 23 процента."
   ]
  },
  {
   "cell_type": "markdown",
   "id": "1df33ee9-bc6a-4436-bd93-2a17947d9b04",
   "metadata": {},
   "source": [
    "## Ищем клиентов с неоптимальными тарифами"
   ]
  },
  {
   "cell_type": "markdown",
   "id": "bbb0b2a9-900c-406a-a67f-ddd4a72938f7",
   "metadata": {},
   "source": [
    "**Фильтруем на исходящие внутри сети**"
   ]
  },
  {
   "cell_type": "code",
   "execution_count": 48,
   "id": "35c18a30-48db-41bd-9136-d54920042b75",
   "metadata": {},
   "outputs": [
    {
     "data": {
      "text/html": [
       "<div>\n",
       "<style scoped>\n",
       "    .dataframe tbody tr th:only-of-type {\n",
       "        vertical-align: middle;\n",
       "    }\n",
       "\n",
       "    .dataframe tbody tr th {\n",
       "        vertical-align: top;\n",
       "    }\n",
       "\n",
       "    .dataframe thead th {\n",
       "        text-align: right;\n",
       "    }\n",
       "</style>\n",
       "<table border=\"1\" class=\"dataframe\">\n",
       "  <thead>\n",
       "    <tr style=\"text-align: right;\">\n",
       "      <th></th>\n",
       "      <th>user_id</th>\n",
       "      <th>date</th>\n",
       "      <th>direction</th>\n",
       "      <th>internal</th>\n",
       "      <th>operator_id</th>\n",
       "      <th>is_missed_call</th>\n",
       "      <th>calls_count</th>\n",
       "      <th>call_duration</th>\n",
       "      <th>total_call_duration</th>\n",
       "      <th>month</th>\n",
       "      <th>tariff_plan</th>\n",
       "      <th>date_start</th>\n",
       "      <th>month_pay</th>\n",
       "      <th>add_pay</th>\n",
       "      <th>out_call_min</th>\n",
       "      <th>over_limit_cost</th>\n",
       "      <th>out_call_cost</th>\n",
       "    </tr>\n",
       "  </thead>\n",
       "  <tbody>\n",
       "    <tr>\n",
       "      <th>252</th>\n",
       "      <td>166392</td>\n",
       "      <td>2019-10-07</td>\n",
       "      <td>in</td>\n",
       "      <td>True</td>\n",
       "      <td>NaN</td>\n",
       "      <td>True</td>\n",
       "      <td>1</td>\n",
       "      <td>0</td>\n",
       "      <td>26</td>\n",
       "      <td>2019-10</td>\n",
       "      <td>C</td>\n",
       "      <td>2019-08-01</td>\n",
       "      <td>1000</td>\n",
       "      <td>300</td>\n",
       "      <td>0</td>\n",
       "      <td>0.3</td>\n",
       "      <td>0.7</td>\n",
       "    </tr>\n",
       "    <tr>\n",
       "      <th>729</th>\n",
       "      <td>166407</td>\n",
       "      <td>2019-09-12</td>\n",
       "      <td>in</td>\n",
       "      <td>True</td>\n",
       "      <td>888534.0</td>\n",
       "      <td>False</td>\n",
       "      <td>1</td>\n",
       "      <td>49</td>\n",
       "      <td>66</td>\n",
       "      <td>2019-09</td>\n",
       "      <td>A</td>\n",
       "      <td>2019-08-02</td>\n",
       "      <td>4000</td>\n",
       "      <td>50</td>\n",
       "      <td>2000</td>\n",
       "      <td>0.1</td>\n",
       "      <td>0.3</td>\n",
       "    </tr>\n",
       "    <tr>\n",
       "      <th>735</th>\n",
       "      <td>166407</td>\n",
       "      <td>2019-09-13</td>\n",
       "      <td>in</td>\n",
       "      <td>True</td>\n",
       "      <td>NaN</td>\n",
       "      <td>True</td>\n",
       "      <td>5</td>\n",
       "      <td>0</td>\n",
       "      <td>120</td>\n",
       "      <td>2019-09</td>\n",
       "      <td>A</td>\n",
       "      <td>2019-08-02</td>\n",
       "      <td>4000</td>\n",
       "      <td>50</td>\n",
       "      <td>2000</td>\n",
       "      <td>0.1</td>\n",
       "      <td>0.3</td>\n",
       "    </tr>\n",
       "    <tr>\n",
       "      <th>741</th>\n",
       "      <td>166407</td>\n",
       "      <td>2019-09-16</td>\n",
       "      <td>in</td>\n",
       "      <td>True</td>\n",
       "      <td>NaN</td>\n",
       "      <td>True</td>\n",
       "      <td>2</td>\n",
       "      <td>0</td>\n",
       "      <td>57</td>\n",
       "      <td>2019-09</td>\n",
       "      <td>A</td>\n",
       "      <td>2019-08-02</td>\n",
       "      <td>4000</td>\n",
       "      <td>50</td>\n",
       "      <td>2000</td>\n",
       "      <td>0.1</td>\n",
       "      <td>0.3</td>\n",
       "    </tr>\n",
       "    <tr>\n",
       "      <th>742</th>\n",
       "      <td>166407</td>\n",
       "      <td>2019-09-16</td>\n",
       "      <td>in</td>\n",
       "      <td>True</td>\n",
       "      <td>888534.0</td>\n",
       "      <td>False</td>\n",
       "      <td>1</td>\n",
       "      <td>21</td>\n",
       "      <td>41</td>\n",
       "      <td>2019-09</td>\n",
       "      <td>A</td>\n",
       "      <td>2019-08-02</td>\n",
       "      <td>4000</td>\n",
       "      <td>50</td>\n",
       "      <td>2000</td>\n",
       "      <td>0.1</td>\n",
       "      <td>0.3</td>\n",
       "    </tr>\n",
       "  </tbody>\n",
       "</table>\n",
       "</div>"
      ],
      "text/plain": [
       "     user_id       date direction internal  operator_id  is_missed_call  \\\n",
       "252   166392 2019-10-07        in     True          NaN            True   \n",
       "729   166407 2019-09-12        in     True     888534.0           False   \n",
       "735   166407 2019-09-13        in     True          NaN            True   \n",
       "741   166407 2019-09-16        in     True          NaN            True   \n",
       "742   166407 2019-09-16        in     True     888534.0           False   \n",
       "\n",
       "     calls_count  call_duration  total_call_duration    month tariff_plan  \\\n",
       "252            1              0                   26  2019-10           C   \n",
       "729            1             49                   66  2019-09           A   \n",
       "735            5              0                  120  2019-09           A   \n",
       "741            2              0                   57  2019-09           A   \n",
       "742            1             21                   41  2019-09           A   \n",
       "\n",
       "    date_start  month_pay  add_pay  out_call_min  over_limit_cost  \\\n",
       "252 2019-08-01       1000      300             0              0.3   \n",
       "729 2019-08-02       4000       50          2000              0.1   \n",
       "735 2019-08-02       4000       50          2000              0.1   \n",
       "741 2019-08-02       4000       50          2000              0.1   \n",
       "742 2019-08-02       4000       50          2000              0.1   \n",
       "\n",
       "     out_call_cost  \n",
       "252            0.7  \n",
       "729            0.3  \n",
       "735            0.3  \n",
       "741            0.3  \n",
       "742            0.3  "
      ]
     },
     "execution_count": 48,
     "metadata": {},
     "output_type": "execute_result"
    }
   ],
   "source": [
    "out_true = data.query('direction == \"in\" and internal == True')\n",
    "out_true.head()"
   ]
  },
  {
   "cell_type": "markdown",
   "id": "ce6d29c3-049d-4319-a010-975695c76003",
   "metadata": {},
   "source": [
    "**Групируем данные и суммируем минуты в месяц, а также считаем уникальных операторов**"
   ]
  },
  {
   "cell_type": "code",
   "execution_count": 49,
   "id": "ddcc493c-93f3-40e1-92cd-81d6691591c8",
   "metadata": {},
   "outputs": [],
   "source": [
    "out_true_1 = (out_true.groupby(['tariff_plan', 'month','user_id', 'out_call_min', 'month_pay', 'over_limit_cost', 'out_call_cost', 'add_pay'])\n",
    " .agg(total_min=('total_call_duration', 'sum'), total_oper=('operator_id', 'nunique')).reset_index())"
   ]
  },
  {
   "cell_type": "code",
   "execution_count": 50,
   "id": "1f16fd9d-195b-4518-9af2-a6e3878a487e",
   "metadata": {},
   "outputs": [
    {
     "data": {
      "text/html": [
       "<div>\n",
       "<style scoped>\n",
       "    .dataframe tbody tr th:only-of-type {\n",
       "        vertical-align: middle;\n",
       "    }\n",
       "\n",
       "    .dataframe tbody tr th {\n",
       "        vertical-align: top;\n",
       "    }\n",
       "\n",
       "    .dataframe thead th {\n",
       "        text-align: right;\n",
       "    }\n",
       "</style>\n",
       "<table border=\"1\" class=\"dataframe\">\n",
       "  <thead>\n",
       "    <tr style=\"text-align: right;\">\n",
       "      <th></th>\n",
       "      <th>tariff_plan</th>\n",
       "      <th>month</th>\n",
       "      <th>user_id</th>\n",
       "      <th>out_call_min</th>\n",
       "      <th>month_pay</th>\n",
       "      <th>over_limit_cost</th>\n",
       "      <th>out_call_cost</th>\n",
       "      <th>add_pay</th>\n",
       "      <th>total_min</th>\n",
       "      <th>total_oper</th>\n",
       "    </tr>\n",
       "  </thead>\n",
       "  <tbody>\n",
       "    <tr>\n",
       "      <th>0</th>\n",
       "      <td>A</td>\n",
       "      <td>2019-09</td>\n",
       "      <td>166407</td>\n",
       "      <td>2000</td>\n",
       "      <td>4000</td>\n",
       "      <td>0.1</td>\n",
       "      <td>0.3</td>\n",
       "      <td>50</td>\n",
       "      <td>608</td>\n",
       "      <td>1</td>\n",
       "    </tr>\n",
       "    <tr>\n",
       "      <th>1</th>\n",
       "      <td>A</td>\n",
       "      <td>2019-09</td>\n",
       "      <td>166541</td>\n",
       "      <td>2000</td>\n",
       "      <td>4000</td>\n",
       "      <td>0.1</td>\n",
       "      <td>0.3</td>\n",
       "      <td>50</td>\n",
       "      <td>913</td>\n",
       "      <td>3</td>\n",
       "    </tr>\n",
       "    <tr>\n",
       "      <th>2</th>\n",
       "      <td>A</td>\n",
       "      <td>2019-09</td>\n",
       "      <td>166713</td>\n",
       "      <td>2000</td>\n",
       "      <td>4000</td>\n",
       "      <td>0.1</td>\n",
       "      <td>0.3</td>\n",
       "      <td>50</td>\n",
       "      <td>41</td>\n",
       "      <td>1</td>\n",
       "    </tr>\n",
       "    <tr>\n",
       "      <th>3</th>\n",
       "      <td>A</td>\n",
       "      <td>2019-09</td>\n",
       "      <td>166879</td>\n",
       "      <td>2000</td>\n",
       "      <td>4000</td>\n",
       "      <td>0.1</td>\n",
       "      <td>0.3</td>\n",
       "      <td>50</td>\n",
       "      <td>262</td>\n",
       "      <td>2</td>\n",
       "    </tr>\n",
       "    <tr>\n",
       "      <th>4</th>\n",
       "      <td>A</td>\n",
       "      <td>2019-10</td>\n",
       "      <td>166407</td>\n",
       "      <td>2000</td>\n",
       "      <td>4000</td>\n",
       "      <td>0.1</td>\n",
       "      <td>0.3</td>\n",
       "      <td>50</td>\n",
       "      <td>105</td>\n",
       "      <td>1</td>\n",
       "    </tr>\n",
       "  </tbody>\n",
       "</table>\n",
       "</div>"
      ],
      "text/plain": [
       "  tariff_plan    month  user_id  out_call_min  month_pay  over_limit_cost  \\\n",
       "0           A  2019-09   166407          2000       4000              0.1   \n",
       "1           A  2019-09   166541          2000       4000              0.1   \n",
       "2           A  2019-09   166713          2000       4000              0.1   \n",
       "3           A  2019-09   166879          2000       4000              0.1   \n",
       "4           A  2019-10   166407          2000       4000              0.1   \n",
       "\n",
       "   out_call_cost  add_pay  total_min  total_oper  \n",
       "0            0.3       50        608           1  \n",
       "1            0.3       50        913           3  \n",
       "2            0.3       50         41           1  \n",
       "3            0.3       50        262           2  \n",
       "4            0.3       50        105           1  "
      ]
     },
     "execution_count": 50,
     "metadata": {},
     "output_type": "execute_result"
    }
   ],
   "source": [
    "out_true_1.head()"
   ]
  },
  {
   "cell_type": "markdown",
   "id": "3f882fcc-a85c-4142-bf60-0a9e95398345",
   "metadata": {},
   "source": [
    "Создаем функцию, которая считает переплату для каждой категории. "
   ]
  },
  {
   "cell_type": "code",
   "execution_count": 51,
   "id": "a2ab9f7a-bdcc-4670-bf10-f1b44c7a4f3b",
   "metadata": {},
   "outputs": [],
   "source": [
    "def over_price(x):\n",
    "    if x['tariff_plan'] == 'A' and x['total_min'] > x['out_call_min']:\n",
    "        return (x['total_min'] - x['out_call_min']) * x['over_limit_cost']\n",
    "    elif  x['tariff_plan'] == 'B' and x['total_min'] > x['out_call_min']:\n",
    "        return (x['total_min'] - x['out_call_min']) *x['over_limit_cost']\n",
    "    elif x['tariff_plan'] == 'C':\n",
    "         return x['total_min'] * x['over_limit_cost']\n",
    "    else:\n",
    "        return 0\n",
    "       \n"
   ]
  },
  {
   "cell_type": "markdown",
   "id": "b4858f73-eaa5-48b0-b04b-4189a6901e65",
   "metadata": {},
   "source": [
    "Пишим функции с перерасходом минут на тарифах A, B."
   ]
  },
  {
   "cell_type": "code",
   "execution_count": 52,
   "id": "f31a6d5f-da73-4896-88dc-b6ba09028d56",
   "metadata": {},
   "outputs": [],
   "source": [
    "def over_a(x):\n",
    "    if x['total_min'] > 2000:\n",
    "        return x['total_min'] - 2000\n",
    "    else:\n",
    "        return 0"
   ]
  },
  {
   "cell_type": "code",
   "execution_count": 53,
   "id": "67ae7441-4730-42c3-9a71-cd532f14d0a6",
   "metadata": {},
   "outputs": [],
   "source": [
    "def over_b(x):\n",
    "    if x['total_min'] > 500:\n",
    "        return x['total_min'] - 500\n",
    "    else:\n",
    "        return 0"
   ]
  },
  {
   "cell_type": "markdown",
   "id": "10cee73e-32ff-4349-bb22-b64bfee0e68c",
   "metadata": {},
   "source": [
    "Создаем столбец over_pay с данными о переплате. "
   ]
  },
  {
   "cell_type": "code",
   "execution_count": 54,
   "id": "1b7edbd6-eda1-4060-b2ca-69d8213eff73",
   "metadata": {},
   "outputs": [],
   "source": [
    "out_true_1['over_pay'] = out_true_1.apply(over_price, axis=1)"
   ]
  },
  {
   "cell_type": "markdown",
   "id": "aea01a36-cfc6-4b92-9f6c-684ef62ec202",
   "metadata": {},
   "source": [
    "Создаем столбцы с перерасходом минут"
   ]
  },
  {
   "cell_type": "code",
   "execution_count": 55,
   "id": "e28ba7fb-243c-4d3e-8ebf-f12108d37efc",
   "metadata": {},
   "outputs": [],
   "source": [
    "out_true_1['over_a'] = out_true_1.apply(over_a, axis=1)"
   ]
  },
  {
   "cell_type": "code",
   "execution_count": 56,
   "id": "8406f929-9560-4783-80f2-8d0e8a9f4906",
   "metadata": {},
   "outputs": [],
   "source": [
    "out_true_1['over_b'] = out_true_1.apply(over_b, axis=1)"
   ]
  },
  {
   "cell_type": "code",
   "execution_count": 57,
   "id": "0e1a2f34-d993-4a18-8e64-dcc4b1c00e64",
   "metadata": {},
   "outputs": [
    {
     "data": {
      "text/html": [
       "<div>\n",
       "<style scoped>\n",
       "    .dataframe tbody tr th:only-of-type {\n",
       "        vertical-align: middle;\n",
       "    }\n",
       "\n",
       "    .dataframe tbody tr th {\n",
       "        vertical-align: top;\n",
       "    }\n",
       "\n",
       "    .dataframe thead th {\n",
       "        text-align: right;\n",
       "    }\n",
       "</style>\n",
       "<table border=\"1\" class=\"dataframe\">\n",
       "  <thead>\n",
       "    <tr style=\"text-align: right;\">\n",
       "      <th></th>\n",
       "      <th>tariff_plan</th>\n",
       "      <th>month</th>\n",
       "      <th>user_id</th>\n",
       "      <th>out_call_min</th>\n",
       "      <th>month_pay</th>\n",
       "      <th>over_limit_cost</th>\n",
       "      <th>out_call_cost</th>\n",
       "      <th>add_pay</th>\n",
       "      <th>total_min</th>\n",
       "      <th>total_oper</th>\n",
       "      <th>over_pay</th>\n",
       "      <th>over_a</th>\n",
       "      <th>over_b</th>\n",
       "    </tr>\n",
       "  </thead>\n",
       "  <tbody>\n",
       "    <tr>\n",
       "      <th>0</th>\n",
       "      <td>A</td>\n",
       "      <td>2019-09</td>\n",
       "      <td>166407</td>\n",
       "      <td>2000</td>\n",
       "      <td>4000</td>\n",
       "      <td>0.1</td>\n",
       "      <td>0.3</td>\n",
       "      <td>50</td>\n",
       "      <td>608</td>\n",
       "      <td>1</td>\n",
       "      <td>0.0</td>\n",
       "      <td>0</td>\n",
       "      <td>108</td>\n",
       "    </tr>\n",
       "    <tr>\n",
       "      <th>1</th>\n",
       "      <td>A</td>\n",
       "      <td>2019-09</td>\n",
       "      <td>166541</td>\n",
       "      <td>2000</td>\n",
       "      <td>4000</td>\n",
       "      <td>0.1</td>\n",
       "      <td>0.3</td>\n",
       "      <td>50</td>\n",
       "      <td>913</td>\n",
       "      <td>3</td>\n",
       "      <td>0.0</td>\n",
       "      <td>0</td>\n",
       "      <td>413</td>\n",
       "    </tr>\n",
       "    <tr>\n",
       "      <th>2</th>\n",
       "      <td>A</td>\n",
       "      <td>2019-09</td>\n",
       "      <td>166713</td>\n",
       "      <td>2000</td>\n",
       "      <td>4000</td>\n",
       "      <td>0.1</td>\n",
       "      <td>0.3</td>\n",
       "      <td>50</td>\n",
       "      <td>41</td>\n",
       "      <td>1</td>\n",
       "      <td>0.0</td>\n",
       "      <td>0</td>\n",
       "      <td>0</td>\n",
       "    </tr>\n",
       "    <tr>\n",
       "      <th>3</th>\n",
       "      <td>A</td>\n",
       "      <td>2019-09</td>\n",
       "      <td>166879</td>\n",
       "      <td>2000</td>\n",
       "      <td>4000</td>\n",
       "      <td>0.1</td>\n",
       "      <td>0.3</td>\n",
       "      <td>50</td>\n",
       "      <td>262</td>\n",
       "      <td>2</td>\n",
       "      <td>0.0</td>\n",
       "      <td>0</td>\n",
       "      <td>0</td>\n",
       "    </tr>\n",
       "    <tr>\n",
       "      <th>4</th>\n",
       "      <td>A</td>\n",
       "      <td>2019-10</td>\n",
       "      <td>166407</td>\n",
       "      <td>2000</td>\n",
       "      <td>4000</td>\n",
       "      <td>0.1</td>\n",
       "      <td>0.3</td>\n",
       "      <td>50</td>\n",
       "      <td>105</td>\n",
       "      <td>1</td>\n",
       "      <td>0.0</td>\n",
       "      <td>0</td>\n",
       "      <td>0</td>\n",
       "    </tr>\n",
       "  </tbody>\n",
       "</table>\n",
       "</div>"
      ],
      "text/plain": [
       "  tariff_plan    month  user_id  out_call_min  month_pay  over_limit_cost  \\\n",
       "0           A  2019-09   166407          2000       4000              0.1   \n",
       "1           A  2019-09   166541          2000       4000              0.1   \n",
       "2           A  2019-09   166713          2000       4000              0.1   \n",
       "3           A  2019-09   166879          2000       4000              0.1   \n",
       "4           A  2019-10   166407          2000       4000              0.1   \n",
       "\n",
       "   out_call_cost  add_pay  total_min  total_oper  over_pay  over_a  over_b  \n",
       "0            0.3       50        608           1       0.0       0     108  \n",
       "1            0.3       50        913           3       0.0       0     413  \n",
       "2            0.3       50         41           1       0.0       0       0  \n",
       "3            0.3       50        262           2       0.0       0       0  \n",
       "4            0.3       50        105           1       0.0       0       0  "
      ]
     },
     "execution_count": 57,
     "metadata": {},
     "output_type": "execute_result"
    }
   ],
   "source": [
    "out_true_1.head()"
   ]
  },
  {
   "cell_type": "markdown",
   "id": "2748e7cf-1a76-4547-97ad-59c54adc1b3f",
   "metadata": {},
   "source": [
    "**Фильтруем данные на исходящие не в сети.**"
   ]
  },
  {
   "cell_type": "code",
   "execution_count": 58,
   "id": "ddabecc2-8b28-408d-a3f4-531a38076784",
   "metadata": {},
   "outputs": [],
   "source": [
    "out_false = data.query('direction == \"out\" and internal == False')"
   ]
  },
  {
   "cell_type": "code",
   "execution_count": 59,
   "id": "be6fbef3-67da-497a-9b8d-698eeb3e32bf",
   "metadata": {},
   "outputs": [],
   "source": [
    "out_false1 = (out_false.groupby(['tariff_plan', 'month','user_id', 'out_call_min', 'month_pay', 'over_limit_cost', 'out_call_cost', 'add_pay'])\n",
    "                               .agg(total_min=('total_call_duration', 'sum'), total_oper=('operator_id', 'nunique')).reset_index())"
   ]
  },
  {
   "cell_type": "code",
   "execution_count": 60,
   "id": "5d430f8d-7e56-4b3d-a4f0-20e4fd1b5bcf",
   "metadata": {},
   "outputs": [
    {
     "data": {
      "text/html": [
       "<div>\n",
       "<style scoped>\n",
       "    .dataframe tbody tr th:only-of-type {\n",
       "        vertical-align: middle;\n",
       "    }\n",
       "\n",
       "    .dataframe tbody tr th {\n",
       "        vertical-align: top;\n",
       "    }\n",
       "\n",
       "    .dataframe thead th {\n",
       "        text-align: right;\n",
       "    }\n",
       "</style>\n",
       "<table border=\"1\" class=\"dataframe\">\n",
       "  <thead>\n",
       "    <tr style=\"text-align: right;\">\n",
       "      <th></th>\n",
       "      <th>tariff_plan</th>\n",
       "      <th>month</th>\n",
       "      <th>user_id</th>\n",
       "      <th>out_call_min</th>\n",
       "      <th>month_pay</th>\n",
       "      <th>over_limit_cost</th>\n",
       "      <th>out_call_cost</th>\n",
       "      <th>add_pay</th>\n",
       "      <th>total_min</th>\n",
       "      <th>total_oper</th>\n",
       "    </tr>\n",
       "  </thead>\n",
       "  <tbody>\n",
       "    <tr>\n",
       "      <th>0</th>\n",
       "      <td>A</td>\n",
       "      <td>2019-09</td>\n",
       "      <td>166407</td>\n",
       "      <td>2000</td>\n",
       "      <td>4000</td>\n",
       "      <td>0.1</td>\n",
       "      <td>0.3</td>\n",
       "      <td>50</td>\n",
       "      <td>384</td>\n",
       "      <td>2</td>\n",
       "    </tr>\n",
       "    <tr>\n",
       "      <th>1</th>\n",
       "      <td>A</td>\n",
       "      <td>2019-09</td>\n",
       "      <td>166541</td>\n",
       "      <td>2000</td>\n",
       "      <td>4000</td>\n",
       "      <td>0.1</td>\n",
       "      <td>0.3</td>\n",
       "      <td>50</td>\n",
       "      <td>784</td>\n",
       "      <td>3</td>\n",
       "    </tr>\n",
       "    <tr>\n",
       "      <th>2</th>\n",
       "      <td>A</td>\n",
       "      <td>2019-09</td>\n",
       "      <td>166582</td>\n",
       "      <td>2000</td>\n",
       "      <td>4000</td>\n",
       "      <td>0.1</td>\n",
       "      <td>0.3</td>\n",
       "      <td>50</td>\n",
       "      <td>398</td>\n",
       "      <td>2</td>\n",
       "    </tr>\n",
       "    <tr>\n",
       "      <th>3</th>\n",
       "      <td>A</td>\n",
       "      <td>2019-09</td>\n",
       "      <td>166609</td>\n",
       "      <td>2000</td>\n",
       "      <td>4000</td>\n",
       "      <td>0.1</td>\n",
       "      <td>0.3</td>\n",
       "      <td>50</td>\n",
       "      <td>73</td>\n",
       "      <td>2</td>\n",
       "    </tr>\n",
       "    <tr>\n",
       "      <th>4</th>\n",
       "      <td>A</td>\n",
       "      <td>2019-09</td>\n",
       "      <td>166725</td>\n",
       "      <td>2000</td>\n",
       "      <td>4000</td>\n",
       "      <td>0.1</td>\n",
       "      <td>0.3</td>\n",
       "      <td>50</td>\n",
       "      <td>1840</td>\n",
       "      <td>1</td>\n",
       "    </tr>\n",
       "  </tbody>\n",
       "</table>\n",
       "</div>"
      ],
      "text/plain": [
       "  tariff_plan    month  user_id  out_call_min  month_pay  over_limit_cost  \\\n",
       "0           A  2019-09   166407          2000       4000              0.1   \n",
       "1           A  2019-09   166541          2000       4000              0.1   \n",
       "2           A  2019-09   166582          2000       4000              0.1   \n",
       "3           A  2019-09   166609          2000       4000              0.1   \n",
       "4           A  2019-09   166725          2000       4000              0.1   \n",
       "\n",
       "   out_call_cost  add_pay  total_min  total_oper  \n",
       "0            0.3       50        384           2  \n",
       "1            0.3       50        784           3  \n",
       "2            0.3       50        398           2  \n",
       "3            0.3       50         73           2  \n",
       "4            0.3       50       1840           1  "
      ]
     },
     "execution_count": 60,
     "metadata": {},
     "output_type": "execute_result"
    }
   ],
   "source": [
    "out_false1.head()"
   ]
  },
  {
   "cell_type": "markdown",
   "id": "6ba49df8-5a66-4c5d-999f-e081a5c34870",
   "metadata": {},
   "source": [
    "Пишем функцию, которая считает стоимость использованных минут не в сети."
   ]
  },
  {
   "cell_type": "code",
   "execution_count": 61,
   "id": "9389bf8c-9e2f-4ebf-8a0a-c2835425231b",
   "metadata": {},
   "outputs": [],
   "source": [
    "def price(x):\n",
    "    if x['tariff_plan'] == 'A':\n",
    "        return x['total_min'] * x['out_call_cost']\n",
    "    elif x['tariff_plan'] == 'B':\n",
    "        return x['total_min'] * x['out_call_cost']\n",
    "    else:\n",
    "        return x['total_min'] *x['out_call_cost']"
   ]
  },
  {
   "cell_type": "markdown",
   "id": "2b79dddc-f1fe-43f9-ac94-9699790e2e08",
   "metadata": {},
   "source": [
    "Также пишем функцию, которая считает стоимость каждого оператора."
   ]
  },
  {
   "cell_type": "code",
   "execution_count": 62,
   "id": "e41f5354-11b9-4b07-9768-5556c072d0e1",
   "metadata": {},
   "outputs": [],
   "source": [
    "def oper_cost(x):\n",
    "    if x['tariff_plan'] == 'A':\n",
    "        return x['oper_total'] * x['add_pay']\n",
    "    elif x['tariff_plan'] == 'B':\n",
    "        return x['oper_total'] * x['add_pay']\n",
    "    else:\n",
    "         return x['oper_total'] *x['add_pay']\n",
    "        \n",
    "   "
   ]
  },
  {
   "cell_type": "markdown",
   "id": "acd306da-78bb-413e-bc1b-02e9647e760e",
   "metadata": {},
   "source": [
    "Создаем столбец price для общей стоимости минут в месяц."
   ]
  },
  {
   "cell_type": "code",
   "execution_count": 63,
   "id": "fc1ff144-e664-4dcb-aef2-2aebc0956e3d",
   "metadata": {},
   "outputs": [],
   "source": [
    "out_false1['price'] = out_false1.apply(price, axis=1)"
   ]
  },
  {
   "cell_type": "code",
   "execution_count": 64,
   "id": "fdfba0bd-771e-49b6-95c7-40a6f26b478d",
   "metadata": {},
   "outputs": [
    {
     "data": {
      "text/html": [
       "<div>\n",
       "<style scoped>\n",
       "    .dataframe tbody tr th:only-of-type {\n",
       "        vertical-align: middle;\n",
       "    }\n",
       "\n",
       "    .dataframe tbody tr th {\n",
       "        vertical-align: top;\n",
       "    }\n",
       "\n",
       "    .dataframe thead th {\n",
       "        text-align: right;\n",
       "    }\n",
       "</style>\n",
       "<table border=\"1\" class=\"dataframe\">\n",
       "  <thead>\n",
       "    <tr style=\"text-align: right;\">\n",
       "      <th></th>\n",
       "      <th>tariff_plan</th>\n",
       "      <th>month</th>\n",
       "      <th>user_id</th>\n",
       "      <th>out_call_min</th>\n",
       "      <th>month_pay</th>\n",
       "      <th>over_limit_cost</th>\n",
       "      <th>out_call_cost</th>\n",
       "      <th>add_pay</th>\n",
       "      <th>total_min</th>\n",
       "      <th>total_oper</th>\n",
       "      <th>price</th>\n",
       "    </tr>\n",
       "  </thead>\n",
       "  <tbody>\n",
       "    <tr>\n",
       "      <th>0</th>\n",
       "      <td>A</td>\n",
       "      <td>2019-09</td>\n",
       "      <td>166407</td>\n",
       "      <td>2000</td>\n",
       "      <td>4000</td>\n",
       "      <td>0.1</td>\n",
       "      <td>0.3</td>\n",
       "      <td>50</td>\n",
       "      <td>384</td>\n",
       "      <td>2</td>\n",
       "      <td>115.2</td>\n",
       "    </tr>\n",
       "    <tr>\n",
       "      <th>1</th>\n",
       "      <td>A</td>\n",
       "      <td>2019-09</td>\n",
       "      <td>166541</td>\n",
       "      <td>2000</td>\n",
       "      <td>4000</td>\n",
       "      <td>0.1</td>\n",
       "      <td>0.3</td>\n",
       "      <td>50</td>\n",
       "      <td>784</td>\n",
       "      <td>3</td>\n",
       "      <td>235.2</td>\n",
       "    </tr>\n",
       "    <tr>\n",
       "      <th>2</th>\n",
       "      <td>A</td>\n",
       "      <td>2019-09</td>\n",
       "      <td>166582</td>\n",
       "      <td>2000</td>\n",
       "      <td>4000</td>\n",
       "      <td>0.1</td>\n",
       "      <td>0.3</td>\n",
       "      <td>50</td>\n",
       "      <td>398</td>\n",
       "      <td>2</td>\n",
       "      <td>119.4</td>\n",
       "    </tr>\n",
       "    <tr>\n",
       "      <th>3</th>\n",
       "      <td>A</td>\n",
       "      <td>2019-09</td>\n",
       "      <td>166609</td>\n",
       "      <td>2000</td>\n",
       "      <td>4000</td>\n",
       "      <td>0.1</td>\n",
       "      <td>0.3</td>\n",
       "      <td>50</td>\n",
       "      <td>73</td>\n",
       "      <td>2</td>\n",
       "      <td>21.9</td>\n",
       "    </tr>\n",
       "    <tr>\n",
       "      <th>4</th>\n",
       "      <td>A</td>\n",
       "      <td>2019-09</td>\n",
       "      <td>166725</td>\n",
       "      <td>2000</td>\n",
       "      <td>4000</td>\n",
       "      <td>0.1</td>\n",
       "      <td>0.3</td>\n",
       "      <td>50</td>\n",
       "      <td>1840</td>\n",
       "      <td>1</td>\n",
       "      <td>552.0</td>\n",
       "    </tr>\n",
       "  </tbody>\n",
       "</table>\n",
       "</div>"
      ],
      "text/plain": [
       "  tariff_plan    month  user_id  out_call_min  month_pay  over_limit_cost  \\\n",
       "0           A  2019-09   166407          2000       4000              0.1   \n",
       "1           A  2019-09   166541          2000       4000              0.1   \n",
       "2           A  2019-09   166582          2000       4000              0.1   \n",
       "3           A  2019-09   166609          2000       4000              0.1   \n",
       "4           A  2019-09   166725          2000       4000              0.1   \n",
       "\n",
       "   out_call_cost  add_pay  total_min  total_oper  price  \n",
       "0            0.3       50        384           2  115.2  \n",
       "1            0.3       50        784           3  235.2  \n",
       "2            0.3       50        398           2  119.4  \n",
       "3            0.3       50         73           2   21.9  \n",
       "4            0.3       50       1840           1  552.0  "
      ]
     },
     "execution_count": 64,
     "metadata": {},
     "output_type": "execute_result"
    }
   ],
   "source": [
    "out_false1.head()"
   ]
  },
  {
   "cell_type": "markdown",
   "id": "b4412d86-e5ea-46f2-8afc-137a2d57d90d",
   "metadata": {},
   "source": [
    "**Объединяем таблицы со звонками внутри сети и вне.**"
   ]
  },
  {
   "cell_type": "markdown",
   "id": "eb145785-0d73-470c-9e98-e3c40aeabb8e",
   "metadata": {},
   "source": [
    "Заранее создаем таблицу с общим количеством операторов для каждого клиента."
   ]
  },
  {
   "cell_type": "code",
   "execution_count": 65,
   "id": "f03243f4-47d9-437a-a68f-6b0ec14c9edc",
   "metadata": {},
   "outputs": [],
   "source": [
    "p = data.groupby(['month', 'user_id']).agg(oper_total=('operator_id', 'nunique')).reset_index()"
   ]
  },
  {
   "cell_type": "code",
   "execution_count": 66,
   "id": "75d2822a-c9f5-4c60-85c4-98c6a0b04f05",
   "metadata": {},
   "outputs": [
    {
     "data": {
      "text/html": [
       "<div>\n",
       "<style scoped>\n",
       "    .dataframe tbody tr th:only-of-type {\n",
       "        vertical-align: middle;\n",
       "    }\n",
       "\n",
       "    .dataframe tbody tr th {\n",
       "        vertical-align: top;\n",
       "    }\n",
       "\n",
       "    .dataframe thead th {\n",
       "        text-align: right;\n",
       "    }\n",
       "</style>\n",
       "<table border=\"1\" class=\"dataframe\">\n",
       "  <thead>\n",
       "    <tr style=\"text-align: right;\">\n",
       "      <th></th>\n",
       "      <th>month</th>\n",
       "      <th>user_id</th>\n",
       "      <th>oper_total</th>\n",
       "    </tr>\n",
       "  </thead>\n",
       "  <tbody>\n",
       "    <tr>\n",
       "      <th>0</th>\n",
       "      <td>2019-09</td>\n",
       "      <td>166377</td>\n",
       "      <td>4</td>\n",
       "    </tr>\n",
       "    <tr>\n",
       "      <th>1</th>\n",
       "      <td>2019-09</td>\n",
       "      <td>166392</td>\n",
       "      <td>2</td>\n",
       "    </tr>\n",
       "    <tr>\n",
       "      <th>2</th>\n",
       "      <td>2019-09</td>\n",
       "      <td>166405</td>\n",
       "      <td>4</td>\n",
       "    </tr>\n",
       "    <tr>\n",
       "      <th>3</th>\n",
       "      <td>2019-09</td>\n",
       "      <td>166406</td>\n",
       "      <td>2</td>\n",
       "    </tr>\n",
       "    <tr>\n",
       "      <th>4</th>\n",
       "      <td>2019-09</td>\n",
       "      <td>166407</td>\n",
       "      <td>6</td>\n",
       "    </tr>\n",
       "  </tbody>\n",
       "</table>\n",
       "</div>"
      ],
      "text/plain": [
       "     month  user_id  oper_total\n",
       "0  2019-09   166377           4\n",
       "1  2019-09   166392           2\n",
       "2  2019-09   166405           4\n",
       "3  2019-09   166406           2\n",
       "4  2019-09   166407           6"
      ]
     },
     "execution_count": 66,
     "metadata": {},
     "output_type": "execute_result"
    }
   ],
   "source": [
    "p.head()"
   ]
  },
  {
   "cell_type": "code",
   "execution_count": 67,
   "id": "efa288c3-64a0-4528-9380-c2d517c51f5f",
   "metadata": {},
   "outputs": [],
   "source": [
    "merge_out = pd.merge(out_true_1, out_false1, on=['tariff_plan', 'month', 'user_id', 'out_call_min', 'month_pay',\n",
    "       'over_limit_cost', 'out_call_cost', 'add_pay',\n",
    "       'total_oper'], how='outer')\n"
   ]
  },
  {
   "cell_type": "code",
   "execution_count": 68,
   "id": "f90ee5e2-c4c3-4806-883e-cd48d22a14ea",
   "metadata": {},
   "outputs": [
    {
     "data": {
      "text/html": [
       "<div>\n",
       "<style scoped>\n",
       "    .dataframe tbody tr th:only-of-type {\n",
       "        vertical-align: middle;\n",
       "    }\n",
       "\n",
       "    .dataframe tbody tr th {\n",
       "        vertical-align: top;\n",
       "    }\n",
       "\n",
       "    .dataframe thead th {\n",
       "        text-align: right;\n",
       "    }\n",
       "</style>\n",
       "<table border=\"1\" class=\"dataframe\">\n",
       "  <thead>\n",
       "    <tr style=\"text-align: right;\">\n",
       "      <th></th>\n",
       "      <th>tariff_plan</th>\n",
       "      <th>month</th>\n",
       "      <th>user_id</th>\n",
       "      <th>out_call_min</th>\n",
       "      <th>month_pay</th>\n",
       "      <th>over_limit_cost</th>\n",
       "      <th>out_call_cost</th>\n",
       "      <th>add_pay</th>\n",
       "      <th>total_min_x</th>\n",
       "      <th>total_oper</th>\n",
       "      <th>over_pay</th>\n",
       "      <th>over_a</th>\n",
       "      <th>over_b</th>\n",
       "      <th>total_min_y</th>\n",
       "      <th>price</th>\n",
       "    </tr>\n",
       "  </thead>\n",
       "  <tbody>\n",
       "    <tr>\n",
       "      <th>0</th>\n",
       "      <td>A</td>\n",
       "      <td>2019-09</td>\n",
       "      <td>166407</td>\n",
       "      <td>2000</td>\n",
       "      <td>4000</td>\n",
       "      <td>0.1</td>\n",
       "      <td>0.3</td>\n",
       "      <td>50</td>\n",
       "      <td>608.0</td>\n",
       "      <td>1</td>\n",
       "      <td>0.0</td>\n",
       "      <td>0.0</td>\n",
       "      <td>108.0</td>\n",
       "      <td>NaN</td>\n",
       "      <td>NaN</td>\n",
       "    </tr>\n",
       "    <tr>\n",
       "      <th>1</th>\n",
       "      <td>A</td>\n",
       "      <td>2019-09</td>\n",
       "      <td>166541</td>\n",
       "      <td>2000</td>\n",
       "      <td>4000</td>\n",
       "      <td>0.1</td>\n",
       "      <td>0.3</td>\n",
       "      <td>50</td>\n",
       "      <td>913.0</td>\n",
       "      <td>3</td>\n",
       "      <td>0.0</td>\n",
       "      <td>0.0</td>\n",
       "      <td>413.0</td>\n",
       "      <td>784.0</td>\n",
       "      <td>235.2</td>\n",
       "    </tr>\n",
       "    <tr>\n",
       "      <th>2</th>\n",
       "      <td>A</td>\n",
       "      <td>2019-09</td>\n",
       "      <td>166713</td>\n",
       "      <td>2000</td>\n",
       "      <td>4000</td>\n",
       "      <td>0.1</td>\n",
       "      <td>0.3</td>\n",
       "      <td>50</td>\n",
       "      <td>41.0</td>\n",
       "      <td>1</td>\n",
       "      <td>0.0</td>\n",
       "      <td>0.0</td>\n",
       "      <td>0.0</td>\n",
       "      <td>NaN</td>\n",
       "      <td>NaN</td>\n",
       "    </tr>\n",
       "    <tr>\n",
       "      <th>3</th>\n",
       "      <td>A</td>\n",
       "      <td>2019-09</td>\n",
       "      <td>166879</td>\n",
       "      <td>2000</td>\n",
       "      <td>4000</td>\n",
       "      <td>0.1</td>\n",
       "      <td>0.3</td>\n",
       "      <td>50</td>\n",
       "      <td>262.0</td>\n",
       "      <td>2</td>\n",
       "      <td>0.0</td>\n",
       "      <td>0.0</td>\n",
       "      <td>0.0</td>\n",
       "      <td>NaN</td>\n",
       "      <td>NaN</td>\n",
       "    </tr>\n",
       "    <tr>\n",
       "      <th>4</th>\n",
       "      <td>A</td>\n",
       "      <td>2019-10</td>\n",
       "      <td>166407</td>\n",
       "      <td>2000</td>\n",
       "      <td>4000</td>\n",
       "      <td>0.1</td>\n",
       "      <td>0.3</td>\n",
       "      <td>50</td>\n",
       "      <td>105.0</td>\n",
       "      <td>1</td>\n",
       "      <td>0.0</td>\n",
       "      <td>0.0</td>\n",
       "      <td>0.0</td>\n",
       "      <td>NaN</td>\n",
       "      <td>NaN</td>\n",
       "    </tr>\n",
       "  </tbody>\n",
       "</table>\n",
       "</div>"
      ],
      "text/plain": [
       "  tariff_plan    month  user_id  out_call_min  month_pay  over_limit_cost  \\\n",
       "0           A  2019-09   166407          2000       4000              0.1   \n",
       "1           A  2019-09   166541          2000       4000              0.1   \n",
       "2           A  2019-09   166713          2000       4000              0.1   \n",
       "3           A  2019-09   166879          2000       4000              0.1   \n",
       "4           A  2019-10   166407          2000       4000              0.1   \n",
       "\n",
       "   out_call_cost  add_pay  total_min_x  total_oper  over_pay  over_a  over_b  \\\n",
       "0            0.3       50        608.0           1       0.0     0.0   108.0   \n",
       "1            0.3       50        913.0           3       0.0     0.0   413.0   \n",
       "2            0.3       50         41.0           1       0.0     0.0     0.0   \n",
       "3            0.3       50        262.0           2       0.0     0.0     0.0   \n",
       "4            0.3       50        105.0           1       0.0     0.0     0.0   \n",
       "\n",
       "   total_min_y  price  \n",
       "0          NaN    NaN  \n",
       "1        784.0  235.2  \n",
       "2          NaN    NaN  \n",
       "3          NaN    NaN  \n",
       "4          NaN    NaN  "
      ]
     },
     "execution_count": 68,
     "metadata": {},
     "output_type": "execute_result"
    }
   ],
   "source": [
    "merge_out.head()"
   ]
  },
  {
   "cell_type": "markdown",
   "id": "42b2d7e0-f9d8-4ca0-93ad-d885a55f0e3b",
   "metadata": {},
   "source": [
    "Добавляем общее количество операторов."
   ]
  },
  {
   "cell_type": "code",
   "execution_count": 69,
   "id": "ce061d64-a12a-493c-9f5a-5bac6027b5fb",
   "metadata": {},
   "outputs": [],
   "source": [
    "merge_out = pd.merge(merge_out, p, on=['month','user_id'], how='inner')"
   ]
  },
  {
   "cell_type": "markdown",
   "id": "427014bf-f8ec-48df-a105-75eeb568e643",
   "metadata": {},
   "source": [
    "Удаляем ненужные столбцы."
   ]
  },
  {
   "cell_type": "code",
   "execution_count": 70,
   "id": "ec0ca3fa-72b7-4251-bb64-253553f8c139",
   "metadata": {},
   "outputs": [],
   "source": [
    "merge_out = merge_out.drop(['total_oper'], axis=1)"
   ]
  },
  {
   "cell_type": "code",
   "execution_count": 71,
   "id": "b0639e39-da58-4333-9281-1d28938992ec",
   "metadata": {},
   "outputs": [
    {
     "data": {
      "text/html": [
       "<div>\n",
       "<style scoped>\n",
       "    .dataframe tbody tr th:only-of-type {\n",
       "        vertical-align: middle;\n",
       "    }\n",
       "\n",
       "    .dataframe tbody tr th {\n",
       "        vertical-align: top;\n",
       "    }\n",
       "\n",
       "    .dataframe thead th {\n",
       "        text-align: right;\n",
       "    }\n",
       "</style>\n",
       "<table border=\"1\" class=\"dataframe\">\n",
       "  <thead>\n",
       "    <tr style=\"text-align: right;\">\n",
       "      <th></th>\n",
       "      <th>tariff_plan</th>\n",
       "      <th>month</th>\n",
       "      <th>user_id</th>\n",
       "      <th>out_call_min</th>\n",
       "      <th>month_pay</th>\n",
       "      <th>over_limit_cost</th>\n",
       "      <th>out_call_cost</th>\n",
       "      <th>add_pay</th>\n",
       "      <th>total_min_x</th>\n",
       "      <th>over_pay</th>\n",
       "      <th>over_a</th>\n",
       "      <th>over_b</th>\n",
       "      <th>total_min_y</th>\n",
       "      <th>price</th>\n",
       "      <th>oper_total</th>\n",
       "    </tr>\n",
       "  </thead>\n",
       "  <tbody>\n",
       "    <tr>\n",
       "      <th>0</th>\n",
       "      <td>A</td>\n",
       "      <td>2019-09</td>\n",
       "      <td>166407</td>\n",
       "      <td>2000</td>\n",
       "      <td>4000</td>\n",
       "      <td>0.1</td>\n",
       "      <td>0.3</td>\n",
       "      <td>50</td>\n",
       "      <td>608.0</td>\n",
       "      <td>0.0</td>\n",
       "      <td>0.0</td>\n",
       "      <td>108.0</td>\n",
       "      <td>NaN</td>\n",
       "      <td>NaN</td>\n",
       "      <td>6</td>\n",
       "    </tr>\n",
       "    <tr>\n",
       "      <th>1</th>\n",
       "      <td>A</td>\n",
       "      <td>2019-09</td>\n",
       "      <td>166407</td>\n",
       "      <td>2000</td>\n",
       "      <td>4000</td>\n",
       "      <td>0.1</td>\n",
       "      <td>0.3</td>\n",
       "      <td>50</td>\n",
       "      <td>NaN</td>\n",
       "      <td>NaN</td>\n",
       "      <td>NaN</td>\n",
       "      <td>NaN</td>\n",
       "      <td>384.0</td>\n",
       "      <td>115.2</td>\n",
       "      <td>6</td>\n",
       "    </tr>\n",
       "    <tr>\n",
       "      <th>2</th>\n",
       "      <td>A</td>\n",
       "      <td>2019-09</td>\n",
       "      <td>166541</td>\n",
       "      <td>2000</td>\n",
       "      <td>4000</td>\n",
       "      <td>0.1</td>\n",
       "      <td>0.3</td>\n",
       "      <td>50</td>\n",
       "      <td>913.0</td>\n",
       "      <td>0.0</td>\n",
       "      <td>0.0</td>\n",
       "      <td>413.0</td>\n",
       "      <td>784.0</td>\n",
       "      <td>235.2</td>\n",
       "      <td>4</td>\n",
       "    </tr>\n",
       "    <tr>\n",
       "      <th>3</th>\n",
       "      <td>A</td>\n",
       "      <td>2019-09</td>\n",
       "      <td>166713</td>\n",
       "      <td>2000</td>\n",
       "      <td>4000</td>\n",
       "      <td>0.1</td>\n",
       "      <td>0.3</td>\n",
       "      <td>50</td>\n",
       "      <td>41.0</td>\n",
       "      <td>0.0</td>\n",
       "      <td>0.0</td>\n",
       "      <td>0.0</td>\n",
       "      <td>NaN</td>\n",
       "      <td>NaN</td>\n",
       "      <td>2</td>\n",
       "    </tr>\n",
       "    <tr>\n",
       "      <th>4</th>\n",
       "      <td>A</td>\n",
       "      <td>2019-09</td>\n",
       "      <td>166879</td>\n",
       "      <td>2000</td>\n",
       "      <td>4000</td>\n",
       "      <td>0.1</td>\n",
       "      <td>0.3</td>\n",
       "      <td>50</td>\n",
       "      <td>262.0</td>\n",
       "      <td>0.0</td>\n",
       "      <td>0.0</td>\n",
       "      <td>0.0</td>\n",
       "      <td>NaN</td>\n",
       "      <td>NaN</td>\n",
       "      <td>3</td>\n",
       "    </tr>\n",
       "  </tbody>\n",
       "</table>\n",
       "</div>"
      ],
      "text/plain": [
       "  tariff_plan    month  user_id  out_call_min  month_pay  over_limit_cost  \\\n",
       "0           A  2019-09   166407          2000       4000              0.1   \n",
       "1           A  2019-09   166407          2000       4000              0.1   \n",
       "2           A  2019-09   166541          2000       4000              0.1   \n",
       "3           A  2019-09   166713          2000       4000              0.1   \n",
       "4           A  2019-09   166879          2000       4000              0.1   \n",
       "\n",
       "   out_call_cost  add_pay  total_min_x  over_pay  over_a  over_b  total_min_y  \\\n",
       "0            0.3       50        608.0       0.0     0.0   108.0          NaN   \n",
       "1            0.3       50          NaN       NaN     NaN     NaN        384.0   \n",
       "2            0.3       50        913.0       0.0     0.0   413.0        784.0   \n",
       "3            0.3       50         41.0       0.0     0.0     0.0          NaN   \n",
       "4            0.3       50        262.0       0.0     0.0     0.0          NaN   \n",
       "\n",
       "   price  oper_total  \n",
       "0    NaN           6  \n",
       "1  115.2           6  \n",
       "2  235.2           4  \n",
       "3    NaN           2  \n",
       "4    NaN           3  "
      ]
     },
     "execution_count": 71,
     "metadata": {},
     "output_type": "execute_result"
    }
   ],
   "source": [
    "merge_out.head()"
   ]
  },
  {
   "cell_type": "markdown",
   "id": "ecaeeedb-0875-4653-ac02-b9f03bf6ce79",
   "metadata": {},
   "source": [
    "Убираем nan и заменяем на 0"
   ]
  },
  {
   "cell_type": "code",
   "execution_count": 72,
   "id": "3715f046-4f74-45db-839b-4addd4ea0917",
   "metadata": {},
   "outputs": [],
   "source": [
    "merge_out = merge_out.fillna(0)"
   ]
  },
  {
   "cell_type": "code",
   "execution_count": 73,
   "id": "116fbcfe-0f2a-4a4c-b340-dc651764b3b5",
   "metadata": {},
   "outputs": [
    {
     "data": {
      "text/html": [
       "<div>\n",
       "<style scoped>\n",
       "    .dataframe tbody tr th:only-of-type {\n",
       "        vertical-align: middle;\n",
       "    }\n",
       "\n",
       "    .dataframe tbody tr th {\n",
       "        vertical-align: top;\n",
       "    }\n",
       "\n",
       "    .dataframe thead th {\n",
       "        text-align: right;\n",
       "    }\n",
       "</style>\n",
       "<table border=\"1\" class=\"dataframe\">\n",
       "  <thead>\n",
       "    <tr style=\"text-align: right;\">\n",
       "      <th></th>\n",
       "      <th>tariff_plan</th>\n",
       "      <th>month</th>\n",
       "      <th>user_id</th>\n",
       "      <th>out_call_min</th>\n",
       "      <th>month_pay</th>\n",
       "      <th>over_limit_cost</th>\n",
       "      <th>out_call_cost</th>\n",
       "      <th>add_pay</th>\n",
       "      <th>total_min_x</th>\n",
       "      <th>over_pay</th>\n",
       "      <th>over_a</th>\n",
       "      <th>over_b</th>\n",
       "      <th>total_min_y</th>\n",
       "      <th>price</th>\n",
       "      <th>oper_total</th>\n",
       "    </tr>\n",
       "  </thead>\n",
       "  <tbody>\n",
       "    <tr>\n",
       "      <th>0</th>\n",
       "      <td>A</td>\n",
       "      <td>2019-09</td>\n",
       "      <td>166407</td>\n",
       "      <td>2000</td>\n",
       "      <td>4000</td>\n",
       "      <td>0.1</td>\n",
       "      <td>0.3</td>\n",
       "      <td>50</td>\n",
       "      <td>608.0</td>\n",
       "      <td>0.0</td>\n",
       "      <td>0.0</td>\n",
       "      <td>108.0</td>\n",
       "      <td>0.0</td>\n",
       "      <td>0.0</td>\n",
       "      <td>6</td>\n",
       "    </tr>\n",
       "    <tr>\n",
       "      <th>1</th>\n",
       "      <td>A</td>\n",
       "      <td>2019-09</td>\n",
       "      <td>166407</td>\n",
       "      <td>2000</td>\n",
       "      <td>4000</td>\n",
       "      <td>0.1</td>\n",
       "      <td>0.3</td>\n",
       "      <td>50</td>\n",
       "      <td>0.0</td>\n",
       "      <td>0.0</td>\n",
       "      <td>0.0</td>\n",
       "      <td>0.0</td>\n",
       "      <td>384.0</td>\n",
       "      <td>115.2</td>\n",
       "      <td>6</td>\n",
       "    </tr>\n",
       "    <tr>\n",
       "      <th>2</th>\n",
       "      <td>A</td>\n",
       "      <td>2019-09</td>\n",
       "      <td>166541</td>\n",
       "      <td>2000</td>\n",
       "      <td>4000</td>\n",
       "      <td>0.1</td>\n",
       "      <td>0.3</td>\n",
       "      <td>50</td>\n",
       "      <td>913.0</td>\n",
       "      <td>0.0</td>\n",
       "      <td>0.0</td>\n",
       "      <td>413.0</td>\n",
       "      <td>784.0</td>\n",
       "      <td>235.2</td>\n",
       "      <td>4</td>\n",
       "    </tr>\n",
       "    <tr>\n",
       "      <th>3</th>\n",
       "      <td>A</td>\n",
       "      <td>2019-09</td>\n",
       "      <td>166713</td>\n",
       "      <td>2000</td>\n",
       "      <td>4000</td>\n",
       "      <td>0.1</td>\n",
       "      <td>0.3</td>\n",
       "      <td>50</td>\n",
       "      <td>41.0</td>\n",
       "      <td>0.0</td>\n",
       "      <td>0.0</td>\n",
       "      <td>0.0</td>\n",
       "      <td>0.0</td>\n",
       "      <td>0.0</td>\n",
       "      <td>2</td>\n",
       "    </tr>\n",
       "    <tr>\n",
       "      <th>4</th>\n",
       "      <td>A</td>\n",
       "      <td>2019-09</td>\n",
       "      <td>166879</td>\n",
       "      <td>2000</td>\n",
       "      <td>4000</td>\n",
       "      <td>0.1</td>\n",
       "      <td>0.3</td>\n",
       "      <td>50</td>\n",
       "      <td>262.0</td>\n",
       "      <td>0.0</td>\n",
       "      <td>0.0</td>\n",
       "      <td>0.0</td>\n",
       "      <td>0.0</td>\n",
       "      <td>0.0</td>\n",
       "      <td>3</td>\n",
       "    </tr>\n",
       "  </tbody>\n",
       "</table>\n",
       "</div>"
      ],
      "text/plain": [
       "  tariff_plan    month  user_id  out_call_min  month_pay  over_limit_cost  \\\n",
       "0           A  2019-09   166407          2000       4000              0.1   \n",
       "1           A  2019-09   166407          2000       4000              0.1   \n",
       "2           A  2019-09   166541          2000       4000              0.1   \n",
       "3           A  2019-09   166713          2000       4000              0.1   \n",
       "4           A  2019-09   166879          2000       4000              0.1   \n",
       "\n",
       "   out_call_cost  add_pay  total_min_x  over_pay  over_a  over_b  total_min_y  \\\n",
       "0            0.3       50        608.0       0.0     0.0   108.0          0.0   \n",
       "1            0.3       50          0.0       0.0     0.0     0.0        384.0   \n",
       "2            0.3       50        913.0       0.0     0.0   413.0        784.0   \n",
       "3            0.3       50         41.0       0.0     0.0     0.0          0.0   \n",
       "4            0.3       50        262.0       0.0     0.0     0.0          0.0   \n",
       "\n",
       "   price  oper_total  \n",
       "0    0.0           6  \n",
       "1  115.2           6  \n",
       "2  235.2           4  \n",
       "3    0.0           2  \n",
       "4    0.0           3  "
      ]
     },
     "execution_count": 73,
     "metadata": {},
     "output_type": "execute_result"
    }
   ],
   "source": [
    "merge_out.head()"
   ]
  },
  {
   "cell_type": "markdown",
   "id": "1dacd584-c3a3-461e-9790-a2e497d387ae",
   "metadata": {},
   "source": [
    "Создаем столбец со стоимостью операторов в месяц."
   ]
  },
  {
   "cell_type": "code",
   "execution_count": 74,
   "id": "038ef7d5-fb54-45ea-af68-fc539c004ef3",
   "metadata": {},
   "outputs": [],
   "source": [
    "merge_out['oper_price'] = merge_out.apply(oper_cost, axis=1)"
   ]
  },
  {
   "cell_type": "markdown",
   "id": "94c073e0-6e3a-4020-98b8-c2ca7912cdf5",
   "metadata": {},
   "source": [
    "Создаем столбец с общими затратами в месяц. "
   ]
  },
  {
   "cell_type": "code",
   "execution_count": 75,
   "id": "dc81b297-fd9d-4746-b5e7-7f7ce3ef3c70",
   "metadata": {},
   "outputs": [],
   "source": [
    "merge_out['month_pay_total'] = merge_out['over_pay'] + merge_out['price'] + merge_out['oper_price'] + merge_out['month_pay']"
   ]
  },
  {
   "cell_type": "code",
   "execution_count": 76,
   "id": "3490cd99-d033-4198-bfec-ff9e4ac830d3",
   "metadata": {},
   "outputs": [
    {
     "data": {
      "text/html": [
       "<div>\n",
       "<style scoped>\n",
       "    .dataframe tbody tr th:only-of-type {\n",
       "        vertical-align: middle;\n",
       "    }\n",
       "\n",
       "    .dataframe tbody tr th {\n",
       "        vertical-align: top;\n",
       "    }\n",
       "\n",
       "    .dataframe thead th {\n",
       "        text-align: right;\n",
       "    }\n",
       "</style>\n",
       "<table border=\"1\" class=\"dataframe\">\n",
       "  <thead>\n",
       "    <tr style=\"text-align: right;\">\n",
       "      <th></th>\n",
       "      <th>tariff_plan</th>\n",
       "      <th>month</th>\n",
       "      <th>user_id</th>\n",
       "      <th>out_call_min</th>\n",
       "      <th>month_pay</th>\n",
       "      <th>over_limit_cost</th>\n",
       "      <th>out_call_cost</th>\n",
       "      <th>add_pay</th>\n",
       "      <th>total_min_x</th>\n",
       "      <th>over_pay</th>\n",
       "      <th>over_a</th>\n",
       "      <th>over_b</th>\n",
       "      <th>total_min_y</th>\n",
       "      <th>price</th>\n",
       "      <th>oper_total</th>\n",
       "      <th>oper_price</th>\n",
       "      <th>month_pay_total</th>\n",
       "    </tr>\n",
       "  </thead>\n",
       "  <tbody>\n",
       "    <tr>\n",
       "      <th>0</th>\n",
       "      <td>A</td>\n",
       "      <td>2019-09</td>\n",
       "      <td>166407</td>\n",
       "      <td>2000</td>\n",
       "      <td>4000</td>\n",
       "      <td>0.1</td>\n",
       "      <td>0.3</td>\n",
       "      <td>50</td>\n",
       "      <td>608.0</td>\n",
       "      <td>0.0</td>\n",
       "      <td>0.0</td>\n",
       "      <td>108.0</td>\n",
       "      <td>0.0</td>\n",
       "      <td>0.0</td>\n",
       "      <td>6</td>\n",
       "      <td>300</td>\n",
       "      <td>4300.0</td>\n",
       "    </tr>\n",
       "    <tr>\n",
       "      <th>1</th>\n",
       "      <td>A</td>\n",
       "      <td>2019-09</td>\n",
       "      <td>166407</td>\n",
       "      <td>2000</td>\n",
       "      <td>4000</td>\n",
       "      <td>0.1</td>\n",
       "      <td>0.3</td>\n",
       "      <td>50</td>\n",
       "      <td>0.0</td>\n",
       "      <td>0.0</td>\n",
       "      <td>0.0</td>\n",
       "      <td>0.0</td>\n",
       "      <td>384.0</td>\n",
       "      <td>115.2</td>\n",
       "      <td>6</td>\n",
       "      <td>300</td>\n",
       "      <td>4415.2</td>\n",
       "    </tr>\n",
       "    <tr>\n",
       "      <th>2</th>\n",
       "      <td>A</td>\n",
       "      <td>2019-09</td>\n",
       "      <td>166541</td>\n",
       "      <td>2000</td>\n",
       "      <td>4000</td>\n",
       "      <td>0.1</td>\n",
       "      <td>0.3</td>\n",
       "      <td>50</td>\n",
       "      <td>913.0</td>\n",
       "      <td>0.0</td>\n",
       "      <td>0.0</td>\n",
       "      <td>413.0</td>\n",
       "      <td>784.0</td>\n",
       "      <td>235.2</td>\n",
       "      <td>4</td>\n",
       "      <td>200</td>\n",
       "      <td>4435.2</td>\n",
       "    </tr>\n",
       "    <tr>\n",
       "      <th>3</th>\n",
       "      <td>A</td>\n",
       "      <td>2019-09</td>\n",
       "      <td>166713</td>\n",
       "      <td>2000</td>\n",
       "      <td>4000</td>\n",
       "      <td>0.1</td>\n",
       "      <td>0.3</td>\n",
       "      <td>50</td>\n",
       "      <td>41.0</td>\n",
       "      <td>0.0</td>\n",
       "      <td>0.0</td>\n",
       "      <td>0.0</td>\n",
       "      <td>0.0</td>\n",
       "      <td>0.0</td>\n",
       "      <td>2</td>\n",
       "      <td>100</td>\n",
       "      <td>4100.0</td>\n",
       "    </tr>\n",
       "    <tr>\n",
       "      <th>4</th>\n",
       "      <td>A</td>\n",
       "      <td>2019-09</td>\n",
       "      <td>166879</td>\n",
       "      <td>2000</td>\n",
       "      <td>4000</td>\n",
       "      <td>0.1</td>\n",
       "      <td>0.3</td>\n",
       "      <td>50</td>\n",
       "      <td>262.0</td>\n",
       "      <td>0.0</td>\n",
       "      <td>0.0</td>\n",
       "      <td>0.0</td>\n",
       "      <td>0.0</td>\n",
       "      <td>0.0</td>\n",
       "      <td>3</td>\n",
       "      <td>150</td>\n",
       "      <td>4150.0</td>\n",
       "    </tr>\n",
       "  </tbody>\n",
       "</table>\n",
       "</div>"
      ],
      "text/plain": [
       "  tariff_plan    month  user_id  out_call_min  month_pay  over_limit_cost  \\\n",
       "0           A  2019-09   166407          2000       4000              0.1   \n",
       "1           A  2019-09   166407          2000       4000              0.1   \n",
       "2           A  2019-09   166541          2000       4000              0.1   \n",
       "3           A  2019-09   166713          2000       4000              0.1   \n",
       "4           A  2019-09   166879          2000       4000              0.1   \n",
       "\n",
       "   out_call_cost  add_pay  total_min_x  over_pay  over_a  over_b  total_min_y  \\\n",
       "0            0.3       50        608.0       0.0     0.0   108.0          0.0   \n",
       "1            0.3       50          0.0       0.0     0.0     0.0        384.0   \n",
       "2            0.3       50        913.0       0.0     0.0   413.0        784.0   \n",
       "3            0.3       50         41.0       0.0     0.0     0.0          0.0   \n",
       "4            0.3       50        262.0       0.0     0.0     0.0          0.0   \n",
       "\n",
       "   price  oper_total  oper_price  month_pay_total  \n",
       "0    0.0           6         300           4300.0  \n",
       "1  115.2           6         300           4415.2  \n",
       "2  235.2           4         200           4435.2  \n",
       "3    0.0           2         100           4100.0  \n",
       "4    0.0           3         150           4150.0  "
      ]
     },
     "execution_count": 76,
     "metadata": {},
     "output_type": "execute_result"
    }
   ],
   "source": [
    "merge_out.head()"
   ]
  },
  {
   "cell_type": "markdown",
   "id": "ddf8d13a-1a36-495b-8b8a-308e54aefad2",
   "metadata": {},
   "source": [
    "**Создаем таблицу с клиентами для предложений.**"
   ]
  },
  {
   "cell_type": "markdown",
   "id": "b5b54314-00c9-4d7f-b0c2-999eb059fec1",
   "metadata": {},
   "source": [
    "Пишем функцию которая предложит оптимальный тариф или оставит изначальный."
   ]
  },
  {
   "cell_type": "code",
   "execution_count": 77,
   "id": "94f28929-f405-4bcb-b8af-4475efb909f8",
   "metadata": {},
   "outputs": [],
   "source": [
    "def recomen(x):\n",
    "    if x['tariff_plan'] == 'A' and x['month_pay_total'] > (x['over_b'] * 0.15 + x['total_min_y'] * 0.5 + x['oper_total'] * 150 + 2000):\n",
    "        return 'B'\n",
    "    elif x['tariff_plan'] == 'A' and x['month_pay_total'] > (x['total_min_x'] * 0.30 + x['total_min_y'] * 0.7 + x['oper_total'] * 300 + 1000):\n",
    "        return 'C'\n",
    "    elif x['tariff_plan'] == 'B' and x['month_pay_total'] > (x['total_min_x'] * 0.30 + x['total_min_y'] * 0.7 + x['oper_total'] * 300 + 1000):\n",
    "        return 'C'\n",
    "    elif x['tariff_plan'] == 'B' and x['month_pay_total'] > (x['over_a'] * 0.10 + x['total_min_y'] * 0.3 + x['oper_total'] * 50 + 4000):\n",
    "        return 'A'\n",
    "    elif x['tariff_plan'] == 'C' and x['month_pay_total'] > (x['over_a'] * 0.10 + x['total_min_y'] * 0.3 + x['oper_total'] * 50 + 4000):\n",
    "        return 'A'\n",
    "    elif x['tariff_plan'] == 'C' and x['month_pay_total'] > (x['over_b'] * 0.15 + x['total_min_y'] * 0.5 + x['oper_total'] * 150 + 2000):\n",
    "        return 'B'\n",
    "    else:\n",
    "        return 'same'\n",
    "        \n",
    "    \n",
    "    \n",
    "\n",
    "       \n",
    "\n"
   ]
  },
  {
   "cell_type": "markdown",
   "id": "1b33efa9-4662-4a57-8e60-19f9eea1f5ed",
   "metadata": {},
   "source": [
    "Создаем столбец с новыми тарифами."
   ]
  },
  {
   "cell_type": "code",
   "execution_count": 78,
   "id": "f7122fd2-0c87-4bd5-a322-31a7e06bf6e6",
   "metadata": {},
   "outputs": [],
   "source": [
    "merge_out['new_tariff'] = merge_out.apply(recomen, axis=1)\n"
   ]
  },
  {
   "cell_type": "code",
   "execution_count": 79,
   "id": "6101a9a6-a7ed-442c-8d27-a042b3ed7f4e",
   "metadata": {},
   "outputs": [
    {
     "data": {
      "text/html": [
       "<div>\n",
       "<style scoped>\n",
       "    .dataframe tbody tr th:only-of-type {\n",
       "        vertical-align: middle;\n",
       "    }\n",
       "\n",
       "    .dataframe tbody tr th {\n",
       "        vertical-align: top;\n",
       "    }\n",
       "\n",
       "    .dataframe thead th {\n",
       "        text-align: right;\n",
       "    }\n",
       "</style>\n",
       "<table border=\"1\" class=\"dataframe\">\n",
       "  <thead>\n",
       "    <tr style=\"text-align: right;\">\n",
       "      <th></th>\n",
       "      <th>tariff_plan</th>\n",
       "      <th>month</th>\n",
       "      <th>user_id</th>\n",
       "      <th>out_call_min</th>\n",
       "      <th>month_pay</th>\n",
       "      <th>over_limit_cost</th>\n",
       "      <th>out_call_cost</th>\n",
       "      <th>add_pay</th>\n",
       "      <th>total_min_x</th>\n",
       "      <th>over_pay</th>\n",
       "      <th>over_a</th>\n",
       "      <th>over_b</th>\n",
       "      <th>total_min_y</th>\n",
       "      <th>price</th>\n",
       "      <th>oper_total</th>\n",
       "      <th>oper_price</th>\n",
       "      <th>month_pay_total</th>\n",
       "      <th>new_tariff</th>\n",
       "    </tr>\n",
       "  </thead>\n",
       "  <tbody>\n",
       "    <tr>\n",
       "      <th>0</th>\n",
       "      <td>A</td>\n",
       "      <td>2019-09</td>\n",
       "      <td>166407</td>\n",
       "      <td>2000</td>\n",
       "      <td>4000</td>\n",
       "      <td>0.1</td>\n",
       "      <td>0.3</td>\n",
       "      <td>50</td>\n",
       "      <td>608.0</td>\n",
       "      <td>0.0</td>\n",
       "      <td>0.0</td>\n",
       "      <td>108.0</td>\n",
       "      <td>0.0</td>\n",
       "      <td>0.0</td>\n",
       "      <td>6</td>\n",
       "      <td>300</td>\n",
       "      <td>4300.0</td>\n",
       "      <td>B</td>\n",
       "    </tr>\n",
       "    <tr>\n",
       "      <th>1</th>\n",
       "      <td>A</td>\n",
       "      <td>2019-09</td>\n",
       "      <td>166407</td>\n",
       "      <td>2000</td>\n",
       "      <td>4000</td>\n",
       "      <td>0.1</td>\n",
       "      <td>0.3</td>\n",
       "      <td>50</td>\n",
       "      <td>0.0</td>\n",
       "      <td>0.0</td>\n",
       "      <td>0.0</td>\n",
       "      <td>0.0</td>\n",
       "      <td>384.0</td>\n",
       "      <td>115.2</td>\n",
       "      <td>6</td>\n",
       "      <td>300</td>\n",
       "      <td>4415.2</td>\n",
       "      <td>B</td>\n",
       "    </tr>\n",
       "    <tr>\n",
       "      <th>2</th>\n",
       "      <td>A</td>\n",
       "      <td>2019-09</td>\n",
       "      <td>166541</td>\n",
       "      <td>2000</td>\n",
       "      <td>4000</td>\n",
       "      <td>0.1</td>\n",
       "      <td>0.3</td>\n",
       "      <td>50</td>\n",
       "      <td>913.0</td>\n",
       "      <td>0.0</td>\n",
       "      <td>0.0</td>\n",
       "      <td>413.0</td>\n",
       "      <td>784.0</td>\n",
       "      <td>235.2</td>\n",
       "      <td>4</td>\n",
       "      <td>200</td>\n",
       "      <td>4435.2</td>\n",
       "      <td>B</td>\n",
       "    </tr>\n",
       "    <tr>\n",
       "      <th>3</th>\n",
       "      <td>A</td>\n",
       "      <td>2019-09</td>\n",
       "      <td>166713</td>\n",
       "      <td>2000</td>\n",
       "      <td>4000</td>\n",
       "      <td>0.1</td>\n",
       "      <td>0.3</td>\n",
       "      <td>50</td>\n",
       "      <td>41.0</td>\n",
       "      <td>0.0</td>\n",
       "      <td>0.0</td>\n",
       "      <td>0.0</td>\n",
       "      <td>0.0</td>\n",
       "      <td>0.0</td>\n",
       "      <td>2</td>\n",
       "      <td>100</td>\n",
       "      <td>4100.0</td>\n",
       "      <td>B</td>\n",
       "    </tr>\n",
       "    <tr>\n",
       "      <th>4</th>\n",
       "      <td>A</td>\n",
       "      <td>2019-09</td>\n",
       "      <td>166879</td>\n",
       "      <td>2000</td>\n",
       "      <td>4000</td>\n",
       "      <td>0.1</td>\n",
       "      <td>0.3</td>\n",
       "      <td>50</td>\n",
       "      <td>262.0</td>\n",
       "      <td>0.0</td>\n",
       "      <td>0.0</td>\n",
       "      <td>0.0</td>\n",
       "      <td>0.0</td>\n",
       "      <td>0.0</td>\n",
       "      <td>3</td>\n",
       "      <td>150</td>\n",
       "      <td>4150.0</td>\n",
       "      <td>B</td>\n",
       "    </tr>\n",
       "  </tbody>\n",
       "</table>\n",
       "</div>"
      ],
      "text/plain": [
       "  tariff_plan    month  user_id  out_call_min  month_pay  over_limit_cost  \\\n",
       "0           A  2019-09   166407          2000       4000              0.1   \n",
       "1           A  2019-09   166407          2000       4000              0.1   \n",
       "2           A  2019-09   166541          2000       4000              0.1   \n",
       "3           A  2019-09   166713          2000       4000              0.1   \n",
       "4           A  2019-09   166879          2000       4000              0.1   \n",
       "\n",
       "   out_call_cost  add_pay  total_min_x  over_pay  over_a  over_b  total_min_y  \\\n",
       "0            0.3       50        608.0       0.0     0.0   108.0          0.0   \n",
       "1            0.3       50          0.0       0.0     0.0     0.0        384.0   \n",
       "2            0.3       50        913.0       0.0     0.0   413.0        784.0   \n",
       "3            0.3       50         41.0       0.0     0.0     0.0          0.0   \n",
       "4            0.3       50        262.0       0.0     0.0     0.0          0.0   \n",
       "\n",
       "   price  oper_total  oper_price  month_pay_total new_tariff  \n",
       "0    0.0           6         300           4300.0          B  \n",
       "1  115.2           6         300           4415.2          B  \n",
       "2  235.2           4         200           4435.2          B  \n",
       "3    0.0           2         100           4100.0          B  \n",
       "4    0.0           3         150           4150.0          B  "
      ]
     },
     "execution_count": 79,
     "metadata": {},
     "output_type": "execute_result"
    }
   ],
   "source": [
    "merge_out.head()"
   ]
  },
  {
   "cell_type": "markdown",
   "id": "4432f3ba-c4e2-4614-8997-9a8549043ba0",
   "metadata": {},
   "source": [
    "Оставляем только новые тарифы."
   ]
  },
  {
   "cell_type": "code",
   "execution_count": 80,
   "id": "14e96525-b232-4abe-917b-70f2d2530e5a",
   "metadata": {},
   "outputs": [
    {
     "data": {
      "text/html": [
       "<div>\n",
       "<style scoped>\n",
       "    .dataframe tbody tr th:only-of-type {\n",
       "        vertical-align: middle;\n",
       "    }\n",
       "\n",
       "    .dataframe tbody tr th {\n",
       "        vertical-align: top;\n",
       "    }\n",
       "\n",
       "    .dataframe thead th {\n",
       "        text-align: right;\n",
       "    }\n",
       "</style>\n",
       "<table border=\"1\" class=\"dataframe\">\n",
       "  <thead>\n",
       "    <tr style=\"text-align: right;\">\n",
       "      <th></th>\n",
       "      <th>tariff_plan</th>\n",
       "      <th>month</th>\n",
       "      <th>user_id</th>\n",
       "      <th>out_call_min</th>\n",
       "      <th>month_pay</th>\n",
       "      <th>over_limit_cost</th>\n",
       "      <th>out_call_cost</th>\n",
       "      <th>add_pay</th>\n",
       "      <th>total_min_x</th>\n",
       "      <th>over_pay</th>\n",
       "      <th>over_a</th>\n",
       "      <th>over_b</th>\n",
       "      <th>total_min_y</th>\n",
       "      <th>price</th>\n",
       "      <th>oper_total</th>\n",
       "      <th>oper_price</th>\n",
       "      <th>month_pay_total</th>\n",
       "      <th>new_tariff</th>\n",
       "    </tr>\n",
       "  </thead>\n",
       "  <tbody>\n",
       "    <tr>\n",
       "      <th>0</th>\n",
       "      <td>A</td>\n",
       "      <td>2019-09</td>\n",
       "      <td>166407</td>\n",
       "      <td>2000</td>\n",
       "      <td>4000</td>\n",
       "      <td>0.1</td>\n",
       "      <td>0.3</td>\n",
       "      <td>50</td>\n",
       "      <td>608.0</td>\n",
       "      <td>0.0</td>\n",
       "      <td>0.0</td>\n",
       "      <td>108.0</td>\n",
       "      <td>0.0</td>\n",
       "      <td>0.0</td>\n",
       "      <td>6</td>\n",
       "      <td>300</td>\n",
       "      <td>4300.0</td>\n",
       "      <td>B</td>\n",
       "    </tr>\n",
       "    <tr>\n",
       "      <th>1</th>\n",
       "      <td>A</td>\n",
       "      <td>2019-09</td>\n",
       "      <td>166407</td>\n",
       "      <td>2000</td>\n",
       "      <td>4000</td>\n",
       "      <td>0.1</td>\n",
       "      <td>0.3</td>\n",
       "      <td>50</td>\n",
       "      <td>0.0</td>\n",
       "      <td>0.0</td>\n",
       "      <td>0.0</td>\n",
       "      <td>0.0</td>\n",
       "      <td>384.0</td>\n",
       "      <td>115.2</td>\n",
       "      <td>6</td>\n",
       "      <td>300</td>\n",
       "      <td>4415.2</td>\n",
       "      <td>B</td>\n",
       "    </tr>\n",
       "    <tr>\n",
       "      <th>2</th>\n",
       "      <td>A</td>\n",
       "      <td>2019-09</td>\n",
       "      <td>166541</td>\n",
       "      <td>2000</td>\n",
       "      <td>4000</td>\n",
       "      <td>0.1</td>\n",
       "      <td>0.3</td>\n",
       "      <td>50</td>\n",
       "      <td>913.0</td>\n",
       "      <td>0.0</td>\n",
       "      <td>0.0</td>\n",
       "      <td>413.0</td>\n",
       "      <td>784.0</td>\n",
       "      <td>235.2</td>\n",
       "      <td>4</td>\n",
       "      <td>200</td>\n",
       "      <td>4435.2</td>\n",
       "      <td>B</td>\n",
       "    </tr>\n",
       "    <tr>\n",
       "      <th>3</th>\n",
       "      <td>A</td>\n",
       "      <td>2019-09</td>\n",
       "      <td>166713</td>\n",
       "      <td>2000</td>\n",
       "      <td>4000</td>\n",
       "      <td>0.1</td>\n",
       "      <td>0.3</td>\n",
       "      <td>50</td>\n",
       "      <td>41.0</td>\n",
       "      <td>0.0</td>\n",
       "      <td>0.0</td>\n",
       "      <td>0.0</td>\n",
       "      <td>0.0</td>\n",
       "      <td>0.0</td>\n",
       "      <td>2</td>\n",
       "      <td>100</td>\n",
       "      <td>4100.0</td>\n",
       "      <td>B</td>\n",
       "    </tr>\n",
       "    <tr>\n",
       "      <th>4</th>\n",
       "      <td>A</td>\n",
       "      <td>2019-09</td>\n",
       "      <td>166879</td>\n",
       "      <td>2000</td>\n",
       "      <td>4000</td>\n",
       "      <td>0.1</td>\n",
       "      <td>0.3</td>\n",
       "      <td>50</td>\n",
       "      <td>262.0</td>\n",
       "      <td>0.0</td>\n",
       "      <td>0.0</td>\n",
       "      <td>0.0</td>\n",
       "      <td>0.0</td>\n",
       "      <td>0.0</td>\n",
       "      <td>3</td>\n",
       "      <td>150</td>\n",
       "      <td>4150.0</td>\n",
       "      <td>B</td>\n",
       "    </tr>\n",
       "  </tbody>\n",
       "</table>\n",
       "</div>"
      ],
      "text/plain": [
       "  tariff_plan    month  user_id  out_call_min  month_pay  over_limit_cost  \\\n",
       "0           A  2019-09   166407          2000       4000              0.1   \n",
       "1           A  2019-09   166407          2000       4000              0.1   \n",
       "2           A  2019-09   166541          2000       4000              0.1   \n",
       "3           A  2019-09   166713          2000       4000              0.1   \n",
       "4           A  2019-09   166879          2000       4000              0.1   \n",
       "\n",
       "   out_call_cost  add_pay  total_min_x  over_pay  over_a  over_b  total_min_y  \\\n",
       "0            0.3       50        608.0       0.0     0.0   108.0          0.0   \n",
       "1            0.3       50          0.0       0.0     0.0     0.0        384.0   \n",
       "2            0.3       50        913.0       0.0     0.0   413.0        784.0   \n",
       "3            0.3       50         41.0       0.0     0.0     0.0          0.0   \n",
       "4            0.3       50        262.0       0.0     0.0     0.0          0.0   \n",
       "\n",
       "   price  oper_total  oper_price  month_pay_total new_tariff  \n",
       "0    0.0           6         300           4300.0          B  \n",
       "1  115.2           6         300           4415.2          B  \n",
       "2  235.2           4         200           4435.2          B  \n",
       "3    0.0           2         100           4100.0          B  \n",
       "4    0.0           3         150           4150.0          B  "
      ]
     },
     "execution_count": 80,
     "metadata": {},
     "output_type": "execute_result"
    }
   ],
   "source": [
    "final = merge_out.query('new_tariff != \"same\"').reset_index()\n",
    "final = final.drop(['index'], axis=1)\n",
    "final.head()"
   ]
  },
  {
   "cell_type": "markdown",
   "id": "4f491d1e-d176-4b4e-8831-2224fe12c20f",
   "metadata": {},
   "source": [
    "Так как таблица была по месяцам, смотрим, где есть совпадения в предложенных тарифах, и их удаляем. Оставляем копию за последний месяц."
   ]
  },
  {
   "cell_type": "code",
   "execution_count": 81,
   "id": "55a7a3cc-14d7-410c-890e-74adc7463c1a",
   "metadata": {},
   "outputs": [
    {
     "data": {
      "text/plain": [
       "99"
      ]
     },
     "execution_count": 81,
     "metadata": {},
     "output_type": "execute_result"
    }
   ],
   "source": [
    "final_2 = final[['new_tariff', 'user_id']].duplicated().sum()\n",
    "final_2"
   ]
  },
  {
   "cell_type": "markdown",
   "id": "e640a634-4d14-4678-a092-052ae1b3dd4e",
   "metadata": {},
   "source": [
    "Оставляем строки за последние месяца."
   ]
  },
  {
   "cell_type": "code",
   "execution_count": 82,
   "id": "1c690869-af86-4466-9f8c-5bbc41136995",
   "metadata": {},
   "outputs": [
    {
     "data": {
      "text/plain": [
       "0"
      ]
     },
     "execution_count": 82,
     "metadata": {},
     "output_type": "execute_result"
    }
   ],
   "source": [
    "final_2 = final.drop_duplicates(subset=['new_tariff', 'user_id'],keep='last')\n",
    "final_2[['new_tariff', 'user_id']].duplicated().sum()"
   ]
  },
  {
   "cell_type": "code",
   "execution_count": 83,
   "id": "b9f997e3-6235-469f-b8fc-ae5a80be220a",
   "metadata": {},
   "outputs": [
    {
     "data": {
      "text/html": [
       "<div>\n",
       "<style scoped>\n",
       "    .dataframe tbody tr th:only-of-type {\n",
       "        vertical-align: middle;\n",
       "    }\n",
       "\n",
       "    .dataframe tbody tr th {\n",
       "        vertical-align: top;\n",
       "    }\n",
       "\n",
       "    .dataframe thead th {\n",
       "        text-align: right;\n",
       "    }\n",
       "</style>\n",
       "<table border=\"1\" class=\"dataframe\">\n",
       "  <thead>\n",
       "    <tr style=\"text-align: right;\">\n",
       "      <th></th>\n",
       "      <th>tariff_plan</th>\n",
       "      <th>month</th>\n",
       "      <th>user_id</th>\n",
       "      <th>out_call_min</th>\n",
       "      <th>month_pay</th>\n",
       "      <th>over_limit_cost</th>\n",
       "      <th>out_call_cost</th>\n",
       "      <th>add_pay</th>\n",
       "      <th>total_min_x</th>\n",
       "      <th>over_pay</th>\n",
       "      <th>over_a</th>\n",
       "      <th>over_b</th>\n",
       "      <th>total_min_y</th>\n",
       "      <th>price</th>\n",
       "      <th>oper_total</th>\n",
       "      <th>oper_price</th>\n",
       "      <th>month_pay_total</th>\n",
       "      <th>new_tariff</th>\n",
       "    </tr>\n",
       "  </thead>\n",
       "  <tbody>\n",
       "    <tr>\n",
       "      <th>10</th>\n",
       "      <td>A</td>\n",
       "      <td>2019-10</td>\n",
       "      <td>166879</td>\n",
       "      <td>2000</td>\n",
       "      <td>4000</td>\n",
       "      <td>0.10</td>\n",
       "      <td>0.3</td>\n",
       "      <td>50</td>\n",
       "      <td>106.0</td>\n",
       "      <td>0.00</td>\n",
       "      <td>0.0</td>\n",
       "      <td>0.0</td>\n",
       "      <td>0.0</td>\n",
       "      <td>0.0</td>\n",
       "      <td>4</td>\n",
       "      <td>200</td>\n",
       "      <td>4200.00</td>\n",
       "      <td>B</td>\n",
       "    </tr>\n",
       "    <tr>\n",
       "      <th>11</th>\n",
       "      <td>A</td>\n",
       "      <td>2019-11</td>\n",
       "      <td>166541</td>\n",
       "      <td>2000</td>\n",
       "      <td>4000</td>\n",
       "      <td>0.10</td>\n",
       "      <td>0.3</td>\n",
       "      <td>50</td>\n",
       "      <td>686.0</td>\n",
       "      <td>0.00</td>\n",
       "      <td>0.0</td>\n",
       "      <td>186.0</td>\n",
       "      <td>1279.0</td>\n",
       "      <td>383.7</td>\n",
       "      <td>2</td>\n",
       "      <td>100</td>\n",
       "      <td>4483.70</td>\n",
       "      <td>B</td>\n",
       "    </tr>\n",
       "    <tr>\n",
       "      <th>12</th>\n",
       "      <td>A</td>\n",
       "      <td>2019-11</td>\n",
       "      <td>167497</td>\n",
       "      <td>2000</td>\n",
       "      <td>4000</td>\n",
       "      <td>0.10</td>\n",
       "      <td>0.3</td>\n",
       "      <td>50</td>\n",
       "      <td>1473.0</td>\n",
       "      <td>0.00</td>\n",
       "      <td>0.0</td>\n",
       "      <td>973.0</td>\n",
       "      <td>0.0</td>\n",
       "      <td>0.0</td>\n",
       "      <td>17</td>\n",
       "      <td>850</td>\n",
       "      <td>4850.00</td>\n",
       "      <td>B</td>\n",
       "    </tr>\n",
       "    <tr>\n",
       "      <th>24</th>\n",
       "      <td>B</td>\n",
       "      <td>2019-10</td>\n",
       "      <td>166678</td>\n",
       "      <td>500</td>\n",
       "      <td>2000</td>\n",
       "      <td>0.15</td>\n",
       "      <td>0.5</td>\n",
       "      <td>150</td>\n",
       "      <td>783.0</td>\n",
       "      <td>42.45</td>\n",
       "      <td>0.0</td>\n",
       "      <td>283.0</td>\n",
       "      <td>0.0</td>\n",
       "      <td>0.0</td>\n",
       "      <td>5</td>\n",
       "      <td>750</td>\n",
       "      <td>2792.45</td>\n",
       "      <td>C</td>\n",
       "    </tr>\n",
       "    <tr>\n",
       "      <th>29</th>\n",
       "      <td>B</td>\n",
       "      <td>2019-11</td>\n",
       "      <td>166428</td>\n",
       "      <td>500</td>\n",
       "      <td>2000</td>\n",
       "      <td>0.15</td>\n",
       "      <td>0.5</td>\n",
       "      <td>150</td>\n",
       "      <td>53.0</td>\n",
       "      <td>0.00</td>\n",
       "      <td>0.0</td>\n",
       "      <td>0.0</td>\n",
       "      <td>0.0</td>\n",
       "      <td>0.0</td>\n",
       "      <td>1</td>\n",
       "      <td>150</td>\n",
       "      <td>2150.00</td>\n",
       "      <td>C</td>\n",
       "    </tr>\n",
       "  </tbody>\n",
       "</table>\n",
       "</div>"
      ],
      "text/plain": [
       "   tariff_plan    month  user_id  out_call_min  month_pay  over_limit_cost  \\\n",
       "10           A  2019-10   166879          2000       4000             0.10   \n",
       "11           A  2019-11   166541          2000       4000             0.10   \n",
       "12           A  2019-11   167497          2000       4000             0.10   \n",
       "24           B  2019-10   166678           500       2000             0.15   \n",
       "29           B  2019-11   166428           500       2000             0.15   \n",
       "\n",
       "    out_call_cost  add_pay  total_min_x  over_pay  over_a  over_b  \\\n",
       "10            0.3       50        106.0      0.00     0.0     0.0   \n",
       "11            0.3       50        686.0      0.00     0.0   186.0   \n",
       "12            0.3       50       1473.0      0.00     0.0   973.0   \n",
       "24            0.5      150        783.0     42.45     0.0   283.0   \n",
       "29            0.5      150         53.0      0.00     0.0     0.0   \n",
       "\n",
       "    total_min_y  price  oper_total  oper_price  month_pay_total new_tariff  \n",
       "10          0.0    0.0           4         200          4200.00          B  \n",
       "11       1279.0  383.7           2         100          4483.70          B  \n",
       "12          0.0    0.0          17         850          4850.00          B  \n",
       "24          0.0    0.0           5         750          2792.45          C  \n",
       "29          0.0    0.0           1         150          2150.00          C  "
      ]
     },
     "execution_count": 83,
     "metadata": {},
     "output_type": "execute_result"
    }
   ],
   "source": [
    "final_2.head()"
   ]
  },
  {
   "cell_type": "code",
   "execution_count": 84,
   "id": "9d1b893f-1331-4bc0-940f-83a931fc07c5",
   "metadata": {},
   "outputs": [
    {
     "data": {
      "text/plain": [
       "Index(['tariff_plan', 'month', 'user_id', 'out_call_min', 'month_pay',\n",
       "       'over_limit_cost', 'out_call_cost', 'add_pay', 'total_min_x',\n",
       "       'over_pay', 'over_a', 'over_b', 'total_min_y', 'price', 'oper_total',\n",
       "       'oper_price', 'month_pay_total', 'new_tariff'],\n",
       "      dtype='object')"
      ]
     },
     "execution_count": 84,
     "metadata": {},
     "output_type": "execute_result"
    }
   ],
   "source": [
    "final_2.columns"
   ]
  },
  {
   "cell_type": "code",
   "execution_count": 85,
   "id": "15e1c879-8e6e-4776-ba40-3929677cc394",
   "metadata": {},
   "outputs": [],
   "source": [
    "the_end = final_2.drop(['month', 'out_call_min', 'month_pay',\n",
    "       'over_limit_cost', 'out_call_cost', 'add_pay', 'total_min_x',\n",
    "       'over_pay', 'total_min_y', 'price', 'oper_total', 'oper_price',\n",
    "       'month_pay_total'], axis=1)\n"
   ]
  },
  {
   "cell_type": "code",
   "execution_count": 86,
   "id": "930e1f00-258f-4771-a751-8aae123eda65",
   "metadata": {},
   "outputs": [],
   "source": [
    "the_end = the_end.reindex(columns=['user_id', 'tariff_plan', 'new_tariff'])\n"
   ]
  },
  {
   "cell_type": "code",
   "execution_count": 87,
   "id": "b8847ef7-a7bf-46b1-a188-548bfd8eadf4",
   "metadata": {},
   "outputs": [],
   "source": [
    "the_end = the_end.sort_values(by='tariff_plan').reset_index()"
   ]
  },
  {
   "cell_type": "code",
   "execution_count": 88,
   "id": "b3ec946c-cb5f-4eab-a1ad-873c5162f02b",
   "metadata": {},
   "outputs": [],
   "source": [
    "the_end = the_end.drop(['index'], axis=1)"
   ]
  },
  {
   "cell_type": "markdown",
   "id": "ea0a8387-d572-4ec0-a60f-51863af66aad",
   "metadata": {},
   "source": [
    "Смотрим на то, как распределились тарифы."
   ]
  },
  {
   "cell_type": "code",
   "execution_count": 89,
   "id": "2a28882f-9fbe-4322-a313-de9c25d89005",
   "metadata": {},
   "outputs": [
    {
     "data": {
      "text/plain": [
       "B    41\n",
       "C    18\n",
       "A    12\n",
       "Name: tariff_plan, dtype: int64"
      ]
     },
     "execution_count": 89,
     "metadata": {},
     "output_type": "execute_result"
    }
   ],
   "source": [
    "the_end['tariff_plan'].value_counts()"
   ]
  },
  {
   "cell_type": "code",
   "execution_count": 90,
   "id": "ee7e83f6-7b75-4af1-95d7-2f8b73029704",
   "metadata": {},
   "outputs": [
    {
     "data": {
      "text/html": [
       "<div>\n",
       "<style scoped>\n",
       "    .dataframe tbody tr th:only-of-type {\n",
       "        vertical-align: middle;\n",
       "    }\n",
       "\n",
       "    .dataframe tbody tr th {\n",
       "        vertical-align: top;\n",
       "    }\n",
       "\n",
       "    .dataframe thead th {\n",
       "        text-align: right;\n",
       "    }\n",
       "</style>\n",
       "<table border=\"1\" class=\"dataframe\">\n",
       "  <thead>\n",
       "    <tr style=\"text-align: right;\">\n",
       "      <th></th>\n",
       "      <th>user_id</th>\n",
       "      <th>tariff_plan</th>\n",
       "      <th>new_tariff</th>\n",
       "    </tr>\n",
       "  </thead>\n",
       "  <tbody>\n",
       "    <tr>\n",
       "      <th>0</th>\n",
       "      <td>166879</td>\n",
       "      <td>A</td>\n",
       "      <td>B</td>\n",
       "    </tr>\n",
       "    <tr>\n",
       "      <th>1</th>\n",
       "      <td>167185</td>\n",
       "      <td>A</td>\n",
       "      <td>B</td>\n",
       "    </tr>\n",
       "    <tr>\n",
       "      <th>2</th>\n",
       "      <td>166901</td>\n",
       "      <td>A</td>\n",
       "      <td>B</td>\n",
       "    </tr>\n",
       "    <tr>\n",
       "      <th>3</th>\n",
       "      <td>166843</td>\n",
       "      <td>A</td>\n",
       "      <td>B</td>\n",
       "    </tr>\n",
       "    <tr>\n",
       "      <th>4</th>\n",
       "      <td>166725</td>\n",
       "      <td>A</td>\n",
       "      <td>B</td>\n",
       "    </tr>\n",
       "    <tr>\n",
       "      <th>...</th>\n",
       "      <td>...</td>\n",
       "      <td>...</td>\n",
       "      <td>...</td>\n",
       "    </tr>\n",
       "    <tr>\n",
       "      <th>66</th>\n",
       "      <td>167109</td>\n",
       "      <td>C</td>\n",
       "      <td>A</td>\n",
       "    </tr>\n",
       "    <tr>\n",
       "      <th>67</th>\n",
       "      <td>167150</td>\n",
       "      <td>C</td>\n",
       "      <td>B</td>\n",
       "    </tr>\n",
       "    <tr>\n",
       "      <th>68</th>\n",
       "      <td>167650</td>\n",
       "      <td>C</td>\n",
       "      <td>A</td>\n",
       "    </tr>\n",
       "    <tr>\n",
       "      <th>69</th>\n",
       "      <td>167031</td>\n",
       "      <td>C</td>\n",
       "      <td>B</td>\n",
       "    </tr>\n",
       "    <tr>\n",
       "      <th>70</th>\n",
       "      <td>167532</td>\n",
       "      <td>C</td>\n",
       "      <td>B</td>\n",
       "    </tr>\n",
       "  </tbody>\n",
       "</table>\n",
       "<p>71 rows × 3 columns</p>\n",
       "</div>"
      ],
      "text/plain": [
       "    user_id tariff_plan new_tariff\n",
       "0    166879           A          B\n",
       "1    167185           A          B\n",
       "2    166901           A          B\n",
       "3    166843           A          B\n",
       "4    166725           A          B\n",
       "..      ...         ...        ...\n",
       "66   167109           C          A\n",
       "67   167150           C          B\n",
       "68   167650           C          A\n",
       "69   167031           C          B\n",
       "70   167532           C          B\n",
       "\n",
       "[71 rows x 3 columns]"
      ]
     },
     "execution_count": 90,
     "metadata": {},
     "output_type": "execute_result"
    }
   ],
   "source": [
    "the_end"
   ]
  },
  {
   "cell_type": "markdown",
   "id": "b9693b0a-9cab-407b-853c-3e0317b229ea",
   "metadata": {},
   "source": [
    "**Промежуточный вывод**\n",
    "\n",
    "Чаще всего клиентам с тарифом 'B' было предложено перейти на новый тариф. Всего пользователей которым предложили перейти 71\n"
   ]
  },
  {
   "cell_type": "markdown",
   "id": "aab0c6f2-31a0-48e8-b0e0-751082423ff2",
   "metadata": {},
   "source": [
    "## Строим графики изменения выручки"
   ]
  },
  {
   "cell_type": "markdown",
   "id": "3d4006fd-168d-44fa-a6b6-9c7b5781d879",
   "metadata": {},
   "source": [
    "Подготавливаем таблицу"
   ]
  },
  {
   "cell_type": "markdown",
   "id": "f7013bd6-ce42-4e6c-8f09-83411bfbc63d",
   "metadata": {},
   "source": [
    "Пишем функцию которая посчитает выручку нового тарифом"
   ]
  },
  {
   "cell_type": "code",
   "execution_count": 91,
   "id": "71abc06a-8e9a-483c-9f41-a839a732a4e8",
   "metadata": {},
   "outputs": [],
   "source": [
    "def new_revenue(x):\n",
    "    if x['new_tariff'] == 'A':\n",
    "        return x['over_a'] * 0.10 + x['total_min_y'] * 0.3 + x['oper_total'] * 50 + 4000\n",
    "    elif x['new_tariff'] == 'B':\n",
    "        return x['over_b'] * 0.15 + x['total_min_y'] * 0.5 + x['oper_total'] * 150 + 2000\n",
    "    elif x['new_tariff'] == 'C':\n",
    "        return x['total_min_x'] * 0.30 + x['total_min_y'] * 0.7 + x['oper_total'] * 300 + 1000\n",
    "    else:\n",
    "        return x['month_pay_total']\n",
    "    "
   ]
  },
  {
   "cell_type": "markdown",
   "id": "5eb59cd0-5f7d-4b43-8b75-0a1cbf275b52",
   "metadata": {},
   "source": [
    "Формируем новый столбец с выручкой по новому тарифу"
   ]
  },
  {
   "cell_type": "code",
   "execution_count": 92,
   "id": "00a6db9c-0fa1-4c4f-bc7e-5d136bd7dc08",
   "metadata": {},
   "outputs": [],
   "source": [
    "merge_out['new_month_pay_total'] = merge_out.apply(new_revenue, axis=1)"
   ]
  },
  {
   "cell_type": "markdown",
   "id": "f432df9d-77d5-4294-a11b-3ae962145f75",
   "metadata": {},
   "source": [
    "Создаем столбец с процентной разницой между тарифами"
   ]
  },
  {
   "cell_type": "code",
   "execution_count": 93,
   "id": "743c8163-8a19-4f31-9250-dd108072940a",
   "metadata": {},
   "outputs": [],
   "source": [
    "merge_out['percent_diff'] = (round(abs(((merge_out['new_month_pay_total'] - merge_out['month_pay_total'])\n",
    "                                           / merge_out['month_pay_total']) * 100),1))"
   ]
  },
  {
   "cell_type": "code",
   "execution_count": 94,
   "id": "ee55a4e2-70f3-4070-b3c2-d45c68cd2e16",
   "metadata": {},
   "outputs": [
    {
     "data": {
      "text/html": [
       "<div>\n",
       "<style scoped>\n",
       "    .dataframe tbody tr th:only-of-type {\n",
       "        vertical-align: middle;\n",
       "    }\n",
       "\n",
       "    .dataframe tbody tr th {\n",
       "        vertical-align: top;\n",
       "    }\n",
       "\n",
       "    .dataframe thead th {\n",
       "        text-align: right;\n",
       "    }\n",
       "</style>\n",
       "<table border=\"1\" class=\"dataframe\">\n",
       "  <thead>\n",
       "    <tr style=\"text-align: right;\">\n",
       "      <th></th>\n",
       "      <th>tariff_plan</th>\n",
       "      <th>month</th>\n",
       "      <th>user_id</th>\n",
       "      <th>out_call_min</th>\n",
       "      <th>month_pay</th>\n",
       "      <th>over_limit_cost</th>\n",
       "      <th>out_call_cost</th>\n",
       "      <th>add_pay</th>\n",
       "      <th>total_min_x</th>\n",
       "      <th>over_pay</th>\n",
       "      <th>over_a</th>\n",
       "      <th>over_b</th>\n",
       "      <th>total_min_y</th>\n",
       "      <th>price</th>\n",
       "      <th>oper_total</th>\n",
       "      <th>oper_price</th>\n",
       "      <th>month_pay_total</th>\n",
       "      <th>new_tariff</th>\n",
       "      <th>new_month_pay_total</th>\n",
       "      <th>percent_diff</th>\n",
       "    </tr>\n",
       "  </thead>\n",
       "  <tbody>\n",
       "    <tr>\n",
       "      <th>0</th>\n",
       "      <td>A</td>\n",
       "      <td>2019-09</td>\n",
       "      <td>166407</td>\n",
       "      <td>2000</td>\n",
       "      <td>4000</td>\n",
       "      <td>0.1</td>\n",
       "      <td>0.3</td>\n",
       "      <td>50</td>\n",
       "      <td>608.0</td>\n",
       "      <td>0.0</td>\n",
       "      <td>0.0</td>\n",
       "      <td>108.0</td>\n",
       "      <td>0.0</td>\n",
       "      <td>0.0</td>\n",
       "      <td>6</td>\n",
       "      <td>300</td>\n",
       "      <td>4300.0</td>\n",
       "      <td>B</td>\n",
       "      <td>2916.20</td>\n",
       "      <td>32.2</td>\n",
       "    </tr>\n",
       "    <tr>\n",
       "      <th>1</th>\n",
       "      <td>A</td>\n",
       "      <td>2019-09</td>\n",
       "      <td>166407</td>\n",
       "      <td>2000</td>\n",
       "      <td>4000</td>\n",
       "      <td>0.1</td>\n",
       "      <td>0.3</td>\n",
       "      <td>50</td>\n",
       "      <td>0.0</td>\n",
       "      <td>0.0</td>\n",
       "      <td>0.0</td>\n",
       "      <td>0.0</td>\n",
       "      <td>384.0</td>\n",
       "      <td>115.2</td>\n",
       "      <td>6</td>\n",
       "      <td>300</td>\n",
       "      <td>4415.2</td>\n",
       "      <td>B</td>\n",
       "      <td>3092.00</td>\n",
       "      <td>30.0</td>\n",
       "    </tr>\n",
       "    <tr>\n",
       "      <th>2</th>\n",
       "      <td>A</td>\n",
       "      <td>2019-09</td>\n",
       "      <td>166541</td>\n",
       "      <td>2000</td>\n",
       "      <td>4000</td>\n",
       "      <td>0.1</td>\n",
       "      <td>0.3</td>\n",
       "      <td>50</td>\n",
       "      <td>913.0</td>\n",
       "      <td>0.0</td>\n",
       "      <td>0.0</td>\n",
       "      <td>413.0</td>\n",
       "      <td>784.0</td>\n",
       "      <td>235.2</td>\n",
       "      <td>4</td>\n",
       "      <td>200</td>\n",
       "      <td>4435.2</td>\n",
       "      <td>B</td>\n",
       "      <td>3053.95</td>\n",
       "      <td>31.1</td>\n",
       "    </tr>\n",
       "    <tr>\n",
       "      <th>3</th>\n",
       "      <td>A</td>\n",
       "      <td>2019-09</td>\n",
       "      <td>166713</td>\n",
       "      <td>2000</td>\n",
       "      <td>4000</td>\n",
       "      <td>0.1</td>\n",
       "      <td>0.3</td>\n",
       "      <td>50</td>\n",
       "      <td>41.0</td>\n",
       "      <td>0.0</td>\n",
       "      <td>0.0</td>\n",
       "      <td>0.0</td>\n",
       "      <td>0.0</td>\n",
       "      <td>0.0</td>\n",
       "      <td>2</td>\n",
       "      <td>100</td>\n",
       "      <td>4100.0</td>\n",
       "      <td>B</td>\n",
       "      <td>2300.00</td>\n",
       "      <td>43.9</td>\n",
       "    </tr>\n",
       "    <tr>\n",
       "      <th>4</th>\n",
       "      <td>A</td>\n",
       "      <td>2019-09</td>\n",
       "      <td>166879</td>\n",
       "      <td>2000</td>\n",
       "      <td>4000</td>\n",
       "      <td>0.1</td>\n",
       "      <td>0.3</td>\n",
       "      <td>50</td>\n",
       "      <td>262.0</td>\n",
       "      <td>0.0</td>\n",
       "      <td>0.0</td>\n",
       "      <td>0.0</td>\n",
       "      <td>0.0</td>\n",
       "      <td>0.0</td>\n",
       "      <td>3</td>\n",
       "      <td>150</td>\n",
       "      <td>4150.0</td>\n",
       "      <td>B</td>\n",
       "      <td>2450.00</td>\n",
       "      <td>41.0</td>\n",
       "    </tr>\n",
       "  </tbody>\n",
       "</table>\n",
       "</div>"
      ],
      "text/plain": [
       "  tariff_plan    month  user_id  out_call_min  month_pay  over_limit_cost  \\\n",
       "0           A  2019-09   166407          2000       4000              0.1   \n",
       "1           A  2019-09   166407          2000       4000              0.1   \n",
       "2           A  2019-09   166541          2000       4000              0.1   \n",
       "3           A  2019-09   166713          2000       4000              0.1   \n",
       "4           A  2019-09   166879          2000       4000              0.1   \n",
       "\n",
       "   out_call_cost  add_pay  total_min_x  over_pay  over_a  over_b  total_min_y  \\\n",
       "0            0.3       50        608.0       0.0     0.0   108.0          0.0   \n",
       "1            0.3       50          0.0       0.0     0.0     0.0        384.0   \n",
       "2            0.3       50        913.0       0.0     0.0   413.0        784.0   \n",
       "3            0.3       50         41.0       0.0     0.0     0.0          0.0   \n",
       "4            0.3       50        262.0       0.0     0.0     0.0          0.0   \n",
       "\n",
       "   price  oper_total  oper_price  month_pay_total new_tariff  \\\n",
       "0    0.0           6         300           4300.0          B   \n",
       "1  115.2           6         300           4415.2          B   \n",
       "2  235.2           4         200           4435.2          B   \n",
       "3    0.0           2         100           4100.0          B   \n",
       "4    0.0           3         150           4150.0          B   \n",
       "\n",
       "   new_month_pay_total  percent_diff  \n",
       "0              2916.20          32.2  \n",
       "1              3092.00          30.0  \n",
       "2              3053.95          31.1  \n",
       "3              2300.00          43.9  \n",
       "4              2450.00          41.0  "
      ]
     },
     "execution_count": 94,
     "metadata": {},
     "output_type": "execute_result"
    }
   ],
   "source": [
    "merge_out.head()"
   ]
  },
  {
   "cell_type": "markdown",
   "id": "16977902-bc8f-45b4-ac1b-799bcf3b69c3",
   "metadata": {},
   "source": [
    "**Таблица с учетом нового тарифа**"
   ]
  },
  {
   "cell_type": "code",
   "execution_count": 95,
   "id": "24b2b7c5-4343-4626-9c89-2b78bbb9e29a",
   "metadata": {},
   "outputs": [],
   "source": [
    "plot_revenue = merge_out.sort_values(by='month')"
   ]
  },
  {
   "cell_type": "markdown",
   "id": "5d0ed87f-cbe0-4117-92dc-420ad5ed9f19",
   "metadata": {},
   "source": [
    "**Итоговая таблица со всеми клиентами и столбцом выручки с учетом нового тарифа**"
   ]
  },
  {
   "cell_type": "code",
   "execution_count": 96,
   "id": "9208c13e-ab05-42d5-b94f-be81e1aa65c3",
   "metadata": {},
   "outputs": [
    {
     "data": {
      "text/html": [
       "<div>\n",
       "<style scoped>\n",
       "    .dataframe tbody tr th:only-of-type {\n",
       "        vertical-align: middle;\n",
       "    }\n",
       "\n",
       "    .dataframe tbody tr th {\n",
       "        vertical-align: top;\n",
       "    }\n",
       "\n",
       "    .dataframe thead th {\n",
       "        text-align: right;\n",
       "    }\n",
       "</style>\n",
       "<table border=\"1\" class=\"dataframe\">\n",
       "  <thead>\n",
       "    <tr style=\"text-align: right;\">\n",
       "      <th></th>\n",
       "      <th>tariff_plan</th>\n",
       "      <th>month</th>\n",
       "      <th>user_id</th>\n",
       "      <th>out_call_min</th>\n",
       "      <th>month_pay</th>\n",
       "      <th>over_limit_cost</th>\n",
       "      <th>out_call_cost</th>\n",
       "      <th>add_pay</th>\n",
       "      <th>total_min_x</th>\n",
       "      <th>over_pay</th>\n",
       "      <th>over_a</th>\n",
       "      <th>over_b</th>\n",
       "      <th>total_min_y</th>\n",
       "      <th>price</th>\n",
       "      <th>oper_total</th>\n",
       "      <th>oper_price</th>\n",
       "      <th>month_pay_total</th>\n",
       "      <th>new_tariff</th>\n",
       "      <th>new_month_pay_total</th>\n",
       "      <th>percent_diff</th>\n",
       "    </tr>\n",
       "  </thead>\n",
       "  <tbody>\n",
       "    <tr>\n",
       "      <th>0</th>\n",
       "      <td>A</td>\n",
       "      <td>2019-09</td>\n",
       "      <td>166407</td>\n",
       "      <td>2000</td>\n",
       "      <td>4000</td>\n",
       "      <td>0.10</td>\n",
       "      <td>0.3</td>\n",
       "      <td>50</td>\n",
       "      <td>608.0</td>\n",
       "      <td>0.0</td>\n",
       "      <td>0.0</td>\n",
       "      <td>108.0</td>\n",
       "      <td>0.0</td>\n",
       "      <td>0.0</td>\n",
       "      <td>6</td>\n",
       "      <td>300</td>\n",
       "      <td>4300.0</td>\n",
       "      <td>B</td>\n",
       "      <td>2916.2</td>\n",
       "      <td>32.2</td>\n",
       "    </tr>\n",
       "    <tr>\n",
       "      <th>149</th>\n",
       "      <td>B</td>\n",
       "      <td>2019-09</td>\n",
       "      <td>167338</td>\n",
       "      <td>500</td>\n",
       "      <td>2000</td>\n",
       "      <td>0.15</td>\n",
       "      <td>0.5</td>\n",
       "      <td>150</td>\n",
       "      <td>0.0</td>\n",
       "      <td>0.0</td>\n",
       "      <td>0.0</td>\n",
       "      <td>0.0</td>\n",
       "      <td>36.0</td>\n",
       "      <td>18.0</td>\n",
       "      <td>1</td>\n",
       "      <td>150</td>\n",
       "      <td>2168.0</td>\n",
       "      <td>C</td>\n",
       "      <td>1325.2</td>\n",
       "      <td>38.9</td>\n",
       "    </tr>\n",
       "    <tr>\n",
       "      <th>148</th>\n",
       "      <td>B</td>\n",
       "      <td>2019-09</td>\n",
       "      <td>167275</td>\n",
       "      <td>500</td>\n",
       "      <td>2000</td>\n",
       "      <td>0.15</td>\n",
       "      <td>0.5</td>\n",
       "      <td>150</td>\n",
       "      <td>0.0</td>\n",
       "      <td>0.0</td>\n",
       "      <td>0.0</td>\n",
       "      <td>0.0</td>\n",
       "      <td>166.0</td>\n",
       "      <td>83.0</td>\n",
       "      <td>1</td>\n",
       "      <td>150</td>\n",
       "      <td>2233.0</td>\n",
       "      <td>C</td>\n",
       "      <td>1416.2</td>\n",
       "      <td>36.6</td>\n",
       "    </tr>\n",
       "    <tr>\n",
       "      <th>147</th>\n",
       "      <td>B</td>\n",
       "      <td>2019-09</td>\n",
       "      <td>167264</td>\n",
       "      <td>500</td>\n",
       "      <td>2000</td>\n",
       "      <td>0.15</td>\n",
       "      <td>0.5</td>\n",
       "      <td>150</td>\n",
       "      <td>0.0</td>\n",
       "      <td>0.0</td>\n",
       "      <td>0.0</td>\n",
       "      <td>0.0</td>\n",
       "      <td>12.0</td>\n",
       "      <td>6.0</td>\n",
       "      <td>2</td>\n",
       "      <td>300</td>\n",
       "      <td>2306.0</td>\n",
       "      <td>C</td>\n",
       "      <td>1608.4</td>\n",
       "      <td>30.3</td>\n",
       "    </tr>\n",
       "    <tr>\n",
       "      <th>146</th>\n",
       "      <td>B</td>\n",
       "      <td>2019-09</td>\n",
       "      <td>167176</td>\n",
       "      <td>500</td>\n",
       "      <td>2000</td>\n",
       "      <td>0.15</td>\n",
       "      <td>0.5</td>\n",
       "      <td>150</td>\n",
       "      <td>0.0</td>\n",
       "      <td>0.0</td>\n",
       "      <td>0.0</td>\n",
       "      <td>0.0</td>\n",
       "      <td>401.0</td>\n",
       "      <td>200.5</td>\n",
       "      <td>14</td>\n",
       "      <td>2100</td>\n",
       "      <td>4300.5</td>\n",
       "      <td>same</td>\n",
       "      <td>4300.5</td>\n",
       "      <td>0.0</td>\n",
       "    </tr>\n",
       "  </tbody>\n",
       "</table>\n",
       "</div>"
      ],
      "text/plain": [
       "    tariff_plan    month  user_id  out_call_min  month_pay  over_limit_cost  \\\n",
       "0             A  2019-09   166407          2000       4000             0.10   \n",
       "149           B  2019-09   167338           500       2000             0.15   \n",
       "148           B  2019-09   167275           500       2000             0.15   \n",
       "147           B  2019-09   167264           500       2000             0.15   \n",
       "146           B  2019-09   167176           500       2000             0.15   \n",
       "\n",
       "     out_call_cost  add_pay  total_min_x  over_pay  over_a  over_b  \\\n",
       "0              0.3       50        608.0       0.0     0.0   108.0   \n",
       "149            0.5      150          0.0       0.0     0.0     0.0   \n",
       "148            0.5      150          0.0       0.0     0.0     0.0   \n",
       "147            0.5      150          0.0       0.0     0.0     0.0   \n",
       "146            0.5      150          0.0       0.0     0.0     0.0   \n",
       "\n",
       "     total_min_y  price  oper_total  oper_price  month_pay_total new_tariff  \\\n",
       "0            0.0    0.0           6         300           4300.0          B   \n",
       "149         36.0   18.0           1         150           2168.0          C   \n",
       "148        166.0   83.0           1         150           2233.0          C   \n",
       "147         12.0    6.0           2         300           2306.0          C   \n",
       "146        401.0  200.5          14        2100           4300.5       same   \n",
       "\n",
       "     new_month_pay_total  percent_diff  \n",
       "0                 2916.2          32.2  \n",
       "149               1325.2          38.9  \n",
       "148               1416.2          36.6  \n",
       "147               1608.4          30.3  \n",
       "146               4300.5           0.0  "
      ]
     },
     "execution_count": 96,
     "metadata": {},
     "output_type": "execute_result"
    }
   ],
   "source": [
    "plot_revenue.head()"
   ]
  },
  {
   "cell_type": "markdown",
   "id": "27fdb249-c4d8-4ba8-ba0a-9225d2c23200",
   "metadata": {},
   "source": [
    "Смотрим помесячную выручку на старом и новом тарифе"
   ]
  },
  {
   "cell_type": "code",
   "execution_count": 97,
   "id": "7536048c-365a-4e07-9a7a-b7a939d5b373",
   "metadata": {},
   "outputs": [],
   "source": [
    "group_plot = (plot_revenue.groupby('month')\n",
    "              .agg(month_pay_total=('month_pay_total', 'sum'), new_month_pay_total=('new_month_pay_total', 'sum')).reset_index())"
   ]
  },
  {
   "cell_type": "code",
   "execution_count": 98,
   "id": "c0ae929c-6473-4fb2-9ea5-d03ccae9aaaf",
   "metadata": {},
   "outputs": [
    {
     "data": {
      "text/html": [
       "<div>\n",
       "<style scoped>\n",
       "    .dataframe tbody tr th:only-of-type {\n",
       "        vertical-align: middle;\n",
       "    }\n",
       "\n",
       "    .dataframe tbody tr th {\n",
       "        vertical-align: top;\n",
       "    }\n",
       "\n",
       "    .dataframe thead th {\n",
       "        text-align: right;\n",
       "    }\n",
       "</style>\n",
       "<table border=\"1\" class=\"dataframe\">\n",
       "  <thead>\n",
       "    <tr style=\"text-align: right;\">\n",
       "      <th></th>\n",
       "      <th>month</th>\n",
       "      <th>month_pay_total</th>\n",
       "      <th>new_month_pay_total</th>\n",
       "    </tr>\n",
       "  </thead>\n",
       "  <tbody>\n",
       "    <tr>\n",
       "      <th>0</th>\n",
       "      <td>2019-09</td>\n",
       "      <td>329439.80</td>\n",
       "      <td>280549.25</td>\n",
       "    </tr>\n",
       "    <tr>\n",
       "      <th>1</th>\n",
       "      <td>2019-10</td>\n",
       "      <td>408119.45</td>\n",
       "      <td>361920.50</td>\n",
       "    </tr>\n",
       "    <tr>\n",
       "      <th>2</th>\n",
       "      <td>2019-11</td>\n",
       "      <td>409244.15</td>\n",
       "      <td>361546.85</td>\n",
       "    </tr>\n",
       "  </tbody>\n",
       "</table>\n",
       "</div>"
      ],
      "text/plain": [
       "     month  month_pay_total  new_month_pay_total\n",
       "0  2019-09        329439.80            280549.25\n",
       "1  2019-10        408119.45            361920.50\n",
       "2  2019-11        409244.15            361546.85"
      ]
     },
     "execution_count": 98,
     "metadata": {},
     "output_type": "execute_result"
    }
   ],
   "source": [
    "group_plot"
   ]
  },
  {
   "cell_type": "markdown",
   "id": "4355570c-cab0-4b30-b485-ff335da31cba",
   "metadata": {},
   "source": [
    "Добавляем столбец с процентной разницой выручки по старому тарифу"
   ]
  },
  {
   "cell_type": "code",
   "execution_count": 99,
   "id": "6bd521bd-0b5f-49ff-9302-bc467ce958da",
   "metadata": {},
   "outputs": [],
   "source": [
    "group_plot['percent_diff'] =  (group_plot.month_pay_total.pct_change() * 100)"
   ]
  },
  {
   "cell_type": "code",
   "execution_count": 100,
   "id": "d015b39f-8b52-4c83-8aaf-90e210db88f1",
   "metadata": {},
   "outputs": [
    {
     "data": {
      "text/html": [
       "<div>\n",
       "<style scoped>\n",
       "    .dataframe tbody tr th:only-of-type {\n",
       "        vertical-align: middle;\n",
       "    }\n",
       "\n",
       "    .dataframe tbody tr th {\n",
       "        vertical-align: top;\n",
       "    }\n",
       "\n",
       "    .dataframe thead th {\n",
       "        text-align: right;\n",
       "    }\n",
       "</style>\n",
       "<table border=\"1\" class=\"dataframe\">\n",
       "  <thead>\n",
       "    <tr style=\"text-align: right;\">\n",
       "      <th></th>\n",
       "      <th>month</th>\n",
       "      <th>month_pay_total</th>\n",
       "      <th>new_month_pay_total</th>\n",
       "      <th>percent_diff</th>\n",
       "    </tr>\n",
       "  </thead>\n",
       "  <tbody>\n",
       "    <tr>\n",
       "      <th>0</th>\n",
       "      <td>2019-09</td>\n",
       "      <td>329439.80</td>\n",
       "      <td>280549.25</td>\n",
       "      <td>NaN</td>\n",
       "    </tr>\n",
       "    <tr>\n",
       "      <th>1</th>\n",
       "      <td>2019-10</td>\n",
       "      <td>408119.45</td>\n",
       "      <td>361920.50</td>\n",
       "      <td>23.882861</td>\n",
       "    </tr>\n",
       "    <tr>\n",
       "      <th>2</th>\n",
       "      <td>2019-11</td>\n",
       "      <td>409244.15</td>\n",
       "      <td>361546.85</td>\n",
       "      <td>0.275581</td>\n",
       "    </tr>\n",
       "  </tbody>\n",
       "</table>\n",
       "</div>"
      ],
      "text/plain": [
       "     month  month_pay_total  new_month_pay_total  percent_diff\n",
       "0  2019-09        329439.80            280549.25           NaN\n",
       "1  2019-10        408119.45            361920.50     23.882861\n",
       "2  2019-11        409244.15            361546.85      0.275581"
      ]
     },
     "execution_count": 100,
     "metadata": {},
     "output_type": "execute_result"
    }
   ],
   "source": [
    "group_plot"
   ]
  },
  {
   "cell_type": "markdown",
   "id": "c38a5831-5b03-478e-ae62-69c4516662ee",
   "metadata": {},
   "source": [
    "**График выручки за все время с учетом старого тарифа и нового**"
   ]
  },
  {
   "cell_type": "code",
   "execution_count": 101,
   "id": "20235655-4c66-4bbe-8a9e-f731050b383f",
   "metadata": {},
   "outputs": [
    {
     "data": {
      "image/png": "[encoded data removed]",
      "text/plain": [
       "<Figure size 1000x600 with 1 Axes>"
      ]
     },
     "metadata": {},
     "output_type": "display_data"
    }
   ],
   "source": [
    "# Подготовка данных\n",
    "op = pd.DataFrame({\n",
    "    'Тип дохода': ['Старый тариф', 'Новый тариф'],\n",
    "    'Сумма': [group_plot['month_pay_total'].sum(), group_plot['new_month_pay_total'].sum()]\n",
    "})\n",
    "\n",
    "# Создаем фигуру\n",
    "plt.figure(figsize=(10, 6))\n",
    "\n",
    "# Создаем столбчатую диаграмму\n",
    "ax = sns.barplot(x='Тип дохода', y='Сумма', data=op, palette=['skyblue', '#FFB1B1'])\n",
    "\n",
    "# Добавляем значения над столбцами\n",
    "for i, v in enumerate(op['Сумма']):\n",
    "    ax.text(i, v, f'{v:,.0f}', ha='center', va='bottom', fontweight='bold')\n",
    "\n",
    "\n",
    "# Настройка графика\n",
    "plt.title('График выручки за все время с учетом старого тарифа и нового', fontsize=16)\n",
    "plt.xlabel('Тариф', fontsize=12)\n",
    "plt.ylabel('Выручка', fontsize=12)\n",
    "\n",
    "# Форматирование оси Y для больших чисел\n",
    "ax.yaxis.set_major_formatter(plt.FuncFormatter(lambda x, p: format(int(x), ',')))\n",
    "\n",
    "# Отображение графика\n",
    "plt.tight_layout()\n",
    "plt.show()"
   ]
  },
  {
   "cell_type": "markdown",
   "id": "a031c814-e91c-498c-a683-2283fe733d00",
   "metadata": {},
   "source": [
    "Разница в выручке 12 процентов "
   ]
  },
  {
   "cell_type": "code",
   "execution_count": 102,
   "id": "49aae989-ec9e-4fdf-bbcd-498d1033a7c4",
   "metadata": {},
   "outputs": [
    {
     "data": {
      "text/plain": [
       "12.450852517528311"
      ]
     },
     "execution_count": 102,
     "metadata": {},
     "output_type": "execute_result"
    }
   ],
   "source": [
    "abs((group_plot['new_month_pay_total'].sum() - group_plot['month_pay_total'].sum()) / group_plot['month_pay_total'].sum() * 100)"
   ]
  },
  {
   "cell_type": "markdown",
   "id": "fa322165-6826-46ed-9777-2db4804dbe9e",
   "metadata": {},
   "source": [
    "**Строим график выручки по месяцам**"
   ]
  },
  {
   "cell_type": "markdown",
   "id": "ec4b018f-c156-4a86-9077-3baa5d7e810e",
   "metadata": {},
   "source": [
    "Меняем тип данных, так как иначе график не строится. "
   ]
  },
  {
   "cell_type": "code",
   "execution_count": 103,
   "id": "0842af5c-59c3-4fb6-b141-a5b8132c6400",
   "metadata": {},
   "outputs": [],
   "source": [
    "group_plot['month'] = group_plot['month'].astype(str)"
   ]
  },
  {
   "cell_type": "code",
   "execution_count": 104,
   "id": "e65b80cf-ee23-4c08-9081-5b04906d41de",
   "metadata": {},
   "outputs": [
    {
     "data": {
      "image/png": "[encoded data removed]",
      "text/plain": [
       "<Figure size 1000x600 with 1 Axes>"
      ]
     },
     "metadata": {},
     "output_type": "display_data"
    }
   ],
   "source": [
    "plt.figure(figsize=(10, 6))\n",
    "sns.lineplot(x='month', y='month_pay_total', data=group_plot)\n",
    "\n",
    "plt.title('График выручки по месяцам без изменения тарифа')\n",
    "plt.xlabel('Месяц')\n",
    "plt.ylabel('Выручка')\n",
    "plt.grid(True)\n",
    "plt.show()"
   ]
  },
  {
   "cell_type": "markdown",
   "id": "83bbde52-ab9e-446d-a415-2ddf27472093",
   "metadata": {},
   "source": [
    "На графике видно как выручка растет на 23 процента и достигает пика на 10 месяце, потом выручка стабилизируется и идет ровно."
   ]
  },
  {
   "cell_type": "markdown",
   "id": "01ba2880-09e9-4954-aa6c-3839e2e9586c",
   "metadata": {},
   "source": [
    "Подготавливаем данные, чтобы показать, сколько будет упущено выручки на клиентах, которым предложен новый тариф."
   ]
  },
  {
   "cell_type": "code",
   "execution_count": 105,
   "id": "5247fb05-603e-49c3-98ea-8a3a620fdabe",
   "metadata": {},
   "outputs": [],
   "source": [
    "not_same = merge_out.query('new_tariff != \"same\"')"
   ]
  },
  {
   "cell_type": "code",
   "execution_count": 106,
   "id": "c9eb72af-7270-4333-a74c-3813de375e98",
   "metadata": {},
   "outputs": [
    {
     "data": {
      "text/html": [
       "<div>\n",
       "<style scoped>\n",
       "    .dataframe tbody tr th:only-of-type {\n",
       "        vertical-align: middle;\n",
       "    }\n",
       "\n",
       "    .dataframe tbody tr th {\n",
       "        vertical-align: top;\n",
       "    }\n",
       "\n",
       "    .dataframe thead th {\n",
       "        text-align: right;\n",
       "    }\n",
       "</style>\n",
       "<table border=\"1\" class=\"dataframe\">\n",
       "  <thead>\n",
       "    <tr style=\"text-align: right;\">\n",
       "      <th></th>\n",
       "      <th>tariff_plan</th>\n",
       "      <th>month</th>\n",
       "      <th>user_id</th>\n",
       "      <th>out_call_min</th>\n",
       "      <th>month_pay</th>\n",
       "      <th>over_limit_cost</th>\n",
       "      <th>out_call_cost</th>\n",
       "      <th>add_pay</th>\n",
       "      <th>total_min_x</th>\n",
       "      <th>over_pay</th>\n",
       "      <th>over_a</th>\n",
       "      <th>over_b</th>\n",
       "      <th>total_min_y</th>\n",
       "      <th>price</th>\n",
       "      <th>oper_total</th>\n",
       "      <th>oper_price</th>\n",
       "      <th>month_pay_total</th>\n",
       "      <th>new_tariff</th>\n",
       "      <th>new_month_pay_total</th>\n",
       "      <th>percent_diff</th>\n",
       "    </tr>\n",
       "  </thead>\n",
       "  <tbody>\n",
       "    <tr>\n",
       "      <th>0</th>\n",
       "      <td>A</td>\n",
       "      <td>2019-09</td>\n",
       "      <td>166407</td>\n",
       "      <td>2000</td>\n",
       "      <td>4000</td>\n",
       "      <td>0.1</td>\n",
       "      <td>0.3</td>\n",
       "      <td>50</td>\n",
       "      <td>608.0</td>\n",
       "      <td>0.0</td>\n",
       "      <td>0.0</td>\n",
       "      <td>108.0</td>\n",
       "      <td>0.0</td>\n",
       "      <td>0.0</td>\n",
       "      <td>6</td>\n",
       "      <td>300</td>\n",
       "      <td>4300.0</td>\n",
       "      <td>B</td>\n",
       "      <td>2916.20</td>\n",
       "      <td>32.2</td>\n",
       "    </tr>\n",
       "    <tr>\n",
       "      <th>1</th>\n",
       "      <td>A</td>\n",
       "      <td>2019-09</td>\n",
       "      <td>166407</td>\n",
       "      <td>2000</td>\n",
       "      <td>4000</td>\n",
       "      <td>0.1</td>\n",
       "      <td>0.3</td>\n",
       "      <td>50</td>\n",
       "      <td>0.0</td>\n",
       "      <td>0.0</td>\n",
       "      <td>0.0</td>\n",
       "      <td>0.0</td>\n",
       "      <td>384.0</td>\n",
       "      <td>115.2</td>\n",
       "      <td>6</td>\n",
       "      <td>300</td>\n",
       "      <td>4415.2</td>\n",
       "      <td>B</td>\n",
       "      <td>3092.00</td>\n",
       "      <td>30.0</td>\n",
       "    </tr>\n",
       "    <tr>\n",
       "      <th>2</th>\n",
       "      <td>A</td>\n",
       "      <td>2019-09</td>\n",
       "      <td>166541</td>\n",
       "      <td>2000</td>\n",
       "      <td>4000</td>\n",
       "      <td>0.1</td>\n",
       "      <td>0.3</td>\n",
       "      <td>50</td>\n",
       "      <td>913.0</td>\n",
       "      <td>0.0</td>\n",
       "      <td>0.0</td>\n",
       "      <td>413.0</td>\n",
       "      <td>784.0</td>\n",
       "      <td>235.2</td>\n",
       "      <td>4</td>\n",
       "      <td>200</td>\n",
       "      <td>4435.2</td>\n",
       "      <td>B</td>\n",
       "      <td>3053.95</td>\n",
       "      <td>31.1</td>\n",
       "    </tr>\n",
       "    <tr>\n",
       "      <th>3</th>\n",
       "      <td>A</td>\n",
       "      <td>2019-09</td>\n",
       "      <td>166713</td>\n",
       "      <td>2000</td>\n",
       "      <td>4000</td>\n",
       "      <td>0.1</td>\n",
       "      <td>0.3</td>\n",
       "      <td>50</td>\n",
       "      <td>41.0</td>\n",
       "      <td>0.0</td>\n",
       "      <td>0.0</td>\n",
       "      <td>0.0</td>\n",
       "      <td>0.0</td>\n",
       "      <td>0.0</td>\n",
       "      <td>2</td>\n",
       "      <td>100</td>\n",
       "      <td>4100.0</td>\n",
       "      <td>B</td>\n",
       "      <td>2300.00</td>\n",
       "      <td>43.9</td>\n",
       "    </tr>\n",
       "    <tr>\n",
       "      <th>4</th>\n",
       "      <td>A</td>\n",
       "      <td>2019-09</td>\n",
       "      <td>166879</td>\n",
       "      <td>2000</td>\n",
       "      <td>4000</td>\n",
       "      <td>0.1</td>\n",
       "      <td>0.3</td>\n",
       "      <td>50</td>\n",
       "      <td>262.0</td>\n",
       "      <td>0.0</td>\n",
       "      <td>0.0</td>\n",
       "      <td>0.0</td>\n",
       "      <td>0.0</td>\n",
       "      <td>0.0</td>\n",
       "      <td>3</td>\n",
       "      <td>150</td>\n",
       "      <td>4150.0</td>\n",
       "      <td>B</td>\n",
       "      <td>2450.00</td>\n",
       "      <td>41.0</td>\n",
       "    </tr>\n",
       "  </tbody>\n",
       "</table>\n",
       "</div>"
      ],
      "text/plain": [
       "  tariff_plan    month  user_id  out_call_min  month_pay  over_limit_cost  \\\n",
       "0           A  2019-09   166407          2000       4000              0.1   \n",
       "1           A  2019-09   166407          2000       4000              0.1   \n",
       "2           A  2019-09   166541          2000       4000              0.1   \n",
       "3           A  2019-09   166713          2000       4000              0.1   \n",
       "4           A  2019-09   166879          2000       4000              0.1   \n",
       "\n",
       "   out_call_cost  add_pay  total_min_x  over_pay  over_a  over_b  total_min_y  \\\n",
       "0            0.3       50        608.0       0.0     0.0   108.0          0.0   \n",
       "1            0.3       50          0.0       0.0     0.0     0.0        384.0   \n",
       "2            0.3       50        913.0       0.0     0.0   413.0        784.0   \n",
       "3            0.3       50         41.0       0.0     0.0     0.0          0.0   \n",
       "4            0.3       50        262.0       0.0     0.0     0.0          0.0   \n",
       "\n",
       "   price  oper_total  oper_price  month_pay_total new_tariff  \\\n",
       "0    0.0           6         300           4300.0          B   \n",
       "1  115.2           6         300           4415.2          B   \n",
       "2  235.2           4         200           4435.2          B   \n",
       "3    0.0           2         100           4100.0          B   \n",
       "4    0.0           3         150           4150.0          B   \n",
       "\n",
       "   new_month_pay_total  percent_diff  \n",
       "0              2916.20          32.2  \n",
       "1              3092.00          30.0  \n",
       "2              3053.95          31.1  \n",
       "3              2300.00          43.9  \n",
       "4              2450.00          41.0  "
      ]
     },
     "execution_count": 106,
     "metadata": {},
     "output_type": "execute_result"
    }
   ],
   "source": [
    "not_same.head()"
   ]
  },
  {
   "cell_type": "code",
   "execution_count": 107,
   "id": "6824f03c-244e-4bbd-b5de-99e8c9a19652",
   "metadata": {},
   "outputs": [
    {
     "data": {
      "image/png": "[encoded data removed]",
      "text/plain": [
       "<Figure size 1000x600 with 1 Axes>"
      ]
     },
     "metadata": {},
     "output_type": "display_data"
    }
   ],
   "source": [
    "# Подготовка данных\n",
    "op_1 = pd.DataFrame({\n",
    "    'Тип дохода': ['Старый тариф', 'Новый тариф'],\n",
    "    'Сумма': [not_same['month_pay_total'].sum(), not_same['new_month_pay_total'].sum()]\n",
    "})\n",
    "\n",
    "# Создаем фигуру\n",
    "plt.figure(figsize=(10, 6))\n",
    "\n",
    "# Создаем столбчатую диаграмму\n",
    "ax = sns.barplot(x='Тип дохода', y='Сумма', data=op_1, palette=['skyblue', '#FFB1B1'])\n",
    "\n",
    "# Добавляем значения над столбцами\n",
    "for i, v in enumerate(op_1['Сумма']):\n",
    "    ax.text(i, v, f'{v:,.0f}', ha='center', va='bottom', fontweight='bold')\n",
    "\n",
    "\n",
    "# Настройка графика\n",
    "plt.title('График выручки, только с клиентов, которым был предложен новый тариф', fontsize=16)\n",
    "plt.xlabel('Тариф', fontsize=12)\n",
    "plt.ylabel('Выручка', fontsize=12)\n",
    "\n",
    "# Форматирование оси Y для больших чисел\n",
    "ax.yaxis.set_major_formatter(plt.FuncFormatter(lambda x, p: format(int(x), ',')))\n",
    "\n",
    "# Отображение графика\n",
    "plt.tight_layout()\n",
    "plt.show()"
   ]
  },
  {
   "cell_type": "code",
   "execution_count": 108,
   "id": "de26e98f-f3a3-4e44-b869-4fd630e334bf",
   "metadata": {},
   "outputs": [
    {
     "data": {
      "text/plain": [
       "19.343645208002012"
      ]
     },
     "execution_count": 108,
     "metadata": {},
     "output_type": "execute_result"
    }
   ],
   "source": [
    "abs((not_same['new_month_pay_total'].sum() - not_same['month_pay_total'].sum()) / not_same['month_pay_total'].sum() * 100)"
   ]
  },
  {
   "cell_type": "markdown",
   "id": "90eaa60e-7b1f-4c54-9083-0ec1c6cde963",
   "metadata": {},
   "source": [
    "Потери в выручки с клиентов, которые перешли на новый тариф составит 19 процентов."
   ]
  },
  {
   "cell_type": "markdown",
   "id": "401f849a-691b-4485-8461-f8ea7b7d3deb",
   "metadata": {},
   "source": [
    "При этом в среднем клиент, который перешел на новый тариф будет экономить 20 процентов."
   ]
  },
  {
   "cell_type": "code",
   "execution_count": 109,
   "id": "1ce7d9bf-05e8-43b5-aa59-3d9aaba16eef",
   "metadata": {},
   "outputs": [
    {
     "data": {
      "text/plain": [
       "20.115882352941174"
      ]
     },
     "execution_count": 109,
     "metadata": {},
     "output_type": "execute_result"
    }
   ],
   "source": [
    "not_same['percent_diff'].mean()"
   ]
  },
  {
   "cell_type": "markdown",
   "id": "e3e151dc-d581-45c7-9046-ad618485bd24",
   "metadata": {},
   "source": [
    "## Проверка статистических гипотез"
   ]
  },
  {
   "cell_type": "markdown",
   "id": "2db2bef1-17d2-4e63-b0ed-2b49039eb2bd",
   "metadata": {},
   "source": [
    "Подготавливаем данные"
   ]
  },
  {
   "cell_type": "code",
   "execution_count": 110,
   "id": "00d11cd0-9c6d-40f9-9350-1cca5c50a3df",
   "metadata": {},
   "outputs": [],
   "source": [
    "merge_out['total_min_x_y'] = merge_out['total_min_x'] +  merge_out['total_min_y']"
   ]
  },
  {
   "cell_type": "code",
   "execution_count": 111,
   "id": "249c0bb4-7515-4d23-b7ee-bc20f24298d8",
   "metadata": {},
   "outputs": [],
   "source": [
    "tariff_a = plot_revenue[plot_revenue['tariff_plan'] == 'A']['month_pay_total']\n",
    "tariff_b = plot_revenue[plot_revenue['tariff_plan'] == 'B']['month_pay_total']\n"
   ]
  },
  {
   "cell_type": "markdown",
   "id": "3a584a0d-0b7e-4ac6-ad8a-0031eab37f6b",
   "metadata": {},
   "source": [
    "Смотрим как распределены величины"
   ]
  },
  {
   "cell_type": "code",
   "execution_count": 112,
   "id": "d52ce5e9-4877-4d84-b795-a056d41f29b9",
   "metadata": {},
   "outputs": [
    {
     "data": {
      "text/plain": [
       "<AxesSubplot:>"
      ]
     },
     "execution_count": 112,
     "metadata": {},
     "output_type": "execute_result"
    },
    {
     "data": {
      "image/png": "[encoded data removed]",
      "text/plain": [
       "<Figure size 640x480 with 1 Axes>"
      ]
     },
     "metadata": {},
     "output_type": "display_data"
    }
   ],
   "source": [
    "merge_out['total_min_x_y'].hist()"
   ]
  },
  {
   "cell_type": "code",
   "execution_count": 113,
   "id": "a9e60d38-1c60-488f-b0ef-64b97e372855",
   "metadata": {},
   "outputs": [
    {
     "data": {
      "text/plain": [
       "<AxesSubplot:>"
      ]
     },
     "execution_count": 113,
     "metadata": {},
     "output_type": "execute_result"
    },
    {
     "data": {
      "image/png": "[encoded data removed]",
      "text/plain": [
       "<Figure size 640x480 with 1 Axes>"
      ]
     },
     "metadata": {},
     "output_type": "display_data"
    }
   ],
   "source": [
    "plot_revenue['month_pay_total'].hist()"
   ]
  },
  {
   "cell_type": "markdown",
   "id": "787aed2b-2fd4-4351-8ca4-d1441a4a250e",
   "metadata": {},
   "source": [
    "Видно что данные распределены ненормально, поэтому вибираем тест Манна-Уитни."
   ]
  },
  {
   "cell_type": "markdown",
   "id": "e8230038-a537-4b4c-ab6d-ec09d9dd04ca",
   "metadata": {},
   "source": [
    "Различаются ли средние чеки клиентов на тарифах A и B?\n",
    "\n",
    "H0 = среднии чеки клиентов на тарифах A и B не различаются; H1 = средние чеки клиентов на тарифах A и B различаются."
   ]
  },
  {
   "cell_type": "markdown",
   "id": "1296a587-b488-4796-8e56-95b0c7086a83",
   "metadata": {},
   "source": [
    " Проведем тест Манна-Уитни."
   ]
  },
  {
   "cell_type": "code",
   "execution_count": 114,
   "id": "299a3bac-1878-44e7-97e2-9cbc64a8ae19",
   "metadata": {},
   "outputs": [
    {
     "name": "stdout",
     "output_type": "stream",
     "text": [
      "Статистика: 4136.5\n",
      "P-значение: 3.851750193320598e-09\n",
      "Отвергаем нулевую гипотезу.\n",
      "Есть статистически значимое различие между средними чеками клиентов на тарифах A и B.\n"
     ]
    }
   ],
   "source": [
    "\n",
    "\n",
    "statistic, p_value = stats.mannwhitneyu(tariff_a, tariff_b)\n",
    "\n",
    "\n",
    "print(f\"Статистика: {statistic}\")\n",
    "print(f\"P-значение: {p_value}\")\n",
    "\n",
    "\n",
    "alpha = 0.05\n",
    "\n",
    "\n",
    "if p_value < alpha:\n",
    "    print(\"Отвергаем нулевую гипотезу.\")\n",
    "    print(\"Есть статистически значимое различие между средними чеками клиентов на тарифах A и B.\")\n",
    "else:\n",
    "    print(\"Не отвергаем нулевую гипотезу.\")\n",
    "    print(\"Нет статистически значимого различия между средними чеками клиентов на тарифах A и B.\")"
   ]
  },
  {
   "cell_type": "markdown",
   "id": "fda59f4c-b193-4b03-b52d-07bebd4314b7",
   "metadata": {},
   "source": [
    " Проведем тест Манна-Уитни."
   ]
  },
  {
   "cell_type": "markdown",
   "id": "44f07f93-6e12-44f1-b251-ad3736d64a6c",
   "metadata": {},
   "source": [
    "Различается ли средняя продолжительность общего времени исходящего звонка  у клиентов в зависимости от тарифов A и B?\n",
    "\n",
    "H0 = средняя продолжительность общего времени исходящего звонка у клиентов тарифов A и B не различаются;\n",
    "\n",
    "H1 = средняя продолжительность общего времени исходящего звонка у клиентов тарифов A и B различаются."
   ]
  },
  {
   "cell_type": "code",
   "execution_count": 115,
   "id": "c02ede69-5a48-40d7-9f8e-730bed0474f4",
   "metadata": {},
   "outputs": [
    {
     "name": "stdout",
     "output_type": "stream",
     "text": [
      "Статистика: 2447.0\n",
      "P-значение: 0.7489788249457184\n",
      "Не отвергаем нулевую гипотезу.\n",
      "Нет статистически значимого различия между средней продолжительностью исходящего звонка между клиентами на тарифах A и B.\n"
     ]
    }
   ],
   "source": [
    "tarif_a = merge_out[merge_out['tariff_plan'] == 'A']['total_min_x_y']\n",
    "tarif_b = merge_out[merge_out['tariff_plan'] == 'B']['total_min_x_y']\n",
    "\n",
    "\n",
    "statistic, p_value = stats.mannwhitneyu(tarif_a, tarif_b)\n",
    "\n",
    "\n",
    "print(f\"Статистика: {statistic}\")\n",
    "print(f\"P-значение: {p_value}\")\n",
    "\n",
    "\n",
    "alpha = 0.05\n",
    "\n",
    "\n",
    "if p_value < alpha:\n",
    "    print(\"Отвергаем нулевую гипотезу.\")\n",
    "    print(\"Есть статистически значимое различие между средней продолжительностью исходящего звонка между клиентами на тарифах A и B.\")\n",
    "else:\n",
    "    print(\"Не отвергаем нулевую гипотезу.\")\n",
    "    print(\"Нет статистически значимого различия между средней продолжительностью исходящего звонка между клиентами на тарифах A и B.\")"
   ]
  },
  {
   "cell_type": "markdown",
   "id": "615ef054-0d67-47f9-ab89-217c9f4b6d2e",
   "metadata": {},
   "source": [
    "## Вывод"
   ]
  },
  {
   "cell_type": "markdown",
   "id": "4bb1bd86-fd90-430b-b5bf-93561d3859ea",
   "metadata": {},
   "source": [
    "В данных были обнаружены пропуски. В столбце internal пропущено 117 значений, что составляет 0,22% от общего числа. В столбце operator_id пропущено 8172 значения, или 15%. Также было выявлено 4900 дублированных строк, что составляет 9% от общего количества.\n",
    "\n",
    "Было установлено, что большинство пользователей совершают от одного до пяти звонков в день. Продолжительность звонков, включая время гудков, варьируется от 46 минут до 901 минуты.\n",
    "\n",
    "Стоит отметить, что 50% звонков остаются без ответа. В 9 и 10 месяце 7% клиентов, или 21 клиент, не совершили ни одного звонка. В 8 месяце 72% клиентов говорили 0 минут, а в 9 — 43%.\n",
    "\n",
    "На основе этих данных было решено отобрать пользователей для дальнейшего анализа. В результате в таблицу вошли 109 клиента.\n",
    "\n",
    "Также было замечено, что исходящие звонки преобладают — 54% (12395), но разница с входящими звонками не очень большая — 45% (10361).\n",
    "\n",
    "Лидируют клиенты с тарифом 'C', их 10068 или 40 процентов, потом идут клиенты с тарифом 'B', их 9207 или 37 процентов, и в конце идут клиенты с тарифом 'A', их 7261 или 23 процента.\n",
    "\n",
    "В результате была создана таблица the_end, в которой отражены клиенты, использующие неоптимальный тариф всего их 71. Из таблицы видно, что чаще всего клиентам с тарифом «B» предлагалось перейти на новый тариф.\n",
    "\n",
    "Также было проведено два статистических теста Манна-Уитни. Один из тестов выявил, что средняя продолжительность общего времени исходящего звонка у клиентов с тарифов A и B не различается. Поэтому потенциально клиенты с тарифом 'A' используют его неоптимально.\n",
    "\n",
    "В завершение хотелось бы отметить, что клиенты, переходящие на новый тариф, в среднем могут сэкономить до 20%.\n",
    "\n",
    "Также были построены графики, отражающие разницу в выручке в зависимости от того, остался клиент на старом тарифе или перешел на новый. Эта информация отображена в презентации по этой ссылке https://disk.yandex.ru/i/qLLElvxDb9YPJQ"
   ]
  },
  {
   "cell_type": "code",
   "execution_count": 116,
   "id": "13f09495-a489-4a88-9773-731102a935b7",
   "metadata": {},
   "outputs": [
    {
     "data": {
      "text/html": [
       "<div>\n",
       "<style scoped>\n",
       "    .dataframe tbody tr th:only-of-type {\n",
       "        vertical-align: middle;\n",
       "    }\n",
       "\n",
       "    .dataframe tbody tr th {\n",
       "        vertical-align: top;\n",
       "    }\n",
       "\n",
       "    .dataframe thead th {\n",
       "        text-align: right;\n",
       "    }\n",
       "</style>\n",
       "<table border=\"1\" class=\"dataframe\">\n",
       "  <thead>\n",
       "    <tr style=\"text-align: right;\">\n",
       "      <th></th>\n",
       "      <th>user_id</th>\n",
       "      <th>tariff_plan</th>\n",
       "      <th>new_tariff</th>\n",
       "    </tr>\n",
       "  </thead>\n",
       "  <tbody>\n",
       "    <tr>\n",
       "      <th>0</th>\n",
       "      <td>166879</td>\n",
       "      <td>A</td>\n",
       "      <td>B</td>\n",
       "    </tr>\n",
       "    <tr>\n",
       "      <th>1</th>\n",
       "      <td>167185</td>\n",
       "      <td>A</td>\n",
       "      <td>B</td>\n",
       "    </tr>\n",
       "    <tr>\n",
       "      <th>2</th>\n",
       "      <td>166901</td>\n",
       "      <td>A</td>\n",
       "      <td>B</td>\n",
       "    </tr>\n",
       "    <tr>\n",
       "      <th>3</th>\n",
       "      <td>166843</td>\n",
       "      <td>A</td>\n",
       "      <td>B</td>\n",
       "    </tr>\n",
       "    <tr>\n",
       "      <th>4</th>\n",
       "      <td>166725</td>\n",
       "      <td>A</td>\n",
       "      <td>B</td>\n",
       "    </tr>\n",
       "    <tr>\n",
       "      <th>...</th>\n",
       "      <td>...</td>\n",
       "      <td>...</td>\n",
       "      <td>...</td>\n",
       "    </tr>\n",
       "    <tr>\n",
       "      <th>66</th>\n",
       "      <td>167109</td>\n",
       "      <td>C</td>\n",
       "      <td>A</td>\n",
       "    </tr>\n",
       "    <tr>\n",
       "      <th>67</th>\n",
       "      <td>167150</td>\n",
       "      <td>C</td>\n",
       "      <td>B</td>\n",
       "    </tr>\n",
       "    <tr>\n",
       "      <th>68</th>\n",
       "      <td>167650</td>\n",
       "      <td>C</td>\n",
       "      <td>A</td>\n",
       "    </tr>\n",
       "    <tr>\n",
       "      <th>69</th>\n",
       "      <td>167031</td>\n",
       "      <td>C</td>\n",
       "      <td>B</td>\n",
       "    </tr>\n",
       "    <tr>\n",
       "      <th>70</th>\n",
       "      <td>167532</td>\n",
       "      <td>C</td>\n",
       "      <td>B</td>\n",
       "    </tr>\n",
       "  </tbody>\n",
       "</table>\n",
       "<p>71 rows × 3 columns</p>\n",
       "</div>"
      ],
      "text/plain": [
       "    user_id tariff_plan new_tariff\n",
       "0    166879           A          B\n",
       "1    167185           A          B\n",
       "2    166901           A          B\n",
       "3    166843           A          B\n",
       "4    166725           A          B\n",
       "..      ...         ...        ...\n",
       "66   167109           C          A\n",
       "67   167150           C          B\n",
       "68   167650           C          A\n",
       "69   167031           C          B\n",
       "70   167532           C          B\n",
       "\n",
       "[71 rows x 3 columns]"
      ]
     },
     "execution_count": 116,
     "metadata": {},
     "output_type": "execute_result"
    }
   ],
   "source": [
    "the_end"
   ]
  },
  {
   "cell_type": "code",
   "execution_count": null,
   "id": "9ac5eedd",
   "metadata": {},
   "outputs": [],
   "source": []
  }
 ],
 "metadata": {
  "ExecuteTimeLog": [
   {
    "duration": 78,
    "start_time": "2024-06-25T05:17:31.267Z"
   },
   {
    "duration": 1352,
    "start_time": "2024-06-26T14:11:57.782Z"
   },
   {
    "duration": 172,
    "start_time": "2024-06-26T14:11:59.137Z"
   },
   {
    "duration": 66,
    "start_time": "2024-06-26T14:11:59.310Z"
   },
   {
    "duration": 14,
    "start_time": "2024-06-26T14:11:59.378Z"
   },
   {
    "duration": 19,
    "start_time": "2024-06-26T14:11:59.394Z"
   },
   {
    "duration": 16,
    "start_time": "2024-06-26T14:11:59.415Z"
   },
   {
    "duration": 28,
    "start_time": "2024-06-26T14:11:59.432Z"
   },
   {
    "duration": 36,
    "start_time": "2024-06-26T14:11:59.462Z"
   },
   {
    "duration": 17,
    "start_time": "2024-06-26T14:11:59.499Z"
   },
   {
    "duration": 43,
    "start_time": "2024-06-26T14:11:59.518Z"
   },
   {
    "duration": 18,
    "start_time": "2024-06-26T14:11:59.563Z"
   },
   {
    "duration": 29,
    "start_time": "2024-06-26T14:11:59.583Z"
   },
   {
    "duration": 10,
    "start_time": "2024-06-26T14:11:59.615Z"
   },
   {
    "duration": 43,
    "start_time": "2024-06-26T14:11:59.628Z"
   },
   {
    "duration": 336,
    "start_time": "2024-06-26T14:11:59.673Z"
   },
   {
    "duration": 323,
    "start_time": "2024-06-26T14:12:00.011Z"
   },
   {
    "duration": 5,
    "start_time": "2024-06-26T14:12:00.336Z"
   },
   {
    "duration": 55,
    "start_time": "2024-06-26T14:12:00.343Z"
   },
   {
    "duration": 56,
    "start_time": "2024-06-26T14:12:00.399Z"
   },
   {
    "duration": 49,
    "start_time": "2024-06-26T14:12:00.457Z"
   },
   {
    "duration": 160,
    "start_time": "2024-06-26T14:12:00.508Z"
   },
   {
    "duration": 317,
    "start_time": "2024-06-26T14:12:00.669Z"
   },
   {
    "duration": 19,
    "start_time": "2024-06-26T14:12:00.987Z"
   },
   {
    "duration": 265,
    "start_time": "2024-06-26T14:12:01.007Z"
   },
   {
    "duration": 176,
    "start_time": "2024-06-26T14:12:01.273Z"
   },
   {
    "duration": 176,
    "start_time": "2024-06-26T14:12:01.452Z"
   },
   {
    "duration": 241,
    "start_time": "2024-06-26T14:12:01.629Z"
   },
   {
    "duration": 186,
    "start_time": "2024-06-26T14:12:01.872Z"
   },
   {
    "duration": 12,
    "start_time": "2024-06-26T14:12:02.060Z"
   },
   {
    "duration": 353,
    "start_time": "2024-06-26T14:12:02.074Z"
   },
   {
    "duration": 204,
    "start_time": "2024-06-26T14:12:02.428Z"
   },
   {
    "duration": 210,
    "start_time": "2024-06-26T14:12:02.634Z"
   },
   {
    "duration": 50,
    "start_time": "2024-06-26T14:12:02.846Z"
   },
   {
    "duration": 324,
    "start_time": "2024-06-26T14:12:02.898Z"
   },
   {
    "duration": 30,
    "start_time": "2024-06-26T14:12:03.224Z"
   },
   {
    "duration": 4,
    "start_time": "2024-06-26T14:12:03.256Z"
   },
   {
    "duration": 32,
    "start_time": "2024-06-26T14:12:03.262Z"
   },
   {
    "duration": 26,
    "start_time": "2024-06-26T14:12:03.295Z"
   },
   {
    "duration": 106,
    "start_time": "2024-06-26T14:12:03.323Z"
   },
   {
    "duration": 65,
    "start_time": "2024-06-26T14:12:03.431Z"
   },
   {
    "duration": 28,
    "start_time": "2024-06-26T14:12:03.502Z"
   },
   {
    "duration": 31,
    "start_time": "2024-06-26T14:12:03.532Z"
   },
   {
    "duration": 31,
    "start_time": "2024-06-26T14:12:03.564Z"
   },
   {
    "duration": 33,
    "start_time": "2024-06-26T14:12:03.597Z"
   },
   {
    "duration": 49,
    "start_time": "2024-06-26T14:12:03.631Z"
   },
   {
    "duration": 26,
    "start_time": "2024-06-26T14:12:03.681Z"
   },
   {
    "duration": 19,
    "start_time": "2024-06-26T14:12:03.709Z"
   },
   {
    "duration": 18,
    "start_time": "2024-06-26T14:12:03.730Z"
   },
   {
    "duration": 8,
    "start_time": "2024-06-26T14:12:03.753Z"
   },
   {
    "duration": 8,
    "start_time": "2024-06-26T14:12:03.763Z"
   },
   {
    "duration": 21,
    "start_time": "2024-06-26T14:12:03.772Z"
   },
   {
    "duration": 8,
    "start_time": "2024-06-26T14:12:03.795Z"
   },
   {
    "duration": 28,
    "start_time": "2024-06-26T14:12:03.805Z"
   },
   {
    "duration": 19,
    "start_time": "2024-06-26T14:12:03.835Z"
   },
   {
    "duration": 25,
    "start_time": "2024-06-26T14:12:03.856Z"
   },
   {
    "duration": 20,
    "start_time": "2024-06-26T14:12:03.883Z"
   },
   {
    "duration": 9,
    "start_time": "2024-06-26T14:12:03.904Z"
   },
   {
    "duration": 20,
    "start_time": "2024-06-26T14:12:03.915Z"
   },
   {
    "duration": 11,
    "start_time": "2024-06-26T14:12:03.937Z"
   },
   {
    "duration": 7,
    "start_time": "2024-06-26T14:12:03.949Z"
   },
   {
    "duration": 18,
    "start_time": "2024-06-26T14:12:03.958Z"
   },
   {
    "duration": 15,
    "start_time": "2024-06-26T14:12:03.977Z"
   },
   {
    "duration": 8,
    "start_time": "2024-06-26T14:12:03.993Z"
   },
   {
    "duration": 4,
    "start_time": "2024-06-26T14:12:04.003Z"
   },
   {
    "duration": 21,
    "start_time": "2024-06-26T14:12:04.008Z"
   },
   {
    "duration": 22,
    "start_time": "2024-06-26T14:12:04.031Z"
   },
   {
    "duration": 36,
    "start_time": "2024-06-26T14:12:04.055Z"
   },
   {
    "duration": 94,
    "start_time": "2024-06-26T14:12:04.093Z"
   },
   {
    "duration": 9,
    "start_time": "2024-06-26T14:12:04.189Z"
   },
   {
    "duration": 18,
    "start_time": "2024-06-26T14:12:04.200Z"
   },
   {
    "duration": 11,
    "start_time": "2024-06-26T14:12:04.220Z"
   },
   {
    "duration": 14,
    "start_time": "2024-06-26T14:12:04.232Z"
   },
   {
    "duration": 20,
    "start_time": "2024-06-26T14:12:04.248Z"
   },
   {
    "duration": 30,
    "start_time": "2024-06-26T14:12:04.270Z"
   },
   {
    "duration": 10,
    "start_time": "2024-06-26T14:12:04.301Z"
   },
   {
    "duration": 35,
    "start_time": "2024-06-26T14:12:04.312Z"
   },
   {
    "duration": 18,
    "start_time": "2024-06-26T14:12:04.349Z"
   },
   {
    "duration": 5,
    "start_time": "2024-06-26T14:12:04.369Z"
   },
   {
    "duration": 19,
    "start_time": "2024-06-26T14:12:04.375Z"
   },
   {
    "duration": 11,
    "start_time": "2024-06-26T14:12:04.396Z"
   },
   {
    "duration": 9,
    "start_time": "2024-06-26T14:12:04.408Z"
   },
   {
    "duration": 14,
    "start_time": "2024-06-26T14:12:04.419Z"
   },
   {
    "duration": 26,
    "start_time": "2024-06-26T14:12:04.435Z"
   },
   {
    "duration": 11,
    "start_time": "2024-06-26T14:12:04.463Z"
   },
   {
    "duration": 5,
    "start_time": "2024-06-26T14:12:04.475Z"
   },
   {
    "duration": 14,
    "start_time": "2024-06-26T14:12:04.482Z"
   },
   {
    "duration": 10,
    "start_time": "2024-06-26T14:12:04.498Z"
   },
   {
    "duration": 19,
    "start_time": "2024-06-26T14:12:04.510Z"
   },
   {
    "duration": 86,
    "start_time": "2024-06-26T14:12:04.531Z"
   },
   {
    "duration": 47,
    "start_time": "2024-06-26T14:12:04.619Z"
   },
   {
    "duration": 12,
    "start_time": "2024-06-26T14:12:04.668Z"
   },
   {
    "duration": 11,
    "start_time": "2024-06-26T14:12:04.681Z"
   },
   {
    "duration": 9,
    "start_time": "2024-06-26T14:12:04.694Z"
   },
   {
    "duration": 19,
    "start_time": "2024-06-26T14:12:04.704Z"
   },
   {
    "duration": 304,
    "start_time": "2024-06-26T14:12:04.724Z"
   },
   {
    "duration": 5,
    "start_time": "2024-06-26T14:12:05.030Z"
   },
   {
    "duration": 19,
    "start_time": "2024-06-26T14:12:05.037Z"
   },
   {
    "duration": 157,
    "start_time": "2024-06-26T14:12:05.058Z"
   },
   {
    "duration": 6,
    "start_time": "2024-06-26T14:12:05.217Z"
   },
   {
    "duration": 38,
    "start_time": "2024-06-26T14:12:05.225Z"
   },
   {
    "duration": 252,
    "start_time": "2024-06-26T14:12:05.265Z"
   },
   {
    "duration": 5,
    "start_time": "2024-06-26T14:12:05.518Z"
   },
   {
    "duration": 31,
    "start_time": "2024-06-26T14:12:05.525Z"
   },
   {
    "duration": 31,
    "start_time": "2024-06-26T14:12:05.558Z"
   },
   {
    "duration": 19,
    "start_time": "2024-06-26T14:12:05.591Z"
   },
   {
    "duration": 215,
    "start_time": "2024-06-26T14:12:05.611Z"
   },
   {
    "duration": 153,
    "start_time": "2024-06-26T14:12:05.828Z"
   },
   {
    "duration": 7,
    "start_time": "2024-06-26T14:12:05.983Z"
   },
   {
    "duration": 13,
    "start_time": "2024-06-26T14:12:05.991Z"
   },
   {
    "duration": 17,
    "start_time": "2024-06-26T14:12:06.006Z"
   },
   {
    "duration": 62,
    "start_time": "2024-06-27T11:28:47.761Z"
   }
  ],
  "kernelspec": {
   "display_name": "Python 3 (ipykernel)",
   "language": "python",
   "name": "python3"
  },
  "language_info": {
   "codemirror_mode": {
    "name": "ipython",
    "version": 3
   },
   "file_extension": ".py",
   "mimetype": "text/x-python",
   "name": "python",
   "nbconvert_exporter": "python",
   "pygments_lexer": "ipython3",
   "version": "3.9.18"
  },
  "toc": {
   "base_numbering": 1,
   "nav_menu": {},
   "number_sections": true,
   "sideBar": true,
   "skip_h1_title": true,
   "title_cell": "Table of Contents",
   "title_sidebar": "Contents",
   "toc_cell": false,
   "toc_position": {},
   "toc_section_display": true,
   "toc_window_display": false
  }
 },
 "nbformat": 4,
 "nbformat_minor": 5
}
